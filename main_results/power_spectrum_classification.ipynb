{
 "cells": [
  {
   "cell_type": "code",
   "execution_count": 1,
   "id": "085c8d5e",
   "metadata": {},
   "outputs": [],
   "source": [
    "from __future__ import division\n",
    "from statsmodels.stats.multitest import multipletests\n",
    "from mlxtend.feature_selection import SequentialFeatureSelector as SFS\n",
    "from mlxtend.plotting import plot_sequential_feature_selection as plot_sfs\n",
    "from sklearn.linear_model import LinearRegression\n",
    "from sklearn.model_selection import train_test_split\n",
    "from sklearn.metrics import mean_squared_error, r2_score\n",
    "from xgboost import XGBClassifier\n",
    "import pandas as pd\n",
    "import numpy as np\n",
    "import re\n",
    "import pickle\n",
    "import matplotlib.pyplot as plt\n",
    "from xgboost import plot_importance\n",
    "import plotly.graph_objects as go\n",
    "from tqdm.notebook import tqdm\n",
    "from sklearn.model_selection import RepeatedKFold\n",
    "import xgboost as xgb\n",
    "from sklearn.metrics import roc_auc_score, roc_curve, f1_score, accuracy_score, recall_score, precision_score, confusion_matrix, mean_squared_error\n",
    "import seaborn as sns\n",
    "from statannot import add_stat_annotation\n",
    "from sklearn.linear_model import Lasso, MultiTaskLasso, Ridge, ElasticNet\n",
    "\n",
    "from sklearn.preprocessing import MinMaxScaler\n",
    "\n",
    "from sklearn.model_selection import train_test_split\n",
    "from sklearn.linear_model import LinearRegression\n",
    "from sklearn.metrics import mean_squared_error, r2_score\n",
    "from sklearn.feature_selection import SelectKBest\n",
    "from sklearn.feature_selection import f_regression\n",
    "from sklearn.feature_selection import mutual_info_regression, f_regression\n",
    "\n",
    "from sklearn.pipeline import Pipeline\n",
    "from sklearn.model_selection import GridSearchCV\n",
    "from sklearn.model_selection import RepeatedKFold\n",
    "from sklearn.decomposition import PCA\n",
    "\n",
    "from sklearn.utils import shuffle\n",
    "from sklearn.preprocessing import StandardScaler\n",
    "\n",
    "from sklearn import metrics\n",
    "\n",
    "\n",
    "from skopt import BayesSearchCV\n",
    "from sklearn.model_selection import train_test_split\n",
    "from sklearn.linear_model import ElasticNet\n",
    "\n",
    "import statsmodels.api as sm\n",
    "\n",
    "import time\n",
    "\n",
    "import scipy\n",
    "\n",
    "from sklearn.svm import SVR\n",
    "\n",
    "from skopt import BayesSearchCV\n",
    "from sklearn.ensemble import RandomForestRegressor\n",
    "\n",
    "from statsmodels.stats.multitest import fdrcorrection\n",
    "\n",
    "from statsmodels.stats import multitest\n",
    "\n",
    "from sklearn.linear_model import RidgeCV, LassoCV, Ridge, Lasso\n",
    "from sklearn.ensemble import ExtraTreesClassifier\n",
    "\n",
    "from collections import Counter\n",
    "import heapq\n",
    "\n",
    "import statsmodels.api as sm\n",
    "\n",
    "from sklearn.ensemble import RandomForestRegressor\n",
    "\n",
    "import re\n",
    "\n",
    "from sklearn.preprocessing import MinMaxScaler\n",
    "\n",
    "import os"
   ]
  },
  {
   "cell_type": "code",
   "execution_count": 2,
   "id": "7aca08e4",
   "metadata": {},
   "outputs": [
    {
     "data": {
      "text/html": [
       "<div>\n",
       "<style scoped>\n",
       "    .dataframe tbody tr th:only-of-type {\n",
       "        vertical-align: middle;\n",
       "    }\n",
       "\n",
       "    .dataframe tbody tr th {\n",
       "        vertical-align: top;\n",
       "    }\n",
       "\n",
       "    .dataframe thead th {\n",
       "        text-align: right;\n",
       "    }\n",
       "</style>\n",
       "<table border=\"1\" class=\"dataframe\">\n",
       "  <thead>\n",
       "    <tr style=\"text-align: right;\">\n",
       "      <th></th>\n",
       "      <th>Delta_canon_EPP_ORB_left</th>\n",
       "      <th>Delta_canon_EPP_ORB_right</th>\n",
       "      <th>Delta_canon_EPP_IFG_left</th>\n",
       "      <th>Delta_canon_EPP_IFG_right</th>\n",
       "      <th>Delta_canon_EPP_MFG_left</th>\n",
       "      <th>Delta_canon_EPP_MFG_right</th>\n",
       "      <th>Delta_canon_EPP_SFG_left</th>\n",
       "      <th>Delta_canon_EPP_SFG_right</th>\n",
       "      <th>Delta_canon_EPP_HPC_left</th>\n",
       "      <th>Delta_canon_EPP_HPC_right</th>\n",
       "      <th>...</th>\n",
       "      <th>IAF_INS_left</th>\n",
       "      <th>IAF_INS_right</th>\n",
       "      <th>IAF_OCC_left</th>\n",
       "      <th>IAF_OCC_right</th>\n",
       "      <th>Age</th>\n",
       "      <th>Sex</th>\n",
       "      <th>Educ</th>\n",
       "      <th>MMSE</th>\n",
       "      <th>GINI</th>\n",
       "      <th>ODQ</th>\n",
       "    </tr>\n",
       "  </thead>\n",
       "  <tbody>\n",
       "    <tr>\n",
       "      <th>0</th>\n",
       "      <td>0.059161</td>\n",
       "      <td>0.070466</td>\n",
       "      <td>0.051849</td>\n",
       "      <td>0.049289</td>\n",
       "      <td>0.049934</td>\n",
       "      <td>0.047389</td>\n",
       "      <td>0.049015</td>\n",
       "      <td>0.047568</td>\n",
       "      <td>0.041415</td>\n",
       "      <td>0.056212</td>\n",
       "      <td>...</td>\n",
       "      <td>9.0</td>\n",
       "      <td>8.625</td>\n",
       "      <td>8.833333</td>\n",
       "      <td>8.791667</td>\n",
       "      <td>33.0</td>\n",
       "      <td>1.0</td>\n",
       "      <td>19.0</td>\n",
       "      <td>30.0</td>\n",
       "      <td>40.70</td>\n",
       "      <td>99.282421</td>\n",
       "    </tr>\n",
       "    <tr>\n",
       "      <th>1</th>\n",
       "      <td>0.054096</td>\n",
       "      <td>0.047097</td>\n",
       "      <td>0.056917</td>\n",
       "      <td>0.044670</td>\n",
       "      <td>0.055201</td>\n",
       "      <td>0.042544</td>\n",
       "      <td>0.048499</td>\n",
       "      <td>0.039344</td>\n",
       "      <td>0.041028</td>\n",
       "      <td>0.037112</td>\n",
       "      <td>...</td>\n",
       "      <td>11.5</td>\n",
       "      <td>11.625</td>\n",
       "      <td>11.375000</td>\n",
       "      <td>11.500000</td>\n",
       "      <td>57.0</td>\n",
       "      <td>2.0</td>\n",
       "      <td>13.0</td>\n",
       "      <td>NaN</td>\n",
       "      <td>40.70</td>\n",
       "      <td>99.739738</td>\n",
       "    </tr>\n",
       "    <tr>\n",
       "      <th>2</th>\n",
       "      <td>0.059660</td>\n",
       "      <td>0.051740</td>\n",
       "      <td>0.061596</td>\n",
       "      <td>0.052308</td>\n",
       "      <td>0.061998</td>\n",
       "      <td>0.046384</td>\n",
       "      <td>0.053836</td>\n",
       "      <td>0.056489</td>\n",
       "      <td>0.060980</td>\n",
       "      <td>0.045492</td>\n",
       "      <td>...</td>\n",
       "      <td>10.0</td>\n",
       "      <td>10.375</td>\n",
       "      <td>10.125000</td>\n",
       "      <td>10.166667</td>\n",
       "      <td>32.0</td>\n",
       "      <td>1.0</td>\n",
       "      <td>10.0</td>\n",
       "      <td>NaN</td>\n",
       "      <td>40.70</td>\n",
       "      <td>99.361739</td>\n",
       "    </tr>\n",
       "    <tr>\n",
       "      <th>3</th>\n",
       "      <td>0.058654</td>\n",
       "      <td>0.056826</td>\n",
       "      <td>0.060448</td>\n",
       "      <td>0.056367</td>\n",
       "      <td>0.068132</td>\n",
       "      <td>0.053792</td>\n",
       "      <td>0.067543</td>\n",
       "      <td>0.045742</td>\n",
       "      <td>0.058767</td>\n",
       "      <td>0.039325</td>\n",
       "      <td>...</td>\n",
       "      <td>11.0</td>\n",
       "      <td>10.875</td>\n",
       "      <td>11.208333</td>\n",
       "      <td>11.083333</td>\n",
       "      <td>21.0</td>\n",
       "      <td>1.0</td>\n",
       "      <td>13.0</td>\n",
       "      <td>NaN</td>\n",
       "      <td>40.70</td>\n",
       "      <td>99.561273</td>\n",
       "    </tr>\n",
       "    <tr>\n",
       "      <th>4</th>\n",
       "      <td>0.043061</td>\n",
       "      <td>0.042042</td>\n",
       "      <td>0.045694</td>\n",
       "      <td>0.039943</td>\n",
       "      <td>0.045708</td>\n",
       "      <td>0.036764</td>\n",
       "      <td>0.039002</td>\n",
       "      <td>0.036255</td>\n",
       "      <td>0.044407</td>\n",
       "      <td>0.037282</td>\n",
       "      <td>...</td>\n",
       "      <td>8.0</td>\n",
       "      <td>9.500</td>\n",
       "      <td>9.625000</td>\n",
       "      <td>8.000000</td>\n",
       "      <td>19.0</td>\n",
       "      <td>1.0</td>\n",
       "      <td>13.0</td>\n",
       "      <td>30.0</td>\n",
       "      <td>40.70</td>\n",
       "      <td>99.822774</td>\n",
       "    </tr>\n",
       "    <tr>\n",
       "      <th>...</th>\n",
       "      <td>...</td>\n",
       "      <td>...</td>\n",
       "      <td>...</td>\n",
       "      <td>...</td>\n",
       "      <td>...</td>\n",
       "      <td>...</td>\n",
       "      <td>...</td>\n",
       "      <td>...</td>\n",
       "      <td>...</td>\n",
       "      <td>...</td>\n",
       "      <td>...</td>\n",
       "      <td>...</td>\n",
       "      <td>...</td>\n",
       "      <td>...</td>\n",
       "      <td>...</td>\n",
       "      <td>...</td>\n",
       "      <td>...</td>\n",
       "      <td>...</td>\n",
       "      <td>...</td>\n",
       "      <td>...</td>\n",
       "      <td>...</td>\n",
       "    </tr>\n",
       "    <tr>\n",
       "      <th>1443</th>\n",
       "      <td>0.035464</td>\n",
       "      <td>0.035469</td>\n",
       "      <td>0.035834</td>\n",
       "      <td>0.034404</td>\n",
       "      <td>0.030824</td>\n",
       "      <td>0.030423</td>\n",
       "      <td>0.031417</td>\n",
       "      <td>0.031326</td>\n",
       "      <td>0.038548</td>\n",
       "      <td>0.033387</td>\n",
       "      <td>...</td>\n",
       "      <td>8.0</td>\n",
       "      <td>10.000</td>\n",
       "      <td>8.000000</td>\n",
       "      <td>9.041667</td>\n",
       "      <td>57.0</td>\n",
       "      <td>2.0</td>\n",
       "      <td>17.0</td>\n",
       "      <td>30.0</td>\n",
       "      <td>44.92</td>\n",
       "      <td>98.650235</td>\n",
       "    </tr>\n",
       "    <tr>\n",
       "      <th>1444</th>\n",
       "      <td>0.054815</td>\n",
       "      <td>0.048826</td>\n",
       "      <td>0.049235</td>\n",
       "      <td>0.049774</td>\n",
       "      <td>0.044013</td>\n",
       "      <td>0.046808</td>\n",
       "      <td>0.044252</td>\n",
       "      <td>0.046730</td>\n",
       "      <td>0.053651</td>\n",
       "      <td>0.049409</td>\n",
       "      <td>...</td>\n",
       "      <td>8.5</td>\n",
       "      <td>9.250</td>\n",
       "      <td>8.958333</td>\n",
       "      <td>9.625000</td>\n",
       "      <td>48.0</td>\n",
       "      <td>2.0</td>\n",
       "      <td>17.0</td>\n",
       "      <td>28.0</td>\n",
       "      <td>44.92</td>\n",
       "      <td>99.599221</td>\n",
       "    </tr>\n",
       "    <tr>\n",
       "      <th>1445</th>\n",
       "      <td>0.044759</td>\n",
       "      <td>0.052309</td>\n",
       "      <td>0.042457</td>\n",
       "      <td>0.046901</td>\n",
       "      <td>0.038112</td>\n",
       "      <td>0.037699</td>\n",
       "      <td>0.038526</td>\n",
       "      <td>0.039239</td>\n",
       "      <td>0.049349</td>\n",
       "      <td>0.049044</td>\n",
       "      <td>...</td>\n",
       "      <td>9.0</td>\n",
       "      <td>9.000</td>\n",
       "      <td>8.958333</td>\n",
       "      <td>8.000000</td>\n",
       "      <td>57.0</td>\n",
       "      <td>2.0</td>\n",
       "      <td>17.0</td>\n",
       "      <td>29.0</td>\n",
       "      <td>44.92</td>\n",
       "      <td>99.675799</td>\n",
       "    </tr>\n",
       "    <tr>\n",
       "      <th>1446</th>\n",
       "      <td>0.059905</td>\n",
       "      <td>0.064894</td>\n",
       "      <td>0.052238</td>\n",
       "      <td>0.051449</td>\n",
       "      <td>0.039586</td>\n",
       "      <td>0.041117</td>\n",
       "      <td>0.042107</td>\n",
       "      <td>0.041310</td>\n",
       "      <td>0.050399</td>\n",
       "      <td>0.052534</td>\n",
       "      <td>...</td>\n",
       "      <td>8.5</td>\n",
       "      <td>8.625</td>\n",
       "      <td>9.916667</td>\n",
       "      <td>9.708333</td>\n",
       "      <td>69.0</td>\n",
       "      <td>2.0</td>\n",
       "      <td>12.0</td>\n",
       "      <td>30.0</td>\n",
       "      <td>44.92</td>\n",
       "      <td>99.641446</td>\n",
       "    </tr>\n",
       "    <tr>\n",
       "      <th>1447</th>\n",
       "      <td>0.032594</td>\n",
       "      <td>0.038136</td>\n",
       "      <td>0.030101</td>\n",
       "      <td>0.036569</td>\n",
       "      <td>0.035927</td>\n",
       "      <td>0.034773</td>\n",
       "      <td>0.033520</td>\n",
       "      <td>0.034468</td>\n",
       "      <td>0.034192</td>\n",
       "      <td>0.042244</td>\n",
       "      <td>...</td>\n",
       "      <td>8.0</td>\n",
       "      <td>9.625</td>\n",
       "      <td>9.166667</td>\n",
       "      <td>8.833333</td>\n",
       "      <td>64.0</td>\n",
       "      <td>2.0</td>\n",
       "      <td>22.0</td>\n",
       "      <td>30.0</td>\n",
       "      <td>44.92</td>\n",
       "      <td>98.420503</td>\n",
       "    </tr>\n",
       "  </tbody>\n",
       "</table>\n",
       "<p>1383 rows × 224 columns</p>\n",
       "</div>"
      ],
      "text/plain": [
       "      Delta_canon_EPP_ORB_left  Delta_canon_EPP_ORB_right  \\\n",
       "0                     0.059161                   0.070466   \n",
       "1                     0.054096                   0.047097   \n",
       "2                     0.059660                   0.051740   \n",
       "3                     0.058654                   0.056826   \n",
       "4                     0.043061                   0.042042   \n",
       "...                        ...                        ...   \n",
       "1443                  0.035464                   0.035469   \n",
       "1444                  0.054815                   0.048826   \n",
       "1445                  0.044759                   0.052309   \n",
       "1446                  0.059905                   0.064894   \n",
       "1447                  0.032594                   0.038136   \n",
       "\n",
       "      Delta_canon_EPP_IFG_left  Delta_canon_EPP_IFG_right  \\\n",
       "0                     0.051849                   0.049289   \n",
       "1                     0.056917                   0.044670   \n",
       "2                     0.061596                   0.052308   \n",
       "3                     0.060448                   0.056367   \n",
       "4                     0.045694                   0.039943   \n",
       "...                        ...                        ...   \n",
       "1443                  0.035834                   0.034404   \n",
       "1444                  0.049235                   0.049774   \n",
       "1445                  0.042457                   0.046901   \n",
       "1446                  0.052238                   0.051449   \n",
       "1447                  0.030101                   0.036569   \n",
       "\n",
       "      Delta_canon_EPP_MFG_left  Delta_canon_EPP_MFG_right  \\\n",
       "0                     0.049934                   0.047389   \n",
       "1                     0.055201                   0.042544   \n",
       "2                     0.061998                   0.046384   \n",
       "3                     0.068132                   0.053792   \n",
       "4                     0.045708                   0.036764   \n",
       "...                        ...                        ...   \n",
       "1443                  0.030824                   0.030423   \n",
       "1444                  0.044013                   0.046808   \n",
       "1445                  0.038112                   0.037699   \n",
       "1446                  0.039586                   0.041117   \n",
       "1447                  0.035927                   0.034773   \n",
       "\n",
       "      Delta_canon_EPP_SFG_left  Delta_canon_EPP_SFG_right  \\\n",
       "0                     0.049015                   0.047568   \n",
       "1                     0.048499                   0.039344   \n",
       "2                     0.053836                   0.056489   \n",
       "3                     0.067543                   0.045742   \n",
       "4                     0.039002                   0.036255   \n",
       "...                        ...                        ...   \n",
       "1443                  0.031417                   0.031326   \n",
       "1444                  0.044252                   0.046730   \n",
       "1445                  0.038526                   0.039239   \n",
       "1446                  0.042107                   0.041310   \n",
       "1447                  0.033520                   0.034468   \n",
       "\n",
       "      Delta_canon_EPP_HPC_left  Delta_canon_EPP_HPC_right  ...  IAF_INS_left  \\\n",
       "0                     0.041415                   0.056212  ...           9.0   \n",
       "1                     0.041028                   0.037112  ...          11.5   \n",
       "2                     0.060980                   0.045492  ...          10.0   \n",
       "3                     0.058767                   0.039325  ...          11.0   \n",
       "4                     0.044407                   0.037282  ...           8.0   \n",
       "...                        ...                        ...  ...           ...   \n",
       "1443                  0.038548                   0.033387  ...           8.0   \n",
       "1444                  0.053651                   0.049409  ...           8.5   \n",
       "1445                  0.049349                   0.049044  ...           9.0   \n",
       "1446                  0.050399                   0.052534  ...           8.5   \n",
       "1447                  0.034192                   0.042244  ...           8.0   \n",
       "\n",
       "      IAF_INS_right  IAF_OCC_left  IAF_OCC_right   Age  Sex  Educ  MMSE  \\\n",
       "0             8.625      8.833333       8.791667  33.0  1.0  19.0  30.0   \n",
       "1            11.625     11.375000      11.500000  57.0  2.0  13.0   NaN   \n",
       "2            10.375     10.125000      10.166667  32.0  1.0  10.0   NaN   \n",
       "3            10.875     11.208333      11.083333  21.0  1.0  13.0   NaN   \n",
       "4             9.500      9.625000       8.000000  19.0  1.0  13.0  30.0   \n",
       "...             ...           ...            ...   ...  ...   ...   ...   \n",
       "1443         10.000      8.000000       9.041667  57.0  2.0  17.0  30.0   \n",
       "1444          9.250      8.958333       9.625000  48.0  2.0  17.0  28.0   \n",
       "1445          9.000      8.958333       8.000000  57.0  2.0  17.0  29.0   \n",
       "1446          8.625      9.916667       9.708333  69.0  2.0  12.0  30.0   \n",
       "1447          9.625      9.166667       8.833333  64.0  2.0  22.0  30.0   \n",
       "\n",
       "       GINI        ODQ  \n",
       "0     40.70  99.282421  \n",
       "1     40.70  99.739738  \n",
       "2     40.70  99.361739  \n",
       "3     40.70  99.561273  \n",
       "4     40.70  99.822774  \n",
       "...     ...        ...  \n",
       "1443  44.92  98.650235  \n",
       "1444  44.92  99.599221  \n",
       "1445  44.92  99.675799  \n",
       "1446  44.92  99.641446  \n",
       "1447  44.92  98.420503  \n",
       "\n",
       "[1383 rows x 224 columns]"
      ]
     },
     "execution_count": 2,
     "metadata": {},
     "output_type": "execute_result"
    }
   ],
   "source": [
    "frec_df =  pd.read_excel('Data/frequency.xlsx', index_col=0)\n",
    "frec_df"
   ]
  },
  {
   "cell_type": "code",
   "execution_count": null,
   "id": "04377ed8",
   "metadata": {},
   "outputs": [],
   "source": []
  },
  {
   "cell_type": "markdown",
   "id": "98a6cd16",
   "metadata": {},
   "source": [
    "## Statistical significance check"
   ]
  },
  {
   "cell_type": "code",
   "execution_count": 3,
   "id": "163dcce2",
   "metadata": {},
   "outputs": [
    {
     "data": {
      "text/html": [
       "<div>\n",
       "<style scoped>\n",
       "    .dataframe tbody tr th:only-of-type {\n",
       "        vertical-align: middle;\n",
       "    }\n",
       "\n",
       "    .dataframe tbody tr th {\n",
       "        vertical-align: top;\n",
       "    }\n",
       "\n",
       "    .dataframe thead th {\n",
       "        text-align: right;\n",
       "    }\n",
       "</style>\n",
       "<table border=\"1\" class=\"dataframe\">\n",
       "  <thead>\n",
       "    <tr style=\"text-align: right;\">\n",
       "      <th></th>\n",
       "      <th>Delta_canon_EPP_ORB_left</th>\n",
       "      <th>Delta_canon_EPP_ORB_right</th>\n",
       "      <th>Delta_canon_EPP_IFG_left</th>\n",
       "      <th>Delta_canon_EPP_IFG_right</th>\n",
       "      <th>Delta_canon_EPP_MFG_left</th>\n",
       "      <th>Delta_canon_EPP_MFG_right</th>\n",
       "      <th>Delta_canon_EPP_SFG_left</th>\n",
       "      <th>Delta_canon_EPP_SFG_right</th>\n",
       "      <th>Delta_canon_EPP_HPC_left</th>\n",
       "      <th>Delta_canon_EPP_HPC_right</th>\n",
       "      <th>...</th>\n",
       "      <th>IAF_ORB_left</th>\n",
       "      <th>IAF_ORB_right</th>\n",
       "      <th>IAF_IFG_left</th>\n",
       "      <th>IAF_IFG_right</th>\n",
       "      <th>IAF_MFG_left</th>\n",
       "      <th>IAF_MFG_right</th>\n",
       "      <th>IAF_SFG_left</th>\n",
       "      <th>IAF_SFG_right</th>\n",
       "      <th>IAF_HPC_left</th>\n",
       "      <th>IAF_HPC_right</th>\n",
       "    </tr>\n",
       "  </thead>\n",
       "  <tbody>\n",
       "  </tbody>\n",
       "</table>\n",
       "<p>0 rows × 214 columns</p>\n",
       "</div>"
      ],
      "text/plain": [
       "Empty DataFrame\n",
       "Columns: [Delta_canon_EPP_ORB_left, Delta_canon_EPP_ORB_right, Delta_canon_EPP_IFG_left, Delta_canon_EPP_IFG_right, Delta_canon_EPP_MFG_left, Delta_canon_EPP_MFG_right, Delta_canon_EPP_SFG_left, Delta_canon_EPP_SFG_right, Delta_canon_EPP_HPC_left, Delta_canon_EPP_HPC_right, Delta_canon_EPP_INS_left, Delta_canon_EPP_INS_right, Delta_canon_RPD_ORB_left, Delta_canon_RPD_ORB_right, Delta_canon_RPD_IFG_left, Delta_canon_RPD_IFG_right, Delta_canon_RPD_MFG_left, Delta_canon_RPD_MFG_right, Delta_canon_RPD_SFG_left, Delta_canon_RPD_SFG_right, Delta_canon_RPD_HPC_left, Delta_canon_RPD_HPC_right, Delta_canon_RPD_INS_left, Delta_canon_RPD_INS_right, Delta_subj_spec_EPP_ORB_left, Delta_subj_spec_EPP_ORB_right, Delta_subj_spec_EPP_IFG_left, Delta_subj_spec_EPP_IFG_right, Delta_subj_spec_EPP_MFG_left, Delta_subj_spec_EPP_MFG_right, Delta_subj_spec_EPP_SFG_left, Delta_subj_spec_EPP_SFG_right, Delta_subj_spec_EPP_HPC_left, Delta_subj_spec_EPP_HPC_right, Delta_subj_spec_EPP_INS_left, Delta_subj_spec_EPP_INS_right, Delta_subj_spec_RPD_ORB_left, Delta_subj_spec_RPD_ORB_right, Delta_subj_spec_RPD_IFG_left, Delta_subj_spec_RPD_IFG_right, Delta_subj_spec_RPD_MFG_left, Delta_subj_spec_RPD_MFG_right, Delta_subj_spec_RPD_SFG_left, Delta_subj_spec_RPD_SFG_right, Delta_subj_spec_RPD_HPC_left, Delta_subj_spec_RPD_HPC_right, Delta_subj_spec_RPD_INS_left, Delta_subj_spec_RPD_INS_right, Theta_canon_EPP_ORB_left, Theta_canon_EPP_ORB_right, Theta_canon_EPP_IFG_left, Theta_canon_EPP_IFG_right, Theta_canon_EPP_MFG_left, Theta_canon_EPP_MFG_right, Theta_canon_EPP_SFG_left, Theta_canon_EPP_SFG_right, Theta_canon_EPP_HPC_left, Theta_canon_EPP_HPC_right, Theta_canon_EPP_INS_left, Theta_canon_EPP_INS_right, Theta_canon_RPD_ORB_left, Theta_canon_RPD_ORB_right, Theta_canon_RPD_IFG_left, Theta_canon_RPD_IFG_right, Theta_canon_RPD_MFG_left, Theta_canon_RPD_MFG_right, Theta_canon_RPD_SFG_left, Theta_canon_RPD_SFG_right, Theta_canon_RPD_HPC_left, Theta_canon_RPD_HPC_right, Theta_canon_RPD_INS_left, Theta_canon_RPD_INS_right, Theta_subj_spec_EPP_ORB_left, Theta_subj_spec_EPP_ORB_right, Theta_subj_spec_EPP_IFG_left, Theta_subj_spec_EPP_IFG_right, Theta_subj_spec_EPP_MFG_left, Theta_subj_spec_EPP_MFG_right, Theta_subj_spec_EPP_SFG_left, Theta_subj_spec_EPP_SFG_right, Theta_subj_spec_EPP_HPC_left, Theta_subj_spec_EPP_HPC_right, Theta_subj_spec_EPP_INS_left, Theta_subj_spec_EPP_INS_right, Theta_subj_spec_RPD_ORB_left, Theta_subj_spec_RPD_ORB_right, Theta_subj_spec_RPD_IFG_left, Theta_subj_spec_RPD_IFG_right, Theta_subj_spec_RPD_MFG_left, Theta_subj_spec_RPD_MFG_right, Theta_subj_spec_RPD_SFG_left, Theta_subj_spec_RPD_SFG_right, Theta_subj_spec_RPD_HPC_left, Theta_subj_spec_RPD_HPC_right, Theta_subj_spec_RPD_INS_left, Theta_subj_spec_RPD_INS_right, Alpha2_canon_EPP_HPC_left, Alpha2_canon_EPP_HPC_right, Alpha2_canon_EPP_PARIET_left, Alpha2_canon_EPP_PARIET_right, ...]\n",
       "Index: []\n",
       "\n",
       "[0 rows x 214 columns]"
      ]
     },
     "execution_count": 3,
     "metadata": {},
     "output_type": "execute_result"
    }
   ],
   "source": [
    "outcomes_list = list(frec_df.iloc[:,0:-10])\n",
    "df_metrics_slopes = pd.DataFrame(columns=outcomes_list)\n",
    "df_metrics_pval = pd.DataFrame(columns=outcomes_list)\n",
    "df_metrics_dir = pd.DataFrame(columns=outcomes_list)\n",
    "df_metrics_slopes"
   ]
  },
  {
   "cell_type": "code",
   "execution_count": 4,
   "id": "c36391cb",
   "metadata": {},
   "outputs": [],
   "source": [
    "from scipy.stats import linregress\n",
    "\n",
    "df_metrics_slopes = pd.DataFrame(columns=outcomes_list)\n",
    "\n",
    "for variable_y in outcomes_list:\n",
    "    \n",
    "    c_frec_df_mmse = frec_df[['GINI', variable_y]]\n",
    "    \n",
    "    c_frec_df_mmse = c_frec_df_mmse.dropna()\n",
    "    c_frec_df_mmse.reset_index(drop=True)\n",
    "    \n",
    "    y_frec_1A = c_frec_df_mmse[variable_y]\n",
    "    X_frec_1A = c_frec_df_mmse[['GINI']]\n",
    "    \n",
    "    scaler = MinMaxScaler([0.05, 0.95])\n",
    "    scaling_data = scaler.fit_transform(X_frec_1A)\n",
    "    X_frec_1A = pd.DataFrame(scaling_data, columns= X_frec_1A.columns, index = X_frec_1A.index)\n",
    "\n",
    "    X_frec_1A =  X_frec_1A.copy()\n",
    "\n",
    "    slope, intercept, r_value, p_value, std_err = linregress(X_frec_1A['GINI'], y_frec_1A)\n",
    "    \n",
    "    p_value*=df_metrics_slopes.shape[1]\n",
    "    if(p_value<=0.05):\n",
    "        df_metrics_slopes.loc['GINI', variable_y] =  str(np.round(slope,3)) + ' (' + str(np.round(p_value,3))+')' \n",
    "    \n",
    "    df_metrics_pval.loc['GINI', variable_y] =  p_value\n",
    "    df_metrics_dir.loc['GINI', variable_y] =  slope\n",
    "    \n",
    "for variable_y in outcomes_list:\n",
    "    for variable_x in ['Age', 'Educ', 'Sex', 'MMSE']:\n",
    "    \n",
    "        c_frec_df_mmse = frec_df[['GINI', variable_x, variable_y]] \n",
    "\n",
    "        c_frec_df_mmse = c_frec_df_mmse.dropna()\n",
    "        c_frec_df_mmse.reset_index(drop=True)\n",
    "        \n",
    "        y_frec_1A = c_frec_df_mmse[variable_y]\n",
    "        X_frec_1A = c_frec_df_mmse[['GINI', variable_x]]\n",
    "        \n",
    "        scaler = MinMaxScaler([0.05, 0.95])\n",
    "        scaling_data = scaler.fit_transform(X_frec_1A)\n",
    "        X_frec_1A = pd.DataFrame(scaling_data, columns= X_frec_1A.columns, index = X_frec_1A.index)\n",
    "\n",
    "        X_frec_1A =  X_frec_1A.copy()\n",
    "\n",
    "        slope, intercept, r_value, p_value, std_err = linregress(X_frec_1A[variable_x],y_frec_1A)\n",
    "    \n",
    "        p_value*=df_metrics_slopes.shape[1]\n",
    "        if(p_value<=0.05):\n",
    "            df_metrics_slopes.loc[variable_x, variable_y] =  str(np.round(slope,3)) + ' (' + str(np.round(p_value,3))+')' #slope\n",
    "     \n",
    "        df_metrics_pval.loc[variable_x, variable_y] =  p_value\n",
    "        df_metrics_dir.loc[variable_x, variable_y] =  slope"
   ]
  },
  {
   "cell_type": "code",
   "execution_count": 5,
   "id": "84604751",
   "metadata": {},
   "outputs": [],
   "source": [
    "df_metrics_slopes = df_metrics_slopes.T\n",
    "df_metrics_pval = df_metrics_pval.T\n",
    "df_metrics_dir = df_metrics_dir.T"
   ]
  },
  {
   "cell_type": "code",
   "execution_count": 6,
   "id": "82123b74",
   "metadata": {},
   "outputs": [],
   "source": [
    "df_metrics_GINI = df_metrics_slopes[['GINI']]\n",
    "df_metrics_GINI = df_metrics_GINI.copy()\n",
    "df_metrics_GINI.dropna(inplace=True)"
   ]
  },
  {
   "cell_type": "code",
   "execution_count": 7,
   "id": "134cec29",
   "metadata": {},
   "outputs": [],
   "source": [
    "outcomes_list = list(df_metrics_GINI.index)"
   ]
  },
  {
   "cell_type": "code",
   "execution_count": null,
   "id": "8fdde6a4",
   "metadata": {},
   "outputs": [],
   "source": []
  },
  {
   "cell_type": "code",
   "execution_count": 8,
   "id": "cff01b5c",
   "metadata": {},
   "outputs": [],
   "source": [
    "def classifier_ROC(X_, y, fig_show = True, params_ = None):\n",
    "    \n",
    "    X_train, X_test, y_train, y_test = train_test_split(X_, y, test_size=0.2, random_state=10000, stratify=y)\n",
    "\n",
    "    #lista = list(sfs_.k_feature_names_)\n",
    "\n",
    "    #X_train = X_train[lista]\n",
    "    #X_test = X_test[lista]\n",
    "\n",
    "    cv    = RepeatedKFold(n_splits=10, n_repeats=2, random_state=101)\n",
    "    folds = [(train,test) for train, test in cv.split(X_train, y_train)]\n",
    "    metrics = ['auc', 'fpr', 'tpr', 'thresholds', 'f1_score', 'accuracy_score', 'recall_score', 'precision_score', 'confusion_matrix', 'model']\n",
    "    results = {\n",
    "        'train': {m:[] for m in metrics},\n",
    "        'val'  : {m:[] for m in metrics},\n",
    "        'test' : {m:[] for m in metrics}\n",
    "    }\n",
    "    X_train = pd.DataFrame(X_train)\n",
    "    y_train = pd.DataFrame(y_train)\n",
    "\n",
    "\n",
    "    if(params_!=None):\n",
    "        params = params_\n",
    "    else:\n",
    "        params = {\n",
    "            'objective'   : 'binary:logistic',\n",
    "            'eval_metric' : 'logloss'\n",
    "        }\n",
    "\n",
    "\n",
    "    plt.rcParams[\"figure.figsize\"] = (10,10)\n",
    "    dtest = xgb.DMatrix(X_test, label=y_test)\n",
    "    for train, test in tqdm(folds, total=len(folds)):\n",
    "        dtrain = xgb.DMatrix(X_train.iloc[train,:], label=y_train.iloc[train])\n",
    "        dval   = xgb.DMatrix(X_train.iloc[test,:], label=y_train.iloc[test])\n",
    "        model  = xgb.train(\n",
    "            dtrain                = dtrain,\n",
    "            params                = params, \n",
    "            evals                 = [(dtrain, 'train'), (dval, 'val')],\n",
    "            num_boost_round       = 1000,\n",
    "            verbose_eval          = False,\n",
    "            early_stopping_rounds = 10,\n",
    "        )\n",
    "        sets = [dtrain, dval, dtest]\n",
    "\n",
    "        for i,ds in enumerate(results.keys()):\n",
    "            y_preds              = model.predict(sets[i])\n",
    "            labels               = sets[i].get_label()\n",
    "            fpr, tpr, thresholds = roc_curve(labels, y_preds)\n",
    "            results[ds]['fpr'].append(fpr)\n",
    "            results[ds]['tpr'].append(tpr)\n",
    "            results[ds]['thresholds'].append(thresholds)\n",
    "            results[ds]['auc'].append(roc_auc_score(labels, y_preds))\n",
    "\n",
    "            results[ds]['f1_score'].append(f1_score(labels, np.round(y_preds)))\n",
    "            results[ds]['accuracy_score'].append(accuracy_score(labels, np.round(y_preds)))\n",
    "            results[ds]['recall_score'].append(recall_score(labels, np.round(y_preds)))\n",
    "            results[ds]['precision_score'].append(precision_score(labels, np.round(y_preds)))\n",
    "            results[ds]['confusion_matrix'].append(confusion_matrix(labels, np.round(y_preds)))\n",
    "            results[ds]['model'].append(model)\n",
    "\n",
    "\n",
    "    kind = 'test'\n",
    "    c_fill      = 'rgba(52, 152, 219, 0.2)'\n",
    "    c_line      = 'rgba(52, 152, 219, 0.5)'\n",
    "    c_line_main = 'rgba(41, 128, 185, 1.0)'\n",
    "    c_grid      = 'rgba(189, 195, 199, 0.5)'\n",
    "    c_annot     = 'rgba(149, 165, 166, 0.5)'\n",
    "    c_highlight = 'rgba(192, 57, 43, 1.0)'\n",
    "\n",
    "    fpr_mean    = np.linspace(0, 1, 100)\n",
    "    interp_tprs = []\n",
    "\n",
    "    for i in range(10*2):\n",
    "        fpr           = results[kind]['fpr'][i]\n",
    "        tpr           = results[kind]['tpr'][i]\n",
    "        interp_tpr    = np.interp(fpr_mean, fpr, tpr)\n",
    "        interp_tpr[0] = 0.0\n",
    "        interp_tprs.append(interp_tpr)\n",
    "\n",
    "    tpr_mean     = np.mean(interp_tprs, axis=0)\n",
    "    tpr_mean[-1] = 1.0\n",
    "    tpr_std      = 2*np.std(interp_tprs, axis=0)\n",
    "    tpr_upper    = np.clip(tpr_mean+tpr_std, 0, 1)\n",
    "    tpr_lower    = tpr_mean-tpr_std\n",
    "    auc          = np.mean(results[kind]['auc'])\n",
    "    \n",
    "    roc_dict = {}\n",
    "    roc_dict['tpr_mean'] = tpr_mean\n",
    "    roc_dict['tpr_std'] = tpr_std\n",
    "    roc_dict['tpr_upper'] = tpr_upper\n",
    "    roc_dict['tpr_lower'] = tpr_lower\n",
    "    roc_dict['auc'] = auc\n",
    "\n",
    "    if(fig_show):\n",
    "        fig = go.Figure([\n",
    "            go.Scatter(\n",
    "                x          = fpr_mean,\n",
    "                y          = tpr_upper,\n",
    "                line       = dict(color=c_line, width=1),\n",
    "                hoverinfo  = \"skip\",\n",
    "                showlegend = False,\n",
    "                name       = 'upper'),\n",
    "            go.Scatter(\n",
    "                x          = fpr_mean,\n",
    "                y          = tpr_lower,\n",
    "                fill       = 'tonexty',\n",
    "                fillcolor  = c_fill,\n",
    "                line       = dict(color=c_line, width=1),\n",
    "                hoverinfo  = \"skip\",\n",
    "                showlegend = False,\n",
    "                name       = 'lower'),\n",
    "            go.Scatter(\n",
    "                x          = fpr_mean,\n",
    "                y          = tpr_mean,\n",
    "                line       = dict(color=c_line_main, width=2),\n",
    "                hoverinfo  = \"skip\",\n",
    "                showlegend = True,\n",
    "                name       = f'AUC: {auc:.3f}')\n",
    "        ])\n",
    "\n",
    "        fig.add_shape(\n",
    "            type ='line', \n",
    "            line =dict(dash='dash'),\n",
    "            x0=0, x1=1, y0=0, y1=1\n",
    "        )\n",
    "\n",
    "        fig.update_layout(\n",
    "            template    = 'plotly_white', \n",
    "            title_x     = 0.5,\n",
    "            xaxis_title = \"1 - Specificity\",\n",
    "            yaxis_title = \"Sensitivity\",\n",
    "            width       = 800,\n",
    "            height      = 800,\n",
    "            legend      = dict(\n",
    "                yanchor=\"bottom\", \n",
    "                xanchor=\"right\", \n",
    "                x=0.95,\n",
    "                y=0.01,\n",
    "            )\n",
    "        )\n",
    "\n",
    "        fig.update_yaxes(\n",
    "            range       = [0, 1],\n",
    "            gridcolor   = c_grid,\n",
    "            scaleanchor = \"x\", \n",
    "            scaleratio  = 1,\n",
    "            linecolor   = 'black')\n",
    "\n",
    "        fig.update_xaxes(\n",
    "            range       = [0, 1],\n",
    "            gridcolor   = c_grid,\n",
    "            constrain   = 'domain',\n",
    "            linecolor   = 'black')\n",
    "\n",
    "\n",
    "\n",
    "        fig.show()\n",
    "        \n",
    "    else:\n",
    "        print(y.name, 'AUC: ', np.round(auc,2), '+-( ', np.round(np.std(results[kind]['auc']),2), ')', X_.shape)\n",
    "\n",
    "    return (model, results, np.round(auc,2), roc_dict)"
   ]
  },
  {
   "cell_type": "code",
   "execution_count": 9,
   "id": "74ef4705",
   "metadata": {},
   "outputs": [],
   "source": [
    "from skopt import BayesSearchCV\n",
    "def SearchBestModel(case_x, case_y):\n",
    "\n",
    "    X_train, X_test, y_train, y_test = train_test_split(case_x, case_y, test_size=.2, random_state=1)\n",
    "\n",
    "    opt_XGB = BayesSearchCV(\n",
    "            XGBClassifier(),\n",
    "            {\n",
    "                'objective'   : ['binary:logistic'],\n",
    "                'eval_metric' : ['logloss', 'error', 'auc', 'aucpr'],\n",
    "                'learning_rate': (0.01, 0.1, 0.2),\n",
    "                'max_depth': (3, 4, 5),\n",
    "                'subsample': (0.8, 0.9, 1.0),\n",
    "                'colsample_bytree': (0.8, 0.9, 1.0),\n",
    "                'reg_alpha': (0, 0.1, 1.0),\n",
    "                'reg_lambda': (0, 0.1, 1.0),\n",
    "                #'gamma': (0.001, 0.01, 0.1, 1, 10),\n",
    "            },\n",
    "                          \n",
    "            #n_iter=10,\n",
    "            #cv=3,\n",
    "            random_state=1\n",
    "        )\n",
    "\n",
    "    opt_XGB.fit(X_train, y_train)\n",
    "\n",
    "\n",
    "    print('XGB')\n",
    "    print(\"val. score: %s\" % opt_XGB.best_score_)\n",
    "    print(\"test score: %s\" % opt_XGB.score(X_test, y_test))\n",
    "    print(\"best parameters: %s\" % str(opt_XGB.best_params_))\n",
    "    print('---------------------------------------------\\n')\n",
    "    \n",
    "    return opt_XGB"
   ]
  },
  {
   "cell_type": "markdown",
   "id": "0099a08b",
   "metadata": {},
   "source": [
    "## Classification"
   ]
  },
  {
   "cell_type": "code",
   "execution_count": 10,
   "id": "dcb099c0",
   "metadata": {
    "scrolled": true
   },
   "outputs": [
    {
     "data": {
      "application/vnd.jupyter.widget-view+json": {
       "model_id": "6f25bb83547048fab4bf40f0796ed73a",
       "version_major": 2,
       "version_minor": 0
      },
      "text/plain": [
       "  0%|          | 0/20 [00:00<?, ?it/s]"
      ]
     },
     "metadata": {},
     "output_type": "display_data"
    },
    {
     "name": "stdout",
     "output_type": "stream",
     "text": [
      "Delta_canon_EPP_ORB_left_b AUC:  0.69 +-(  0.01 ) (1376, 1)\n"
     ]
    },
    {
     "data": {
      "application/vnd.jupyter.widget-view+json": {
       "model_id": "d5d7b40e7e574a738a3aa5551fba5872",
       "version_major": 2,
       "version_minor": 0
      },
      "text/plain": [
       "  0%|          | 0/20 [00:00<?, ?it/s]"
      ]
     },
     "metadata": {},
     "output_type": "display_data"
    },
    {
     "name": "stdout",
     "output_type": "stream",
     "text": [
      "Delta_canon_EPP_ORB_right_b AUC:  0.68 +-(  0.0 ) (1376, 1)\n"
     ]
    },
    {
     "data": {
      "application/vnd.jupyter.widget-view+json": {
       "model_id": "e77b043a979744b69a8572d55d86e202",
       "version_major": 2,
       "version_minor": 0
      },
      "text/plain": [
       "  0%|          | 0/20 [00:00<?, ?it/s]"
      ]
     },
     "metadata": {},
     "output_type": "display_data"
    },
    {
     "name": "stdout",
     "output_type": "stream",
     "text": [
      "Delta_canon_EPP_IFG_left_b AUC:  0.68 +-(  0.0 ) (1376, 1)\n"
     ]
    },
    {
     "data": {
      "application/vnd.jupyter.widget-view+json": {
       "model_id": "c03876882f854c20bda81fe94d567206",
       "version_major": 2,
       "version_minor": 0
      },
      "text/plain": [
       "  0%|          | 0/20 [00:00<?, ?it/s]"
      ]
     },
     "metadata": {},
     "output_type": "display_data"
    },
    {
     "name": "stdout",
     "output_type": "stream",
     "text": [
      "Delta_canon_EPP_IFG_right_b AUC:  0.68 +-(  0.01 ) (1376, 1)\n"
     ]
    },
    {
     "data": {
      "application/vnd.jupyter.widget-view+json": {
       "model_id": "71d8fb4aa4da43338e0bc4ae8a80d355",
       "version_major": 2,
       "version_minor": 0
      },
      "text/plain": [
       "  0%|          | 0/20 [00:00<?, ?it/s]"
      ]
     },
     "metadata": {},
     "output_type": "display_data"
    },
    {
     "name": "stdout",
     "output_type": "stream",
     "text": [
      "Delta_canon_EPP_MFG_left_b AUC:  0.58 +-(  0.01 ) (1376, 1)\n"
     ]
    },
    {
     "data": {
      "application/vnd.jupyter.widget-view+json": {
       "model_id": "c2add42d361d4beea99981c8f69548e8",
       "version_major": 2,
       "version_minor": 0
      },
      "text/plain": [
       "  0%|          | 0/20 [00:00<?, ?it/s]"
      ]
     },
     "metadata": {},
     "output_type": "display_data"
    },
    {
     "name": "stdout",
     "output_type": "stream",
     "text": [
      "Delta_canon_EPP_SFG_left_b AUC:  0.68 +-(  0.01 ) (1376, 1)\n"
     ]
    },
    {
     "data": {
      "application/vnd.jupyter.widget-view+json": {
       "model_id": "6a4b87e412874393ad11715c133390c3",
       "version_major": 2,
       "version_minor": 0
      },
      "text/plain": [
       "  0%|          | 0/20 [00:00<?, ?it/s]"
      ]
     },
     "metadata": {},
     "output_type": "display_data"
    },
    {
     "name": "stdout",
     "output_type": "stream",
     "text": [
      "Delta_canon_EPP_SFG_right_b AUC:  0.67 +-(  0.0 ) (1376, 1)\n"
     ]
    },
    {
     "data": {
      "application/vnd.jupyter.widget-view+json": {
       "model_id": "b61591160b6c46ee91cd4711dc7236ff",
       "version_major": 2,
       "version_minor": 0
      },
      "text/plain": [
       "  0%|          | 0/20 [00:00<?, ?it/s]"
      ]
     },
     "metadata": {},
     "output_type": "display_data"
    },
    {
     "name": "stdout",
     "output_type": "stream",
     "text": [
      "Delta_canon_EPP_HPC_left_b AUC:  0.72 +-(  0.0 ) (1376, 1)\n"
     ]
    },
    {
     "data": {
      "application/vnd.jupyter.widget-view+json": {
       "model_id": "b590e20c7a494088a7173a7745282bae",
       "version_major": 2,
       "version_minor": 0
      },
      "text/plain": [
       "  0%|          | 0/20 [00:00<?, ?it/s]"
      ]
     },
     "metadata": {},
     "output_type": "display_data"
    },
    {
     "name": "stdout",
     "output_type": "stream",
     "text": [
      "Delta_canon_EPP_HPC_right_b AUC:  0.69 +-(  0.01 ) (1376, 1)\n"
     ]
    },
    {
     "data": {
      "application/vnd.jupyter.widget-view+json": {
       "model_id": "9328184d19034bfd815869ae11bd4d3e",
       "version_major": 2,
       "version_minor": 0
      },
      "text/plain": [
       "  0%|          | 0/20 [00:00<?, ?it/s]"
      ]
     },
     "metadata": {},
     "output_type": "display_data"
    },
    {
     "name": "stdout",
     "output_type": "stream",
     "text": [
      "Delta_canon_EPP_INS_left_b AUC:  0.67 +-(  0.0 ) (1376, 1)\n"
     ]
    },
    {
     "data": {
      "application/vnd.jupyter.widget-view+json": {
       "model_id": "8b7660ac69ec49e9bbc731fc815ff911",
       "version_major": 2,
       "version_minor": 0
      },
      "text/plain": [
       "  0%|          | 0/20 [00:00<?, ?it/s]"
      ]
     },
     "metadata": {},
     "output_type": "display_data"
    },
    {
     "name": "stdout",
     "output_type": "stream",
     "text": [
      "Delta_canon_EPP_INS_right_b AUC:  0.69 +-(  0.01 ) (1376, 1)\n"
     ]
    },
    {
     "data": {
      "application/vnd.jupyter.widget-view+json": {
       "model_id": "d0f82752390f4388908cd2eddc854c36",
       "version_major": 2,
       "version_minor": 0
      },
      "text/plain": [
       "  0%|          | 0/20 [00:00<?, ?it/s]"
      ]
     },
     "metadata": {},
     "output_type": "display_data"
    },
    {
     "name": "stdout",
     "output_type": "stream",
     "text": [
      "Delta_canon_RPD_ORB_left_b AUC:  0.69 +-(  0.01 ) (1376, 1)\n"
     ]
    },
    {
     "data": {
      "application/vnd.jupyter.widget-view+json": {
       "model_id": "5ede04b1a5d54b0280b5cf074651e32f",
       "version_major": 2,
       "version_minor": 0
      },
      "text/plain": [
       "  0%|          | 0/20 [00:00<?, ?it/s]"
      ]
     },
     "metadata": {},
     "output_type": "display_data"
    },
    {
     "name": "stdout",
     "output_type": "stream",
     "text": [
      "Delta_canon_RPD_ORB_right_b AUC:  0.68 +-(  0.0 ) (1376, 1)\n"
     ]
    },
    {
     "data": {
      "application/vnd.jupyter.widget-view+json": {
       "model_id": "948be076e22f48a6bec61d7de144fff8",
       "version_major": 2,
       "version_minor": 0
      },
      "text/plain": [
       "  0%|          | 0/20 [00:00<?, ?it/s]"
      ]
     },
     "metadata": {},
     "output_type": "display_data"
    },
    {
     "name": "stdout",
     "output_type": "stream",
     "text": [
      "Delta_canon_RPD_IFG_left_b AUC:  0.68 +-(  0.0 ) (1376, 1)\n"
     ]
    },
    {
     "data": {
      "application/vnd.jupyter.widget-view+json": {
       "model_id": "fa7d9eaa444e41b4885f5a8005282291",
       "version_major": 2,
       "version_minor": 0
      },
      "text/plain": [
       "  0%|          | 0/20 [00:00<?, ?it/s]"
      ]
     },
     "metadata": {},
     "output_type": "display_data"
    },
    {
     "name": "stdout",
     "output_type": "stream",
     "text": [
      "Delta_canon_RPD_IFG_right_b AUC:  0.68 +-(  0.01 ) (1376, 1)\n"
     ]
    },
    {
     "data": {
      "application/vnd.jupyter.widget-view+json": {
       "model_id": "cd26a502480240f1833d5e37a0f10581",
       "version_major": 2,
       "version_minor": 0
      },
      "text/plain": [
       "  0%|          | 0/20 [00:00<?, ?it/s]"
      ]
     },
     "metadata": {},
     "output_type": "display_data"
    },
    {
     "name": "stdout",
     "output_type": "stream",
     "text": [
      "Delta_canon_RPD_MFG_left_b AUC:  0.58 +-(  0.01 ) (1376, 1)\n"
     ]
    },
    {
     "data": {
      "application/vnd.jupyter.widget-view+json": {
       "model_id": "b9b551712dac42fbacc854ac62ff7c9c",
       "version_major": 2,
       "version_minor": 0
      },
      "text/plain": [
       "  0%|          | 0/20 [00:00<?, ?it/s]"
      ]
     },
     "metadata": {},
     "output_type": "display_data"
    },
    {
     "name": "stdout",
     "output_type": "stream",
     "text": [
      "Delta_canon_RPD_SFG_left_b AUC:  0.68 +-(  0.01 ) (1376, 1)\n"
     ]
    },
    {
     "data": {
      "application/vnd.jupyter.widget-view+json": {
       "model_id": "1c821ac05b4e4636980df0daeed19fd8",
       "version_major": 2,
       "version_minor": 0
      },
      "text/plain": [
       "  0%|          | 0/20 [00:00<?, ?it/s]"
      ]
     },
     "metadata": {},
     "output_type": "display_data"
    },
    {
     "name": "stdout",
     "output_type": "stream",
     "text": [
      "Delta_canon_RPD_SFG_right_b AUC:  0.67 +-(  0.0 ) (1376, 1)\n"
     ]
    },
    {
     "data": {
      "application/vnd.jupyter.widget-view+json": {
       "model_id": "263a193318be4a88bb44deb61b47f990",
       "version_major": 2,
       "version_minor": 0
      },
      "text/plain": [
       "  0%|          | 0/20 [00:00<?, ?it/s]"
      ]
     },
     "metadata": {},
     "output_type": "display_data"
    },
    {
     "name": "stdout",
     "output_type": "stream",
     "text": [
      "Delta_canon_RPD_HPC_left_b AUC:  0.72 +-(  0.0 ) (1376, 1)\n"
     ]
    },
    {
     "data": {
      "application/vnd.jupyter.widget-view+json": {
       "model_id": "44c86088e4a441808a945325ba0a1ae2",
       "version_major": 2,
       "version_minor": 0
      },
      "text/plain": [
       "  0%|          | 0/20 [00:00<?, ?it/s]"
      ]
     },
     "metadata": {},
     "output_type": "display_data"
    },
    {
     "name": "stdout",
     "output_type": "stream",
     "text": [
      "Delta_canon_RPD_HPC_right_b AUC:  0.69 +-(  0.01 ) (1376, 1)\n"
     ]
    },
    {
     "data": {
      "application/vnd.jupyter.widget-view+json": {
       "model_id": "abc51a9b110c4f11a337e958def77d91",
       "version_major": 2,
       "version_minor": 0
      },
      "text/plain": [
       "  0%|          | 0/20 [00:00<?, ?it/s]"
      ]
     },
     "metadata": {},
     "output_type": "display_data"
    },
    {
     "name": "stdout",
     "output_type": "stream",
     "text": [
      "Delta_canon_RPD_INS_left_b AUC:  0.67 +-(  0.0 ) (1376, 1)\n"
     ]
    },
    {
     "data": {
      "application/vnd.jupyter.widget-view+json": {
       "model_id": "d8d1dc738ee04c0a9ee0334429649adf",
       "version_major": 2,
       "version_minor": 0
      },
      "text/plain": [
       "  0%|          | 0/20 [00:00<?, ?it/s]"
      ]
     },
     "metadata": {},
     "output_type": "display_data"
    },
    {
     "name": "stdout",
     "output_type": "stream",
     "text": [
      "Delta_canon_RPD_INS_right_b AUC:  0.69 +-(  0.01 ) (1376, 1)\n"
     ]
    },
    {
     "data": {
      "application/vnd.jupyter.widget-view+json": {
       "model_id": "66ef40278ffb4d73aee122d1eb45db5a",
       "version_major": 2,
       "version_minor": 0
      },
      "text/plain": [
       "  0%|          | 0/20 [00:00<?, ?it/s]"
      ]
     },
     "metadata": {},
     "output_type": "display_data"
    },
    {
     "name": "stdout",
     "output_type": "stream",
     "text": [
      "Delta_subj_spec_EPP_ORB_left_b AUC:  0.7 +-(  0.0 ) (1376, 1)\n"
     ]
    },
    {
     "data": {
      "application/vnd.jupyter.widget-view+json": {
       "model_id": "f4a88e86ebd747179415f4f97cdb1d50",
       "version_major": 2,
       "version_minor": 0
      },
      "text/plain": [
       "  0%|          | 0/20 [00:00<?, ?it/s]"
      ]
     },
     "metadata": {},
     "output_type": "display_data"
    },
    {
     "name": "stdout",
     "output_type": "stream",
     "text": [
      "Delta_subj_spec_EPP_ORB_right_b AUC:  0.65 +-(  0.0 ) (1376, 1)\n"
     ]
    },
    {
     "data": {
      "application/vnd.jupyter.widget-view+json": {
       "model_id": "3153de46486043d0a336f78013341925",
       "version_major": 2,
       "version_minor": 0
      },
      "text/plain": [
       "  0%|          | 0/20 [00:00<?, ?it/s]"
      ]
     },
     "metadata": {},
     "output_type": "display_data"
    },
    {
     "name": "stdout",
     "output_type": "stream",
     "text": [
      "Delta_subj_spec_EPP_IFG_left_b AUC:  0.72 +-(  0.0 ) (1376, 1)\n"
     ]
    },
    {
     "data": {
      "application/vnd.jupyter.widget-view+json": {
       "model_id": "7c78986ac1f94324b31b3b1e4f426332",
       "version_major": 2,
       "version_minor": 0
      },
      "text/plain": [
       "  0%|          | 0/20 [00:00<?, ?it/s]"
      ]
     },
     "metadata": {},
     "output_type": "display_data"
    },
    {
     "name": "stdout",
     "output_type": "stream",
     "text": [
      "Delta_subj_spec_EPP_IFG_right_b AUC:  0.69 +-(  0.0 ) (1376, 1)\n"
     ]
    },
    {
     "data": {
      "application/vnd.jupyter.widget-view+json": {
       "model_id": "89c54bb4448c4f98b72c063194f622b2",
       "version_major": 2,
       "version_minor": 0
      },
      "text/plain": [
       "  0%|          | 0/20 [00:00<?, ?it/s]"
      ]
     },
     "metadata": {},
     "output_type": "display_data"
    },
    {
     "name": "stdout",
     "output_type": "stream",
     "text": [
      "Delta_subj_spec_EPP_MFG_left_b AUC:  0.6 +-(  0.0 ) (1376, 1)\n"
     ]
    },
    {
     "data": {
      "application/vnd.jupyter.widget-view+json": {
       "model_id": "1ec35d168c384076b7e8e12e465a6446",
       "version_major": 2,
       "version_minor": 0
      },
      "text/plain": [
       "  0%|          | 0/20 [00:00<?, ?it/s]"
      ]
     },
     "metadata": {},
     "output_type": "display_data"
    },
    {
     "name": "stdout",
     "output_type": "stream",
     "text": [
      "Delta_subj_spec_EPP_SFG_left_b AUC:  0.61 +-(  0.01 ) (1376, 1)\n"
     ]
    },
    {
     "data": {
      "application/vnd.jupyter.widget-view+json": {
       "model_id": "d0edd15a0a1143a0bb0064ebc44e94e4",
       "version_major": 2,
       "version_minor": 0
      },
      "text/plain": [
       "  0%|          | 0/20 [00:00<?, ?it/s]"
      ]
     },
     "metadata": {},
     "output_type": "display_data"
    },
    {
     "name": "stdout",
     "output_type": "stream",
     "text": [
      "Delta_subj_spec_EPP_HPC_left_b AUC:  0.72 +-(  0.0 ) (1376, 1)\n"
     ]
    },
    {
     "data": {
      "application/vnd.jupyter.widget-view+json": {
       "model_id": "c6881ace42b84b318b3f4328d41beea3",
       "version_major": 2,
       "version_minor": 0
      },
      "text/plain": [
       "  0%|          | 0/20 [00:00<?, ?it/s]"
      ]
     },
     "metadata": {},
     "output_type": "display_data"
    },
    {
     "name": "stdout",
     "output_type": "stream",
     "text": [
      "Delta_subj_spec_EPP_HPC_right_b AUC:  0.7 +-(  0.01 ) (1376, 1)\n"
     ]
    },
    {
     "data": {
      "application/vnd.jupyter.widget-view+json": {
       "model_id": "eefc4b549ff54952961da010521a243f",
       "version_major": 2,
       "version_minor": 0
      },
      "text/plain": [
       "  0%|          | 0/20 [00:00<?, ?it/s]"
      ]
     },
     "metadata": {},
     "output_type": "display_data"
    },
    {
     "name": "stdout",
     "output_type": "stream",
     "text": [
      "Delta_subj_spec_EPP_INS_left_b AUC:  0.68 +-(  0.01 ) (1376, 1)\n"
     ]
    },
    {
     "data": {
      "application/vnd.jupyter.widget-view+json": {
       "model_id": "b6b4224d14fe419e9bdffb2e8514eb4c",
       "version_major": 2,
       "version_minor": 0
      },
      "text/plain": [
       "  0%|          | 0/20 [00:00<?, ?it/s]"
      ]
     },
     "metadata": {},
     "output_type": "display_data"
    },
    {
     "name": "stdout",
     "output_type": "stream",
     "text": [
      "Delta_subj_spec_EPP_INS_right_b AUC:  0.72 +-(  0.0 ) (1376, 1)\n"
     ]
    },
    {
     "data": {
      "application/vnd.jupyter.widget-view+json": {
       "model_id": "eb24cc2ae4cc44fb8dc56cc3032a2c2d",
       "version_major": 2,
       "version_minor": 0
      },
      "text/plain": [
       "  0%|          | 0/20 [00:00<?, ?it/s]"
      ]
     },
     "metadata": {},
     "output_type": "display_data"
    },
    {
     "name": "stdout",
     "output_type": "stream",
     "text": [
      "Delta_subj_spec_RPD_ORB_left_b AUC:  0.7 +-(  0.0 ) (1376, 1)\n"
     ]
    },
    {
     "data": {
      "application/vnd.jupyter.widget-view+json": {
       "model_id": "3107b3e311304422822e80efcb4810d0",
       "version_major": 2,
       "version_minor": 0
      },
      "text/plain": [
       "  0%|          | 0/20 [00:00<?, ?it/s]"
      ]
     },
     "metadata": {},
     "output_type": "display_data"
    },
    {
     "name": "stdout",
     "output_type": "stream",
     "text": [
      "Delta_subj_spec_RPD_ORB_right_b AUC:  0.65 +-(  0.0 ) (1376, 1)\n"
     ]
    },
    {
     "data": {
      "application/vnd.jupyter.widget-view+json": {
       "model_id": "d7f6489f1ec742a68c36dbfda7e82087",
       "version_major": 2,
       "version_minor": 0
      },
      "text/plain": [
       "  0%|          | 0/20 [00:00<?, ?it/s]"
      ]
     },
     "metadata": {},
     "output_type": "display_data"
    },
    {
     "name": "stdout",
     "output_type": "stream",
     "text": [
      "Delta_subj_spec_RPD_IFG_left_b AUC:  0.72 +-(  0.0 ) (1376, 1)\n"
     ]
    },
    {
     "data": {
      "application/vnd.jupyter.widget-view+json": {
       "model_id": "f4583be028e94f6ead0a285fcdd0f25f",
       "version_major": 2,
       "version_minor": 0
      },
      "text/plain": [
       "  0%|          | 0/20 [00:00<?, ?it/s]"
      ]
     },
     "metadata": {},
     "output_type": "display_data"
    },
    {
     "name": "stdout",
     "output_type": "stream",
     "text": [
      "Delta_subj_spec_RPD_IFG_right_b AUC:  0.69 +-(  0.0 ) (1376, 1)\n"
     ]
    },
    {
     "data": {
      "application/vnd.jupyter.widget-view+json": {
       "model_id": "03a64ef1db9447be8c16da2620dd248d",
       "version_major": 2,
       "version_minor": 0
      },
      "text/plain": [
       "  0%|          | 0/20 [00:00<?, ?it/s]"
      ]
     },
     "metadata": {},
     "output_type": "display_data"
    },
    {
     "name": "stdout",
     "output_type": "stream",
     "text": [
      "Delta_subj_spec_RPD_MFG_left_b AUC:  0.6 +-(  0.0 ) (1376, 1)\n"
     ]
    },
    {
     "data": {
      "application/vnd.jupyter.widget-view+json": {
       "model_id": "8b10398874ee4cbd8147838441ac0dd0",
       "version_major": 2,
       "version_minor": 0
      },
      "text/plain": [
       "  0%|          | 0/20 [00:00<?, ?it/s]"
      ]
     },
     "metadata": {},
     "output_type": "display_data"
    },
    {
     "name": "stdout",
     "output_type": "stream",
     "text": [
      "Delta_subj_spec_RPD_SFG_left_b AUC:  0.61 +-(  0.01 ) (1376, 1)\n"
     ]
    },
    {
     "data": {
      "application/vnd.jupyter.widget-view+json": {
       "model_id": "953ef35600c24e169d3a123a7db48f02",
       "version_major": 2,
       "version_minor": 0
      },
      "text/plain": [
       "  0%|          | 0/20 [00:00<?, ?it/s]"
      ]
     },
     "metadata": {},
     "output_type": "display_data"
    },
    {
     "name": "stdout",
     "output_type": "stream",
     "text": [
      "Delta_subj_spec_RPD_HPC_left_b AUC:  0.72 +-(  0.0 ) (1376, 1)\n"
     ]
    },
    {
     "data": {
      "application/vnd.jupyter.widget-view+json": {
       "model_id": "0c3c5162f8fb4624b83286d18b9b13ab",
       "version_major": 2,
       "version_minor": 0
      },
      "text/plain": [
       "  0%|          | 0/20 [00:00<?, ?it/s]"
      ]
     },
     "metadata": {},
     "output_type": "display_data"
    },
    {
     "name": "stdout",
     "output_type": "stream",
     "text": [
      "Delta_subj_spec_RPD_HPC_right_b AUC:  0.7 +-(  0.01 ) (1376, 1)\n"
     ]
    },
    {
     "data": {
      "application/vnd.jupyter.widget-view+json": {
       "model_id": "68f82c4d22ff45c5be9d4f499daf5d9e",
       "version_major": 2,
       "version_minor": 0
      },
      "text/plain": [
       "  0%|          | 0/20 [00:00<?, ?it/s]"
      ]
     },
     "metadata": {},
     "output_type": "display_data"
    },
    {
     "name": "stdout",
     "output_type": "stream",
     "text": [
      "Delta_subj_spec_RPD_INS_left_b AUC:  0.68 +-(  0.01 ) (1376, 1)\n"
     ]
    },
    {
     "data": {
      "application/vnd.jupyter.widget-view+json": {
       "model_id": "bda447614a9c4537a6a66b970d5c7ab5",
       "version_major": 2,
       "version_minor": 0
      },
      "text/plain": [
       "  0%|          | 0/20 [00:00<?, ?it/s]"
      ]
     },
     "metadata": {},
     "output_type": "display_data"
    },
    {
     "name": "stdout",
     "output_type": "stream",
     "text": [
      "Delta_subj_spec_RPD_INS_right_b AUC:  0.72 +-(  0.0 ) (1376, 1)\n"
     ]
    },
    {
     "data": {
      "application/vnd.jupyter.widget-view+json": {
       "model_id": "da247030a1bc49418c623b4ef4e38521",
       "version_major": 2,
       "version_minor": 0
      },
      "text/plain": [
       "  0%|          | 0/20 [00:00<?, ?it/s]"
      ]
     },
     "metadata": {},
     "output_type": "display_data"
    },
    {
     "name": "stdout",
     "output_type": "stream",
     "text": [
      "Theta_canon_EPP_ORB_left_b AUC:  0.73 +-(  0.01 ) (1376, 1)\n"
     ]
    },
    {
     "data": {
      "application/vnd.jupyter.widget-view+json": {
       "model_id": "a0e2b1fedd26425db8feda057e05e2ca",
       "version_major": 2,
       "version_minor": 0
      },
      "text/plain": [
       "  0%|          | 0/20 [00:00<?, ?it/s]"
      ]
     },
     "metadata": {},
     "output_type": "display_data"
    },
    {
     "name": "stdout",
     "output_type": "stream",
     "text": [
      "Theta_canon_EPP_ORB_right_b AUC:  0.7 +-(  0.01 ) (1376, 1)\n"
     ]
    },
    {
     "data": {
      "application/vnd.jupyter.widget-view+json": {
       "model_id": "66ecc77d598746c6ac0a739191538f13",
       "version_major": 2,
       "version_minor": 0
      },
      "text/plain": [
       "  0%|          | 0/20 [00:00<?, ?it/s]"
      ]
     },
     "metadata": {},
     "output_type": "display_data"
    },
    {
     "name": "stdout",
     "output_type": "stream",
     "text": [
      "Theta_canon_EPP_IFG_left_b AUC:  0.74 +-(  0.0 ) (1376, 1)\n"
     ]
    },
    {
     "data": {
      "application/vnd.jupyter.widget-view+json": {
       "model_id": "6634b071a2f54fa8895e9cae13b89bc6",
       "version_major": 2,
       "version_minor": 0
      },
      "text/plain": [
       "  0%|          | 0/20 [00:00<?, ?it/s]"
      ]
     },
     "metadata": {},
     "output_type": "display_data"
    },
    {
     "name": "stdout",
     "output_type": "stream",
     "text": [
      "Theta_canon_EPP_MFG_left_b AUC:  0.58 +-(  0.01 ) (1376, 1)\n"
     ]
    },
    {
     "data": {
      "application/vnd.jupyter.widget-view+json": {
       "model_id": "255e53935f58488da8354396e2a2e62f",
       "version_major": 2,
       "version_minor": 0
      },
      "text/plain": [
       "  0%|          | 0/20 [00:00<?, ?it/s]"
      ]
     },
     "metadata": {},
     "output_type": "display_data"
    },
    {
     "name": "stdout",
     "output_type": "stream",
     "text": [
      "Theta_canon_EPP_SFG_left_b AUC:  0.65 +-(  0.0 ) (1376, 1)\n"
     ]
    },
    {
     "data": {
      "application/vnd.jupyter.widget-view+json": {
       "model_id": "5728f581474f4eb3a92f7922194cc2c3",
       "version_major": 2,
       "version_minor": 0
      },
      "text/plain": [
       "  0%|          | 0/20 [00:00<?, ?it/s]"
      ]
     },
     "metadata": {},
     "output_type": "display_data"
    },
    {
     "name": "stdout",
     "output_type": "stream",
     "text": [
      "Theta_canon_EPP_HPC_left_b AUC:  0.77 +-(  0.0 ) (1376, 1)\n"
     ]
    },
    {
     "data": {
      "application/vnd.jupyter.widget-view+json": {
       "model_id": "45f7970394ce42cda9d953dba0d948d3",
       "version_major": 2,
       "version_minor": 0
      },
      "text/plain": [
       "  0%|          | 0/20 [00:00<?, ?it/s]"
      ]
     },
     "metadata": {},
     "output_type": "display_data"
    },
    {
     "name": "stdout",
     "output_type": "stream",
     "text": [
      "Theta_canon_EPP_HPC_right_b AUC:  0.75 +-(  0.0 ) (1376, 1)\n"
     ]
    },
    {
     "data": {
      "application/vnd.jupyter.widget-view+json": {
       "model_id": "ec8d1519699f42718c266b9a4dfda462",
       "version_major": 2,
       "version_minor": 0
      },
      "text/plain": [
       "  0%|          | 0/20 [00:00<?, ?it/s]"
      ]
     },
     "metadata": {},
     "output_type": "display_data"
    },
    {
     "name": "stdout",
     "output_type": "stream",
     "text": [
      "Theta_canon_EPP_INS_left_b AUC:  0.75 +-(  0.01 ) (1376, 1)\n"
     ]
    },
    {
     "data": {
      "application/vnd.jupyter.widget-view+json": {
       "model_id": "1da9d2f2fc8d4597adda82664177936d",
       "version_major": 2,
       "version_minor": 0
      },
      "text/plain": [
       "  0%|          | 0/20 [00:00<?, ?it/s]"
      ]
     },
     "metadata": {},
     "output_type": "display_data"
    },
    {
     "name": "stdout",
     "output_type": "stream",
     "text": [
      "Theta_canon_EPP_INS_right_b AUC:  0.75 +-(  0.01 ) (1376, 1)\n"
     ]
    },
    {
     "data": {
      "application/vnd.jupyter.widget-view+json": {
       "model_id": "20f94731ce9f42c49fd8ba4f9df0c36e",
       "version_major": 2,
       "version_minor": 0
      },
      "text/plain": [
       "  0%|          | 0/20 [00:00<?, ?it/s]"
      ]
     },
     "metadata": {},
     "output_type": "display_data"
    },
    {
     "name": "stdout",
     "output_type": "stream",
     "text": [
      "Theta_canon_RPD_ORB_left_b AUC:  0.73 +-(  0.01 ) (1376, 1)\n"
     ]
    },
    {
     "data": {
      "application/vnd.jupyter.widget-view+json": {
       "model_id": "66b81cae57854b0aa4638171ae93f585",
       "version_major": 2,
       "version_minor": 0
      },
      "text/plain": [
       "  0%|          | 0/20 [00:00<?, ?it/s]"
      ]
     },
     "metadata": {},
     "output_type": "display_data"
    },
    {
     "name": "stdout",
     "output_type": "stream",
     "text": [
      "Theta_canon_RPD_ORB_right_b AUC:  0.7 +-(  0.01 ) (1376, 1)\n"
     ]
    },
    {
     "data": {
      "application/vnd.jupyter.widget-view+json": {
       "model_id": "df2edd8f6b664c00a0145bfc2a04c2fd",
       "version_major": 2,
       "version_minor": 0
      },
      "text/plain": [
       "  0%|          | 0/20 [00:00<?, ?it/s]"
      ]
     },
     "metadata": {},
     "output_type": "display_data"
    },
    {
     "name": "stdout",
     "output_type": "stream",
     "text": [
      "Theta_canon_RPD_IFG_left_b AUC:  0.74 +-(  0.0 ) (1376, 1)\n"
     ]
    },
    {
     "data": {
      "application/vnd.jupyter.widget-view+json": {
       "model_id": "38c1ed52289247ffb73897ae6bc28f7d",
       "version_major": 2,
       "version_minor": 0
      },
      "text/plain": [
       "  0%|          | 0/20 [00:00<?, ?it/s]"
      ]
     },
     "metadata": {},
     "output_type": "display_data"
    },
    {
     "name": "stdout",
     "output_type": "stream",
     "text": [
      "Theta_canon_RPD_MFG_left_b AUC:  0.58 +-(  0.01 ) (1376, 1)\n"
     ]
    },
    {
     "data": {
      "application/vnd.jupyter.widget-view+json": {
       "model_id": "02d0aeb8c90b4248a2af17308a219f4a",
       "version_major": 2,
       "version_minor": 0
      },
      "text/plain": [
       "  0%|          | 0/20 [00:00<?, ?it/s]"
      ]
     },
     "metadata": {},
     "output_type": "display_data"
    },
    {
     "name": "stdout",
     "output_type": "stream",
     "text": [
      "Theta_canon_RPD_SFG_left_b AUC:  0.65 +-(  0.0 ) (1376, 1)\n"
     ]
    },
    {
     "data": {
      "application/vnd.jupyter.widget-view+json": {
       "model_id": "b9c414468b6e497eb0b5a3beb0953781",
       "version_major": 2,
       "version_minor": 0
      },
      "text/plain": [
       "  0%|          | 0/20 [00:00<?, ?it/s]"
      ]
     },
     "metadata": {},
     "output_type": "display_data"
    },
    {
     "name": "stdout",
     "output_type": "stream",
     "text": [
      "Theta_canon_RPD_HPC_left_b AUC:  0.77 +-(  0.0 ) (1376, 1)\n"
     ]
    },
    {
     "data": {
      "application/vnd.jupyter.widget-view+json": {
       "model_id": "ff79d884e2d8438da0bfe2537e574f55",
       "version_major": 2,
       "version_minor": 0
      },
      "text/plain": [
       "  0%|          | 0/20 [00:00<?, ?it/s]"
      ]
     },
     "metadata": {},
     "output_type": "display_data"
    },
    {
     "name": "stdout",
     "output_type": "stream",
     "text": [
      "Theta_canon_RPD_HPC_right_b AUC:  0.75 +-(  0.0 ) (1376, 1)\n"
     ]
    },
    {
     "data": {
      "application/vnd.jupyter.widget-view+json": {
       "model_id": "cf1bb337f0444acf8f7cf592044f48cc",
       "version_major": 2,
       "version_minor": 0
      },
      "text/plain": [
       "  0%|          | 0/20 [00:00<?, ?it/s]"
      ]
     },
     "metadata": {},
     "output_type": "display_data"
    },
    {
     "name": "stdout",
     "output_type": "stream",
     "text": [
      "Theta_canon_RPD_INS_left_b AUC:  0.75 +-(  0.01 ) (1376, 1)\n"
     ]
    },
    {
     "data": {
      "application/vnd.jupyter.widget-view+json": {
       "model_id": "50c094bf4f83458dbdb033047e5a4f07",
       "version_major": 2,
       "version_minor": 0
      },
      "text/plain": [
       "  0%|          | 0/20 [00:00<?, ?it/s]"
      ]
     },
     "metadata": {},
     "output_type": "display_data"
    },
    {
     "name": "stdout",
     "output_type": "stream",
     "text": [
      "Theta_canon_RPD_INS_right_b AUC:  0.75 +-(  0.01 ) (1376, 1)\n"
     ]
    },
    {
     "data": {
      "application/vnd.jupyter.widget-view+json": {
       "model_id": "5ed63249c63e461aacdae719c8fa11b0",
       "version_major": 2,
       "version_minor": 0
      },
      "text/plain": [
       "  0%|          | 0/20 [00:00<?, ?it/s]"
      ]
     },
     "metadata": {},
     "output_type": "display_data"
    },
    {
     "name": "stdout",
     "output_type": "stream",
     "text": [
      "Theta_subj_spec_EPP_ORB_left_b AUC:  0.73 +-(  0.01 ) (1376, 1)\n"
     ]
    },
    {
     "data": {
      "application/vnd.jupyter.widget-view+json": {
       "model_id": "8571cab9e52e424c8e8ad700ac5f8b9f",
       "version_major": 2,
       "version_minor": 0
      },
      "text/plain": [
       "  0%|          | 0/20 [00:00<?, ?it/s]"
      ]
     },
     "metadata": {},
     "output_type": "display_data"
    },
    {
     "name": "stdout",
     "output_type": "stream",
     "text": [
      "Theta_subj_spec_EPP_ORB_right_b AUC:  0.72 +-(  0.01 ) (1376, 1)\n"
     ]
    },
    {
     "data": {
      "application/vnd.jupyter.widget-view+json": {
       "model_id": "7d4a1883dc3c4c7f8599ffeb1759ba19",
       "version_major": 2,
       "version_minor": 0
      },
      "text/plain": [
       "  0%|          | 0/20 [00:00<?, ?it/s]"
      ]
     },
     "metadata": {},
     "output_type": "display_data"
    },
    {
     "name": "stdout",
     "output_type": "stream",
     "text": [
      "Theta_subj_spec_EPP_IFG_left_b AUC:  0.71 +-(  0.0 ) (1376, 1)\n"
     ]
    },
    {
     "data": {
      "application/vnd.jupyter.widget-view+json": {
       "model_id": "50f7cf5c841b4c6ead4e655693e99a1b",
       "version_major": 2,
       "version_minor": 0
      },
      "text/plain": [
       "  0%|          | 0/20 [00:00<?, ?it/s]"
      ]
     },
     "metadata": {},
     "output_type": "display_data"
    },
    {
     "name": "stdout",
     "output_type": "stream",
     "text": [
      "Theta_subj_spec_EPP_MFG_left_b AUC:  0.6 +-(  0.01 ) (1376, 1)\n"
     ]
    },
    {
     "data": {
      "application/vnd.jupyter.widget-view+json": {
       "model_id": "6cb99fc37c4045399a0758c40b4cd67a",
       "version_major": 2,
       "version_minor": 0
      },
      "text/plain": [
       "  0%|          | 0/20 [00:00<?, ?it/s]"
      ]
     },
     "metadata": {},
     "output_type": "display_data"
    },
    {
     "name": "stdout",
     "output_type": "stream",
     "text": [
      "Theta_subj_spec_EPP_SFG_left_b AUC:  0.64 +-(  0.01 ) (1376, 1)\n"
     ]
    },
    {
     "data": {
      "application/vnd.jupyter.widget-view+json": {
       "model_id": "8223e586a5ab40b682f6b0499f8126b4",
       "version_major": 2,
       "version_minor": 0
      },
      "text/plain": [
       "  0%|          | 0/20 [00:00<?, ?it/s]"
      ]
     },
     "metadata": {},
     "output_type": "display_data"
    },
    {
     "name": "stdout",
     "output_type": "stream",
     "text": [
      "Theta_subj_spec_EPP_HPC_left_b AUC:  0.76 +-(  0.0 ) (1376, 1)\n"
     ]
    },
    {
     "data": {
      "application/vnd.jupyter.widget-view+json": {
       "model_id": "7fbf048a28c049d4a5ac1a996e322abd",
       "version_major": 2,
       "version_minor": 0
      },
      "text/plain": [
       "  0%|          | 0/20 [00:00<?, ?it/s]"
      ]
     },
     "metadata": {},
     "output_type": "display_data"
    },
    {
     "name": "stdout",
     "output_type": "stream",
     "text": [
      "Theta_subj_spec_EPP_HPC_right_b AUC:  0.75 +-(  0.01 ) (1376, 1)\n"
     ]
    },
    {
     "data": {
      "application/vnd.jupyter.widget-view+json": {
       "model_id": "158698a4c8a144f7a1fc5ff76afd8f67",
       "version_major": 2,
       "version_minor": 0
      },
      "text/plain": [
       "  0%|          | 0/20 [00:00<?, ?it/s]"
      ]
     },
     "metadata": {},
     "output_type": "display_data"
    },
    {
     "name": "stdout",
     "output_type": "stream",
     "text": [
      "Theta_subj_spec_EPP_INS_left_b AUC:  0.74 +-(  0.0 ) (1376, 1)\n"
     ]
    },
    {
     "data": {
      "application/vnd.jupyter.widget-view+json": {
       "model_id": "8e6f7eaf4eb441089c7cd5b6b3041356",
       "version_major": 2,
       "version_minor": 0
      },
      "text/plain": [
       "  0%|          | 0/20 [00:00<?, ?it/s]"
      ]
     },
     "metadata": {},
     "output_type": "display_data"
    },
    {
     "name": "stdout",
     "output_type": "stream",
     "text": [
      "Theta_subj_spec_EPP_INS_right_b AUC:  0.74 +-(  0.01 ) (1376, 1)\n"
     ]
    },
    {
     "data": {
      "application/vnd.jupyter.widget-view+json": {
       "model_id": "7b47425be3ff476ebb77929b9a783fc4",
       "version_major": 2,
       "version_minor": 0
      },
      "text/plain": [
       "  0%|          | 0/20 [00:00<?, ?it/s]"
      ]
     },
     "metadata": {},
     "output_type": "display_data"
    },
    {
     "name": "stdout",
     "output_type": "stream",
     "text": [
      "Theta_subj_spec_RPD_ORB_left_b AUC:  0.73 +-(  0.01 ) (1376, 1)\n"
     ]
    },
    {
     "data": {
      "application/vnd.jupyter.widget-view+json": {
       "model_id": "e48ad88f4d7f4315a526b39bf55c55a9",
       "version_major": 2,
       "version_minor": 0
      },
      "text/plain": [
       "  0%|          | 0/20 [00:00<?, ?it/s]"
      ]
     },
     "metadata": {},
     "output_type": "display_data"
    },
    {
     "name": "stdout",
     "output_type": "stream",
     "text": [
      "Theta_subj_spec_RPD_ORB_right_b AUC:  0.72 +-(  0.01 ) (1376, 1)\n"
     ]
    },
    {
     "data": {
      "application/vnd.jupyter.widget-view+json": {
       "model_id": "3347175eb3e443b494caea992983e7ef",
       "version_major": 2,
       "version_minor": 0
      },
      "text/plain": [
       "  0%|          | 0/20 [00:00<?, ?it/s]"
      ]
     },
     "metadata": {},
     "output_type": "display_data"
    },
    {
     "name": "stdout",
     "output_type": "stream",
     "text": [
      "Theta_subj_spec_RPD_IFG_left_b AUC:  0.71 +-(  0.0 ) (1376, 1)\n"
     ]
    },
    {
     "data": {
      "application/vnd.jupyter.widget-view+json": {
       "model_id": "6a894ea1d65b4538911cce387bfc19b3",
       "version_major": 2,
       "version_minor": 0
      },
      "text/plain": [
       "  0%|          | 0/20 [00:00<?, ?it/s]"
      ]
     },
     "metadata": {},
     "output_type": "display_data"
    },
    {
     "name": "stdout",
     "output_type": "stream",
     "text": [
      "Theta_subj_spec_RPD_MFG_left_b AUC:  0.6 +-(  0.01 ) (1376, 1)\n"
     ]
    },
    {
     "data": {
      "application/vnd.jupyter.widget-view+json": {
       "model_id": "d5cd77f9b27a47eb9b53aceeaa94bcf3",
       "version_major": 2,
       "version_minor": 0
      },
      "text/plain": [
       "  0%|          | 0/20 [00:00<?, ?it/s]"
      ]
     },
     "metadata": {},
     "output_type": "display_data"
    },
    {
     "name": "stdout",
     "output_type": "stream",
     "text": [
      "Theta_subj_spec_RPD_SFG_left_b AUC:  0.64 +-(  0.01 ) (1376, 1)\n"
     ]
    },
    {
     "data": {
      "application/vnd.jupyter.widget-view+json": {
       "model_id": "321474fc5c2040f780b8ff934f18a137",
       "version_major": 2,
       "version_minor": 0
      },
      "text/plain": [
       "  0%|          | 0/20 [00:00<?, ?it/s]"
      ]
     },
     "metadata": {},
     "output_type": "display_data"
    },
    {
     "name": "stdout",
     "output_type": "stream",
     "text": [
      "Theta_subj_spec_RPD_HPC_left_b AUC:  0.76 +-(  0.0 ) (1376, 1)\n"
     ]
    },
    {
     "data": {
      "application/vnd.jupyter.widget-view+json": {
       "model_id": "d194429ce7c34a9fb62f2efe0ed976fc",
       "version_major": 2,
       "version_minor": 0
      },
      "text/plain": [
       "  0%|          | 0/20 [00:00<?, ?it/s]"
      ]
     },
     "metadata": {},
     "output_type": "display_data"
    },
    {
     "name": "stdout",
     "output_type": "stream",
     "text": [
      "Theta_subj_spec_RPD_HPC_right_b AUC:  0.75 +-(  0.01 ) (1376, 1)\n"
     ]
    },
    {
     "data": {
      "application/vnd.jupyter.widget-view+json": {
       "model_id": "4b159b0028864182a5a7454d05f5856d",
       "version_major": 2,
       "version_minor": 0
      },
      "text/plain": [
       "  0%|          | 0/20 [00:00<?, ?it/s]"
      ]
     },
     "metadata": {},
     "output_type": "display_data"
    },
    {
     "name": "stdout",
     "output_type": "stream",
     "text": [
      "Theta_subj_spec_RPD_INS_left_b AUC:  0.74 +-(  0.0 ) (1376, 1)\n"
     ]
    },
    {
     "data": {
      "application/vnd.jupyter.widget-view+json": {
       "model_id": "49ee2b19afe8423788e56bb3c4caeece",
       "version_major": 2,
       "version_minor": 0
      },
      "text/plain": [
       "  0%|          | 0/20 [00:00<?, ?it/s]"
      ]
     },
     "metadata": {},
     "output_type": "display_data"
    },
    {
     "name": "stdout",
     "output_type": "stream",
     "text": [
      "Theta_subj_spec_RPD_INS_right_b AUC:  0.74 +-(  0.01 ) (1376, 1)\n"
     ]
    },
    {
     "data": {
      "application/vnd.jupyter.widget-view+json": {
       "model_id": "abf2ae3f96f84af2bad31b6f601ef702",
       "version_major": 2,
       "version_minor": 0
      },
      "text/plain": [
       "  0%|          | 0/20 [00:00<?, ?it/s]"
      ]
     },
     "metadata": {},
     "output_type": "display_data"
    },
    {
     "name": "stdout",
     "output_type": "stream",
     "text": [
      "Alpha2_canon_EPP_HPC_left_b AUC:  0.78 +-(  0.0 ) (1376, 1)\n"
     ]
    },
    {
     "data": {
      "application/vnd.jupyter.widget-view+json": {
       "model_id": "860f932d4a704d74979c7b3435136dfe",
       "version_major": 2,
       "version_minor": 0
      },
      "text/plain": [
       "  0%|          | 0/20 [00:00<?, ?it/s]"
      ]
     },
     "metadata": {},
     "output_type": "display_data"
    },
    {
     "name": "stdout",
     "output_type": "stream",
     "text": [
      "Alpha2_canon_EPP_HPC_right_b AUC:  0.78 +-(  0.0 ) (1376, 1)\n"
     ]
    },
    {
     "data": {
      "application/vnd.jupyter.widget-view+json": {
       "model_id": "89f3681f58ef4d309a5aa19d0ae182f6",
       "version_major": 2,
       "version_minor": 0
      },
      "text/plain": [
       "  0%|          | 0/20 [00:00<?, ?it/s]"
      ]
     },
     "metadata": {},
     "output_type": "display_data"
    },
    {
     "name": "stdout",
     "output_type": "stream",
     "text": [
      "Alpha2_canon_EPP_PARIET_left_b AUC:  0.69 +-(  0.02 ) (1376, 1)\n"
     ]
    },
    {
     "data": {
      "application/vnd.jupyter.widget-view+json": {
       "model_id": "d127870ed13e4208abb68e9581bbba5b",
       "version_major": 2,
       "version_minor": 0
      },
      "text/plain": [
       "  0%|          | 0/20 [00:00<?, ?it/s]"
      ]
     },
     "metadata": {},
     "output_type": "display_data"
    },
    {
     "name": "stdout",
     "output_type": "stream",
     "text": [
      "Alpha2_canon_EPP_PARIET_right_b AUC:  0.72 +-(  0.01 ) (1376, 1)\n"
     ]
    },
    {
     "data": {
      "application/vnd.jupyter.widget-view+json": {
       "model_id": "c2cb6c56dd574db88dcc860c8e7a3398",
       "version_major": 2,
       "version_minor": 0
      },
      "text/plain": [
       "  0%|          | 0/20 [00:00<?, ?it/s]"
      ]
     },
     "metadata": {},
     "output_type": "display_data"
    },
    {
     "name": "stdout",
     "output_type": "stream",
     "text": [
      "Alpha2_canon_EPP_OCC_left_b AUC:  0.73 +-(  0.0 ) (1376, 1)\n"
     ]
    },
    {
     "data": {
      "application/vnd.jupyter.widget-view+json": {
       "model_id": "33171606cc06449dbe29a05f11fe31bf",
       "version_major": 2,
       "version_minor": 0
      },
      "text/plain": [
       "  0%|          | 0/20 [00:00<?, ?it/s]"
      ]
     },
     "metadata": {},
     "output_type": "display_data"
    },
    {
     "name": "stdout",
     "output_type": "stream",
     "text": [
      "Alpha2_canon_EPP_OCC_right_b AUC:  0.74 +-(  0.0 ) (1376, 1)\n"
     ]
    },
    {
     "data": {
      "application/vnd.jupyter.widget-view+json": {
       "model_id": "5b03ba4b1cea4c48b14335bdf953ae52",
       "version_major": 2,
       "version_minor": 0
      },
      "text/plain": [
       "  0%|          | 0/20 [00:00<?, ?it/s]"
      ]
     },
     "metadata": {},
     "output_type": "display_data"
    },
    {
     "name": "stdout",
     "output_type": "stream",
     "text": [
      "Alpha2_canon_RPD_HPC_left_b AUC:  0.78 +-(  0.0 ) (1376, 1)\n"
     ]
    },
    {
     "data": {
      "application/vnd.jupyter.widget-view+json": {
       "model_id": "0f4a6056457648b7b7b7491406e32f7f",
       "version_major": 2,
       "version_minor": 0
      },
      "text/plain": [
       "  0%|          | 0/20 [00:00<?, ?it/s]"
      ]
     },
     "metadata": {},
     "output_type": "display_data"
    },
    {
     "name": "stdout",
     "output_type": "stream",
     "text": [
      "Alpha2_canon_RPD_HPC_right_b AUC:  0.78 +-(  0.0 ) (1376, 1)\n"
     ]
    },
    {
     "data": {
      "application/vnd.jupyter.widget-view+json": {
       "model_id": "27c9084365db43869c1254b659cf5af8",
       "version_major": 2,
       "version_minor": 0
      },
      "text/plain": [
       "  0%|          | 0/20 [00:00<?, ?it/s]"
      ]
     },
     "metadata": {},
     "output_type": "display_data"
    },
    {
     "name": "stdout",
     "output_type": "stream",
     "text": [
      "Alpha2_canon_RPD_CING_left_b AUC:  0.69 +-(  0.0 ) (1376, 1)\n"
     ]
    },
    {
     "data": {
      "application/vnd.jupyter.widget-view+json": {
       "model_id": "c2e0dc31ada44ad399d1c5bee8a2a566",
       "version_major": 2,
       "version_minor": 0
      },
      "text/plain": [
       "  0%|          | 0/20 [00:00<?, ?it/s]"
      ]
     },
     "metadata": {},
     "output_type": "display_data"
    },
    {
     "name": "stdout",
     "output_type": "stream",
     "text": [
      "Alpha2_canon_RPD_CING_right_b AUC:  0.67 +-(  0.01 ) (1376, 1)\n"
     ]
    },
    {
     "data": {
      "application/vnd.jupyter.widget-view+json": {
       "model_id": "7ec9ef30715a4f6a963da460c9009490",
       "version_major": 2,
       "version_minor": 0
      },
      "text/plain": [
       "  0%|          | 0/20 [00:00<?, ?it/s]"
      ]
     },
     "metadata": {},
     "output_type": "display_data"
    },
    {
     "name": "stdout",
     "output_type": "stream",
     "text": [
      "Alpha2_canon_RPD_PARIET_left_b AUC:  0.69 +-(  0.02 ) (1376, 1)\n"
     ]
    },
    {
     "data": {
      "application/vnd.jupyter.widget-view+json": {
       "model_id": "9b80eb94dea54342a1802b00b4661a76",
       "version_major": 2,
       "version_minor": 0
      },
      "text/plain": [
       "  0%|          | 0/20 [00:00<?, ?it/s]"
      ]
     },
     "metadata": {},
     "output_type": "display_data"
    },
    {
     "name": "stdout",
     "output_type": "stream",
     "text": [
      "Alpha2_canon_RPD_PARIET_right_b AUC:  0.72 +-(  0.01 ) (1376, 1)\n"
     ]
    },
    {
     "data": {
      "application/vnd.jupyter.widget-view+json": {
       "model_id": "a8f08a56b86c48f4bff6dc977547643c",
       "version_major": 2,
       "version_minor": 0
      },
      "text/plain": [
       "  0%|          | 0/20 [00:00<?, ?it/s]"
      ]
     },
     "metadata": {},
     "output_type": "display_data"
    },
    {
     "name": "stdout",
     "output_type": "stream",
     "text": [
      "Alpha2_canon_RPD_OCC_left_b AUC:  0.73 +-(  0.0 ) (1376, 1)\n"
     ]
    },
    {
     "data": {
      "application/vnd.jupyter.widget-view+json": {
       "model_id": "faf0e45109f54a529a8cb6a26f5a0fc1",
       "version_major": 2,
       "version_minor": 0
      },
      "text/plain": [
       "  0%|          | 0/20 [00:00<?, ?it/s]"
      ]
     },
     "metadata": {},
     "output_type": "display_data"
    },
    {
     "name": "stdout",
     "output_type": "stream",
     "text": [
      "Alpha2_canon_RPD_OCC_right_b AUC:  0.74 +-(  0.0 ) (1376, 1)\n"
     ]
    },
    {
     "data": {
      "application/vnd.jupyter.widget-view+json": {
       "model_id": "1072862a51154018884d399ae562e8c8",
       "version_major": 2,
       "version_minor": 0
      },
      "text/plain": [
       "  0%|          | 0/20 [00:00<?, ?it/s]"
      ]
     },
     "metadata": {},
     "output_type": "display_data"
    },
    {
     "name": "stdout",
     "output_type": "stream",
     "text": [
      "High_subj_spec_EPP_HPC_left_b AUC:  0.77 +-(  0.0 ) (1376, 1)\n"
     ]
    },
    {
     "data": {
      "application/vnd.jupyter.widget-view+json": {
       "model_id": "4279cacfe5044dacbbe5de6424dc7b53",
       "version_major": 2,
       "version_minor": 0
      },
      "text/plain": [
       "  0%|          | 0/20 [00:00<?, ?it/s]"
      ]
     },
     "metadata": {},
     "output_type": "display_data"
    },
    {
     "name": "stdout",
     "output_type": "stream",
     "text": [
      "High_subj_spec_EPP_HPC_right_b AUC:  0.76 +-(  0.0 ) (1376, 1)\n"
     ]
    },
    {
     "data": {
      "application/vnd.jupyter.widget-view+json": {
       "model_id": "7c2488eec4cd4a169b17b7e71c0d332e",
       "version_major": 2,
       "version_minor": 0
      },
      "text/plain": [
       "  0%|          | 0/20 [00:00<?, ?it/s]"
      ]
     },
     "metadata": {},
     "output_type": "display_data"
    },
    {
     "name": "stdout",
     "output_type": "stream",
     "text": [
      "High_subj_spec_EPP_CING_left_b AUC:  0.7 +-(  0.0 ) (1376, 1)\n"
     ]
    },
    {
     "data": {
      "application/vnd.jupyter.widget-view+json": {
       "model_id": "29a92f7bc9384bc992a4332264bb904b",
       "version_major": 2,
       "version_minor": 0
      },
      "text/plain": [
       "  0%|          | 0/20 [00:00<?, ?it/s]"
      ]
     },
     "metadata": {},
     "output_type": "display_data"
    },
    {
     "name": "stdout",
     "output_type": "stream",
     "text": [
      "High_subj_spec_EPP_CING_right_b AUC:  0.71 +-(  0.0 ) (1376, 1)\n"
     ]
    },
    {
     "data": {
      "application/vnd.jupyter.widget-view+json": {
       "model_id": "549298803a0a4525add40981b9f083f7",
       "version_major": 2,
       "version_minor": 0
      },
      "text/plain": [
       "  0%|          | 0/20 [00:00<?, ?it/s]"
      ]
     },
     "metadata": {},
     "output_type": "display_data"
    },
    {
     "name": "stdout",
     "output_type": "stream",
     "text": [
      "High_subj_spec_EPP_PARIET_left_b AUC:  0.72 +-(  0.01 ) (1376, 1)\n"
     ]
    },
    {
     "data": {
      "application/vnd.jupyter.widget-view+json": {
       "model_id": "02cee82b205b4e1f9ea4ee7eabdc6bdb",
       "version_major": 2,
       "version_minor": 0
      },
      "text/plain": [
       "  0%|          | 0/20 [00:00<?, ?it/s]"
      ]
     },
     "metadata": {},
     "output_type": "display_data"
    },
    {
     "name": "stdout",
     "output_type": "stream",
     "text": [
      "High_subj_spec_EPP_PARIET_right_b AUC:  0.77 +-(  0.03 ) (1376, 1)\n"
     ]
    },
    {
     "data": {
      "application/vnd.jupyter.widget-view+json": {
       "model_id": "63679514f07d47c597f81e2e8c358d5f",
       "version_major": 2,
       "version_minor": 0
      },
      "text/plain": [
       "  0%|          | 0/20 [00:00<?, ?it/s]"
      ]
     },
     "metadata": {},
     "output_type": "display_data"
    },
    {
     "name": "stdout",
     "output_type": "stream",
     "text": [
      "High_subj_spec_EPP_OCC_left_b AUC:  0.76 +-(  0.0 ) (1376, 1)\n"
     ]
    },
    {
     "data": {
      "application/vnd.jupyter.widget-view+json": {
       "model_id": "502e7a9eb2c04472880a0153c6f389cf",
       "version_major": 2,
       "version_minor": 0
      },
      "text/plain": [
       "  0%|          | 0/20 [00:00<?, ?it/s]"
      ]
     },
     "metadata": {},
     "output_type": "display_data"
    },
    {
     "name": "stdout",
     "output_type": "stream",
     "text": [
      "High_subj_spec_EPP_OCC_right_b AUC:  0.71 +-(  0.0 ) (1376, 1)\n"
     ]
    },
    {
     "data": {
      "application/vnd.jupyter.widget-view+json": {
       "model_id": "6610596b34314e999da9524e0c8741ca",
       "version_major": 2,
       "version_minor": 0
      },
      "text/plain": [
       "  0%|          | 0/20 [00:00<?, ?it/s]"
      ]
     },
     "metadata": {},
     "output_type": "display_data"
    },
    {
     "name": "stdout",
     "output_type": "stream",
     "text": [
      "High_subj_spec_RPD_HPC_left_b AUC:  0.77 +-(  0.0 ) (1376, 1)\n"
     ]
    },
    {
     "data": {
      "application/vnd.jupyter.widget-view+json": {
       "model_id": "4b26a4d90c724488932bc6c3dd87ed94",
       "version_major": 2,
       "version_minor": 0
      },
      "text/plain": [
       "  0%|          | 0/20 [00:00<?, ?it/s]"
      ]
     },
     "metadata": {},
     "output_type": "display_data"
    },
    {
     "name": "stdout",
     "output_type": "stream",
     "text": [
      "High_subj_spec_RPD_HPC_right_b AUC:  0.76 +-(  0.0 ) (1376, 1)\n"
     ]
    },
    {
     "data": {
      "application/vnd.jupyter.widget-view+json": {
       "model_id": "b367940605c4411e904533fd6119ef19",
       "version_major": 2,
       "version_minor": 0
      },
      "text/plain": [
       "  0%|          | 0/20 [00:00<?, ?it/s]"
      ]
     },
     "metadata": {},
     "output_type": "display_data"
    },
    {
     "name": "stdout",
     "output_type": "stream",
     "text": [
      "High_subj_spec_RPD_CING_left_b AUC:  0.7 +-(  0.0 ) (1376, 1)\n"
     ]
    },
    {
     "data": {
      "application/vnd.jupyter.widget-view+json": {
       "model_id": "05488795663e4c7f810134e3206a28cb",
       "version_major": 2,
       "version_minor": 0
      },
      "text/plain": [
       "  0%|          | 0/20 [00:00<?, ?it/s]"
      ]
     },
     "metadata": {},
     "output_type": "display_data"
    },
    {
     "name": "stdout",
     "output_type": "stream",
     "text": [
      "High_subj_spec_RPD_CING_right_b AUC:  0.71 +-(  0.0 ) (1376, 1)\n"
     ]
    },
    {
     "data": {
      "application/vnd.jupyter.widget-view+json": {
       "model_id": "b44f5eaa343b43df90050fd1e9ebb332",
       "version_major": 2,
       "version_minor": 0
      },
      "text/plain": [
       "  0%|          | 0/20 [00:00<?, ?it/s]"
      ]
     },
     "metadata": {},
     "output_type": "display_data"
    },
    {
     "name": "stdout",
     "output_type": "stream",
     "text": [
      "High_subj_spec_RPD_PARIET_left_b AUC:  0.72 +-(  0.01 ) (1376, 1)\n"
     ]
    },
    {
     "data": {
      "application/vnd.jupyter.widget-view+json": {
       "model_id": "280128cfcc264c6792b7a7a14a0d7c57",
       "version_major": 2,
       "version_minor": 0
      },
      "text/plain": [
       "  0%|          | 0/20 [00:00<?, ?it/s]"
      ]
     },
     "metadata": {},
     "output_type": "display_data"
    },
    {
     "name": "stdout",
     "output_type": "stream",
     "text": [
      "High_subj_spec_RPD_PARIET_right_b AUC:  0.77 +-(  0.03 ) (1376, 1)\n"
     ]
    },
    {
     "data": {
      "application/vnd.jupyter.widget-view+json": {
       "model_id": "526b46d4010d40e68766c22594aa3823",
       "version_major": 2,
       "version_minor": 0
      },
      "text/plain": [
       "  0%|          | 0/20 [00:00<?, ?it/s]"
      ]
     },
     "metadata": {},
     "output_type": "display_data"
    },
    {
     "name": "stdout",
     "output_type": "stream",
     "text": [
      "High_subj_spec_RPD_OCC_left_b AUC:  0.76 +-(  0.0 ) (1376, 1)\n"
     ]
    },
    {
     "data": {
      "application/vnd.jupyter.widget-view+json": {
       "model_id": "39a809fa29cc414e8ea2b674e2887b55",
       "version_major": 2,
       "version_minor": 0
      },
      "text/plain": [
       "  0%|          | 0/20 [00:00<?, ?it/s]"
      ]
     },
     "metadata": {},
     "output_type": "display_data"
    },
    {
     "name": "stdout",
     "output_type": "stream",
     "text": [
      "High_subj_spec_RPD_OCC_right_b AUC:  0.71 +-(  0.0 ) (1376, 1)\n"
     ]
    },
    {
     "data": {
      "application/vnd.jupyter.widget-view+json": {
       "model_id": "c34eb886778046d4b24091b58232ce04",
       "version_major": 2,
       "version_minor": 0
      },
      "text/plain": [
       "  0%|          | 0/20 [00:00<?, ?it/s]"
      ]
     },
     "metadata": {},
     "output_type": "display_data"
    },
    {
     "name": "stdout",
     "output_type": "stream",
     "text": [
      "Low_subj_spec_EPP_HPC_left_b AUC:  0.7 +-(  0.02 ) (1376, 1)\n"
     ]
    },
    {
     "data": {
      "application/vnd.jupyter.widget-view+json": {
       "model_id": "592934a0e0cd48c593719820bff26e01",
       "version_major": 2,
       "version_minor": 0
      },
      "text/plain": [
       "  0%|          | 0/20 [00:00<?, ?it/s]"
      ]
     },
     "metadata": {},
     "output_type": "display_data"
    },
    {
     "name": "stdout",
     "output_type": "stream",
     "text": [
      "Low_subj_spec_EPP_HPC_right_b AUC:  0.69 +-(  0.02 ) (1376, 1)\n"
     ]
    },
    {
     "data": {
      "application/vnd.jupyter.widget-view+json": {
       "model_id": "42e3576e483241d3a97998b1ad8b1f69",
       "version_major": 2,
       "version_minor": 0
      },
      "text/plain": [
       "  0%|          | 0/20 [00:00<?, ?it/s]"
      ]
     },
     "metadata": {},
     "output_type": "display_data"
    },
    {
     "name": "stdout",
     "output_type": "stream",
     "text": [
      "Low_subj_spec_EPP_CING_left_b AUC:  0.74 +-(  0.01 ) (1376, 1)\n"
     ]
    },
    {
     "data": {
      "application/vnd.jupyter.widget-view+json": {
       "model_id": "f5457acd1813475ba2b5921b75e8f22b",
       "version_major": 2,
       "version_minor": 0
      },
      "text/plain": [
       "  0%|          | 0/20 [00:00<?, ?it/s]"
      ]
     },
     "metadata": {},
     "output_type": "display_data"
    },
    {
     "name": "stdout",
     "output_type": "stream",
     "text": [
      "Low_subj_spec_EPP_CING_right_b AUC:  0.75 +-(  0.01 ) (1376, 1)\n"
     ]
    },
    {
     "data": {
      "application/vnd.jupyter.widget-view+json": {
       "model_id": "9cefde538b1e4b96a1107fd2f6438379",
       "version_major": 2,
       "version_minor": 0
      },
      "text/plain": [
       "  0%|          | 0/20 [00:00<?, ?it/s]"
      ]
     },
     "metadata": {},
     "output_type": "display_data"
    },
    {
     "name": "stdout",
     "output_type": "stream",
     "text": [
      "Low_subj_spec_EPP_PARIET_left_b AUC:  0.76 +-(  0.0 ) (1376, 1)\n"
     ]
    },
    {
     "data": {
      "application/vnd.jupyter.widget-view+json": {
       "model_id": "42b72bafc63f4107983ae7a3dd509c59",
       "version_major": 2,
       "version_minor": 0
      },
      "text/plain": [
       "  0%|          | 0/20 [00:00<?, ?it/s]"
      ]
     },
     "metadata": {},
     "output_type": "display_data"
    },
    {
     "name": "stdout",
     "output_type": "stream",
     "text": [
      "Low_subj_spec_EPP_PARIET_right_b AUC:  0.77 +-(  0.0 ) (1376, 1)\n"
     ]
    },
    {
     "data": {
      "application/vnd.jupyter.widget-view+json": {
       "model_id": "199564fbc1ab4060bef5ddc7615e1915",
       "version_major": 2,
       "version_minor": 0
      },
      "text/plain": [
       "  0%|          | 0/20 [00:00<?, ?it/s]"
      ]
     },
     "metadata": {},
     "output_type": "display_data"
    },
    {
     "name": "stdout",
     "output_type": "stream",
     "text": [
      "Low_subj_spec_EPP_OCC_left_b AUC:  0.76 +-(  0.01 ) (1376, 1)\n"
     ]
    },
    {
     "data": {
      "application/vnd.jupyter.widget-view+json": {
       "model_id": "4c8a2046b31f40a2a8cad9a12d48503b",
       "version_major": 2,
       "version_minor": 0
      },
      "text/plain": [
       "  0%|          | 0/20 [00:00<?, ?it/s]"
      ]
     },
     "metadata": {},
     "output_type": "display_data"
    },
    {
     "name": "stdout",
     "output_type": "stream",
     "text": [
      "Low_subj_spec_EPP_OCC_right_b AUC:  0.77 +-(  0.01 ) (1376, 1)\n"
     ]
    },
    {
     "data": {
      "application/vnd.jupyter.widget-view+json": {
       "model_id": "e9e5cfd1bbd340d5ae4341b5e22bb838",
       "version_major": 2,
       "version_minor": 0
      },
      "text/plain": [
       "  0%|          | 0/20 [00:00<?, ?it/s]"
      ]
     },
     "metadata": {},
     "output_type": "display_data"
    },
    {
     "name": "stdout",
     "output_type": "stream",
     "text": [
      "Low_subj_spec_RPD_HPC_left_b AUC:  0.78 +-(  0.0 ) (1376, 1)\n"
     ]
    },
    {
     "data": {
      "application/vnd.jupyter.widget-view+json": {
       "model_id": "27159972e88d44f78ca2294d20f052f3",
       "version_major": 2,
       "version_minor": 0
      },
      "text/plain": [
       "  0%|          | 0/20 [00:00<?, ?it/s]"
      ]
     },
     "metadata": {},
     "output_type": "display_data"
    },
    {
     "name": "stdout",
     "output_type": "stream",
     "text": [
      "Low_subj_spec_RPD_HPC_right_b AUC:  0.75 +-(  0.0 ) (1376, 1)\n"
     ]
    },
    {
     "data": {
      "application/vnd.jupyter.widget-view+json": {
       "model_id": "47ff949c49a448e28ffdeb96b8e9f60c",
       "version_major": 2,
       "version_minor": 0
      },
      "text/plain": [
       "  0%|          | 0/20 [00:00<?, ?it/s]"
      ]
     },
     "metadata": {},
     "output_type": "display_data"
    },
    {
     "name": "stdout",
     "output_type": "stream",
     "text": [
      "Low_subj_spec_RPD_CING_left_b AUC:  0.68 +-(  0.01 ) (1376, 1)\n"
     ]
    },
    {
     "data": {
      "application/vnd.jupyter.widget-view+json": {
       "model_id": "4558de0e9f824cd3a9ae1e7c8d8590cc",
       "version_major": 2,
       "version_minor": 0
      },
      "text/plain": [
       "  0%|          | 0/20 [00:00<?, ?it/s]"
      ]
     },
     "metadata": {},
     "output_type": "display_data"
    },
    {
     "name": "stdout",
     "output_type": "stream",
     "text": [
      "Low_subj_spec_RPD_CING_right_b AUC:  0.68 +-(  0.02 ) (1376, 1)\n"
     ]
    },
    {
     "data": {
      "application/vnd.jupyter.widget-view+json": {
       "model_id": "cc62ba48c99d4a278044a49dab0ed903",
       "version_major": 2,
       "version_minor": 0
      },
      "text/plain": [
       "  0%|          | 0/20 [00:00<?, ?it/s]"
      ]
     },
     "metadata": {},
     "output_type": "display_data"
    },
    {
     "name": "stdout",
     "output_type": "stream",
     "text": [
      "Low_subj_spec_RPD_PARIET_left_b AUC:  0.68 +-(  0.01 ) (1376, 1)\n"
     ]
    },
    {
     "data": {
      "application/vnd.jupyter.widget-view+json": {
       "model_id": "87a64b31e75b4e83b70da7de8b7c0c80",
       "version_major": 2,
       "version_minor": 0
      },
      "text/plain": [
       "  0%|          | 0/20 [00:00<?, ?it/s]"
      ]
     },
     "metadata": {},
     "output_type": "display_data"
    },
    {
     "name": "stdout",
     "output_type": "stream",
     "text": [
      "Low_subj_spec_RPD_PARIET_right_b AUC:  0.76 +-(  0.02 ) (1376, 1)\n"
     ]
    },
    {
     "data": {
      "application/vnd.jupyter.widget-view+json": {
       "model_id": "73192a0a31ff43a0927a7422b281579e",
       "version_major": 2,
       "version_minor": 0
      },
      "text/plain": [
       "  0%|          | 0/20 [00:00<?, ?it/s]"
      ]
     },
     "metadata": {},
     "output_type": "display_data"
    },
    {
     "name": "stdout",
     "output_type": "stream",
     "text": [
      "Low_subj_spec_RPD_OCC_left_b AUC:  0.73 +-(  0.01 ) (1376, 1)\n"
     ]
    },
    {
     "data": {
      "application/vnd.jupyter.widget-view+json": {
       "model_id": "50c79e9daba949f7a8d831ddd1a4d2c8",
       "version_major": 2,
       "version_minor": 0
      },
      "text/plain": [
       "  0%|          | 0/20 [00:00<?, ?it/s]"
      ]
     },
     "metadata": {},
     "output_type": "display_data"
    },
    {
     "name": "stdout",
     "output_type": "stream",
     "text": [
      "Low_subj_spec_RPD_OCC_right_b AUC:  0.74 +-(  0.0 ) (1376, 1)\n"
     ]
    },
    {
     "data": {
      "application/vnd.jupyter.widget-view+json": {
       "model_id": "e337f55b3f034854bc6e52a5533cd260",
       "version_major": 2,
       "version_minor": 0
      },
      "text/plain": [
       "  0%|          | 0/20 [00:00<?, ?it/s]"
      ]
     },
     "metadata": {},
     "output_type": "display_data"
    },
    {
     "name": "stdout",
     "output_type": "stream",
     "text": [
      "Beta1_canon_EPP_HPC_left_b AUC:  0.81 +-(  0.01 ) (1376, 1)\n"
     ]
    },
    {
     "data": {
      "application/vnd.jupyter.widget-view+json": {
       "model_id": "bf56cb5454cd40a9a9e7f69b58b50ac9",
       "version_major": 2,
       "version_minor": 0
      },
      "text/plain": [
       "  0%|          | 0/20 [00:00<?, ?it/s]"
      ]
     },
     "metadata": {},
     "output_type": "display_data"
    },
    {
     "name": "stdout",
     "output_type": "stream",
     "text": [
      "Beta1_canon_EPP_HPC_right_b AUC:  0.8 +-(  0.01 ) (1376, 1)\n"
     ]
    },
    {
     "data": {
      "application/vnd.jupyter.widget-view+json": {
       "model_id": "44e7c7c28d5047ed954cbf1ae4146ed8",
       "version_major": 2,
       "version_minor": 0
      },
      "text/plain": [
       "  0%|          | 0/20 [00:00<?, ?it/s]"
      ]
     },
     "metadata": {},
     "output_type": "display_data"
    },
    {
     "name": "stdout",
     "output_type": "stream",
     "text": [
      "Beta1_canon_EPP_CING_left_b AUC:  0.79 +-(  0.0 ) (1376, 1)\n"
     ]
    },
    {
     "data": {
      "application/vnd.jupyter.widget-view+json": {
       "model_id": "d029cf9af37d41569263d9c8ccf54cc2",
       "version_major": 2,
       "version_minor": 0
      },
      "text/plain": [
       "  0%|          | 0/20 [00:00<?, ?it/s]"
      ]
     },
     "metadata": {},
     "output_type": "display_data"
    },
    {
     "name": "stdout",
     "output_type": "stream",
     "text": [
      "Beta1_canon_EPP_CING_right_b AUC:  0.73 +-(  0.0 ) (1376, 1)\n"
     ]
    },
    {
     "data": {
      "application/vnd.jupyter.widget-view+json": {
       "model_id": "6e688e45bbca4a7e8a1ee66f6ed183df",
       "version_major": 2,
       "version_minor": 0
      },
      "text/plain": [
       "  0%|          | 0/20 [00:00<?, ?it/s]"
      ]
     },
     "metadata": {},
     "output_type": "display_data"
    },
    {
     "name": "stdout",
     "output_type": "stream",
     "text": [
      "Beta1_canon_EPP_TEMP_left_b AUC:  0.74 +-(  0.01 ) (1376, 1)\n"
     ]
    },
    {
     "data": {
      "application/vnd.jupyter.widget-view+json": {
       "model_id": "431f54d476a24fd58832be99cdc410ef",
       "version_major": 2,
       "version_minor": 0
      },
      "text/plain": [
       "  0%|          | 0/20 [00:00<?, ?it/s]"
      ]
     },
     "metadata": {},
     "output_type": "display_data"
    },
    {
     "name": "stdout",
     "output_type": "stream",
     "text": [
      "Beta1_canon_EPP_TEMP_right_b AUC:  0.75 +-(  0.0 ) (1376, 1)\n"
     ]
    },
    {
     "data": {
      "application/vnd.jupyter.widget-view+json": {
       "model_id": "19340131451845208677b20096dcf7c8",
       "version_major": 2,
       "version_minor": 0
      },
      "text/plain": [
       "  0%|          | 0/20 [00:00<?, ?it/s]"
      ]
     },
     "metadata": {},
     "output_type": "display_data"
    },
    {
     "name": "stdout",
     "output_type": "stream",
     "text": [
      "Beta1_canon_EPP_PARIET_left_b AUC:  0.71 +-(  0.0 ) (1376, 1)\n"
     ]
    },
    {
     "data": {
      "application/vnd.jupyter.widget-view+json": {
       "model_id": "e434d09fee3e42609cdcb512933db3cb",
       "version_major": 2,
       "version_minor": 0
      },
      "text/plain": [
       "  0%|          | 0/20 [00:00<?, ?it/s]"
      ]
     },
     "metadata": {},
     "output_type": "display_data"
    },
    {
     "name": "stdout",
     "output_type": "stream",
     "text": [
      "Beta1_canon_EPP_PARIET_right_b AUC:  0.76 +-(  0.02 ) (1376, 1)\n"
     ]
    },
    {
     "data": {
      "application/vnd.jupyter.widget-view+json": {
       "model_id": "4831464c9b634a819668a1dfda7fab8c",
       "version_major": 2,
       "version_minor": 0
      },
      "text/plain": [
       "  0%|          | 0/20 [00:00<?, ?it/s]"
      ]
     },
     "metadata": {},
     "output_type": "display_data"
    },
    {
     "name": "stdout",
     "output_type": "stream",
     "text": [
      "Beta1_canon_EPP_OCC_left_b AUC:  0.74 +-(  0.01 ) (1376, 1)\n"
     ]
    },
    {
     "data": {
      "application/vnd.jupyter.widget-view+json": {
       "model_id": "890be47d85814218a353cd2914a5e78f",
       "version_major": 2,
       "version_minor": 0
      },
      "text/plain": [
       "  0%|          | 0/20 [00:00<?, ?it/s]"
      ]
     },
     "metadata": {},
     "output_type": "display_data"
    },
    {
     "name": "stdout",
     "output_type": "stream",
     "text": [
      "Beta1_canon_EPP_OCC_right_b AUC:  0.74 +-(  0.0 ) (1376, 1)\n"
     ]
    },
    {
     "data": {
      "application/vnd.jupyter.widget-view+json": {
       "model_id": "9e8b370735a64761b216bd07feb004c4",
       "version_major": 2,
       "version_minor": 0
      },
      "text/plain": [
       "  0%|          | 0/20 [00:00<?, ?it/s]"
      ]
     },
     "metadata": {},
     "output_type": "display_data"
    },
    {
     "name": "stdout",
     "output_type": "stream",
     "text": [
      "Beta1_canon_RPD_HPC_left_b AUC:  0.81 +-(  0.01 ) (1376, 1)\n"
     ]
    },
    {
     "data": {
      "application/vnd.jupyter.widget-view+json": {
       "model_id": "52c958d29d734dbc8b338bf4c48cabcf",
       "version_major": 2,
       "version_minor": 0
      },
      "text/plain": [
       "  0%|          | 0/20 [00:00<?, ?it/s]"
      ]
     },
     "metadata": {},
     "output_type": "display_data"
    },
    {
     "name": "stdout",
     "output_type": "stream",
     "text": [
      "Beta1_canon_RPD_HPC_right_b AUC:  0.8 +-(  0.01 ) (1376, 1)\n"
     ]
    },
    {
     "data": {
      "application/vnd.jupyter.widget-view+json": {
       "model_id": "b3308ff288da4d92acb6a21cad501f3e",
       "version_major": 2,
       "version_minor": 0
      },
      "text/plain": [
       "  0%|          | 0/20 [00:00<?, ?it/s]"
      ]
     },
     "metadata": {},
     "output_type": "display_data"
    },
    {
     "name": "stdout",
     "output_type": "stream",
     "text": [
      "Beta1_canon_RPD_CING_left_b AUC:  0.79 +-(  0.0 ) (1376, 1)\n"
     ]
    },
    {
     "data": {
      "application/vnd.jupyter.widget-view+json": {
       "model_id": "60a1e2c1954d4ec483915e943da9a99a",
       "version_major": 2,
       "version_minor": 0
      },
      "text/plain": [
       "  0%|          | 0/20 [00:00<?, ?it/s]"
      ]
     },
     "metadata": {},
     "output_type": "display_data"
    },
    {
     "name": "stdout",
     "output_type": "stream",
     "text": [
      "Beta1_canon_RPD_CING_right_b AUC:  0.73 +-(  0.0 ) (1376, 1)\n"
     ]
    },
    {
     "data": {
      "application/vnd.jupyter.widget-view+json": {
       "model_id": "985f449f02a842aab96441ce7fb9740d",
       "version_major": 2,
       "version_minor": 0
      },
      "text/plain": [
       "  0%|          | 0/20 [00:00<?, ?it/s]"
      ]
     },
     "metadata": {},
     "output_type": "display_data"
    },
    {
     "name": "stdout",
     "output_type": "stream",
     "text": [
      "Beta1_canon_RPD_TEMP_left_b AUC:  0.74 +-(  0.01 ) (1376, 1)\n"
     ]
    },
    {
     "data": {
      "application/vnd.jupyter.widget-view+json": {
       "model_id": "cc26036013f945c9816c13434d4df8f8",
       "version_major": 2,
       "version_minor": 0
      },
      "text/plain": [
       "  0%|          | 0/20 [00:00<?, ?it/s]"
      ]
     },
     "metadata": {},
     "output_type": "display_data"
    },
    {
     "name": "stdout",
     "output_type": "stream",
     "text": [
      "Beta1_canon_RPD_TEMP_right_b AUC:  0.75 +-(  0.0 ) (1376, 1)\n"
     ]
    },
    {
     "data": {
      "application/vnd.jupyter.widget-view+json": {
       "model_id": "c3bec20a8f01477a9bafc2277e5ee5a6",
       "version_major": 2,
       "version_minor": 0
      },
      "text/plain": [
       "  0%|          | 0/20 [00:00<?, ?it/s]"
      ]
     },
     "metadata": {},
     "output_type": "display_data"
    },
    {
     "name": "stdout",
     "output_type": "stream",
     "text": [
      "Beta1_canon_RPD_PARIET_left_b AUC:  0.71 +-(  0.0 ) (1376, 1)\n"
     ]
    },
    {
     "data": {
      "application/vnd.jupyter.widget-view+json": {
       "model_id": "f6cb3c3c403f4b99b09c14107f5bc799",
       "version_major": 2,
       "version_minor": 0
      },
      "text/plain": [
       "  0%|          | 0/20 [00:00<?, ?it/s]"
      ]
     },
     "metadata": {},
     "output_type": "display_data"
    },
    {
     "name": "stdout",
     "output_type": "stream",
     "text": [
      "Beta1_canon_RPD_PARIET_right_b AUC:  0.76 +-(  0.02 ) (1376, 1)\n"
     ]
    },
    {
     "data": {
      "application/vnd.jupyter.widget-view+json": {
       "model_id": "dbd109f3122949a08d78524e7bf024df",
       "version_major": 2,
       "version_minor": 0
      },
      "text/plain": [
       "  0%|          | 0/20 [00:00<?, ?it/s]"
      ]
     },
     "metadata": {},
     "output_type": "display_data"
    },
    {
     "name": "stdout",
     "output_type": "stream",
     "text": [
      "Beta1_canon_RPD_OCC_left_b AUC:  0.74 +-(  0.01 ) (1376, 1)\n"
     ]
    },
    {
     "data": {
      "application/vnd.jupyter.widget-view+json": {
       "model_id": "215557ed16cf4872bbc4c66ea13ae7ec",
       "version_major": 2,
       "version_minor": 0
      },
      "text/plain": [
       "  0%|          | 0/20 [00:00<?, ?it/s]"
      ]
     },
     "metadata": {},
     "output_type": "display_data"
    },
    {
     "name": "stdout",
     "output_type": "stream",
     "text": [
      "Beta1_canon_RPD_OCC_right_b AUC:  0.74 +-(  0.0 ) (1376, 1)\n"
     ]
    },
    {
     "data": {
      "application/vnd.jupyter.widget-view+json": {
       "model_id": "174da20f93054e8797fb1c55deaa495f",
       "version_major": 2,
       "version_minor": 0
      },
      "text/plain": [
       "  0%|          | 0/20 [00:00<?, ?it/s]"
      ]
     },
     "metadata": {},
     "output_type": "display_data"
    },
    {
     "name": "stdout",
     "output_type": "stream",
     "text": [
      "Beta2_canon_EPP_HPC_left_b AUC:  0.78 +-(  0.0 ) (1376, 1)\n"
     ]
    },
    {
     "data": {
      "application/vnd.jupyter.widget-view+json": {
       "model_id": "cff551b4af6742f08f9e45e45ca1fcad",
       "version_major": 2,
       "version_minor": 0
      },
      "text/plain": [
       "  0%|          | 0/20 [00:00<?, ?it/s]"
      ]
     },
     "metadata": {},
     "output_type": "display_data"
    },
    {
     "name": "stdout",
     "output_type": "stream",
     "text": [
      "Beta2_canon_EPP_HPC_right_b AUC:  0.75 +-(  0.0 ) (1376, 1)\n"
     ]
    },
    {
     "data": {
      "application/vnd.jupyter.widget-view+json": {
       "model_id": "4f0037732ca74a5898f1be3b0a97bb1f",
       "version_major": 2,
       "version_minor": 0
      },
      "text/plain": [
       "  0%|          | 0/20 [00:00<?, ?it/s]"
      ]
     },
     "metadata": {},
     "output_type": "display_data"
    },
    {
     "name": "stdout",
     "output_type": "stream",
     "text": [
      "Beta2_canon_EPP_CING_left_b AUC:  0.7 +-(  0.0 ) (1376, 1)\n"
     ]
    },
    {
     "data": {
      "application/vnd.jupyter.widget-view+json": {
       "model_id": "f74cbc92425249ec857b1967548e54cb",
       "version_major": 2,
       "version_minor": 0
      },
      "text/plain": [
       "  0%|          | 0/20 [00:00<?, ?it/s]"
      ]
     },
     "metadata": {},
     "output_type": "display_data"
    },
    {
     "name": "stdout",
     "output_type": "stream",
     "text": [
      "Beta2_canon_EPP_CING_right_b AUC:  0.69 +-(  0.01 ) (1376, 1)\n"
     ]
    },
    {
     "data": {
      "application/vnd.jupyter.widget-view+json": {
       "model_id": "0315bad9813149b9be6424d3783318c7",
       "version_major": 2,
       "version_minor": 0
      },
      "text/plain": [
       "  0%|          | 0/20 [00:00<?, ?it/s]"
      ]
     },
     "metadata": {},
     "output_type": "display_data"
    },
    {
     "name": "stdout",
     "output_type": "stream",
     "text": [
      "Beta2_canon_EPP_TEMP_left_b AUC:  0.75 +-(  0.0 ) (1376, 1)\n"
     ]
    },
    {
     "data": {
      "application/vnd.jupyter.widget-view+json": {
       "model_id": "299efc72968446389b017bc193b93c12",
       "version_major": 2,
       "version_minor": 0
      },
      "text/plain": [
       "  0%|          | 0/20 [00:00<?, ?it/s]"
      ]
     },
     "metadata": {},
     "output_type": "display_data"
    },
    {
     "name": "stdout",
     "output_type": "stream",
     "text": [
      "Beta2_canon_EPP_TEMP_right_b AUC:  0.7 +-(  0.01 ) (1376, 1)\n"
     ]
    },
    {
     "data": {
      "application/vnd.jupyter.widget-view+json": {
       "model_id": "2b5dbc522f2b4ce3aee4a5ce29a26cbb",
       "version_major": 2,
       "version_minor": 0
      },
      "text/plain": [
       "  0%|          | 0/20 [00:00<?, ?it/s]"
      ]
     },
     "metadata": {},
     "output_type": "display_data"
    },
    {
     "name": "stdout",
     "output_type": "stream",
     "text": [
      "Beta2_canon_EPP_PARIET_left_b AUC:  0.7 +-(  0.0 ) (1376, 1)\n"
     ]
    },
    {
     "data": {
      "application/vnd.jupyter.widget-view+json": {
       "model_id": "e27a9524bb1347609dc7db4a51552188",
       "version_major": 2,
       "version_minor": 0
      },
      "text/plain": [
       "  0%|          | 0/20 [00:00<?, ?it/s]"
      ]
     },
     "metadata": {},
     "output_type": "display_data"
    },
    {
     "name": "stdout",
     "output_type": "stream",
     "text": [
      "Beta2_canon_EPP_PARIET_right_b AUC:  0.74 +-(  0.02 ) (1376, 1)\n"
     ]
    },
    {
     "data": {
      "application/vnd.jupyter.widget-view+json": {
       "model_id": "6e228033493945fd9f8d71c2b387e025",
       "version_major": 2,
       "version_minor": 0
      },
      "text/plain": [
       "  0%|          | 0/20 [00:00<?, ?it/s]"
      ]
     },
     "metadata": {},
     "output_type": "display_data"
    },
    {
     "name": "stdout",
     "output_type": "stream",
     "text": [
      "Beta2_canon_EPP_OCC_left_b AUC:  0.75 +-(  0.01 ) (1376, 1)\n"
     ]
    },
    {
     "data": {
      "application/vnd.jupyter.widget-view+json": {
       "model_id": "41dde6e0a7ef4b1481a8ec53a0e8feb5",
       "version_major": 2,
       "version_minor": 0
      },
      "text/plain": [
       "  0%|          | 0/20 [00:00<?, ?it/s]"
      ]
     },
     "metadata": {},
     "output_type": "display_data"
    },
    {
     "name": "stdout",
     "output_type": "stream",
     "text": [
      "Beta2_canon_EPP_OCC_right_b AUC:  0.72 +-(  0.0 ) (1376, 1)\n"
     ]
    },
    {
     "data": {
      "application/vnd.jupyter.widget-view+json": {
       "model_id": "9da0d07545ae4cdf86e343ae47c4ac89",
       "version_major": 2,
       "version_minor": 0
      },
      "text/plain": [
       "  0%|          | 0/20 [00:00<?, ?it/s]"
      ]
     },
     "metadata": {},
     "output_type": "display_data"
    },
    {
     "name": "stdout",
     "output_type": "stream",
     "text": [
      "TF_ORB_right_b AUC:  0.69 +-(  0.01 ) (1376, 1)\n"
     ]
    },
    {
     "data": {
      "application/vnd.jupyter.widget-view+json": {
       "model_id": "e2c60e2c92364ea48464a6ef195d1812",
       "version_major": 2,
       "version_minor": 0
      },
      "text/plain": [
       "  0%|          | 0/20 [00:00<?, ?it/s]"
      ]
     },
     "metadata": {},
     "output_type": "display_data"
    },
    {
     "name": "stdout",
     "output_type": "stream",
     "text": [
      "TF_IFG_left_b AUC:  0.69 +-(  0.0 ) (1376, 1)\n"
     ]
    },
    {
     "data": {
      "application/vnd.jupyter.widget-view+json": {
       "model_id": "469cf9321568408bbefcc5cf71160e64",
       "version_major": 2,
       "version_minor": 0
      },
      "text/plain": [
       "  0%|          | 0/20 [00:00<?, ?it/s]"
      ]
     },
     "metadata": {},
     "output_type": "display_data"
    },
    {
     "name": "stdout",
     "output_type": "stream",
     "text": [
      "TF_IFG_right_b AUC:  0.68 +-(  0.0 ) (1376, 1)\n"
     ]
    },
    {
     "data": {
      "application/vnd.jupyter.widget-view+json": {
       "model_id": "a939f34d71f34095b3881ef7892dd0b9",
       "version_major": 2,
       "version_minor": 0
      },
      "text/plain": [
       "  0%|          | 0/20 [00:00<?, ?it/s]"
      ]
     },
     "metadata": {},
     "output_type": "display_data"
    },
    {
     "name": "stdout",
     "output_type": "stream",
     "text": [
      "TF_MFG_left_b AUC:  0.67 +-(  0.01 ) (1376, 1)\n"
     ]
    },
    {
     "data": {
      "application/vnd.jupyter.widget-view+json": {
       "model_id": "d3f57169911142569e0a51a8883b0cb7",
       "version_major": 2,
       "version_minor": 0
      },
      "text/plain": [
       "  0%|          | 0/20 [00:00<?, ?it/s]"
      ]
     },
     "metadata": {},
     "output_type": "display_data"
    },
    {
     "name": "stdout",
     "output_type": "stream",
     "text": [
      "TF_SFG_left_b AUC:  0.7 +-(  0.01 ) (1376, 1)\n"
     ]
    },
    {
     "data": {
      "application/vnd.jupyter.widget-view+json": {
       "model_id": "d5d03d3cbdab401198f8518485286618",
       "version_major": 2,
       "version_minor": 0
      },
      "text/plain": [
       "  0%|          | 0/20 [00:00<?, ?it/s]"
      ]
     },
     "metadata": {},
     "output_type": "display_data"
    },
    {
     "name": "stdout",
     "output_type": "stream",
     "text": [
      "TF_SFG_right_b AUC:  0.7 +-(  0.0 ) (1376, 1)\n"
     ]
    },
    {
     "data": {
      "application/vnd.jupyter.widget-view+json": {
       "model_id": "b86312e24d51457290d39c53ce7d3978",
       "version_major": 2,
       "version_minor": 0
      },
      "text/plain": [
       "  0%|          | 0/20 [00:00<?, ?it/s]"
      ]
     },
     "metadata": {},
     "output_type": "display_data"
    },
    {
     "name": "stdout",
     "output_type": "stream",
     "text": [
      "TF_HPC_left_b AUC:  0.66 +-(  0.0 ) (1376, 1)\n"
     ]
    },
    {
     "data": {
      "application/vnd.jupyter.widget-view+json": {
       "model_id": "81c4ffc5d5714d2680aa346c1f9b7153",
       "version_major": 2,
       "version_minor": 0
      },
      "text/plain": [
       "  0%|          | 0/20 [00:00<?, ?it/s]"
      ]
     },
     "metadata": {},
     "output_type": "display_data"
    },
    {
     "name": "stdout",
     "output_type": "stream",
     "text": [
      "TF_HPC_right_b AUC:  0.63 +-(  0.01 ) (1376, 1)\n"
     ]
    },
    {
     "data": {
      "application/vnd.jupyter.widget-view+json": {
       "model_id": "be099a42c6b14535a9219105cb1fc2d3",
       "version_major": 2,
       "version_minor": 0
      },
      "text/plain": [
       "  0%|          | 0/20 [00:00<?, ?it/s]"
      ]
     },
     "metadata": {},
     "output_type": "display_data"
    },
    {
     "name": "stdout",
     "output_type": "stream",
     "text": [
      "TF_INS_left_b AUC:  0.67 +-(  0.01 ) (1376, 1)\n"
     ]
    },
    {
     "data": {
      "application/vnd.jupyter.widget-view+json": {
       "model_id": "a9e322d8795e4c3d9fc571d2cab1404e",
       "version_major": 2,
       "version_minor": 0
      },
      "text/plain": [
       "  0%|          | 0/20 [00:00<?, ?it/s]"
      ]
     },
     "metadata": {},
     "output_type": "display_data"
    },
    {
     "name": "stdout",
     "output_type": "stream",
     "text": [
      "TF_INS_right_b AUC:  0.73 +-(  0.01 ) (1376, 1)\n"
     ]
    },
    {
     "data": {
      "application/vnd.jupyter.widget-view+json": {
       "model_id": "011e1f30b21f481288d1e395fd664d1a",
       "version_major": 2,
       "version_minor": 0
      },
      "text/plain": [
       "  0%|          | 0/20 [00:00<?, ?it/s]"
      ]
     },
     "metadata": {},
     "output_type": "display_data"
    },
    {
     "name": "stdout",
     "output_type": "stream",
     "text": [
      "IAF_SFG_right_b AUC:  0.69 +-(  0.0 ) (1376, 1)\n"
     ]
    }
   ],
   "source": [
    "\n",
    "gini_results_preliminar = {}\n",
    "gini_results_auc_preliminar = {}\n",
    "for outcome in outcomes_list:\n",
    "\n",
    "    frec_df_mmse = frec_df[[outcome, 'GINI']]\n",
    "    frec_df_mmse = frec_df_mmse.dropna()\n",
    "    frec_df_mmse.reset_index(drop=True)\n",
    "\n",
    "   \n",
    "    mediana = frec_df_mmse[outcome].median()\n",
    "    frec_df_mmse[outcome + '_b'] = (frec_df_mmse[outcome] > mediana).astype(int)\n",
    "    \n",
    "    y_frec_1A = frec_df_mmse[outcome + '_b']\n",
    "    X_frec_1A = frec_df_mmse[['GINI']]\n",
    "\n",
    "    scaler = MinMaxScaler([0.05, 0.95])\n",
    "    scaling_data = scaler.fit_transform(X_frec_1A)\n",
    "    X_frec_1A_s = pd.DataFrame(scaling_data, columns= X_frec_1A.columns, index = X_frec_1A.index)\n",
    "    \n",
    "    X_frec_1A =  X_frec_1A_s.copy()\n",
    "    \n",
    "    try:\n",
    "        r = classifier_ROC(X_frec_1A, y_frec_1A, False)\n",
    "        gini_results_preliminar[outcome] = r\n",
    "        gini_results_auc_preliminar[outcome] = r[2]\n",
    "    except:\n",
    "        print('Bad: ',outcome + '_b')"
   ]
  },
  {
   "cell_type": "code",
   "execution_count": 11,
   "id": "728941a1",
   "metadata": {},
   "outputs": [
    {
     "data": {
      "text/plain": [
       "['Beta1_canon_EPP_HPC_left',\n",
       " 'Beta1_canon_RPD_HPC_left',\n",
       " 'Beta1_canon_EPP_HPC_right',\n",
       " 'Beta1_canon_RPD_HPC_right',\n",
       " 'Beta1_canon_EPP_CING_left',\n",
       " 'Beta1_canon_RPD_CING_left',\n",
       " 'Alpha2_canon_EPP_HPC_left',\n",
       " 'Alpha2_canon_EPP_HPC_right',\n",
       " 'Alpha2_canon_RPD_HPC_left',\n",
       " 'Alpha2_canon_RPD_HPC_right']"
      ]
     },
     "execution_count": 11,
     "metadata": {},
     "output_type": "execute_result"
    }
   ],
   "source": [
    "top_10_keys_GINI_preliminar = heapq.nlargest(10, gini_results_auc_preliminar, key=gini_results_auc_preliminar.get)\n",
    "top_10_keys_GINI_preliminar"
   ]
  },
  {
   "cell_type": "code",
   "execution_count": 12,
   "id": "54cba849",
   "metadata": {},
   "outputs": [
    {
     "name": "stdout",
     "output_type": "stream",
     "text": [
      "XGB\n",
      "val. score: 0.7363636363636363\n",
      "test score: 0.7463768115942029\n",
      "best parameters: OrderedDict([('colsample_bytree', 1.0), ('eval_metric', 'auc'), ('learning_rate', 0.2), ('max_depth', 4), ('objective', 'binary:logistic'), ('reg_alpha', 0.1), ('reg_lambda', 0.1), ('subsample', 0.9)])\n",
      "---------------------------------------------\n",
      "\n"
     ]
    },
    {
     "data": {
      "application/vnd.jupyter.widget-view+json": {
       "model_id": "a8e1d805a5464c4a80e4a0e6386278ec",
       "version_major": 2,
       "version_minor": 0
      },
      "text/plain": [
       "  0%|          | 0/20 [00:00<?, ?it/s]"
      ]
     },
     "metadata": {},
     "output_type": "display_data"
    },
    {
     "name": "stdout",
     "output_type": "stream",
     "text": [
      "Beta1_canon_EPP_HPC_left_b AUC:  0.8 +-(  0.01 ) (1376, 1)\n",
      "XGB\n",
      "val. score: 0.7363636363636363\n",
      "test score: 0.7463768115942029\n",
      "best parameters: OrderedDict([('colsample_bytree', 1.0), ('eval_metric', 'auc'), ('learning_rate', 0.2), ('max_depth', 4), ('objective', 'binary:logistic'), ('reg_alpha', 0.1), ('reg_lambda', 0.1), ('subsample', 0.9)])\n",
      "---------------------------------------------\n",
      "\n"
     ]
    },
    {
     "data": {
      "application/vnd.jupyter.widget-view+json": {
       "model_id": "244c08f759fb4556abdd7ca5e9bd2804",
       "version_major": 2,
       "version_minor": 0
      },
      "text/plain": [
       "  0%|          | 0/20 [00:00<?, ?it/s]"
      ]
     },
     "metadata": {},
     "output_type": "display_data"
    },
    {
     "name": "stdout",
     "output_type": "stream",
     "text": [
      "Beta1_canon_RPD_HPC_left_b AUC:  0.8 +-(  0.01 ) (1376, 1)\n",
      "XGB\n",
      "val. score: 0.7309090909090908\n",
      "test score: 0.7753623188405797\n",
      "best parameters: OrderedDict([('colsample_bytree', 0.9), ('eval_metric', 'logloss'), ('learning_rate', 0.01), ('max_depth', 5), ('objective', 'binary:logistic'), ('reg_alpha', 1.0), ('reg_lambda', 0.1), ('subsample', 0.8)])\n",
      "---------------------------------------------\n",
      "\n"
     ]
    },
    {
     "data": {
      "application/vnd.jupyter.widget-view+json": {
       "model_id": "ccef5fa30cfb4cb09dee334ff798c65e",
       "version_major": 2,
       "version_minor": 0
      },
      "text/plain": [
       "  0%|          | 0/20 [00:00<?, ?it/s]"
      ]
     },
     "metadata": {},
     "output_type": "display_data"
    },
    {
     "name": "stdout",
     "output_type": "stream",
     "text": [
      "Beta1_canon_EPP_HPC_right_b AUC:  0.8 +-(  0.01 ) (1376, 1)\n",
      "XGB\n",
      "val. score: 0.7309090909090908\n",
      "test score: 0.7753623188405797\n",
      "best parameters: OrderedDict([('colsample_bytree', 0.9), ('eval_metric', 'logloss'), ('learning_rate', 0.01), ('max_depth', 5), ('objective', 'binary:logistic'), ('reg_alpha', 1.0), ('reg_lambda', 0.1), ('subsample', 0.8)])\n",
      "---------------------------------------------\n",
      "\n"
     ]
    },
    {
     "data": {
      "application/vnd.jupyter.widget-view+json": {
       "model_id": "95c7e4273e9241bba3f8b9fa344efb1f",
       "version_major": 2,
       "version_minor": 0
      },
      "text/plain": [
       "  0%|          | 0/20 [00:00<?, ?it/s]"
      ]
     },
     "metadata": {},
     "output_type": "display_data"
    },
    {
     "name": "stdout",
     "output_type": "stream",
     "text": [
      "Beta1_canon_RPD_HPC_right_b AUC:  0.8 +-(  0.01 ) (1376, 1)\n",
      "XGB\n",
      "val. score: 0.6827272727272727\n",
      "test score: 0.677536231884058\n",
      "best parameters: OrderedDict([('colsample_bytree', 0.8), ('eval_metric', 'logloss'), ('learning_rate', 0.01), ('max_depth', 5), ('objective', 'binary:logistic'), ('reg_alpha', 0.0), ('reg_lambda', 0.0), ('subsample', 0.8)])\n",
      "---------------------------------------------\n",
      "\n"
     ]
    },
    {
     "data": {
      "application/vnd.jupyter.widget-view+json": {
       "model_id": "3f282241cd764d46b6e14535ed01b0e8",
       "version_major": 2,
       "version_minor": 0
      },
      "text/plain": [
       "  0%|          | 0/20 [00:00<?, ?it/s]"
      ]
     },
     "metadata": {},
     "output_type": "display_data"
    },
    {
     "name": "stdout",
     "output_type": "stream",
     "text": [
      "Beta1_canon_EPP_CING_left_b AUC:  0.79 +-(  0.0 ) (1376, 1)\n",
      "XGB\n",
      "val. score: 0.6827272727272727\n",
      "test score: 0.677536231884058\n",
      "best parameters: OrderedDict([('colsample_bytree', 0.8), ('eval_metric', 'logloss'), ('learning_rate', 0.01), ('max_depth', 5), ('objective', 'binary:logistic'), ('reg_alpha', 0.0), ('reg_lambda', 0.0), ('subsample', 0.8)])\n",
      "---------------------------------------------\n",
      "\n"
     ]
    },
    {
     "data": {
      "application/vnd.jupyter.widget-view+json": {
       "model_id": "fd8afbd45d8b40ada42c1163b47249cf",
       "version_major": 2,
       "version_minor": 0
      },
      "text/plain": [
       "  0%|          | 0/20 [00:00<?, ?it/s]"
      ]
     },
     "metadata": {},
     "output_type": "display_data"
    },
    {
     "name": "stdout",
     "output_type": "stream",
     "text": [
      "Beta1_canon_RPD_CING_left_b AUC:  0.79 +-(  0.0 ) (1376, 1)\n",
      "XGB\n",
      "val. score: 0.7563636363636363\n",
      "test score: 0.7391304347826086\n",
      "best parameters: OrderedDict([('colsample_bytree', 0.9), ('eval_metric', 'error'), ('learning_rate', 0.01), ('max_depth', 3), ('objective', 'binary:logistic'), ('reg_alpha', 0.1), ('reg_lambda', 1.0), ('subsample', 0.8)])\n",
      "---------------------------------------------\n",
      "\n"
     ]
    },
    {
     "data": {
      "application/vnd.jupyter.widget-view+json": {
       "model_id": "3cba511485ac4203927d5a000cf73bf4",
       "version_major": 2,
       "version_minor": 0
      },
      "text/plain": [
       "  0%|          | 0/20 [00:00<?, ?it/s]"
      ]
     },
     "metadata": {},
     "output_type": "display_data"
    },
    {
     "name": "stdout",
     "output_type": "stream",
     "text": [
      "Alpha2_canon_EPP_HPC_left_b AUC:  0.77 +-(  0.01 ) (1376, 1)\n",
      "XGB\n",
      "val. score: 0.7318181818181818\n",
      "test score: 0.7536231884057971\n",
      "best parameters: OrderedDict([('colsample_bytree', 1.0), ('eval_metric', 'logloss'), ('learning_rate', 0.01), ('max_depth', 4), ('objective', 'binary:logistic'), ('reg_alpha', 0.1), ('reg_lambda', 1.0), ('subsample', 0.8)])\n",
      "---------------------------------------------\n",
      "\n"
     ]
    },
    {
     "data": {
      "application/vnd.jupyter.widget-view+json": {
       "model_id": "2541f115ab1d41989218e79a4fb70f65",
       "version_major": 2,
       "version_minor": 0
      },
      "text/plain": [
       "  0%|          | 0/20 [00:00<?, ?it/s]"
      ]
     },
     "metadata": {},
     "output_type": "display_data"
    },
    {
     "name": "stdout",
     "output_type": "stream",
     "text": [
      "Alpha2_canon_EPP_HPC_right_b AUC:  0.78 +-(  0.0 ) (1376, 1)\n",
      "XGB\n",
      "val. score: 0.7563636363636363\n",
      "test score: 0.7391304347826086\n",
      "best parameters: OrderedDict([('colsample_bytree', 0.9), ('eval_metric', 'error'), ('learning_rate', 0.01), ('max_depth', 3), ('objective', 'binary:logistic'), ('reg_alpha', 0.1), ('reg_lambda', 1.0), ('subsample', 0.8)])\n",
      "---------------------------------------------\n",
      "\n"
     ]
    },
    {
     "data": {
      "application/vnd.jupyter.widget-view+json": {
       "model_id": "141aa95011234be982baac729645996e",
       "version_major": 2,
       "version_minor": 0
      },
      "text/plain": [
       "  0%|          | 0/20 [00:00<?, ?it/s]"
      ]
     },
     "metadata": {},
     "output_type": "display_data"
    },
    {
     "name": "stdout",
     "output_type": "stream",
     "text": [
      "Alpha2_canon_RPD_HPC_left_b AUC:  0.77 +-(  0.01 ) (1376, 1)\n",
      "XGB\n",
      "val. score: 0.7318181818181818\n",
      "test score: 0.7536231884057971\n",
      "best parameters: OrderedDict([('colsample_bytree', 1.0), ('eval_metric', 'logloss'), ('learning_rate', 0.01), ('max_depth', 4), ('objective', 'binary:logistic'), ('reg_alpha', 0.1), ('reg_lambda', 1.0), ('subsample', 0.8)])\n",
      "---------------------------------------------\n",
      "\n"
     ]
    },
    {
     "data": {
      "application/vnd.jupyter.widget-view+json": {
       "model_id": "26193715c79c4ca5912fce5a562ad9bd",
       "version_major": 2,
       "version_minor": 0
      },
      "text/plain": [
       "  0%|          | 0/20 [00:00<?, ?it/s]"
      ]
     },
     "metadata": {},
     "output_type": "display_data"
    },
    {
     "name": "stdout",
     "output_type": "stream",
     "text": [
      "Alpha2_canon_RPD_HPC_right_b AUC:  0.78 +-(  0.0 ) (1376, 1)\n"
     ]
    }
   ],
   "source": [
    "gini_results = {}\n",
    "gini_results_auc = {}\n",
    "gini_paragram = {}\n",
    "for outcome in top_10_keys_GINI_preliminar:\n",
    "\n",
    "    frec_df_mmse = frec_df[[outcome, 'GINI']]\n",
    "    frec_df_mmse = frec_df_mmse.dropna()\n",
    "    frec_df_mmse.reset_index(drop=True)\n",
    "\n",
    "   \n",
    "    mediana = frec_df_mmse[outcome].median()\n",
    "    frec_df_mmse[outcome + '_b'] = (frec_df_mmse[outcome] > mediana).astype(int)\n",
    "    \n",
    "    y_frec_1A = frec_df_mmse[outcome + '_b']\n",
    "    X_frec_1A = frec_df_mmse[['GINI']]\n",
    "\n",
    "    scaler = MinMaxScaler([0.05, 0.95])\n",
    "    scaling_data = scaler.fit_transform(X_frec_1A)\n",
    "    X_frec_1A_s = pd.DataFrame(scaling_data, columns= X_frec_1A.columns, index = X_frec_1A.index)\n",
    "    \n",
    "    X_frec_1A =  X_frec_1A_s.copy()\n",
    "\n",
    "    \n",
    "    opt_XGB = SearchBestModel(X_frec_1A, y_frec_1A)\n",
    "    params_ = dict(opt_XGB.best_params_)\n",
    "\n",
    "\n",
    "    r = classifier_ROC(X_frec_1A, y_frec_1A, False, params_)\n",
    "    gini_results[outcome] = r\n",
    "    gini_results_auc[outcome] = r[2]\n",
    "    gini_paragram[outcome] = params_"
   ]
  },
  {
   "cell_type": "code",
   "execution_count": 13,
   "id": "032e4077",
   "metadata": {},
   "outputs": [
    {
     "data": {
      "text/plain": [
       "['Beta1_canon_EPP_HPC_left',\n",
       " 'Beta1_canon_RPD_HPC_left',\n",
       " 'Beta1_canon_EPP_HPC_right',\n",
       " 'Beta1_canon_RPD_HPC_right',\n",
       " 'Beta1_canon_EPP_CING_left',\n",
       " 'Beta1_canon_RPD_CING_left',\n",
       " 'Alpha2_canon_EPP_HPC_right',\n",
       " 'Alpha2_canon_RPD_HPC_right',\n",
       " 'Alpha2_canon_EPP_HPC_left',\n",
       " 'Alpha2_canon_RPD_HPC_left']"
      ]
     },
     "execution_count": 13,
     "metadata": {},
     "output_type": "execute_result"
    }
   ],
   "source": [
    "top_10_keys_GINI = heapq.nlargest(10, gini_results_auc, key=gini_results_auc.get)\n",
    "top_10_keys_GINI"
   ]
  },
  {
   "cell_type": "markdown",
   "id": "941af236",
   "metadata": {},
   "source": [
    "### Classification:  Gini + Age"
   ]
  },
  {
   "cell_type": "code",
   "execution_count": 14,
   "id": "6fe5be56",
   "metadata": {},
   "outputs": [
    {
     "data": {
      "application/vnd.jupyter.widget-view+json": {
       "model_id": "f5a2bd06eab54e948cac5d9eb8efd888",
       "version_major": 2,
       "version_minor": 0
      },
      "text/plain": [
       "  0%|          | 0/20 [00:00<?, ?it/s]"
      ]
     },
     "metadata": {},
     "output_type": "display_data"
    },
    {
     "name": "stdout",
     "output_type": "stream",
     "text": [
      "Delta_canon_EPP_ORB_left_b AUC:  0.68 +-(  0.01 ) (1376, 2)\n"
     ]
    },
    {
     "data": {
      "application/vnd.jupyter.widget-view+json": {
       "model_id": "a0aa22f9ce4447b1bcc0830ace32a376",
       "version_major": 2,
       "version_minor": 0
      },
      "text/plain": [
       "  0%|          | 0/20 [00:00<?, ?it/s]"
      ]
     },
     "metadata": {},
     "output_type": "display_data"
    },
    {
     "name": "stdout",
     "output_type": "stream",
     "text": [
      "Delta_canon_EPP_ORB_right_b AUC:  0.65 +-(  0.01 ) (1376, 2)\n"
     ]
    },
    {
     "data": {
      "application/vnd.jupyter.widget-view+json": {
       "model_id": "069a101af7564fdc9ced83fe9ba630e2",
       "version_major": 2,
       "version_minor": 0
      },
      "text/plain": [
       "  0%|          | 0/20 [00:00<?, ?it/s]"
      ]
     },
     "metadata": {},
     "output_type": "display_data"
    },
    {
     "name": "stdout",
     "output_type": "stream",
     "text": [
      "Delta_canon_EPP_IFG_left_b AUC:  0.71 +-(  0.01 ) (1376, 2)\n"
     ]
    },
    {
     "data": {
      "application/vnd.jupyter.widget-view+json": {
       "model_id": "d9c7c04fec7c444ba3e9128c11a95964",
       "version_major": 2,
       "version_minor": 0
      },
      "text/plain": [
       "  0%|          | 0/20 [00:00<?, ?it/s]"
      ]
     },
     "metadata": {},
     "output_type": "display_data"
    },
    {
     "name": "stdout",
     "output_type": "stream",
     "text": [
      "Delta_canon_EPP_IFG_right_b AUC:  0.63 +-(  0.01 ) (1376, 2)\n"
     ]
    },
    {
     "data": {
      "application/vnd.jupyter.widget-view+json": {
       "model_id": "9a010a784fc140bb8228c14093a67483",
       "version_major": 2,
       "version_minor": 0
      },
      "text/plain": [
       "  0%|          | 0/20 [00:00<?, ?it/s]"
      ]
     },
     "metadata": {},
     "output_type": "display_data"
    },
    {
     "name": "stdout",
     "output_type": "stream",
     "text": [
      "Delta_canon_EPP_MFG_left_b AUC:  0.6 +-(  0.01 ) (1376, 2)\n"
     ]
    },
    {
     "data": {
      "application/vnd.jupyter.widget-view+json": {
       "model_id": "8fe09d6076c24b98b42e747d96327a88",
       "version_major": 2,
       "version_minor": 0
      },
      "text/plain": [
       "  0%|          | 0/20 [00:00<?, ?it/s]"
      ]
     },
     "metadata": {},
     "output_type": "display_data"
    },
    {
     "name": "stdout",
     "output_type": "stream",
     "text": [
      "Delta_canon_EPP_SFG_left_b AUC:  0.66 +-(  0.01 ) (1376, 2)\n"
     ]
    },
    {
     "data": {
      "application/vnd.jupyter.widget-view+json": {
       "model_id": "df18536f9989408c80d2bde5077b12b7",
       "version_major": 2,
       "version_minor": 0
      },
      "text/plain": [
       "  0%|          | 0/20 [00:00<?, ?it/s]"
      ]
     },
     "metadata": {},
     "output_type": "display_data"
    },
    {
     "name": "stdout",
     "output_type": "stream",
     "text": [
      "Delta_canon_EPP_SFG_right_b AUC:  0.64 +-(  0.01 ) (1376, 2)\n"
     ]
    },
    {
     "data": {
      "application/vnd.jupyter.widget-view+json": {
       "model_id": "d670b4bb287045478b9873a3b2712f55",
       "version_major": 2,
       "version_minor": 0
      },
      "text/plain": [
       "  0%|          | 0/20 [00:00<?, ?it/s]"
      ]
     },
     "metadata": {},
     "output_type": "display_data"
    },
    {
     "name": "stdout",
     "output_type": "stream",
     "text": [
      "Delta_canon_EPP_HPC_left_b AUC:  0.71 +-(  0.01 ) (1376, 2)\n"
     ]
    },
    {
     "data": {
      "application/vnd.jupyter.widget-view+json": {
       "model_id": "52caeed9d5144e9f8fab006f9c54e224",
       "version_major": 2,
       "version_minor": 0
      },
      "text/plain": [
       "  0%|          | 0/20 [00:00<?, ?it/s]"
      ]
     },
     "metadata": {},
     "output_type": "display_data"
    },
    {
     "name": "stdout",
     "output_type": "stream",
     "text": [
      "Delta_canon_EPP_HPC_right_b AUC:  0.66 +-(  0.01 ) (1376, 2)\n"
     ]
    },
    {
     "data": {
      "application/vnd.jupyter.widget-view+json": {
       "model_id": "74f16b41535a4fcabaa9865753f175b1",
       "version_major": 2,
       "version_minor": 0
      },
      "text/plain": [
       "  0%|          | 0/20 [00:00<?, ?it/s]"
      ]
     },
     "metadata": {},
     "output_type": "display_data"
    },
    {
     "name": "stdout",
     "output_type": "stream",
     "text": [
      "Delta_canon_EPP_INS_left_b AUC:  0.64 +-(  0.01 ) (1376, 2)\n"
     ]
    },
    {
     "data": {
      "application/vnd.jupyter.widget-view+json": {
       "model_id": "5a495597d85f47dc866346fb4e4077c6",
       "version_major": 2,
       "version_minor": 0
      },
      "text/plain": [
       "  0%|          | 0/20 [00:00<?, ?it/s]"
      ]
     },
     "metadata": {},
     "output_type": "display_data"
    },
    {
     "name": "stdout",
     "output_type": "stream",
     "text": [
      "Delta_canon_EPP_INS_right_b AUC:  0.66 +-(  0.01 ) (1376, 2)\n"
     ]
    },
    {
     "data": {
      "application/vnd.jupyter.widget-view+json": {
       "model_id": "ce0dcd6173ac473ba18521a992fdb77d",
       "version_major": 2,
       "version_minor": 0
      },
      "text/plain": [
       "  0%|          | 0/20 [00:00<?, ?it/s]"
      ]
     },
     "metadata": {},
     "output_type": "display_data"
    },
    {
     "name": "stdout",
     "output_type": "stream",
     "text": [
      "Delta_canon_RPD_ORB_left_b AUC:  0.68 +-(  0.01 ) (1376, 2)\n"
     ]
    },
    {
     "data": {
      "application/vnd.jupyter.widget-view+json": {
       "model_id": "cd7feead10114547980b619f39486aa5",
       "version_major": 2,
       "version_minor": 0
      },
      "text/plain": [
       "  0%|          | 0/20 [00:00<?, ?it/s]"
      ]
     },
     "metadata": {},
     "output_type": "display_data"
    },
    {
     "name": "stdout",
     "output_type": "stream",
     "text": [
      "Delta_canon_RPD_ORB_right_b AUC:  0.65 +-(  0.01 ) (1376, 2)\n"
     ]
    },
    {
     "data": {
      "application/vnd.jupyter.widget-view+json": {
       "model_id": "465f7ef1acc44caa9eecf1779c5161b3",
       "version_major": 2,
       "version_minor": 0
      },
      "text/plain": [
       "  0%|          | 0/20 [00:00<?, ?it/s]"
      ]
     },
     "metadata": {},
     "output_type": "display_data"
    },
    {
     "name": "stdout",
     "output_type": "stream",
     "text": [
      "Delta_canon_RPD_IFG_left_b AUC:  0.71 +-(  0.01 ) (1376, 2)\n"
     ]
    },
    {
     "data": {
      "application/vnd.jupyter.widget-view+json": {
       "model_id": "595d2310438849cb96d46eb27406d242",
       "version_major": 2,
       "version_minor": 0
      },
      "text/plain": [
       "  0%|          | 0/20 [00:00<?, ?it/s]"
      ]
     },
     "metadata": {},
     "output_type": "display_data"
    },
    {
     "name": "stdout",
     "output_type": "stream",
     "text": [
      "Delta_canon_RPD_IFG_right_b AUC:  0.63 +-(  0.01 ) (1376, 2)\n"
     ]
    },
    {
     "data": {
      "application/vnd.jupyter.widget-view+json": {
       "model_id": "50a0bbcecaa8423da5dcf1c0fc7d88f5",
       "version_major": 2,
       "version_minor": 0
      },
      "text/plain": [
       "  0%|          | 0/20 [00:00<?, ?it/s]"
      ]
     },
     "metadata": {},
     "output_type": "display_data"
    },
    {
     "name": "stdout",
     "output_type": "stream",
     "text": [
      "Delta_canon_RPD_MFG_left_b AUC:  0.6 +-(  0.01 ) (1376, 2)\n"
     ]
    },
    {
     "data": {
      "application/vnd.jupyter.widget-view+json": {
       "model_id": "964ef42d6aa241648be8909841dfed65",
       "version_major": 2,
       "version_minor": 0
      },
      "text/plain": [
       "  0%|          | 0/20 [00:00<?, ?it/s]"
      ]
     },
     "metadata": {},
     "output_type": "display_data"
    },
    {
     "name": "stdout",
     "output_type": "stream",
     "text": [
      "Delta_canon_RPD_SFG_left_b AUC:  0.66 +-(  0.01 ) (1376, 2)\n"
     ]
    },
    {
     "data": {
      "application/vnd.jupyter.widget-view+json": {
       "model_id": "3c6fad20ce6d4f3a892935a03fdec541",
       "version_major": 2,
       "version_minor": 0
      },
      "text/plain": [
       "  0%|          | 0/20 [00:00<?, ?it/s]"
      ]
     },
     "metadata": {},
     "output_type": "display_data"
    },
    {
     "name": "stdout",
     "output_type": "stream",
     "text": [
      "Delta_canon_RPD_SFG_right_b AUC:  0.64 +-(  0.01 ) (1376, 2)\n"
     ]
    },
    {
     "data": {
      "application/vnd.jupyter.widget-view+json": {
       "model_id": "b59bc67348894642a693453673848917",
       "version_major": 2,
       "version_minor": 0
      },
      "text/plain": [
       "  0%|          | 0/20 [00:00<?, ?it/s]"
      ]
     },
     "metadata": {},
     "output_type": "display_data"
    },
    {
     "name": "stdout",
     "output_type": "stream",
     "text": [
      "Delta_canon_RPD_HPC_left_b AUC:  0.71 +-(  0.01 ) (1376, 2)\n"
     ]
    },
    {
     "data": {
      "application/vnd.jupyter.widget-view+json": {
       "model_id": "174662cf8df143be8417a9a498e39442",
       "version_major": 2,
       "version_minor": 0
      },
      "text/plain": [
       "  0%|          | 0/20 [00:00<?, ?it/s]"
      ]
     },
     "metadata": {},
     "output_type": "display_data"
    },
    {
     "name": "stdout",
     "output_type": "stream",
     "text": [
      "Delta_canon_RPD_HPC_right_b AUC:  0.66 +-(  0.01 ) (1376, 2)\n"
     ]
    },
    {
     "data": {
      "application/vnd.jupyter.widget-view+json": {
       "model_id": "d26ed5554d754cfa93392d85a8557b7e",
       "version_major": 2,
       "version_minor": 0
      },
      "text/plain": [
       "  0%|          | 0/20 [00:00<?, ?it/s]"
      ]
     },
     "metadata": {},
     "output_type": "display_data"
    },
    {
     "name": "stdout",
     "output_type": "stream",
     "text": [
      "Delta_canon_RPD_INS_left_b AUC:  0.64 +-(  0.01 ) (1376, 2)\n"
     ]
    },
    {
     "data": {
      "application/vnd.jupyter.widget-view+json": {
       "model_id": "30a942525b5d47a991875fa5e8035e02",
       "version_major": 2,
       "version_minor": 0
      },
      "text/plain": [
       "  0%|          | 0/20 [00:00<?, ?it/s]"
      ]
     },
     "metadata": {},
     "output_type": "display_data"
    },
    {
     "name": "stdout",
     "output_type": "stream",
     "text": [
      "Delta_canon_RPD_INS_right_b AUC:  0.66 +-(  0.01 ) (1376, 2)\n"
     ]
    },
    {
     "data": {
      "application/vnd.jupyter.widget-view+json": {
       "model_id": "fa283738fbde422bbcbdfc9a7eafc525",
       "version_major": 2,
       "version_minor": 0
      },
      "text/plain": [
       "  0%|          | 0/20 [00:00<?, ?it/s]"
      ]
     },
     "metadata": {},
     "output_type": "display_data"
    },
    {
     "name": "stdout",
     "output_type": "stream",
     "text": [
      "Delta_subj_spec_EPP_ORB_left_b AUC:  0.71 +-(  0.01 ) (1376, 2)\n"
     ]
    },
    {
     "data": {
      "application/vnd.jupyter.widget-view+json": {
       "model_id": "3cf21167ec1d4c14b5b23af9ff253323",
       "version_major": 2,
       "version_minor": 0
      },
      "text/plain": [
       "  0%|          | 0/20 [00:00<?, ?it/s]"
      ]
     },
     "metadata": {},
     "output_type": "display_data"
    },
    {
     "name": "stdout",
     "output_type": "stream",
     "text": [
      "Delta_subj_spec_EPP_ORB_right_b AUC:  0.64 +-(  0.01 ) (1376, 2)\n"
     ]
    },
    {
     "data": {
      "application/vnd.jupyter.widget-view+json": {
       "model_id": "5f2b0565c4ab48a893fb4af59805514f",
       "version_major": 2,
       "version_minor": 0
      },
      "text/plain": [
       "  0%|          | 0/20 [00:00<?, ?it/s]"
      ]
     },
     "metadata": {},
     "output_type": "display_data"
    },
    {
     "name": "stdout",
     "output_type": "stream",
     "text": [
      "Delta_subj_spec_EPP_IFG_left_b AUC:  0.72 +-(  0.01 ) (1376, 2)\n"
     ]
    },
    {
     "data": {
      "application/vnd.jupyter.widget-view+json": {
       "model_id": "eaed78dfb64d46f796373343dfb07a5b",
       "version_major": 2,
       "version_minor": 0
      },
      "text/plain": [
       "  0%|          | 0/20 [00:00<?, ?it/s]"
      ]
     },
     "metadata": {},
     "output_type": "display_data"
    },
    {
     "name": "stdout",
     "output_type": "stream",
     "text": [
      "Delta_subj_spec_EPP_IFG_right_b AUC:  0.68 +-(  0.01 ) (1376, 2)\n"
     ]
    },
    {
     "data": {
      "application/vnd.jupyter.widget-view+json": {
       "model_id": "a402970eda9948b0b7f02feb157d0790",
       "version_major": 2,
       "version_minor": 0
      },
      "text/plain": [
       "  0%|          | 0/20 [00:00<?, ?it/s]"
      ]
     },
     "metadata": {},
     "output_type": "display_data"
    },
    {
     "name": "stdout",
     "output_type": "stream",
     "text": [
      "Delta_subj_spec_EPP_MFG_left_b AUC:  0.6 +-(  0.01 ) (1376, 2)\n"
     ]
    },
    {
     "data": {
      "application/vnd.jupyter.widget-view+json": {
       "model_id": "c1667b658e3c4fc0af6526c9557339d5",
       "version_major": 2,
       "version_minor": 0
      },
      "text/plain": [
       "  0%|          | 0/20 [00:00<?, ?it/s]"
      ]
     },
     "metadata": {},
     "output_type": "display_data"
    },
    {
     "name": "stdout",
     "output_type": "stream",
     "text": [
      "Delta_subj_spec_EPP_SFG_left_b AUC:  0.64 +-(  0.01 ) (1376, 2)\n"
     ]
    },
    {
     "data": {
      "application/vnd.jupyter.widget-view+json": {
       "model_id": "60f5bdb2772742189b83b8a58f538838",
       "version_major": 2,
       "version_minor": 0
      },
      "text/plain": [
       "  0%|          | 0/20 [00:00<?, ?it/s]"
      ]
     },
     "metadata": {},
     "output_type": "display_data"
    },
    {
     "name": "stdout",
     "output_type": "stream",
     "text": [
      "Delta_subj_spec_EPP_HPC_left_b AUC:  0.69 +-(  0.01 ) (1376, 2)\n"
     ]
    },
    {
     "data": {
      "application/vnd.jupyter.widget-view+json": {
       "model_id": "b6a6110515444208b8b9e0ac97f1b469",
       "version_major": 2,
       "version_minor": 0
      },
      "text/plain": [
       "  0%|          | 0/20 [00:00<?, ?it/s]"
      ]
     },
     "metadata": {},
     "output_type": "display_data"
    },
    {
     "name": "stdout",
     "output_type": "stream",
     "text": [
      "Delta_subj_spec_EPP_HPC_right_b AUC:  0.67 +-(  0.01 ) (1376, 2)\n"
     ]
    },
    {
     "data": {
      "application/vnd.jupyter.widget-view+json": {
       "model_id": "30ef60c74cbe48e7891c2913aed35e72",
       "version_major": 2,
       "version_minor": 0
      },
      "text/plain": [
       "  0%|          | 0/20 [00:00<?, ?it/s]"
      ]
     },
     "metadata": {},
     "output_type": "display_data"
    },
    {
     "name": "stdout",
     "output_type": "stream",
     "text": [
      "Delta_subj_spec_EPP_INS_left_b AUC:  0.69 +-(  0.01 ) (1376, 2)\n"
     ]
    },
    {
     "data": {
      "application/vnd.jupyter.widget-view+json": {
       "model_id": "577d44d96366423fac82fa7d1f004173",
       "version_major": 2,
       "version_minor": 0
      },
      "text/plain": [
       "  0%|          | 0/20 [00:00<?, ?it/s]"
      ]
     },
     "metadata": {},
     "output_type": "display_data"
    },
    {
     "name": "stdout",
     "output_type": "stream",
     "text": [
      "Delta_subj_spec_EPP_INS_right_b AUC:  0.68 +-(  0.01 ) (1376, 2)\n"
     ]
    },
    {
     "data": {
      "application/vnd.jupyter.widget-view+json": {
       "model_id": "cc88249817ac47e7aa24e84c2af4da45",
       "version_major": 2,
       "version_minor": 0
      },
      "text/plain": [
       "  0%|          | 0/20 [00:00<?, ?it/s]"
      ]
     },
     "metadata": {},
     "output_type": "display_data"
    },
    {
     "name": "stdout",
     "output_type": "stream",
     "text": [
      "Delta_subj_spec_RPD_ORB_left_b AUC:  0.71 +-(  0.01 ) (1376, 2)\n"
     ]
    },
    {
     "data": {
      "application/vnd.jupyter.widget-view+json": {
       "model_id": "c4b1d6bc409d420b981e9a4a52b291af",
       "version_major": 2,
       "version_minor": 0
      },
      "text/plain": [
       "  0%|          | 0/20 [00:00<?, ?it/s]"
      ]
     },
     "metadata": {},
     "output_type": "display_data"
    },
    {
     "name": "stdout",
     "output_type": "stream",
     "text": [
      "Delta_subj_spec_RPD_ORB_right_b AUC:  0.64 +-(  0.01 ) (1376, 2)\n"
     ]
    },
    {
     "data": {
      "application/vnd.jupyter.widget-view+json": {
       "model_id": "adc07e350f444f08ac9cd487dd86f2a2",
       "version_major": 2,
       "version_minor": 0
      },
      "text/plain": [
       "  0%|          | 0/20 [00:00<?, ?it/s]"
      ]
     },
     "metadata": {},
     "output_type": "display_data"
    },
    {
     "name": "stdout",
     "output_type": "stream",
     "text": [
      "Delta_subj_spec_RPD_IFG_left_b AUC:  0.72 +-(  0.01 ) (1376, 2)\n"
     ]
    },
    {
     "data": {
      "application/vnd.jupyter.widget-view+json": {
       "model_id": "adaa6c48c7af4526becbdc5365203263",
       "version_major": 2,
       "version_minor": 0
      },
      "text/plain": [
       "  0%|          | 0/20 [00:00<?, ?it/s]"
      ]
     },
     "metadata": {},
     "output_type": "display_data"
    },
    {
     "name": "stdout",
     "output_type": "stream",
     "text": [
      "Delta_subj_spec_RPD_IFG_right_b AUC:  0.68 +-(  0.01 ) (1376, 2)\n"
     ]
    },
    {
     "data": {
      "application/vnd.jupyter.widget-view+json": {
       "model_id": "8656e3f099dd47dca934a0bbd5ffdc4a",
       "version_major": 2,
       "version_minor": 0
      },
      "text/plain": [
       "  0%|          | 0/20 [00:00<?, ?it/s]"
      ]
     },
     "metadata": {},
     "output_type": "display_data"
    },
    {
     "name": "stdout",
     "output_type": "stream",
     "text": [
      "Delta_subj_spec_RPD_MFG_left_b AUC:  0.6 +-(  0.01 ) (1376, 2)\n"
     ]
    },
    {
     "data": {
      "application/vnd.jupyter.widget-view+json": {
       "model_id": "debc7da08e41480f81233330bd2b194a",
       "version_major": 2,
       "version_minor": 0
      },
      "text/plain": [
       "  0%|          | 0/20 [00:00<?, ?it/s]"
      ]
     },
     "metadata": {},
     "output_type": "display_data"
    },
    {
     "name": "stdout",
     "output_type": "stream",
     "text": [
      "Delta_subj_spec_RPD_SFG_left_b AUC:  0.64 +-(  0.01 ) (1376, 2)\n"
     ]
    },
    {
     "data": {
      "application/vnd.jupyter.widget-view+json": {
       "model_id": "6cc27c747a0c4f17bd057a760375f605",
       "version_major": 2,
       "version_minor": 0
      },
      "text/plain": [
       "  0%|          | 0/20 [00:00<?, ?it/s]"
      ]
     },
     "metadata": {},
     "output_type": "display_data"
    },
    {
     "name": "stdout",
     "output_type": "stream",
     "text": [
      "Delta_subj_spec_RPD_HPC_left_b AUC:  0.69 +-(  0.01 ) (1376, 2)\n"
     ]
    },
    {
     "data": {
      "application/vnd.jupyter.widget-view+json": {
       "model_id": "7a68e59c93bf47e697e0a457f399f9b2",
       "version_major": 2,
       "version_minor": 0
      },
      "text/plain": [
       "  0%|          | 0/20 [00:00<?, ?it/s]"
      ]
     },
     "metadata": {},
     "output_type": "display_data"
    },
    {
     "name": "stdout",
     "output_type": "stream",
     "text": [
      "Delta_subj_spec_RPD_HPC_right_b AUC:  0.67 +-(  0.01 ) (1376, 2)\n"
     ]
    },
    {
     "data": {
      "application/vnd.jupyter.widget-view+json": {
       "model_id": "59038c5c31bc4142b32538ed0584428c",
       "version_major": 2,
       "version_minor": 0
      },
      "text/plain": [
       "  0%|          | 0/20 [00:00<?, ?it/s]"
      ]
     },
     "metadata": {},
     "output_type": "display_data"
    },
    {
     "name": "stdout",
     "output_type": "stream",
     "text": [
      "Delta_subj_spec_RPD_INS_left_b AUC:  0.69 +-(  0.01 ) (1376, 2)\n"
     ]
    },
    {
     "data": {
      "application/vnd.jupyter.widget-view+json": {
       "model_id": "6b4bd6cec7674934918dcc764eca85e2",
       "version_major": 2,
       "version_minor": 0
      },
      "text/plain": [
       "  0%|          | 0/20 [00:00<?, ?it/s]"
      ]
     },
     "metadata": {},
     "output_type": "display_data"
    },
    {
     "name": "stdout",
     "output_type": "stream",
     "text": [
      "Delta_subj_spec_RPD_INS_right_b AUC:  0.68 +-(  0.01 ) (1376, 2)\n"
     ]
    },
    {
     "data": {
      "application/vnd.jupyter.widget-view+json": {
       "model_id": "e4b4e80062af4b5296e80f65c070cd0b",
       "version_major": 2,
       "version_minor": 0
      },
      "text/plain": [
       "  0%|          | 0/20 [00:00<?, ?it/s]"
      ]
     },
     "metadata": {},
     "output_type": "display_data"
    },
    {
     "name": "stdout",
     "output_type": "stream",
     "text": [
      "Theta_canon_EPP_ORB_left_b AUC:  0.72 +-(  0.01 ) (1376, 2)\n"
     ]
    },
    {
     "data": {
      "application/vnd.jupyter.widget-view+json": {
       "model_id": "7051653d70c84192a13eb701a8153673",
       "version_major": 2,
       "version_minor": 0
      },
      "text/plain": [
       "  0%|          | 0/20 [00:00<?, ?it/s]"
      ]
     },
     "metadata": {},
     "output_type": "display_data"
    },
    {
     "name": "stdout",
     "output_type": "stream",
     "text": [
      "Theta_canon_EPP_ORB_right_b AUC:  0.69 +-(  0.01 ) (1376, 2)\n"
     ]
    },
    {
     "data": {
      "application/vnd.jupyter.widget-view+json": {
       "model_id": "3dd1f1d8a33e4e5db613794978271b8b",
       "version_major": 2,
       "version_minor": 0
      },
      "text/plain": [
       "  0%|          | 0/20 [00:00<?, ?it/s]"
      ]
     },
     "metadata": {},
     "output_type": "display_data"
    },
    {
     "name": "stdout",
     "output_type": "stream",
     "text": [
      "Theta_canon_EPP_IFG_left_b AUC:  0.72 +-(  0.01 ) (1376, 2)\n"
     ]
    },
    {
     "data": {
      "application/vnd.jupyter.widget-view+json": {
       "model_id": "948285def33f44e2a89b6c818760bab6",
       "version_major": 2,
       "version_minor": 0
      },
      "text/plain": [
       "  0%|          | 0/20 [00:00<?, ?it/s]"
      ]
     },
     "metadata": {},
     "output_type": "display_data"
    },
    {
     "name": "stdout",
     "output_type": "stream",
     "text": [
      "Theta_canon_EPP_MFG_left_b AUC:  0.59 +-(  0.01 ) (1376, 2)\n"
     ]
    },
    {
     "data": {
      "application/vnd.jupyter.widget-view+json": {
       "model_id": "e13c7a9fe2a74ef2bfbf6cb8f4699655",
       "version_major": 2,
       "version_minor": 0
      },
      "text/plain": [
       "  0%|          | 0/20 [00:00<?, ?it/s]"
      ]
     },
     "metadata": {},
     "output_type": "display_data"
    },
    {
     "name": "stdout",
     "output_type": "stream",
     "text": [
      "Theta_canon_EPP_SFG_left_b AUC:  0.65 +-(  0.01 ) (1376, 2)\n"
     ]
    },
    {
     "data": {
      "application/vnd.jupyter.widget-view+json": {
       "model_id": "d76c6f26116c430f9337b569a024c3fb",
       "version_major": 2,
       "version_minor": 0
      },
      "text/plain": [
       "  0%|          | 0/20 [00:00<?, ?it/s]"
      ]
     },
     "metadata": {},
     "output_type": "display_data"
    },
    {
     "name": "stdout",
     "output_type": "stream",
     "text": [
      "Theta_canon_EPP_HPC_left_b AUC:  0.75 +-(  0.0 ) (1376, 2)\n"
     ]
    },
    {
     "data": {
      "application/vnd.jupyter.widget-view+json": {
       "model_id": "21ed543ae2d747e4812b419b0c45d9a3",
       "version_major": 2,
       "version_minor": 0
      },
      "text/plain": [
       "  0%|          | 0/20 [00:00<?, ?it/s]"
      ]
     },
     "metadata": {},
     "output_type": "display_data"
    },
    {
     "name": "stdout",
     "output_type": "stream",
     "text": [
      "Theta_canon_EPP_HPC_right_b AUC:  0.73 +-(  0.01 ) (1376, 2)\n"
     ]
    },
    {
     "data": {
      "application/vnd.jupyter.widget-view+json": {
       "model_id": "42492b2bc44b47b8b80e00beed746505",
       "version_major": 2,
       "version_minor": 0
      },
      "text/plain": [
       "  0%|          | 0/20 [00:00<?, ?it/s]"
      ]
     },
     "metadata": {},
     "output_type": "display_data"
    },
    {
     "name": "stdout",
     "output_type": "stream",
     "text": [
      "Theta_canon_EPP_INS_left_b AUC:  0.77 +-(  0.01 ) (1376, 2)\n"
     ]
    },
    {
     "data": {
      "application/vnd.jupyter.widget-view+json": {
       "model_id": "31a0b42201ef467291b6724c344e0ddf",
       "version_major": 2,
       "version_minor": 0
      },
      "text/plain": [
       "  0%|          | 0/20 [00:00<?, ?it/s]"
      ]
     },
     "metadata": {},
     "output_type": "display_data"
    },
    {
     "name": "stdout",
     "output_type": "stream",
     "text": [
      "Theta_canon_EPP_INS_right_b AUC:  0.75 +-(  0.01 ) (1376, 2)\n"
     ]
    },
    {
     "data": {
      "application/vnd.jupyter.widget-view+json": {
       "model_id": "1783c0a501794a10a9a0675a66fce0f3",
       "version_major": 2,
       "version_minor": 0
      },
      "text/plain": [
       "  0%|          | 0/20 [00:00<?, ?it/s]"
      ]
     },
     "metadata": {},
     "output_type": "display_data"
    },
    {
     "name": "stdout",
     "output_type": "stream",
     "text": [
      "Theta_canon_RPD_ORB_left_b AUC:  0.72 +-(  0.01 ) (1376, 2)\n"
     ]
    },
    {
     "data": {
      "application/vnd.jupyter.widget-view+json": {
       "model_id": "f3e59e2969c84d3082c84ab597134234",
       "version_major": 2,
       "version_minor": 0
      },
      "text/plain": [
       "  0%|          | 0/20 [00:00<?, ?it/s]"
      ]
     },
     "metadata": {},
     "output_type": "display_data"
    },
    {
     "name": "stdout",
     "output_type": "stream",
     "text": [
      "Theta_canon_RPD_ORB_right_b AUC:  0.69 +-(  0.01 ) (1376, 2)\n"
     ]
    },
    {
     "data": {
      "application/vnd.jupyter.widget-view+json": {
       "model_id": "7d305ace4bf545aebe1c18144a13ad64",
       "version_major": 2,
       "version_minor": 0
      },
      "text/plain": [
       "  0%|          | 0/20 [00:00<?, ?it/s]"
      ]
     },
     "metadata": {},
     "output_type": "display_data"
    },
    {
     "name": "stdout",
     "output_type": "stream",
     "text": [
      "Theta_canon_RPD_IFG_left_b AUC:  0.72 +-(  0.01 ) (1376, 2)\n"
     ]
    },
    {
     "data": {
      "application/vnd.jupyter.widget-view+json": {
       "model_id": "e3e79af9abd149bc915bde5d6f68fb5b",
       "version_major": 2,
       "version_minor": 0
      },
      "text/plain": [
       "  0%|          | 0/20 [00:00<?, ?it/s]"
      ]
     },
     "metadata": {},
     "output_type": "display_data"
    },
    {
     "name": "stdout",
     "output_type": "stream",
     "text": [
      "Theta_canon_RPD_MFG_left_b AUC:  0.59 +-(  0.01 ) (1376, 2)\n"
     ]
    },
    {
     "data": {
      "application/vnd.jupyter.widget-view+json": {
       "model_id": "f84b1d250db54f80990633d0894c28df",
       "version_major": 2,
       "version_minor": 0
      },
      "text/plain": [
       "  0%|          | 0/20 [00:00<?, ?it/s]"
      ]
     },
     "metadata": {},
     "output_type": "display_data"
    },
    {
     "name": "stdout",
     "output_type": "stream",
     "text": [
      "Theta_canon_RPD_SFG_left_b AUC:  0.65 +-(  0.01 ) (1376, 2)\n"
     ]
    },
    {
     "data": {
      "application/vnd.jupyter.widget-view+json": {
       "model_id": "f195d6a7741048a2a0d167155b748fed",
       "version_major": 2,
       "version_minor": 0
      },
      "text/plain": [
       "  0%|          | 0/20 [00:00<?, ?it/s]"
      ]
     },
     "metadata": {},
     "output_type": "display_data"
    },
    {
     "name": "stdout",
     "output_type": "stream",
     "text": [
      "Theta_canon_RPD_HPC_left_b AUC:  0.75 +-(  0.0 ) (1376, 2)\n"
     ]
    },
    {
     "data": {
      "application/vnd.jupyter.widget-view+json": {
       "model_id": "bccddb95a8b848bf8fe3038007b904aa",
       "version_major": 2,
       "version_minor": 0
      },
      "text/plain": [
       "  0%|          | 0/20 [00:00<?, ?it/s]"
      ]
     },
     "metadata": {},
     "output_type": "display_data"
    },
    {
     "name": "stdout",
     "output_type": "stream",
     "text": [
      "Theta_canon_RPD_HPC_right_b AUC:  0.73 +-(  0.01 ) (1376, 2)\n"
     ]
    },
    {
     "data": {
      "application/vnd.jupyter.widget-view+json": {
       "model_id": "d628488700a14a5090edb2995add361f",
       "version_major": 2,
       "version_minor": 0
      },
      "text/plain": [
       "  0%|          | 0/20 [00:00<?, ?it/s]"
      ]
     },
     "metadata": {},
     "output_type": "display_data"
    },
    {
     "name": "stdout",
     "output_type": "stream",
     "text": [
      "Theta_canon_RPD_INS_left_b AUC:  0.77 +-(  0.01 ) (1376, 2)\n"
     ]
    },
    {
     "data": {
      "application/vnd.jupyter.widget-view+json": {
       "model_id": "7cac313ccec846b0aac06a7cb4771b4c",
       "version_major": 2,
       "version_minor": 0
      },
      "text/plain": [
       "  0%|          | 0/20 [00:00<?, ?it/s]"
      ]
     },
     "metadata": {},
     "output_type": "display_data"
    },
    {
     "name": "stdout",
     "output_type": "stream",
     "text": [
      "Theta_canon_RPD_INS_right_b AUC:  0.75 +-(  0.01 ) (1376, 2)\n"
     ]
    },
    {
     "data": {
      "application/vnd.jupyter.widget-view+json": {
       "model_id": "852e07ec63974019adb543645c228c64",
       "version_major": 2,
       "version_minor": 0
      },
      "text/plain": [
       "  0%|          | 0/20 [00:00<?, ?it/s]"
      ]
     },
     "metadata": {},
     "output_type": "display_data"
    },
    {
     "name": "stdout",
     "output_type": "stream",
     "text": [
      "Theta_subj_spec_EPP_ORB_left_b AUC:  0.7 +-(  0.01 ) (1376, 2)\n"
     ]
    },
    {
     "data": {
      "application/vnd.jupyter.widget-view+json": {
       "model_id": "e83abb21311d4a0e8f8bf201c72b07ff",
       "version_major": 2,
       "version_minor": 0
      },
      "text/plain": [
       "  0%|          | 0/20 [00:00<?, ?it/s]"
      ]
     },
     "metadata": {},
     "output_type": "display_data"
    },
    {
     "name": "stdout",
     "output_type": "stream",
     "text": [
      "Theta_subj_spec_EPP_ORB_right_b AUC:  0.7 +-(  0.01 ) (1376, 2)\n"
     ]
    },
    {
     "data": {
      "application/vnd.jupyter.widget-view+json": {
       "model_id": "d8777bf5d1a44905adcf5c38c6e17dd4",
       "version_major": 2,
       "version_minor": 0
      },
      "text/plain": [
       "  0%|          | 0/20 [00:00<?, ?it/s]"
      ]
     },
     "metadata": {},
     "output_type": "display_data"
    },
    {
     "name": "stdout",
     "output_type": "stream",
     "text": [
      "Theta_subj_spec_EPP_IFG_left_b AUC:  0.71 +-(  0.01 ) (1376, 2)\n"
     ]
    },
    {
     "data": {
      "application/vnd.jupyter.widget-view+json": {
       "model_id": "4de104238b994860a4c4c51715cadbc5",
       "version_major": 2,
       "version_minor": 0
      },
      "text/plain": [
       "  0%|          | 0/20 [00:00<?, ?it/s]"
      ]
     },
     "metadata": {},
     "output_type": "display_data"
    },
    {
     "name": "stdout",
     "output_type": "stream",
     "text": [
      "Theta_subj_spec_EPP_MFG_left_b AUC:  0.62 +-(  0.01 ) (1376, 2)\n"
     ]
    },
    {
     "data": {
      "application/vnd.jupyter.widget-view+json": {
       "model_id": "b0ab2507ddba48968d4f3fdf5be195f8",
       "version_major": 2,
       "version_minor": 0
      },
      "text/plain": [
       "  0%|          | 0/20 [00:00<?, ?it/s]"
      ]
     },
     "metadata": {},
     "output_type": "display_data"
    },
    {
     "name": "stdout",
     "output_type": "stream",
     "text": [
      "Theta_subj_spec_EPP_SFG_left_b AUC:  0.65 +-(  0.01 ) (1376, 2)\n"
     ]
    },
    {
     "data": {
      "application/vnd.jupyter.widget-view+json": {
       "model_id": "13e58c2902d5499ea9c847fb1d8c342a",
       "version_major": 2,
       "version_minor": 0
      },
      "text/plain": [
       "  0%|          | 0/20 [00:00<?, ?it/s]"
      ]
     },
     "metadata": {},
     "output_type": "display_data"
    },
    {
     "name": "stdout",
     "output_type": "stream",
     "text": [
      "Theta_subj_spec_EPP_HPC_left_b AUC:  0.75 +-(  0.01 ) (1376, 2)\n"
     ]
    },
    {
     "data": {
      "application/vnd.jupyter.widget-view+json": {
       "model_id": "3bf2a28d77ef4fe28b8ed49fe46d831e",
       "version_major": 2,
       "version_minor": 0
      },
      "text/plain": [
       "  0%|          | 0/20 [00:00<?, ?it/s]"
      ]
     },
     "metadata": {},
     "output_type": "display_data"
    },
    {
     "name": "stdout",
     "output_type": "stream",
     "text": [
      "Theta_subj_spec_EPP_HPC_right_b AUC:  0.75 +-(  0.01 ) (1376, 2)\n"
     ]
    },
    {
     "data": {
      "application/vnd.jupyter.widget-view+json": {
       "model_id": "4bad622b8624470a9c23abb783ed5bfa",
       "version_major": 2,
       "version_minor": 0
      },
      "text/plain": [
       "  0%|          | 0/20 [00:00<?, ?it/s]"
      ]
     },
     "metadata": {},
     "output_type": "display_data"
    },
    {
     "name": "stdout",
     "output_type": "stream",
     "text": [
      "Theta_subj_spec_EPP_INS_left_b AUC:  0.76 +-(  0.01 ) (1376, 2)\n"
     ]
    },
    {
     "data": {
      "application/vnd.jupyter.widget-view+json": {
       "model_id": "4f136dae4321478a97ab58fe1a999bff",
       "version_major": 2,
       "version_minor": 0
      },
      "text/plain": [
       "  0%|          | 0/20 [00:00<?, ?it/s]"
      ]
     },
     "metadata": {},
     "output_type": "display_data"
    },
    {
     "name": "stdout",
     "output_type": "stream",
     "text": [
      "Theta_subj_spec_EPP_INS_right_b AUC:  0.76 +-(  0.01 ) (1376, 2)\n"
     ]
    },
    {
     "data": {
      "application/vnd.jupyter.widget-view+json": {
       "model_id": "ca23e49ad1f8429e977fbc21cc4c4258",
       "version_major": 2,
       "version_minor": 0
      },
      "text/plain": [
       "  0%|          | 0/20 [00:00<?, ?it/s]"
      ]
     },
     "metadata": {},
     "output_type": "display_data"
    },
    {
     "name": "stdout",
     "output_type": "stream",
     "text": [
      "Theta_subj_spec_RPD_ORB_left_b AUC:  0.7 +-(  0.01 ) (1376, 2)\n"
     ]
    },
    {
     "data": {
      "application/vnd.jupyter.widget-view+json": {
       "model_id": "2322602dece2453aa38b01be88bbf901",
       "version_major": 2,
       "version_minor": 0
      },
      "text/plain": [
       "  0%|          | 0/20 [00:00<?, ?it/s]"
      ]
     },
     "metadata": {},
     "output_type": "display_data"
    },
    {
     "name": "stdout",
     "output_type": "stream",
     "text": [
      "Theta_subj_spec_RPD_ORB_right_b AUC:  0.7 +-(  0.01 ) (1376, 2)\n"
     ]
    },
    {
     "data": {
      "application/vnd.jupyter.widget-view+json": {
       "model_id": "321791a9aafc48b392c5b7b018e94ca5",
       "version_major": 2,
       "version_minor": 0
      },
      "text/plain": [
       "  0%|          | 0/20 [00:00<?, ?it/s]"
      ]
     },
     "metadata": {},
     "output_type": "display_data"
    },
    {
     "name": "stdout",
     "output_type": "stream",
     "text": [
      "Theta_subj_spec_RPD_IFG_left_b AUC:  0.71 +-(  0.01 ) (1376, 2)\n"
     ]
    },
    {
     "data": {
      "application/vnd.jupyter.widget-view+json": {
       "model_id": "3a8135523c0247f78a1c6ff4969823ce",
       "version_major": 2,
       "version_minor": 0
      },
      "text/plain": [
       "  0%|          | 0/20 [00:00<?, ?it/s]"
      ]
     },
     "metadata": {},
     "output_type": "display_data"
    },
    {
     "name": "stdout",
     "output_type": "stream",
     "text": [
      "Theta_subj_spec_RPD_MFG_left_b AUC:  0.62 +-(  0.01 ) (1376, 2)\n"
     ]
    },
    {
     "data": {
      "application/vnd.jupyter.widget-view+json": {
       "model_id": "497364e0ea2b4487b69ba23074d2df80",
       "version_major": 2,
       "version_minor": 0
      },
      "text/plain": [
       "  0%|          | 0/20 [00:00<?, ?it/s]"
      ]
     },
     "metadata": {},
     "output_type": "display_data"
    },
    {
     "name": "stdout",
     "output_type": "stream",
     "text": [
      "Theta_subj_spec_RPD_SFG_left_b AUC:  0.65 +-(  0.01 ) (1376, 2)\n"
     ]
    },
    {
     "data": {
      "application/vnd.jupyter.widget-view+json": {
       "model_id": "f526d2829d9a4905896ba0ea3d1613b8",
       "version_major": 2,
       "version_minor": 0
      },
      "text/plain": [
       "  0%|          | 0/20 [00:00<?, ?it/s]"
      ]
     },
     "metadata": {},
     "output_type": "display_data"
    },
    {
     "name": "stdout",
     "output_type": "stream",
     "text": [
      "Theta_subj_spec_RPD_HPC_left_b AUC:  0.75 +-(  0.01 ) (1376, 2)\n"
     ]
    },
    {
     "data": {
      "application/vnd.jupyter.widget-view+json": {
       "model_id": "748af84e632a479d870cfb937dfaa40b",
       "version_major": 2,
       "version_minor": 0
      },
      "text/plain": [
       "  0%|          | 0/20 [00:00<?, ?it/s]"
      ]
     },
     "metadata": {},
     "output_type": "display_data"
    },
    {
     "name": "stdout",
     "output_type": "stream",
     "text": [
      "Theta_subj_spec_RPD_HPC_right_b AUC:  0.75 +-(  0.01 ) (1376, 2)\n"
     ]
    },
    {
     "data": {
      "application/vnd.jupyter.widget-view+json": {
       "model_id": "78a57f93a8a74ab7995dc45592e8bbe2",
       "version_major": 2,
       "version_minor": 0
      },
      "text/plain": [
       "  0%|          | 0/20 [00:00<?, ?it/s]"
      ]
     },
     "metadata": {},
     "output_type": "display_data"
    },
    {
     "name": "stdout",
     "output_type": "stream",
     "text": [
      "Theta_subj_spec_RPD_INS_left_b AUC:  0.76 +-(  0.01 ) (1376, 2)\n"
     ]
    },
    {
     "data": {
      "application/vnd.jupyter.widget-view+json": {
       "model_id": "982bc451286043a599a81fd94eefa8b1",
       "version_major": 2,
       "version_minor": 0
      },
      "text/plain": [
       "  0%|          | 0/20 [00:00<?, ?it/s]"
      ]
     },
     "metadata": {},
     "output_type": "display_data"
    },
    {
     "name": "stdout",
     "output_type": "stream",
     "text": [
      "Theta_subj_spec_RPD_INS_right_b AUC:  0.76 +-(  0.01 ) (1376, 2)\n"
     ]
    },
    {
     "data": {
      "application/vnd.jupyter.widget-view+json": {
       "model_id": "4a03faf93063436ca04e4e18e7351b0d",
       "version_major": 2,
       "version_minor": 0
      },
      "text/plain": [
       "  0%|          | 0/20 [00:00<?, ?it/s]"
      ]
     },
     "metadata": {},
     "output_type": "display_data"
    },
    {
     "name": "stdout",
     "output_type": "stream",
     "text": [
      "Alpha2_canon_EPP_HPC_left_b AUC:  0.77 +-(  0.0 ) (1376, 2)\n"
     ]
    },
    {
     "data": {
      "application/vnd.jupyter.widget-view+json": {
       "model_id": "b6ce99d225514aefacc1cf2f40d6eb31",
       "version_major": 2,
       "version_minor": 0
      },
      "text/plain": [
       "  0%|          | 0/20 [00:00<?, ?it/s]"
      ]
     },
     "metadata": {},
     "output_type": "display_data"
    },
    {
     "name": "stdout",
     "output_type": "stream",
     "text": [
      "Alpha2_canon_EPP_HPC_right_b AUC:  0.77 +-(  0.01 ) (1376, 2)\n"
     ]
    },
    {
     "data": {
      "application/vnd.jupyter.widget-view+json": {
       "model_id": "c2f1551db1ac485cb35940d7af1c09d0",
       "version_major": 2,
       "version_minor": 0
      },
      "text/plain": [
       "  0%|          | 0/20 [00:00<?, ?it/s]"
      ]
     },
     "metadata": {},
     "output_type": "display_data"
    },
    {
     "name": "stdout",
     "output_type": "stream",
     "text": [
      "Alpha2_canon_EPP_PARIET_left_b AUC:  0.71 +-(  0.01 ) (1376, 2)\n"
     ]
    },
    {
     "data": {
      "application/vnd.jupyter.widget-view+json": {
       "model_id": "e45adfbbf7bf47e884d29e3d9d820691",
       "version_major": 2,
       "version_minor": 0
      },
      "text/plain": [
       "  0%|          | 0/20 [00:00<?, ?it/s]"
      ]
     },
     "metadata": {},
     "output_type": "display_data"
    },
    {
     "name": "stdout",
     "output_type": "stream",
     "text": [
      "Alpha2_canon_EPP_PARIET_right_b AUC:  0.71 +-(  0.01 ) (1376, 2)\n"
     ]
    },
    {
     "data": {
      "application/vnd.jupyter.widget-view+json": {
       "model_id": "b8194dbbc72f4cceb1a2afa195c718a1",
       "version_major": 2,
       "version_minor": 0
      },
      "text/plain": [
       "  0%|          | 0/20 [00:00<?, ?it/s]"
      ]
     },
     "metadata": {},
     "output_type": "display_data"
    },
    {
     "name": "stdout",
     "output_type": "stream",
     "text": [
      "Alpha2_canon_EPP_OCC_left_b AUC:  0.74 +-(  0.01 ) (1376, 2)\n"
     ]
    },
    {
     "data": {
      "application/vnd.jupyter.widget-view+json": {
       "model_id": "e3a243348fab48f9bc6a19135d225516",
       "version_major": 2,
       "version_minor": 0
      },
      "text/plain": [
       "  0%|          | 0/20 [00:00<?, ?it/s]"
      ]
     },
     "metadata": {},
     "output_type": "display_data"
    },
    {
     "name": "stdout",
     "output_type": "stream",
     "text": [
      "Alpha2_canon_EPP_OCC_right_b AUC:  0.74 +-(  0.0 ) (1376, 2)\n"
     ]
    },
    {
     "data": {
      "application/vnd.jupyter.widget-view+json": {
       "model_id": "9b4451a1d1654af9842a229d02460acf",
       "version_major": 2,
       "version_minor": 0
      },
      "text/plain": [
       "  0%|          | 0/20 [00:00<?, ?it/s]"
      ]
     },
     "metadata": {},
     "output_type": "display_data"
    },
    {
     "name": "stdout",
     "output_type": "stream",
     "text": [
      "Alpha2_canon_RPD_HPC_left_b AUC:  0.77 +-(  0.0 ) (1376, 2)\n"
     ]
    },
    {
     "data": {
      "application/vnd.jupyter.widget-view+json": {
       "model_id": "83e45ec3ece34a3cbfa128305ae412af",
       "version_major": 2,
       "version_minor": 0
      },
      "text/plain": [
       "  0%|          | 0/20 [00:00<?, ?it/s]"
      ]
     },
     "metadata": {},
     "output_type": "display_data"
    },
    {
     "name": "stdout",
     "output_type": "stream",
     "text": [
      "Alpha2_canon_RPD_HPC_right_b AUC:  0.77 +-(  0.01 ) (1376, 2)\n"
     ]
    },
    {
     "data": {
      "application/vnd.jupyter.widget-view+json": {
       "model_id": "07fc91aa19874ec0959f703d0ad00770",
       "version_major": 2,
       "version_minor": 0
      },
      "text/plain": [
       "  0%|          | 0/20 [00:00<?, ?it/s]"
      ]
     },
     "metadata": {},
     "output_type": "display_data"
    },
    {
     "name": "stdout",
     "output_type": "stream",
     "text": [
      "Alpha2_canon_RPD_CING_left_b AUC:  0.73 +-(  0.01 ) (1376, 2)\n"
     ]
    },
    {
     "data": {
      "application/vnd.jupyter.widget-view+json": {
       "model_id": "bfa6ff1c8aff4d89a995a255191559c6",
       "version_major": 2,
       "version_minor": 0
      },
      "text/plain": [
       "  0%|          | 0/20 [00:00<?, ?it/s]"
      ]
     },
     "metadata": {},
     "output_type": "display_data"
    },
    {
     "name": "stdout",
     "output_type": "stream",
     "text": [
      "Alpha2_canon_RPD_CING_right_b AUC:  0.74 +-(  0.01 ) (1376, 2)\n"
     ]
    },
    {
     "data": {
      "application/vnd.jupyter.widget-view+json": {
       "model_id": "5b7e28e2f0d246f3a091dfbd5728a2d1",
       "version_major": 2,
       "version_minor": 0
      },
      "text/plain": [
       "  0%|          | 0/20 [00:00<?, ?it/s]"
      ]
     },
     "metadata": {},
     "output_type": "display_data"
    },
    {
     "name": "stdout",
     "output_type": "stream",
     "text": [
      "Alpha2_canon_RPD_PARIET_left_b AUC:  0.71 +-(  0.01 ) (1376, 2)\n"
     ]
    },
    {
     "data": {
      "application/vnd.jupyter.widget-view+json": {
       "model_id": "65bab26d68ef4047becb0d619616a46e",
       "version_major": 2,
       "version_minor": 0
      },
      "text/plain": [
       "  0%|          | 0/20 [00:00<?, ?it/s]"
      ]
     },
     "metadata": {},
     "output_type": "display_data"
    },
    {
     "name": "stdout",
     "output_type": "stream",
     "text": [
      "Alpha2_canon_RPD_PARIET_right_b AUC:  0.71 +-(  0.01 ) (1376, 2)\n"
     ]
    },
    {
     "data": {
      "application/vnd.jupyter.widget-view+json": {
       "model_id": "8151a30fc5804f1fa03ad30db0ec900c",
       "version_major": 2,
       "version_minor": 0
      },
      "text/plain": [
       "  0%|          | 0/20 [00:00<?, ?it/s]"
      ]
     },
     "metadata": {},
     "output_type": "display_data"
    },
    {
     "name": "stdout",
     "output_type": "stream",
     "text": [
      "Alpha2_canon_RPD_OCC_left_b AUC:  0.74 +-(  0.01 ) (1376, 2)\n"
     ]
    },
    {
     "data": {
      "application/vnd.jupyter.widget-view+json": {
       "model_id": "a2b3e377bfb843228417cb6a08cdcc53",
       "version_major": 2,
       "version_minor": 0
      },
      "text/plain": [
       "  0%|          | 0/20 [00:00<?, ?it/s]"
      ]
     },
     "metadata": {},
     "output_type": "display_data"
    },
    {
     "name": "stdout",
     "output_type": "stream",
     "text": [
      "Alpha2_canon_RPD_OCC_right_b AUC:  0.74 +-(  0.0 ) (1376, 2)\n"
     ]
    },
    {
     "data": {
      "application/vnd.jupyter.widget-view+json": {
       "model_id": "c74d120de89a4544bb66fbaf72884aac",
       "version_major": 2,
       "version_minor": 0
      },
      "text/plain": [
       "  0%|          | 0/20 [00:00<?, ?it/s]"
      ]
     },
     "metadata": {},
     "output_type": "display_data"
    },
    {
     "name": "stdout",
     "output_type": "stream",
     "text": [
      "High_subj_spec_EPP_HPC_left_b AUC:  0.78 +-(  0.0 ) (1376, 2)\n"
     ]
    },
    {
     "data": {
      "application/vnd.jupyter.widget-view+json": {
       "model_id": "04a7ec13285b4253abfbb85324ee731c",
       "version_major": 2,
       "version_minor": 0
      },
      "text/plain": [
       "  0%|          | 0/20 [00:00<?, ?it/s]"
      ]
     },
     "metadata": {},
     "output_type": "display_data"
    },
    {
     "name": "stdout",
     "output_type": "stream",
     "text": [
      "High_subj_spec_EPP_HPC_right_b AUC:  0.74 +-(  0.01 ) (1376, 2)\n"
     ]
    },
    {
     "data": {
      "application/vnd.jupyter.widget-view+json": {
       "model_id": "180ff11072734485b44408260880ceb6",
       "version_major": 2,
       "version_minor": 0
      },
      "text/plain": [
       "  0%|          | 0/20 [00:00<?, ?it/s]"
      ]
     },
     "metadata": {},
     "output_type": "display_data"
    },
    {
     "name": "stdout",
     "output_type": "stream",
     "text": [
      "High_subj_spec_EPP_CING_left_b AUC:  0.72 +-(  0.01 ) (1376, 2)\n"
     ]
    },
    {
     "data": {
      "application/vnd.jupyter.widget-view+json": {
       "model_id": "9eb12fa95f9d477ca46b313ca4c088d8",
       "version_major": 2,
       "version_minor": 0
      },
      "text/plain": [
       "  0%|          | 0/20 [00:00<?, ?it/s]"
      ]
     },
     "metadata": {},
     "output_type": "display_data"
    },
    {
     "name": "stdout",
     "output_type": "stream",
     "text": [
      "High_subj_spec_EPP_CING_right_b AUC:  0.75 +-(  0.01 ) (1376, 2)\n"
     ]
    },
    {
     "data": {
      "application/vnd.jupyter.widget-view+json": {
       "model_id": "64c7fd9a78e14fa19b6e32b20625517b",
       "version_major": 2,
       "version_minor": 0
      },
      "text/plain": [
       "  0%|          | 0/20 [00:00<?, ?it/s]"
      ]
     },
     "metadata": {},
     "output_type": "display_data"
    },
    {
     "name": "stdout",
     "output_type": "stream",
     "text": [
      "High_subj_spec_EPP_PARIET_left_b AUC:  0.74 +-(  0.01 ) (1376, 2)\n"
     ]
    },
    {
     "data": {
      "application/vnd.jupyter.widget-view+json": {
       "model_id": "0cbe8cc73b364c4e90ebeb9c99173538",
       "version_major": 2,
       "version_minor": 0
      },
      "text/plain": [
       "  0%|          | 0/20 [00:00<?, ?it/s]"
      ]
     },
     "metadata": {},
     "output_type": "display_data"
    },
    {
     "name": "stdout",
     "output_type": "stream",
     "text": [
      "High_subj_spec_EPP_PARIET_right_b AUC:  0.75 +-(  0.01 ) (1376, 2)\n"
     ]
    },
    {
     "data": {
      "application/vnd.jupyter.widget-view+json": {
       "model_id": "ee0f4dfabfa54194930df06c5566df2b",
       "version_major": 2,
       "version_minor": 0
      },
      "text/plain": [
       "  0%|          | 0/20 [00:00<?, ?it/s]"
      ]
     },
     "metadata": {},
     "output_type": "display_data"
    },
    {
     "name": "stdout",
     "output_type": "stream",
     "text": [
      "High_subj_spec_EPP_OCC_left_b AUC:  0.73 +-(  0.01 ) (1376, 2)\n"
     ]
    },
    {
     "data": {
      "application/vnd.jupyter.widget-view+json": {
       "model_id": "c8f3974d2bba4c0bb75a5d305a56e591",
       "version_major": 2,
       "version_minor": 0
      },
      "text/plain": [
       "  0%|          | 0/20 [00:00<?, ?it/s]"
      ]
     },
     "metadata": {},
     "output_type": "display_data"
    },
    {
     "name": "stdout",
     "output_type": "stream",
     "text": [
      "High_subj_spec_EPP_OCC_right_b AUC:  0.73 +-(  0.01 ) (1376, 2)\n"
     ]
    },
    {
     "data": {
      "application/vnd.jupyter.widget-view+json": {
       "model_id": "f8deaac2c2124ad9bf9c0c7ab66b8cff",
       "version_major": 2,
       "version_minor": 0
      },
      "text/plain": [
       "  0%|          | 0/20 [00:00<?, ?it/s]"
      ]
     },
     "metadata": {},
     "output_type": "display_data"
    },
    {
     "name": "stdout",
     "output_type": "stream",
     "text": [
      "High_subj_spec_RPD_HPC_left_b AUC:  0.78 +-(  0.0 ) (1376, 2)\n"
     ]
    },
    {
     "data": {
      "application/vnd.jupyter.widget-view+json": {
       "model_id": "0f9ffff6531d47bc8f61c76f636cfa41",
       "version_major": 2,
       "version_minor": 0
      },
      "text/plain": [
       "  0%|          | 0/20 [00:00<?, ?it/s]"
      ]
     },
     "metadata": {},
     "output_type": "display_data"
    },
    {
     "name": "stdout",
     "output_type": "stream",
     "text": [
      "High_subj_spec_RPD_HPC_right_b AUC:  0.74 +-(  0.01 ) (1376, 2)\n"
     ]
    },
    {
     "data": {
      "application/vnd.jupyter.widget-view+json": {
       "model_id": "19ba753ac68a4e5f8b86b787112e6503",
       "version_major": 2,
       "version_minor": 0
      },
      "text/plain": [
       "  0%|          | 0/20 [00:00<?, ?it/s]"
      ]
     },
     "metadata": {},
     "output_type": "display_data"
    },
    {
     "name": "stdout",
     "output_type": "stream",
     "text": [
      "High_subj_spec_RPD_CING_left_b AUC:  0.72 +-(  0.01 ) (1376, 2)\n"
     ]
    },
    {
     "data": {
      "application/vnd.jupyter.widget-view+json": {
       "model_id": "f02f39a4b2024293a097e3318099aeb2",
       "version_major": 2,
       "version_minor": 0
      },
      "text/plain": [
       "  0%|          | 0/20 [00:00<?, ?it/s]"
      ]
     },
     "metadata": {},
     "output_type": "display_data"
    },
    {
     "name": "stdout",
     "output_type": "stream",
     "text": [
      "High_subj_spec_RPD_CING_right_b AUC:  0.75 +-(  0.01 ) (1376, 2)\n"
     ]
    },
    {
     "data": {
      "application/vnd.jupyter.widget-view+json": {
       "model_id": "e26952e04eda481cb69b8b2f23527688",
       "version_major": 2,
       "version_minor": 0
      },
      "text/plain": [
       "  0%|          | 0/20 [00:00<?, ?it/s]"
      ]
     },
     "metadata": {},
     "output_type": "display_data"
    },
    {
     "name": "stdout",
     "output_type": "stream",
     "text": [
      "High_subj_spec_RPD_PARIET_left_b AUC:  0.74 +-(  0.01 ) (1376, 2)\n"
     ]
    },
    {
     "data": {
      "application/vnd.jupyter.widget-view+json": {
       "model_id": "ee27b433e6994b18a21b393e661b5e1d",
       "version_major": 2,
       "version_minor": 0
      },
      "text/plain": [
       "  0%|          | 0/20 [00:00<?, ?it/s]"
      ]
     },
     "metadata": {},
     "output_type": "display_data"
    },
    {
     "name": "stdout",
     "output_type": "stream",
     "text": [
      "High_subj_spec_RPD_PARIET_right_b AUC:  0.75 +-(  0.01 ) (1376, 2)\n"
     ]
    },
    {
     "data": {
      "application/vnd.jupyter.widget-view+json": {
       "model_id": "2224042afb1c43ffa4edc68d3329033f",
       "version_major": 2,
       "version_minor": 0
      },
      "text/plain": [
       "  0%|          | 0/20 [00:00<?, ?it/s]"
      ]
     },
     "metadata": {},
     "output_type": "display_data"
    },
    {
     "name": "stdout",
     "output_type": "stream",
     "text": [
      "High_subj_spec_RPD_OCC_left_b AUC:  0.73 +-(  0.01 ) (1376, 2)\n"
     ]
    },
    {
     "data": {
      "application/vnd.jupyter.widget-view+json": {
       "model_id": "b3f145af7ae641e7b2eb49fe3ef5a30a",
       "version_major": 2,
       "version_minor": 0
      },
      "text/plain": [
       "  0%|          | 0/20 [00:00<?, ?it/s]"
      ]
     },
     "metadata": {},
     "output_type": "display_data"
    },
    {
     "name": "stdout",
     "output_type": "stream",
     "text": [
      "High_subj_spec_RPD_OCC_right_b AUC:  0.73 +-(  0.01 ) (1376, 2)\n"
     ]
    },
    {
     "data": {
      "application/vnd.jupyter.widget-view+json": {
       "model_id": "e49eac2e960847709a17a41c35e243cc",
       "version_major": 2,
       "version_minor": 0
      },
      "text/plain": [
       "  0%|          | 0/20 [00:00<?, ?it/s]"
      ]
     },
     "metadata": {},
     "output_type": "display_data"
    },
    {
     "name": "stdout",
     "output_type": "stream",
     "text": [
      "Low_subj_spec_EPP_HPC_left_b AUC:  0.68 +-(  0.01 ) (1376, 2)\n"
     ]
    },
    {
     "data": {
      "application/vnd.jupyter.widget-view+json": {
       "model_id": "dcdc644eecb24e798898c3be84c6118e",
       "version_major": 2,
       "version_minor": 0
      },
      "text/plain": [
       "  0%|          | 0/20 [00:00<?, ?it/s]"
      ]
     },
     "metadata": {},
     "output_type": "display_data"
    },
    {
     "name": "stdout",
     "output_type": "stream",
     "text": [
      "Low_subj_spec_EPP_HPC_right_b AUC:  0.69 +-(  0.01 ) (1376, 2)\n"
     ]
    },
    {
     "data": {
      "application/vnd.jupyter.widget-view+json": {
       "model_id": "08191fee3a554b2b8c106571b4c9e20e",
       "version_major": 2,
       "version_minor": 0
      },
      "text/plain": [
       "  0%|          | 0/20 [00:00<?, ?it/s]"
      ]
     },
     "metadata": {},
     "output_type": "display_data"
    },
    {
     "name": "stdout",
     "output_type": "stream",
     "text": [
      "Low_subj_spec_EPP_CING_left_b AUC:  0.75 +-(  0.01 ) (1376, 2)\n"
     ]
    },
    {
     "data": {
      "application/vnd.jupyter.widget-view+json": {
       "model_id": "c8c189bfc0964034aff747ca76aa8d06",
       "version_major": 2,
       "version_minor": 0
      },
      "text/plain": [
       "  0%|          | 0/20 [00:00<?, ?it/s]"
      ]
     },
     "metadata": {},
     "output_type": "display_data"
    },
    {
     "name": "stdout",
     "output_type": "stream",
     "text": [
      "Low_subj_spec_EPP_CING_right_b AUC:  0.75 +-(  0.01 ) (1376, 2)\n"
     ]
    },
    {
     "data": {
      "application/vnd.jupyter.widget-view+json": {
       "model_id": "ca4ea83d9cb34ea2a6bff51a8fe7db27",
       "version_major": 2,
       "version_minor": 0
      },
      "text/plain": [
       "  0%|          | 0/20 [00:00<?, ?it/s]"
      ]
     },
     "metadata": {},
     "output_type": "display_data"
    },
    {
     "name": "stdout",
     "output_type": "stream",
     "text": [
      "Low_subj_spec_EPP_PARIET_left_b AUC:  0.72 +-(  0.0 ) (1376, 2)\n"
     ]
    },
    {
     "data": {
      "application/vnd.jupyter.widget-view+json": {
       "model_id": "995b7f8b8d054a168f5d46a4f33a33a4",
       "version_major": 2,
       "version_minor": 0
      },
      "text/plain": [
       "  0%|          | 0/20 [00:00<?, ?it/s]"
      ]
     },
     "metadata": {},
     "output_type": "display_data"
    },
    {
     "name": "stdout",
     "output_type": "stream",
     "text": [
      "Low_subj_spec_EPP_PARIET_right_b AUC:  0.77 +-(  0.01 ) (1376, 2)\n"
     ]
    },
    {
     "data": {
      "application/vnd.jupyter.widget-view+json": {
       "model_id": "1758ee2ac5854534af51b3e87ce6ce62",
       "version_major": 2,
       "version_minor": 0
      },
      "text/plain": [
       "  0%|          | 0/20 [00:00<?, ?it/s]"
      ]
     },
     "metadata": {},
     "output_type": "display_data"
    },
    {
     "name": "stdout",
     "output_type": "stream",
     "text": [
      "Low_subj_spec_EPP_OCC_left_b AUC:  0.75 +-(  0.01 ) (1376, 2)\n"
     ]
    },
    {
     "data": {
      "application/vnd.jupyter.widget-view+json": {
       "model_id": "881b4b16b4e24dc690c85d5a12915be0",
       "version_major": 2,
       "version_minor": 0
      },
      "text/plain": [
       "  0%|          | 0/20 [00:00<?, ?it/s]"
      ]
     },
     "metadata": {},
     "output_type": "display_data"
    },
    {
     "name": "stdout",
     "output_type": "stream",
     "text": [
      "Low_subj_spec_EPP_OCC_right_b AUC:  0.81 +-(  0.0 ) (1376, 2)\n"
     ]
    },
    {
     "data": {
      "application/vnd.jupyter.widget-view+json": {
       "model_id": "66dc10a0237c45c6b76341e388826c9a",
       "version_major": 2,
       "version_minor": 0
      },
      "text/plain": [
       "  0%|          | 0/20 [00:00<?, ?it/s]"
      ]
     },
     "metadata": {},
     "output_type": "display_data"
    },
    {
     "name": "stdout",
     "output_type": "stream",
     "text": [
      "Low_subj_spec_RPD_HPC_left_b AUC:  0.79 +-(  0.01 ) (1376, 2)\n"
     ]
    },
    {
     "data": {
      "application/vnd.jupyter.widget-view+json": {
       "model_id": "2bf9c1df70d948c5ad7470f6aec33feb",
       "version_major": 2,
       "version_minor": 0
      },
      "text/plain": [
       "  0%|          | 0/20 [00:00<?, ?it/s]"
      ]
     },
     "metadata": {},
     "output_type": "display_data"
    },
    {
     "name": "stdout",
     "output_type": "stream",
     "text": [
      "Low_subj_spec_RPD_HPC_right_b AUC:  0.71 +-(  0.01 ) (1376, 2)\n"
     ]
    },
    {
     "data": {
      "application/vnd.jupyter.widget-view+json": {
       "model_id": "81fcbb026c454644bc04ea239e394212",
       "version_major": 2,
       "version_minor": 0
      },
      "text/plain": [
       "  0%|          | 0/20 [00:00<?, ?it/s]"
      ]
     },
     "metadata": {},
     "output_type": "display_data"
    },
    {
     "name": "stdout",
     "output_type": "stream",
     "text": [
      "Low_subj_spec_RPD_CING_left_b AUC:  0.73 +-(  0.01 ) (1376, 2)\n"
     ]
    },
    {
     "data": {
      "application/vnd.jupyter.widget-view+json": {
       "model_id": "b2d5a415622a439680f72c8321851971",
       "version_major": 2,
       "version_minor": 0
      },
      "text/plain": [
       "  0%|          | 0/20 [00:00<?, ?it/s]"
      ]
     },
     "metadata": {},
     "output_type": "display_data"
    },
    {
     "name": "stdout",
     "output_type": "stream",
     "text": [
      "Low_subj_spec_RPD_CING_right_b AUC:  0.73 +-(  0.01 ) (1376, 2)\n"
     ]
    },
    {
     "data": {
      "application/vnd.jupyter.widget-view+json": {
       "model_id": "9ad17bba0d7c463d9c8e69946468dc8d",
       "version_major": 2,
       "version_minor": 0
      },
      "text/plain": [
       "  0%|          | 0/20 [00:00<?, ?it/s]"
      ]
     },
     "metadata": {},
     "output_type": "display_data"
    },
    {
     "name": "stdout",
     "output_type": "stream",
     "text": [
      "Low_subj_spec_RPD_PARIET_left_b AUC:  0.7 +-(  0.01 ) (1376, 2)\n"
     ]
    },
    {
     "data": {
      "application/vnd.jupyter.widget-view+json": {
       "model_id": "a2f7b1e64cf2471d81b997b8bb208a99",
       "version_major": 2,
       "version_minor": 0
      },
      "text/plain": [
       "  0%|          | 0/20 [00:00<?, ?it/s]"
      ]
     },
     "metadata": {},
     "output_type": "display_data"
    },
    {
     "name": "stdout",
     "output_type": "stream",
     "text": [
      "Low_subj_spec_RPD_PARIET_right_b AUC:  0.75 +-(  0.01 ) (1376, 2)\n"
     ]
    },
    {
     "data": {
      "application/vnd.jupyter.widget-view+json": {
       "model_id": "362e6246d57b42f2af28fa0d092d38a4",
       "version_major": 2,
       "version_minor": 0
      },
      "text/plain": [
       "  0%|          | 0/20 [00:00<?, ?it/s]"
      ]
     },
     "metadata": {},
     "output_type": "display_data"
    },
    {
     "name": "stdout",
     "output_type": "stream",
     "text": [
      "Low_subj_spec_RPD_OCC_left_b AUC:  0.71 +-(  0.01 ) (1376, 2)\n"
     ]
    },
    {
     "data": {
      "application/vnd.jupyter.widget-view+json": {
       "model_id": "7d201cba88cd470fbe178b90d5541c32",
       "version_major": 2,
       "version_minor": 0
      },
      "text/plain": [
       "  0%|          | 0/20 [00:00<?, ?it/s]"
      ]
     },
     "metadata": {},
     "output_type": "display_data"
    },
    {
     "name": "stdout",
     "output_type": "stream",
     "text": [
      "Low_subj_spec_RPD_OCC_right_b AUC:  0.74 +-(  0.01 ) (1376, 2)\n"
     ]
    },
    {
     "data": {
      "application/vnd.jupyter.widget-view+json": {
       "model_id": "e6e952b8053b4182ad014e48c2ce6fd7",
       "version_major": 2,
       "version_minor": 0
      },
      "text/plain": [
       "  0%|          | 0/20 [00:00<?, ?it/s]"
      ]
     },
     "metadata": {},
     "output_type": "display_data"
    },
    {
     "name": "stdout",
     "output_type": "stream",
     "text": [
      "Beta1_canon_EPP_HPC_left_b AUC:  0.79 +-(  0.01 ) (1376, 2)\n"
     ]
    },
    {
     "data": {
      "application/vnd.jupyter.widget-view+json": {
       "model_id": "4553af41245d4f43b1bb0af98be16802",
       "version_major": 2,
       "version_minor": 0
      },
      "text/plain": [
       "  0%|          | 0/20 [00:00<?, ?it/s]"
      ]
     },
     "metadata": {},
     "output_type": "display_data"
    },
    {
     "name": "stdout",
     "output_type": "stream",
     "text": [
      "Beta1_canon_EPP_HPC_right_b AUC:  0.78 +-(  0.01 ) (1376, 2)\n"
     ]
    },
    {
     "data": {
      "application/vnd.jupyter.widget-view+json": {
       "model_id": "32cf99f8df9e446680a8cd93fb3b68c5",
       "version_major": 2,
       "version_minor": 0
      },
      "text/plain": [
       "  0%|          | 0/20 [00:00<?, ?it/s]"
      ]
     },
     "metadata": {},
     "output_type": "display_data"
    },
    {
     "name": "stdout",
     "output_type": "stream",
     "text": [
      "Beta1_canon_EPP_CING_left_b AUC:  0.78 +-(  0.01 ) (1376, 2)\n"
     ]
    },
    {
     "data": {
      "application/vnd.jupyter.widget-view+json": {
       "model_id": "a3bd93b0971046368585aa0dafc88091",
       "version_major": 2,
       "version_minor": 0
      },
      "text/plain": [
       "  0%|          | 0/20 [00:00<?, ?it/s]"
      ]
     },
     "metadata": {},
     "output_type": "display_data"
    },
    {
     "name": "stdout",
     "output_type": "stream",
     "text": [
      "Beta1_canon_EPP_CING_right_b AUC:  0.72 +-(  0.01 ) (1376, 2)\n"
     ]
    },
    {
     "data": {
      "application/vnd.jupyter.widget-view+json": {
       "model_id": "d60dca97255a4bd7b21d11111375aa5d",
       "version_major": 2,
       "version_minor": 0
      },
      "text/plain": [
       "  0%|          | 0/20 [00:00<?, ?it/s]"
      ]
     },
     "metadata": {},
     "output_type": "display_data"
    },
    {
     "name": "stdout",
     "output_type": "stream",
     "text": [
      "Beta1_canon_EPP_TEMP_left_b AUC:  0.71 +-(  0.01 ) (1376, 2)\n"
     ]
    },
    {
     "data": {
      "application/vnd.jupyter.widget-view+json": {
       "model_id": "d85e9805e2384a078435a45ba7561020",
       "version_major": 2,
       "version_minor": 0
      },
      "text/plain": [
       "  0%|          | 0/20 [00:00<?, ?it/s]"
      ]
     },
     "metadata": {},
     "output_type": "display_data"
    },
    {
     "name": "stdout",
     "output_type": "stream",
     "text": [
      "Beta1_canon_EPP_TEMP_right_b AUC:  0.73 +-(  0.01 ) (1376, 2)\n"
     ]
    },
    {
     "data": {
      "application/vnd.jupyter.widget-view+json": {
       "model_id": "5df9525ef79e4cb286bcf5ba7ef70534",
       "version_major": 2,
       "version_minor": 0
      },
      "text/plain": [
       "  0%|          | 0/20 [00:00<?, ?it/s]"
      ]
     },
     "metadata": {},
     "output_type": "display_data"
    },
    {
     "name": "stdout",
     "output_type": "stream",
     "text": [
      "Beta1_canon_EPP_PARIET_left_b AUC:  0.69 +-(  0.01 ) (1376, 2)\n"
     ]
    },
    {
     "data": {
      "application/vnd.jupyter.widget-view+json": {
       "model_id": "f817bf20c2544136a785e7c7e68791a4",
       "version_major": 2,
       "version_minor": 0
      },
      "text/plain": [
       "  0%|          | 0/20 [00:00<?, ?it/s]"
      ]
     },
     "metadata": {},
     "output_type": "display_data"
    },
    {
     "name": "stdout",
     "output_type": "stream",
     "text": [
      "Beta1_canon_EPP_PARIET_right_b AUC:  0.76 +-(  0.01 ) (1376, 2)\n"
     ]
    },
    {
     "data": {
      "application/vnd.jupyter.widget-view+json": {
       "model_id": "5baad61e56a344bf9c6793eb0c72bdf2",
       "version_major": 2,
       "version_minor": 0
      },
      "text/plain": [
       "  0%|          | 0/20 [00:00<?, ?it/s]"
      ]
     },
     "metadata": {},
     "output_type": "display_data"
    },
    {
     "name": "stdout",
     "output_type": "stream",
     "text": [
      "Beta1_canon_EPP_OCC_left_b AUC:  0.76 +-(  0.01 ) (1376, 2)\n"
     ]
    },
    {
     "data": {
      "application/vnd.jupyter.widget-view+json": {
       "model_id": "acd6fd52fe624fd9b5fd48e35cc21da2",
       "version_major": 2,
       "version_minor": 0
      },
      "text/plain": [
       "  0%|          | 0/20 [00:00<?, ?it/s]"
      ]
     },
     "metadata": {},
     "output_type": "display_data"
    },
    {
     "name": "stdout",
     "output_type": "stream",
     "text": [
      "Beta1_canon_EPP_OCC_right_b AUC:  0.73 +-(  0.0 ) (1376, 2)\n"
     ]
    },
    {
     "data": {
      "application/vnd.jupyter.widget-view+json": {
       "model_id": "63f85e1927b0467f9808336ec7facc88",
       "version_major": 2,
       "version_minor": 0
      },
      "text/plain": [
       "  0%|          | 0/20 [00:00<?, ?it/s]"
      ]
     },
     "metadata": {},
     "output_type": "display_data"
    },
    {
     "name": "stdout",
     "output_type": "stream",
     "text": [
      "Beta1_canon_RPD_HPC_left_b AUC:  0.79 +-(  0.01 ) (1376, 2)\n"
     ]
    },
    {
     "data": {
      "application/vnd.jupyter.widget-view+json": {
       "model_id": "45a0e919daf24100980ea89565c053ab",
       "version_major": 2,
       "version_minor": 0
      },
      "text/plain": [
       "  0%|          | 0/20 [00:00<?, ?it/s]"
      ]
     },
     "metadata": {},
     "output_type": "display_data"
    },
    {
     "name": "stdout",
     "output_type": "stream",
     "text": [
      "Beta1_canon_RPD_HPC_right_b AUC:  0.78 +-(  0.01 ) (1376, 2)\n"
     ]
    },
    {
     "data": {
      "application/vnd.jupyter.widget-view+json": {
       "model_id": "812eb92a4d804a7e8aca8ebe7510f2f7",
       "version_major": 2,
       "version_minor": 0
      },
      "text/plain": [
       "  0%|          | 0/20 [00:00<?, ?it/s]"
      ]
     },
     "metadata": {},
     "output_type": "display_data"
    },
    {
     "name": "stdout",
     "output_type": "stream",
     "text": [
      "Beta1_canon_RPD_CING_left_b AUC:  0.78 +-(  0.01 ) (1376, 2)\n"
     ]
    },
    {
     "data": {
      "application/vnd.jupyter.widget-view+json": {
       "model_id": "86023892d8594a7fbc1f405907ceb000",
       "version_major": 2,
       "version_minor": 0
      },
      "text/plain": [
       "  0%|          | 0/20 [00:00<?, ?it/s]"
      ]
     },
     "metadata": {},
     "output_type": "display_data"
    },
    {
     "name": "stdout",
     "output_type": "stream",
     "text": [
      "Beta1_canon_RPD_CING_right_b AUC:  0.72 +-(  0.01 ) (1376, 2)\n"
     ]
    },
    {
     "data": {
      "application/vnd.jupyter.widget-view+json": {
       "model_id": "6781968dc94e43e8ba8f9af5281c0562",
       "version_major": 2,
       "version_minor": 0
      },
      "text/plain": [
       "  0%|          | 0/20 [00:00<?, ?it/s]"
      ]
     },
     "metadata": {},
     "output_type": "display_data"
    },
    {
     "name": "stdout",
     "output_type": "stream",
     "text": [
      "Beta1_canon_RPD_TEMP_left_b AUC:  0.71 +-(  0.01 ) (1376, 2)\n"
     ]
    },
    {
     "data": {
      "application/vnd.jupyter.widget-view+json": {
       "model_id": "05a948961c8845ac958e74e679a712ae",
       "version_major": 2,
       "version_minor": 0
      },
      "text/plain": [
       "  0%|          | 0/20 [00:00<?, ?it/s]"
      ]
     },
     "metadata": {},
     "output_type": "display_data"
    },
    {
     "name": "stdout",
     "output_type": "stream",
     "text": [
      "Beta1_canon_RPD_TEMP_right_b AUC:  0.73 +-(  0.01 ) (1376, 2)\n"
     ]
    },
    {
     "data": {
      "application/vnd.jupyter.widget-view+json": {
       "model_id": "bf358b778a1144e6b132342c9b1504e3",
       "version_major": 2,
       "version_minor": 0
      },
      "text/plain": [
       "  0%|          | 0/20 [00:00<?, ?it/s]"
      ]
     },
     "metadata": {},
     "output_type": "display_data"
    },
    {
     "name": "stdout",
     "output_type": "stream",
     "text": [
      "Beta1_canon_RPD_PARIET_left_b AUC:  0.69 +-(  0.01 ) (1376, 2)\n"
     ]
    },
    {
     "data": {
      "application/vnd.jupyter.widget-view+json": {
       "model_id": "c477841485e5459799a8308e893a12bd",
       "version_major": 2,
       "version_minor": 0
      },
      "text/plain": [
       "  0%|          | 0/20 [00:00<?, ?it/s]"
      ]
     },
     "metadata": {},
     "output_type": "display_data"
    },
    {
     "name": "stdout",
     "output_type": "stream",
     "text": [
      "Beta1_canon_RPD_PARIET_right_b AUC:  0.76 +-(  0.01 ) (1376, 2)\n"
     ]
    },
    {
     "data": {
      "application/vnd.jupyter.widget-view+json": {
       "model_id": "fbbdd98a53824ea2978474db5a71dfe0",
       "version_major": 2,
       "version_minor": 0
      },
      "text/plain": [
       "  0%|          | 0/20 [00:00<?, ?it/s]"
      ]
     },
     "metadata": {},
     "output_type": "display_data"
    },
    {
     "name": "stdout",
     "output_type": "stream",
     "text": [
      "Beta1_canon_RPD_OCC_left_b AUC:  0.76 +-(  0.01 ) (1376, 2)\n"
     ]
    },
    {
     "data": {
      "application/vnd.jupyter.widget-view+json": {
       "model_id": "f3858240619942159043d97bfb62bdc9",
       "version_major": 2,
       "version_minor": 0
      },
      "text/plain": [
       "  0%|          | 0/20 [00:00<?, ?it/s]"
      ]
     },
     "metadata": {},
     "output_type": "display_data"
    },
    {
     "name": "stdout",
     "output_type": "stream",
     "text": [
      "Beta1_canon_RPD_OCC_right_b AUC:  0.73 +-(  0.0 ) (1376, 2)\n"
     ]
    },
    {
     "data": {
      "application/vnd.jupyter.widget-view+json": {
       "model_id": "9fa75707b968471ab9b4064f39e7035d",
       "version_major": 2,
       "version_minor": 0
      },
      "text/plain": [
       "  0%|          | 0/20 [00:00<?, ?it/s]"
      ]
     },
     "metadata": {},
     "output_type": "display_data"
    },
    {
     "name": "stdout",
     "output_type": "stream",
     "text": [
      "Beta2_canon_EPP_HPC_left_b AUC:  0.77 +-(  0.01 ) (1376, 2)\n"
     ]
    },
    {
     "data": {
      "application/vnd.jupyter.widget-view+json": {
       "model_id": "eb9c62e231614e128b678040bb02b0e0",
       "version_major": 2,
       "version_minor": 0
      },
      "text/plain": [
       "  0%|          | 0/20 [00:00<?, ?it/s]"
      ]
     },
     "metadata": {},
     "output_type": "display_data"
    },
    {
     "name": "stdout",
     "output_type": "stream",
     "text": [
      "Beta2_canon_EPP_HPC_right_b AUC:  0.72 +-(  0.01 ) (1376, 2)\n"
     ]
    },
    {
     "data": {
      "application/vnd.jupyter.widget-view+json": {
       "model_id": "a2b0706be83c4430b0f360ccb7f7d8a4",
       "version_major": 2,
       "version_minor": 0
      },
      "text/plain": [
       "  0%|          | 0/20 [00:00<?, ?it/s]"
      ]
     },
     "metadata": {},
     "output_type": "display_data"
    },
    {
     "name": "stdout",
     "output_type": "stream",
     "text": [
      "Beta2_canon_EPP_CING_left_b AUC:  0.69 +-(  0.01 ) (1376, 2)\n"
     ]
    },
    {
     "data": {
      "application/vnd.jupyter.widget-view+json": {
       "model_id": "9dc63edb97514a209a545fc3ead5e465",
       "version_major": 2,
       "version_minor": 0
      },
      "text/plain": [
       "  0%|          | 0/20 [00:00<?, ?it/s]"
      ]
     },
     "metadata": {},
     "output_type": "display_data"
    },
    {
     "name": "stdout",
     "output_type": "stream",
     "text": [
      "Beta2_canon_EPP_CING_right_b AUC:  0.69 +-(  0.01 ) (1376, 2)\n"
     ]
    },
    {
     "data": {
      "application/vnd.jupyter.widget-view+json": {
       "model_id": "92a8dbf17a9d46538d096075a7035685",
       "version_major": 2,
       "version_minor": 0
      },
      "text/plain": [
       "  0%|          | 0/20 [00:00<?, ?it/s]"
      ]
     },
     "metadata": {},
     "output_type": "display_data"
    },
    {
     "name": "stdout",
     "output_type": "stream",
     "text": [
      "Beta2_canon_EPP_TEMP_left_b AUC:  0.75 +-(  0.01 ) (1376, 2)\n"
     ]
    },
    {
     "data": {
      "application/vnd.jupyter.widget-view+json": {
       "model_id": "b98072fa011f47e5a771533ed6964112",
       "version_major": 2,
       "version_minor": 0
      },
      "text/plain": [
       "  0%|          | 0/20 [00:00<?, ?it/s]"
      ]
     },
     "metadata": {},
     "output_type": "display_data"
    },
    {
     "name": "stdout",
     "output_type": "stream",
     "text": [
      "Beta2_canon_EPP_TEMP_right_b AUC:  0.7 +-(  0.01 ) (1376, 2)\n"
     ]
    },
    {
     "data": {
      "application/vnd.jupyter.widget-view+json": {
       "model_id": "6e2ee7fa499244f68af3a3808c183fb4",
       "version_major": 2,
       "version_minor": 0
      },
      "text/plain": [
       "  0%|          | 0/20 [00:00<?, ?it/s]"
      ]
     },
     "metadata": {},
     "output_type": "display_data"
    },
    {
     "name": "stdout",
     "output_type": "stream",
     "text": [
      "Beta2_canon_EPP_PARIET_left_b AUC:  0.68 +-(  0.01 ) (1376, 2)\n"
     ]
    },
    {
     "data": {
      "application/vnd.jupyter.widget-view+json": {
       "model_id": "5ff390c624564e569fb40562bfca2ca4",
       "version_major": 2,
       "version_minor": 0
      },
      "text/plain": [
       "  0%|          | 0/20 [00:00<?, ?it/s]"
      ]
     },
     "metadata": {},
     "output_type": "display_data"
    },
    {
     "name": "stdout",
     "output_type": "stream",
     "text": [
      "Beta2_canon_EPP_PARIET_right_b AUC:  0.76 +-(  0.01 ) (1376, 2)\n"
     ]
    },
    {
     "data": {
      "application/vnd.jupyter.widget-view+json": {
       "model_id": "a8b0e524da0f433782c90417c41ea3a5",
       "version_major": 2,
       "version_minor": 0
      },
      "text/plain": [
       "  0%|          | 0/20 [00:00<?, ?it/s]"
      ]
     },
     "metadata": {},
     "output_type": "display_data"
    },
    {
     "name": "stdout",
     "output_type": "stream",
     "text": [
      "Beta2_canon_EPP_OCC_left_b AUC:  0.73 +-(  0.01 ) (1376, 2)\n"
     ]
    },
    {
     "data": {
      "application/vnd.jupyter.widget-view+json": {
       "model_id": "dd3d11f0b4b645729df40b897c72c48e",
       "version_major": 2,
       "version_minor": 0
      },
      "text/plain": [
       "  0%|          | 0/20 [00:00<?, ?it/s]"
      ]
     },
     "metadata": {},
     "output_type": "display_data"
    },
    {
     "name": "stdout",
     "output_type": "stream",
     "text": [
      "Beta2_canon_EPP_OCC_right_b AUC:  0.71 +-(  0.01 ) (1376, 2)\n"
     ]
    },
    {
     "data": {
      "application/vnd.jupyter.widget-view+json": {
       "model_id": "fe42d5d5944947fa9f031d4f34f1c968",
       "version_major": 2,
       "version_minor": 0
      },
      "text/plain": [
       "  0%|          | 0/20 [00:00<?, ?it/s]"
      ]
     },
     "metadata": {},
     "output_type": "display_data"
    },
    {
     "name": "stdout",
     "output_type": "stream",
     "text": [
      "TF_ORB_right_b AUC:  0.65 +-(  0.01 ) (1376, 2)\n"
     ]
    },
    {
     "data": {
      "application/vnd.jupyter.widget-view+json": {
       "model_id": "5242c7b2b1c947e3abb28ad935bd7264",
       "version_major": 2,
       "version_minor": 0
      },
      "text/plain": [
       "  0%|          | 0/20 [00:00<?, ?it/s]"
      ]
     },
     "metadata": {},
     "output_type": "display_data"
    },
    {
     "name": "stdout",
     "output_type": "stream",
     "text": [
      "TF_IFG_left_b AUC:  0.64 +-(  0.01 ) (1376, 2)\n"
     ]
    },
    {
     "data": {
      "application/vnd.jupyter.widget-view+json": {
       "model_id": "bf6b24ac07f5488d879e309e30e61f0c",
       "version_major": 2,
       "version_minor": 0
      },
      "text/plain": [
       "  0%|          | 0/20 [00:00<?, ?it/s]"
      ]
     },
     "metadata": {},
     "output_type": "display_data"
    },
    {
     "name": "stdout",
     "output_type": "stream",
     "text": [
      "TF_IFG_right_b AUC:  0.68 +-(  0.01 ) (1376, 2)\n"
     ]
    },
    {
     "data": {
      "application/vnd.jupyter.widget-view+json": {
       "model_id": "b9beffaec23c42b9b6c8aa582775ab0f",
       "version_major": 2,
       "version_minor": 0
      },
      "text/plain": [
       "  0%|          | 0/20 [00:00<?, ?it/s]"
      ]
     },
     "metadata": {},
     "output_type": "display_data"
    },
    {
     "name": "stdout",
     "output_type": "stream",
     "text": [
      "TF_MFG_left_b AUC:  0.65 +-(  0.01 ) (1376, 2)\n"
     ]
    },
    {
     "data": {
      "application/vnd.jupyter.widget-view+json": {
       "model_id": "cfd33aa355a544108d099b725b0431c6",
       "version_major": 2,
       "version_minor": 0
      },
      "text/plain": [
       "  0%|          | 0/20 [00:00<?, ?it/s]"
      ]
     },
     "metadata": {},
     "output_type": "display_data"
    },
    {
     "name": "stdout",
     "output_type": "stream",
     "text": [
      "TF_SFG_left_b AUC:  0.66 +-(  0.01 ) (1376, 2)\n"
     ]
    },
    {
     "data": {
      "application/vnd.jupyter.widget-view+json": {
       "model_id": "2a30316bb6b94af1a4c23832d110f0de",
       "version_major": 2,
       "version_minor": 0
      },
      "text/plain": [
       "  0%|          | 0/20 [00:00<?, ?it/s]"
      ]
     },
     "metadata": {},
     "output_type": "display_data"
    },
    {
     "name": "stdout",
     "output_type": "stream",
     "text": [
      "TF_SFG_right_b AUC:  0.64 +-(  0.01 ) (1376, 2)\n"
     ]
    },
    {
     "data": {
      "application/vnd.jupyter.widget-view+json": {
       "model_id": "fdb2b29c09f44cbf93d05e8d02fb0885",
       "version_major": 2,
       "version_minor": 0
      },
      "text/plain": [
       "  0%|          | 0/20 [00:00<?, ?it/s]"
      ]
     },
     "metadata": {},
     "output_type": "display_data"
    },
    {
     "name": "stdout",
     "output_type": "stream",
     "text": [
      "TF_HPC_left_b AUC:  0.65 +-(  0.01 ) (1376, 2)\n"
     ]
    },
    {
     "data": {
      "application/vnd.jupyter.widget-view+json": {
       "model_id": "2e1b8bef88bc451cb66ccbee7e2cd196",
       "version_major": 2,
       "version_minor": 0
      },
      "text/plain": [
       "  0%|          | 0/20 [00:00<?, ?it/s]"
      ]
     },
     "metadata": {},
     "output_type": "display_data"
    },
    {
     "name": "stdout",
     "output_type": "stream",
     "text": [
      "TF_HPC_right_b AUC:  0.58 +-(  0.01 ) (1376, 2)\n"
     ]
    },
    {
     "data": {
      "application/vnd.jupyter.widget-view+json": {
       "model_id": "736e6dfa7aba4017a8598e25f78540c1",
       "version_major": 2,
       "version_minor": 0
      },
      "text/plain": [
       "  0%|          | 0/20 [00:00<?, ?it/s]"
      ]
     },
     "metadata": {},
     "output_type": "display_data"
    },
    {
     "name": "stdout",
     "output_type": "stream",
     "text": [
      "TF_INS_left_b AUC:  0.62 +-(  0.01 ) (1376, 2)\n"
     ]
    },
    {
     "data": {
      "application/vnd.jupyter.widget-view+json": {
       "model_id": "4e3316277f82492e8587f85d8c10a238",
       "version_major": 2,
       "version_minor": 0
      },
      "text/plain": [
       "  0%|          | 0/20 [00:00<?, ?it/s]"
      ]
     },
     "metadata": {},
     "output_type": "display_data"
    },
    {
     "name": "stdout",
     "output_type": "stream",
     "text": [
      "TF_INS_right_b AUC:  0.66 +-(  0.01 ) (1376, 2)\n"
     ]
    },
    {
     "data": {
      "application/vnd.jupyter.widget-view+json": {
       "model_id": "445074f45dc544ae90748a9f264da15e",
       "version_major": 2,
       "version_minor": 0
      },
      "text/plain": [
       "  0%|          | 0/20 [00:00<?, ?it/s]"
      ]
     },
     "metadata": {},
     "output_type": "display_data"
    },
    {
     "name": "stdout",
     "output_type": "stream",
     "text": [
      "IAF_SFG_right_b AUC:  0.65 +-(  0.01 ) (1376, 2)\n"
     ]
    }
   ],
   "source": [
    "\n",
    "gini_age_results_preliminar = {}\n",
    "gini_age_results_auc_preliminar = {}\n",
    "for outcome in outcomes_list:\n",
    "\n",
    "    frec_df_mmse = frec_df[[outcome, 'GINI', 'Age']]\n",
    "    frec_df_mmse = frec_df_mmse.dropna()\n",
    "    frec_df_mmse.reset_index(drop=True)\n",
    "\n",
    "   \n",
    "    mediana = frec_df_mmse[outcome].median()\n",
    "    frec_df_mmse[outcome + '_b'] = (frec_df_mmse[outcome] > mediana).astype(int)\n",
    "    \n",
    "    y_frec_1A = frec_df_mmse[outcome + '_b']\n",
    "    X_frec_1A = frec_df_mmse[['GINI', 'Age']]\n",
    "\n",
    "    scaler = MinMaxScaler([0.05, 0.95])\n",
    "    scaling_data = scaler.fit_transform(X_frec_1A)\n",
    "    X_frec_1A_s = pd.DataFrame(scaling_data, columns= X_frec_1A.columns, index = X_frec_1A.index)\n",
    "    \n",
    "    X_frec_1A =  X_frec_1A_s.copy()\n",
    "    \n",
    "    try:\n",
    "        r = classifier_ROC(X_frec_1A, y_frec_1A, False)\n",
    "        gini_age_results_preliminar[outcome] = r\n",
    "        gini_age_results_auc_preliminar[outcome] = r[2]\n",
    "    except:\n",
    "        print('Bad: ',outcome + '_b')"
   ]
  },
  {
   "cell_type": "code",
   "execution_count": 15,
   "id": "ce1d49a9",
   "metadata": {},
   "outputs": [],
   "source": [
    "top_10_keys_GINI_AGE_preliminar = heapq.nlargest(10, gini_age_results_auc_preliminar, key=gini_age_results_auc_preliminar.get)"
   ]
  },
  {
   "cell_type": "code",
   "execution_count": null,
   "id": "6e6255e5",
   "metadata": {},
   "outputs": [
    {
     "name": "stdout",
     "output_type": "stream",
     "text": [
      "XGB\n",
      "val. score: 0.7327272727272728\n",
      "test score: 0.7246376811594203\n",
      "best parameters: OrderedDict([('colsample_bytree', 0.9), ('eval_metric', 'aucpr'), ('learning_rate', 0.01), ('max_depth', 3), ('objective', 'binary:logistic'), ('reg_alpha', 0.0), ('reg_lambda', 0.1), ('subsample', 0.9)])\n",
      "---------------------------------------------\n",
      "\n"
     ]
    },
    {
     "data": {
      "application/vnd.jupyter.widget-view+json": {
       "model_id": "9255eceb1bd2459cb77b9d4e37fd22e7",
       "version_major": 2,
       "version_minor": 0
      },
      "text/plain": [
       "  0%|          | 0/20 [00:00<?, ?it/s]"
      ]
     },
     "metadata": {},
     "output_type": "display_data"
    },
    {
     "name": "stdout",
     "output_type": "stream",
     "text": [
      "Low_subj_spec_EPP_OCC_right_b AUC:  0.79 +-(  0.0 ) (1376, 2)\n"
     ]
    }
   ],
   "source": [
    "gini_age_results = {}\n",
    "gini_age_results_auc = {}\n",
    "gini_age_paragram = {}\n",
    "for outcome in top_10_keys_GINI_AGE_preliminar:\n",
    "\n",
    "    frec_df_mmse = frec_df[[outcome, 'GINI', 'Age']]\n",
    "    frec_df_mmse = frec_df_mmse.dropna()\n",
    "    frec_df_mmse.reset_index(drop=True)\n",
    "\n",
    "   \n",
    "    mediana = frec_df_mmse[outcome].median()\n",
    "    frec_df_mmse[outcome + '_b'] = (frec_df_mmse[outcome] > mediana).astype(int)\n",
    "    \n",
    "    y_frec_1A = frec_df_mmse[outcome + '_b']\n",
    "    X_frec_1A = frec_df_mmse[['GINI', 'Age']]\n",
    "\n",
    "    scaler = MinMaxScaler([0.05, 0.95])\n",
    "    scaling_data = scaler.fit_transform(X_frec_1A)\n",
    "    X_frec_1A_s = pd.DataFrame(scaling_data, columns= X_frec_1A.columns, index = X_frec_1A.index)\n",
    "    \n",
    "    X_frec_1A =  X_frec_1A_s.copy()\n",
    "\n",
    "    \n",
    "    opt_XGB = SearchBestModel(X_frec_1A, y_frec_1A)\n",
    "    params_ = dict(opt_XGB.best_params_)\n",
    "\n",
    "\n",
    "    r = classifier_ROC(X_frec_1A, y_frec_1A, False, params_)\n",
    "    gini_age_results[outcome] = r\n",
    "    gini_age_results_auc[outcome] = r[2]\n",
    "    gini_age_paragram[outcome] = params_"
   ]
  },
  {
   "cell_type": "code",
   "execution_count": null,
   "id": "2af06d5f",
   "metadata": {},
   "outputs": [],
   "source": [
    "top_10_keys_GINI_age = heapq.nlargest(10, gini_age_results_auc, key=gini_age_results_auc.get)\n",
    "top_10_keys_GINI_age"
   ]
  },
  {
   "cell_type": "markdown",
   "id": "a85fd512",
   "metadata": {},
   "source": [
    "### Classification:  Gini + Educ"
   ]
  },
  {
   "cell_type": "code",
   "execution_count": null,
   "id": "e1e9cf6e",
   "metadata": {},
   "outputs": [],
   "source": [
    "\n",
    "gini_educ_results_preliminar = {}\n",
    "gini_educ_results_auc_preliminar = {}\n",
    "for outcome in outcomes_list:\n",
    "\n",
    "    frec_df_mmse = frec_df[[outcome, 'GINI', 'Educ']]\n",
    "    frec_df_mmse = frec_df_mmse.dropna()\n",
    "    frec_df_mmse.reset_index(drop=True)\n",
    "\n",
    "   \n",
    "    mediana = frec_df_mmse[outcome].median()\n",
    "    frec_df_mmse[outcome + '_b'] = (frec_df_mmse[outcome] > mediana).astype(int)\n",
    "    \n",
    "    y_frec_1A = frec_df_mmse[outcome + '_b']\n",
    "    X_frec_1A = frec_df_mmse[['GINI', 'Educ']]\n",
    "\n",
    "    scaler = MinMaxScaler([0.05, 0.95])\n",
    "    scaling_data = scaler.fit_transform(X_frec_1A)\n",
    "    X_frec_1A_s = pd.DataFrame(scaling_data, columns= X_frec_1A.columns, index = X_frec_1A.index)\n",
    "    \n",
    "    X_frec_1A =  X_frec_1A_s.copy()\n",
    "    \n",
    "    try:\n",
    "        r = classifier_ROC(X_frec_1A, y_frec_1A, False)\n",
    "        gini_educ_results_preliminar[outcome] = r\n",
    "        gini_educ_results_auc_preliminar[outcome] = r[2]\n",
    "    except:\n",
    "        print('Bad: ',outcome + '_b')"
   ]
  },
  {
   "cell_type": "code",
   "execution_count": null,
   "id": "b55d6047",
   "metadata": {},
   "outputs": [],
   "source": [
    "top_10_keys_GINI_educ_preliminar = heapq.nlargest(10, gini_educ_results_auc_preliminar, key=gini_educ_results_auc_preliminar.get)"
   ]
  },
  {
   "cell_type": "code",
   "execution_count": null,
   "id": "6435ae0a",
   "metadata": {},
   "outputs": [],
   "source": [
    "gini_educ_results = {}\n",
    "gini_educ_results_auc = {}\n",
    "gini_educ_paragram = {}\n",
    "for outcome in top_10_keys_GINI_educ_preliminar:\n",
    "\n",
    "    frec_df_mmse = frec_df[[outcome, 'GINI', 'Educ']]\n",
    "    frec_df_mmse = frec_df_mmse.dropna()\n",
    "    frec_df_mmse.reset_index(drop=True)\n",
    "\n",
    "   \n",
    "    mediana = frec_df_mmse[outcome].median()\n",
    "    frec_df_mmse[outcome + '_b'] = (frec_df_mmse[outcome] > mediana).astype(int)\n",
    "    \n",
    "    y_frec_1A = frec_df_mmse[outcome + '_b']\n",
    "    X_frec_1A = frec_df_mmse[['GINI', 'Educ']]\n",
    "\n",
    "    scaler = MinMaxScaler([0.05, 0.95])\n",
    "    scaling_data = scaler.fit_transform(X_frec_1A)\n",
    "    X_frec_1A_s = pd.DataFrame(scaling_data, columns= X_frec_1A.columns, index = X_frec_1A.index)\n",
    "    \n",
    "    X_frec_1A =  X_frec_1A_s.copy()\n",
    "\n",
    "    \n",
    "    opt_XGB = SearchBestModel(X_frec_1A, y_frec_1A)\n",
    "    params_ = dict(opt_XGB.best_params_)\n",
    "\n",
    "\n",
    "    r = classifier_ROC(X_frec_1A, y_frec_1A, False, params_)\n",
    "    gini_educ_results[outcome] = r\n",
    "    gini_educ_results_auc[outcome] = r[2]\n",
    "    gini_educ_paragram[outcome] = params_"
   ]
  },
  {
   "cell_type": "code",
   "execution_count": null,
   "id": "8a814289",
   "metadata": {},
   "outputs": [],
   "source": [
    "top_10_keys_gini_educ = heapq.nlargest(10, gini_educ_results_auc, key=gini_educ_results_auc.get)\n",
    "top_10_keys_gini_educ"
   ]
  },
  {
   "cell_type": "code",
   "execution_count": null,
   "id": "b12face3",
   "metadata": {},
   "outputs": [],
   "source": []
  },
  {
   "cell_type": "markdown",
   "id": "7401f5dc",
   "metadata": {},
   "source": [
    "### Classification:  Gini + Sex"
   ]
  },
  {
   "cell_type": "code",
   "execution_count": null,
   "id": "cdd4ffe0",
   "metadata": {},
   "outputs": [],
   "source": [
    "\n",
    "gini_sex_results_preliminar = {}\n",
    "gini_sex_results_auc_preliminar = {}\n",
    "for outcome in outcomes_list:\n",
    "\n",
    "    frec_df_mmse = frec_df[[outcome, 'GINI', 'Sex']]\n",
    "    frec_df_mmse = frec_df_mmse.dropna()\n",
    "    frec_df_mmse.reset_index(drop=True)\n",
    "\n",
    "   \n",
    "    mediana = frec_df_mmse[outcome].median()\n",
    "    frec_df_mmse[outcome + '_b'] = (frec_df_mmse[outcome] > mediana).astype(int)\n",
    "    \n",
    "    y_frec_1A = frec_df_mmse[outcome + '_b']\n",
    "    X_frec_1A = frec_df_mmse[['GINI', 'Sex']]\n",
    "\n",
    "    scaler = MinMaxScaler([0.05, 0.95])\n",
    "    scaling_data = scaler.fit_transform(X_frec_1A)\n",
    "    X_frec_1A_s = pd.DataFrame(scaling_data, columns= X_frec_1A.columns, index = X_frec_1A.index)\n",
    "    \n",
    "    X_frec_1A =  X_frec_1A_s.copy()\n",
    "    \n",
    "    try:\n",
    "        r = classifier_ROC(X_frec_1A, y_frec_1A, False)\n",
    "        gini_sex_results_preliminar[outcome] = r\n",
    "        gini_sex_results_auc_preliminar[outcome] = r[2]\n",
    "    except:\n",
    "        print('Bad: ',outcome + '_b')"
   ]
  },
  {
   "cell_type": "code",
   "execution_count": null,
   "id": "0de4d7b6",
   "metadata": {},
   "outputs": [],
   "source": [
    "top_10_keys_GINI_sex_preliminar = heapq.nlargest(10, gini_sex_results_auc_preliminar, key=gini_sex_results_auc_preliminar.get)"
   ]
  },
  {
   "cell_type": "code",
   "execution_count": null,
   "id": "50d59ee5",
   "metadata": {},
   "outputs": [],
   "source": [
    "gini_sex_results = {}\n",
    "gini_sex_results_auc = {}\n",
    "gini_sex_paragram = {}\n",
    "for outcome in top_10_keys_GINI_sex_preliminar:\n",
    "\n",
    "    frec_df_mmse = frec_df[[outcome, 'GINI', 'Sex']]\n",
    "    frec_df_mmse = frec_df_mmse.dropna()\n",
    "    frec_df_mmse.reset_index(drop=True)\n",
    "\n",
    "   \n",
    "    mediana = frec_df_mmse[outcome].median()\n",
    "    frec_df_mmse[outcome + '_b'] = (frec_df_mmse[outcome] > mediana).astype(int)\n",
    "    \n",
    "    y_frec_1A = frec_df_mmse[outcome + '_b']\n",
    "    X_frec_1A = frec_df_mmse[['GINI', 'Sex']]\n",
    "\n",
    "    scaler = MinMaxScaler([0.05, 0.95])\n",
    "    scaling_data = scaler.fit_transform(X_frec_1A)\n",
    "    X_frec_1A_s = pd.DataFrame(scaling_data, columns= X_frec_1A.columns, index = X_frec_1A.index)\n",
    "    \n",
    "    X_frec_1A =  X_frec_1A_s.copy()\n",
    "\n",
    "    \n",
    "    opt_XGB = SearchBestModel(X_frec_1A, y_frec_1A)\n",
    "    params_ = dict(opt_XGB.best_params_)\n",
    "    \n",
    "\n",
    "    r = classifier_ROC(X_frec_1A, y_frec_1A, False, params_)\n",
    "    gini_sex_results[outcome] = r\n",
    "    gini_sex_results_auc[outcome] = r[2]\n",
    "    gini_sex_paragram[outcome] = params_"
   ]
  },
  {
   "cell_type": "code",
   "execution_count": null,
   "id": "0f813a9a",
   "metadata": {},
   "outputs": [],
   "source": [
    "top_10_keys_gini_sex = heapq.nlargest(10, gini_sex_results_auc, key=gini_sex_results_auc.get)\n",
    "top_10_keys_gini_sex"
   ]
  },
  {
   "cell_type": "code",
   "execution_count": null,
   "id": "2eba577d",
   "metadata": {},
   "outputs": [],
   "source": []
  },
  {
   "cell_type": "markdown",
   "id": "42e33502",
   "metadata": {},
   "source": [
    "### Classification:  Gini + Cognition"
   ]
  },
  {
   "cell_type": "code",
   "execution_count": null,
   "id": "95887b66",
   "metadata": {},
   "outputs": [],
   "source": [
    "\n",
    "gini_mmse_results_preliminar = {}\n",
    "gini_mmse_results_auc_preliminar = {}\n",
    "for outcome in outcomes_list:\n",
    "\n",
    "    frec_df_mmse = frec_df[[outcome, 'GINI', 'MMSE']]\n",
    "    frec_df_mmse = frec_df_mmse[frec_df_mmse['MMSE'] >= 21]\n",
    "    frec_df_mmse = frec_df_mmse.dropna()\n",
    "    frec_df_mmse.reset_index(drop=True)\n",
    "\n",
    "   \n",
    "    mediana = frec_df_mmse[outcome].median()\n",
    "    frec_df_mmse[outcome + '_b'] = (frec_df_mmse[outcome] > mediana).astype(int)\n",
    "    \n",
    "    y_frec_1A = frec_df_mmse[outcome + '_b']\n",
    "    X_frec_1A = frec_df_mmse[['GINI', 'MMSE']]\n",
    "\n",
    "    scaler = MinMaxScaler([0.05, 0.95])\n",
    "    scaling_data = scaler.fit_transform(X_frec_1A)\n",
    "    X_frec_1A_s = pd.DataFrame(scaling_data, columns= X_frec_1A.columns, index = X_frec_1A.index)\n",
    "    \n",
    "    X_frec_1A =  X_frec_1A_s.copy()\n",
    "    \n",
    "    try:\n",
    "        r = classifier_ROC(X_frec_1A, y_frec_1A, False)\n",
    "        gini_mmse_results_preliminar[outcome] = r\n",
    "        gini_mmse_results_auc_preliminar[outcome] = r[2]\n",
    "    except:\n",
    "        print('Bad: ',outcome + '_b')"
   ]
  },
  {
   "cell_type": "code",
   "execution_count": null,
   "id": "f3f3be1e",
   "metadata": {},
   "outputs": [],
   "source": [
    "top_10_keys_GINI_mmse_preliminar = heapq.nlargest(10, gini_mmse_results_auc_preliminar, key=gini_mmse_results_auc_preliminar.get)"
   ]
  },
  {
   "cell_type": "code",
   "execution_count": null,
   "id": "e35f1224",
   "metadata": {},
   "outputs": [],
   "source": [
    "gini_mmse_results = {}\n",
    "gini_mmse_results_auc = {}\n",
    "gini_mmse_paragram = {}\n",
    "for outcome in top_10_keys_GINI_mmse_preliminar:\n",
    "\n",
    "    frec_df_mmse = frec_df[[outcome, 'GINI', 'MMSE']]\n",
    "    frec_df_mmse = frec_df_mmse[frec_df_mmse['MMSE'] >= 21]\n",
    "    frec_df_mmse = frec_df_mmse.dropna()\n",
    "    frec_df_mmse.reset_index(drop=True)\n",
    "\n",
    "   \n",
    "    mediana = frec_df_mmse[outcome].median()\n",
    "    frec_df_mmse[outcome + '_b'] = (frec_df_mmse[outcome] > mediana).astype(int)\n",
    "    \n",
    "    y_frec_1A = frec_df_mmse[outcome + '_b']\n",
    "    X_frec_1A = frec_df_mmse[['GINI', 'MMSE']]\n",
    "\n",
    "    scaler = MinMaxScaler([0.05, 0.95])\n",
    "    scaling_data = scaler.fit_transform(X_frec_1A)\n",
    "    X_frec_1A_s = pd.DataFrame(scaling_data, columns= X_frec_1A.columns, index = X_frec_1A.index)\n",
    "    \n",
    "    X_frec_1A =  X_frec_1A_s.copy()\n",
    "\n",
    "    \n",
    "    opt_XGB = SearchBestModel(X_frec_1A, y_frec_1A)\n",
    "    params_ = dict(opt_XGB.best_params_)\n",
    "    \n",
    "\n",
    "    r = classifier_ROC(X_frec_1A, y_frec_1A, False, params_)\n",
    "    gini_mmse_results[outcome] = r\n",
    "    gini_mmse_results_auc[outcome] = r[2]\n",
    "    gini_mmse_paragram[outcome] = params_"
   ]
  },
  {
   "cell_type": "code",
   "execution_count": null,
   "id": "7b376ae3",
   "metadata": {},
   "outputs": [],
   "source": [
    "top_10_keys_gini_mmse = heapq.nlargest(10, gini_mmse_results_auc, key=gini_mmse_results_auc.get)\n",
    "top_10_keys_gini_mmse"
   ]
  }
 ],
 "metadata": {
  "kernelspec": {
   "display_name": "Python 3 (ipykernel)",
   "language": "python",
   "name": "python3"
  },
  "language_info": {
   "codemirror_mode": {
    "name": "ipython",
    "version": 3
   },
   "file_extension": ".py",
   "mimetype": "text/x-python",
   "name": "python",
   "nbconvert_exporter": "python",
   "pygments_lexer": "ipython3",
   "version": "3.9.13"
  }
 },
 "nbformat": 4,
 "nbformat_minor": 5
}
