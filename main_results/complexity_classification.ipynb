{
 "cells": [
  {
   "cell_type": "code",
   "execution_count": 1,
   "id": "085c8d5e",
   "metadata": {},
   "outputs": [],
   "source": [
    "from __future__ import division\n",
    "from sklearn.model_selection import train_test_split\n",
    "from sklearn.metrics import mean_squared_error, r2_score\n",
    "from xgboost import XGBClassifier\n",
    "import pandas as pd\n",
    "import numpy as np\n",
    "import re\n",
    "import pickle\n",
    "import matplotlib.pyplot as plt\n",
    "from xgboost import plot_importance\n",
    "import plotly.graph_objects as go\n",
    "from tqdm.notebook import tqdm\n",
    "from sklearn.model_selection import RepeatedKFold\n",
    "import xgboost as xgb\n",
    "from sklearn.metrics import roc_auc_score, roc_curve, f1_score, accuracy_score, recall_score, precision_score, confusion_matrix, mean_squared_error\n",
    "import seaborn as sns\n",
    "from sklearn.preprocessing import MinMaxScaler\n",
    "from sklearn.model_selection import train_test_split\n",
    "from sklearn.linear_model import LinearRegression\n",
    "from sklearn.metrics import mean_squared_error, r2_score\n",
    "from sklearn.feature_selection import SelectKBest\n",
    "from sklearn.feature_selection import f_regression\n",
    "from sklearn.feature_selection import mutual_info_regression, f_regression\n",
    "from sklearn.pipeline import Pipeline\n",
    "from sklearn.model_selection import GridSearchCV\n",
    "from sklearn.model_selection import RepeatedKFold\n",
    "from sklearn.utils import shuffle\n",
    "from sklearn import metrics\n",
    "from skopt import BayesSearchCV\n",
    "from sklearn.model_selection import train_test_split\n",
    "import statsmodels.api as sm\n",
    "import time\n",
    "import scipy\n",
    "from sklearn.svm import SVR\n",
    "from skopt import BayesSearchCV\n",
    "from sklearn.ensemble import RandomForestRegressor\n",
    "from statsmodels.stats.multitest import fdrcorrection\n",
    "from statsmodels.stats import multitest\n",
    "from sklearn.linear_model import RidgeCV, LassoCV, Ridge, Lasso\n",
    "from sklearn.ensemble import ExtraTreesClassifier\n",
    "from collections import Counter\n",
    "import heapq\n",
    "import statsmodels.api as sm\n",
    "import re\n",
    "from sklearn.preprocessing import MinMaxScaler\n",
    "import os\n",
    "from scipy.stats import linregress"
   ]
  },
  {
   "cell_type": "code",
   "execution_count": 2,
   "id": "cede6b3f",
   "metadata": {},
   "outputs": [
    {
     "data": {
      "text/html": [
       "<div>\n",
       "<style scoped>\n",
       "    .dataframe tbody tr th:only-of-type {\n",
       "        vertical-align: middle;\n",
       "    }\n",
       "\n",
       "    .dataframe tbody tr th {\n",
       "        vertical-align: top;\n",
       "    }\n",
       "\n",
       "    .dataframe thead th {\n",
       "        text-align: right;\n",
       "    }\n",
       "</style>\n",
       "<table border=\"1\" class=\"dataframe\">\n",
       "  <thead>\n",
       "    <tr style=\"text-align: right;\">\n",
       "      <th></th>\n",
       "      <th>SSV_IFG_L</th>\n",
       "      <th>SSV_IFG_R</th>\n",
       "      <th>SSV_TEMP_left</th>\n",
       "      <th>SSV_TEMP_right</th>\n",
       "      <th>SSV_OCC_left</th>\n",
       "      <th>SSV_OCC_right</th>\n",
       "      <th>WMEAN_ALL</th>\n",
       "      <th>PE_ALL</th>\n",
       "      <th>FD_ALL</th>\n",
       "      <th>Age</th>\n",
       "      <th>Sex</th>\n",
       "      <th>Educ</th>\n",
       "      <th>MMSE</th>\n",
       "      <th>GINI</th>\n",
       "      <th>ODQ</th>\n",
       "    </tr>\n",
       "  </thead>\n",
       "  <tbody>\n",
       "    <tr>\n",
       "      <th>0</th>\n",
       "      <td>0.006332</td>\n",
       "      <td>0.005878</td>\n",
       "      <td>0.002696</td>\n",
       "      <td>0.007597</td>\n",
       "      <td>0.001630</td>\n",
       "      <td>0.006095</td>\n",
       "      <td>0.686534</td>\n",
       "      <td>1.115442</td>\n",
       "      <td>0.858276</td>\n",
       "      <td>33.0</td>\n",
       "      <td>1.0</td>\n",
       "      <td>19.0</td>\n",
       "      <td>30.0</td>\n",
       "      <td>40.70</td>\n",
       "      <td>99.282421</td>\n",
       "    </tr>\n",
       "    <tr>\n",
       "      <th>1</th>\n",
       "      <td>0.004393</td>\n",
       "      <td>0.006609</td>\n",
       "      <td>0.005131</td>\n",
       "      <td>0.002860</td>\n",
       "      <td>0.008439</td>\n",
       "      <td>0.004499</td>\n",
       "      <td>0.685793</td>\n",
       "      <td>1.107025</td>\n",
       "      <td>0.770389</td>\n",
       "      <td>57.0</td>\n",
       "      <td>2.0</td>\n",
       "      <td>13.0</td>\n",
       "      <td>NaN</td>\n",
       "      <td>40.70</td>\n",
       "      <td>99.739738</td>\n",
       "    </tr>\n",
       "    <tr>\n",
       "      <th>2</th>\n",
       "      <td>0.004991</td>\n",
       "      <td>0.012247</td>\n",
       "      <td>0.004234</td>\n",
       "      <td>0.008351</td>\n",
       "      <td>0.004922</td>\n",
       "      <td>0.004755</td>\n",
       "      <td>0.690579</td>\n",
       "      <td>1.220202</td>\n",
       "      <td>0.928685</td>\n",
       "      <td>32.0</td>\n",
       "      <td>1.0</td>\n",
       "      <td>10.0</td>\n",
       "      <td>NaN</td>\n",
       "      <td>40.70</td>\n",
       "      <td>99.361739</td>\n",
       "    </tr>\n",
       "    <tr>\n",
       "      <th>3</th>\n",
       "      <td>0.009637</td>\n",
       "      <td>0.010634</td>\n",
       "      <td>0.002398</td>\n",
       "      <td>0.005989</td>\n",
       "      <td>0.006487</td>\n",
       "      <td>0.008972</td>\n",
       "      <td>0.691175</td>\n",
       "      <td>1.161459</td>\n",
       "      <td>0.868296</td>\n",
       "      <td>21.0</td>\n",
       "      <td>1.0</td>\n",
       "      <td>13.0</td>\n",
       "      <td>NaN</td>\n",
       "      <td>40.70</td>\n",
       "      <td>99.561273</td>\n",
       "    </tr>\n",
       "    <tr>\n",
       "      <th>4</th>\n",
       "      <td>0.047744</td>\n",
       "      <td>0.044420</td>\n",
       "      <td>0.021100</td>\n",
       "      <td>0.041289</td>\n",
       "      <td>0.033726</td>\n",
       "      <td>0.039503</td>\n",
       "      <td>0.761280</td>\n",
       "      <td>1.304064</td>\n",
       "      <td>1.329737</td>\n",
       "      <td>19.0</td>\n",
       "      <td>1.0</td>\n",
       "      <td>13.0</td>\n",
       "      <td>30.0</td>\n",
       "      <td>40.70</td>\n",
       "      <td>99.822774</td>\n",
       "    </tr>\n",
       "    <tr>\n",
       "      <th>...</th>\n",
       "      <td>...</td>\n",
       "      <td>...</td>\n",
       "      <td>...</td>\n",
       "      <td>...</td>\n",
       "      <td>...</td>\n",
       "      <td>...</td>\n",
       "      <td>...</td>\n",
       "      <td>...</td>\n",
       "      <td>...</td>\n",
       "      <td>...</td>\n",
       "      <td>...</td>\n",
       "      <td>...</td>\n",
       "      <td>...</td>\n",
       "      <td>...</td>\n",
       "      <td>...</td>\n",
       "    </tr>\n",
       "    <tr>\n",
       "      <th>1443</th>\n",
       "      <td>0.039185</td>\n",
       "      <td>0.057890</td>\n",
       "      <td>0.028184</td>\n",
       "      <td>0.045887</td>\n",
       "      <td>0.023076</td>\n",
       "      <td>0.027280</td>\n",
       "      <td>0.763815</td>\n",
       "      <td>1.323419</td>\n",
       "      <td>1.369073</td>\n",
       "      <td>57.0</td>\n",
       "      <td>2.0</td>\n",
       "      <td>17.0</td>\n",
       "      <td>30.0</td>\n",
       "      <td>44.92</td>\n",
       "      <td>98.650235</td>\n",
       "    </tr>\n",
       "    <tr>\n",
       "      <th>1444</th>\n",
       "      <td>0.015117</td>\n",
       "      <td>0.029721</td>\n",
       "      <td>0.009227</td>\n",
       "      <td>0.020449</td>\n",
       "      <td>0.005755</td>\n",
       "      <td>0.006213</td>\n",
       "      <td>0.704867</td>\n",
       "      <td>1.209097</td>\n",
       "      <td>1.106284</td>\n",
       "      <td>48.0</td>\n",
       "      <td>2.0</td>\n",
       "      <td>17.0</td>\n",
       "      <td>28.0</td>\n",
       "      <td>44.92</td>\n",
       "      <td>99.599221</td>\n",
       "    </tr>\n",
       "    <tr>\n",
       "      <th>1445</th>\n",
       "      <td>0.020988</td>\n",
       "      <td>0.022166</td>\n",
       "      <td>0.017896</td>\n",
       "      <td>0.015321</td>\n",
       "      <td>0.017710</td>\n",
       "      <td>0.014295</td>\n",
       "      <td>0.712716</td>\n",
       "      <td>1.211582</td>\n",
       "      <td>1.218559</td>\n",
       "      <td>57.0</td>\n",
       "      <td>2.0</td>\n",
       "      <td>17.0</td>\n",
       "      <td>29.0</td>\n",
       "      <td>44.92</td>\n",
       "      <td>99.675799</td>\n",
       "    </tr>\n",
       "    <tr>\n",
       "      <th>1446</th>\n",
       "      <td>0.008930</td>\n",
       "      <td>0.008111</td>\n",
       "      <td>0.056805</td>\n",
       "      <td>0.016624</td>\n",
       "      <td>0.108049</td>\n",
       "      <td>0.106354</td>\n",
       "      <td>0.744955</td>\n",
       "      <td>1.506019</td>\n",
       "      <td>1.242872</td>\n",
       "      <td>69.0</td>\n",
       "      <td>2.0</td>\n",
       "      <td>12.0</td>\n",
       "      <td>30.0</td>\n",
       "      <td>44.92</td>\n",
       "      <td>99.641446</td>\n",
       "    </tr>\n",
       "    <tr>\n",
       "      <th>1447</th>\n",
       "      <td>0.049871</td>\n",
       "      <td>0.047787</td>\n",
       "      <td>0.049337</td>\n",
       "      <td>0.040588</td>\n",
       "      <td>0.028305</td>\n",
       "      <td>0.021798</td>\n",
       "      <td>0.766217</td>\n",
       "      <td>1.315600</td>\n",
       "      <td>1.358934</td>\n",
       "      <td>64.0</td>\n",
       "      <td>2.0</td>\n",
       "      <td>22.0</td>\n",
       "      <td>30.0</td>\n",
       "      <td>44.92</td>\n",
       "      <td>98.420503</td>\n",
       "    </tr>\n",
       "  </tbody>\n",
       "</table>\n",
       "<p>1383 rows × 15 columns</p>\n",
       "</div>"
      ],
      "text/plain": [
       "      SSV_IFG_L  SSV_IFG_R  SSV_TEMP_left  SSV_TEMP_right  SSV_OCC_left  \\\n",
       "0      0.006332   0.005878       0.002696        0.007597      0.001630   \n",
       "1      0.004393   0.006609       0.005131        0.002860      0.008439   \n",
       "2      0.004991   0.012247       0.004234        0.008351      0.004922   \n",
       "3      0.009637   0.010634       0.002398        0.005989      0.006487   \n",
       "4      0.047744   0.044420       0.021100        0.041289      0.033726   \n",
       "...         ...        ...            ...             ...           ...   \n",
       "1443   0.039185   0.057890       0.028184        0.045887      0.023076   \n",
       "1444   0.015117   0.029721       0.009227        0.020449      0.005755   \n",
       "1445   0.020988   0.022166       0.017896        0.015321      0.017710   \n",
       "1446   0.008930   0.008111       0.056805        0.016624      0.108049   \n",
       "1447   0.049871   0.047787       0.049337        0.040588      0.028305   \n",
       "\n",
       "      SSV_OCC_right  WMEAN_ALL    PE_ALL    FD_ALL   Age  Sex  Educ  MMSE  \\\n",
       "0          0.006095   0.686534  1.115442  0.858276  33.0  1.0  19.0  30.0   \n",
       "1          0.004499   0.685793  1.107025  0.770389  57.0  2.0  13.0   NaN   \n",
       "2          0.004755   0.690579  1.220202  0.928685  32.0  1.0  10.0   NaN   \n",
       "3          0.008972   0.691175  1.161459  0.868296  21.0  1.0  13.0   NaN   \n",
       "4          0.039503   0.761280  1.304064  1.329737  19.0  1.0  13.0  30.0   \n",
       "...             ...        ...       ...       ...   ...  ...   ...   ...   \n",
       "1443       0.027280   0.763815  1.323419  1.369073  57.0  2.0  17.0  30.0   \n",
       "1444       0.006213   0.704867  1.209097  1.106284  48.0  2.0  17.0  28.0   \n",
       "1445       0.014295   0.712716  1.211582  1.218559  57.0  2.0  17.0  29.0   \n",
       "1446       0.106354   0.744955  1.506019  1.242872  69.0  2.0  12.0  30.0   \n",
       "1447       0.021798   0.766217  1.315600  1.358934  64.0  2.0  22.0  30.0   \n",
       "\n",
       "       GINI        ODQ  \n",
       "0     40.70  99.282421  \n",
       "1     40.70  99.739738  \n",
       "2     40.70  99.361739  \n",
       "3     40.70  99.561273  \n",
       "4     40.70  99.822774  \n",
       "...     ...        ...  \n",
       "1443  44.92  98.650235  \n",
       "1444  44.92  99.599221  \n",
       "1445  44.92  99.675799  \n",
       "1446  44.92  99.641446  \n",
       "1447  44.92  98.420503  \n",
       "\n",
       "[1383 rows x 15 columns]"
      ]
     },
     "execution_count": 2,
     "metadata": {},
     "output_type": "execute_result"
    }
   ],
   "source": [
    "compl_df =  pd.read_excel('Data/complexity.xlsx', index_col=0)\n",
    "compl_df"
   ]
  },
  {
   "cell_type": "code",
   "execution_count": null,
   "id": "0809f0c0",
   "metadata": {},
   "outputs": [],
   "source": []
  },
  {
   "cell_type": "code",
   "execution_count": 3,
   "id": "bda1b4fa",
   "metadata": {},
   "outputs": [],
   "source": [
    "def normalize_value(value, max_value):\n",
    "\n",
    "    return value / max_value if max_value > 0 else 0\n",
    "\n",
    "def custom_normalize(row, outcome):\n",
    "\n",
    "    max_val_lt = row['max_value_lt_threshold_' + outcome]\n",
    "    max_val_gt = row['max_value_gt_threshold_' + outcome]\n",
    "    \n",
    "    if row[outcome] < max_val_lt:\n",
    "        return normalize_value(row[outcome], max_val_lt)\n",
    "    else:\n",
    "        return 1- normalize_value(row[outcome], max_val_gt)"
   ]
  },
  {
   "cell_type": "code",
   "execution_count": 4,
   "id": "6b95e4ac",
   "metadata": {},
   "outputs": [
    {
     "data": {
      "text/plain": [
       "['SSV_IFG_L',\n",
       " 'SSV_IFG_R',\n",
       " 'SSV_TEMP_left',\n",
       " 'SSV_TEMP_right',\n",
       " 'SSV_OCC_left',\n",
       " 'SSV_OCC_right',\n",
       " 'WMEAN_ALL',\n",
       " 'PE_ALL',\n",
       " 'FD_ALL']"
      ]
     },
     "execution_count": 4,
     "metadata": {},
     "output_type": "execute_result"
    }
   ],
   "source": [
    "outcomes_list = list(compl_df.iloc[:,0:-6].columns)\n",
    "outcomes_list"
   ]
  },
  {
   "cell_type": "code",
   "execution_count": 5,
   "id": "a7104e81",
   "metadata": {},
   "outputs": [],
   "source": [
    "for outcome in outcomes_list:\n",
    "    mean_outcome = compl_df[outcome].mean()\n",
    "    std_outcome = compl_df[outcome].std()\n",
    "    \n",
    "    compl_df['max_value_lt_threshold_' + outcome] = compl_df[compl_df[outcome] < (mean_outcome - 1.2 * std_outcome)][outcome].max()\n",
    "    compl_df['max_value_gt_threshold_' + outcome] = compl_df[compl_df[outcome] >= (mean_outcome - 1.2 * std_outcome)][outcome].max()\n"
   ]
  },
  {
   "cell_type": "code",
   "execution_count": 6,
   "id": "626effcb",
   "metadata": {},
   "outputs": [],
   "source": [
    "for outcome in outcomes_list:\n",
    "    compl_df[outcome + '_normalized'] = compl_df.apply(custom_normalize, axis=1, outcome=outcome)"
   ]
  },
  {
   "cell_type": "code",
   "execution_count": 7,
   "id": "fe0be24e",
   "metadata": {},
   "outputs": [
    {
     "data": {
      "text/html": [
       "<div>\n",
       "<style scoped>\n",
       "    .dataframe tbody tr th:only-of-type {\n",
       "        vertical-align: middle;\n",
       "    }\n",
       "\n",
       "    .dataframe tbody tr th {\n",
       "        vertical-align: top;\n",
       "    }\n",
       "\n",
       "    .dataframe thead th {\n",
       "        text-align: right;\n",
       "    }\n",
       "</style>\n",
       "<table border=\"1\" class=\"dataframe\">\n",
       "  <thead>\n",
       "    <tr style=\"text-align: right;\">\n",
       "      <th></th>\n",
       "      <th>SSV_IFG_L</th>\n",
       "      <th>SSV_IFG_R</th>\n",
       "      <th>SSV_TEMP_left</th>\n",
       "      <th>SSV_TEMP_right</th>\n",
       "      <th>SSV_OCC_left</th>\n",
       "      <th>SSV_OCC_right</th>\n",
       "      <th>WMEAN_ALL</th>\n",
       "      <th>PE_ALL</th>\n",
       "      <th>FD_ALL</th>\n",
       "      <th>Age</th>\n",
       "      <th>...</th>\n",
       "      <th>max_value_gt_threshold_FD_ALL</th>\n",
       "      <th>SSV_IFG_L_normalized</th>\n",
       "      <th>SSV_IFG_R_normalized</th>\n",
       "      <th>SSV_TEMP_left_normalized</th>\n",
       "      <th>SSV_TEMP_right_normalized</th>\n",
       "      <th>SSV_OCC_left_normalized</th>\n",
       "      <th>SSV_OCC_right_normalized</th>\n",
       "      <th>WMEAN_ALL_normalized</th>\n",
       "      <th>PE_ALL_normalized</th>\n",
       "      <th>FD_ALL_normalized</th>\n",
       "    </tr>\n",
       "  </thead>\n",
       "  <tbody>\n",
       "    <tr>\n",
       "      <th>0</th>\n",
       "      <td>0.006332</td>\n",
       "      <td>0.005878</td>\n",
       "      <td>0.002696</td>\n",
       "      <td>0.007597</td>\n",
       "      <td>0.001630</td>\n",
       "      <td>0.006095</td>\n",
       "      <td>0.686534</td>\n",
       "      <td>1.115442</td>\n",
       "      <td>0.858276</td>\n",
       "      <td>33.0</td>\n",
       "      <td>...</td>\n",
       "      <td>2.012878</td>\n",
       "      <td>0.190413</td>\n",
       "      <td>0.165287</td>\n",
       "      <td>0.096433</td>\n",
       "      <td>0.232730</td>\n",
       "      <td>0.073717</td>\n",
       "      <td>0.259730</td>\n",
       "      <td>0.933220</td>\n",
       "      <td>0.845839</td>\n",
       "      <td>0.711611</td>\n",
       "    </tr>\n",
       "    <tr>\n",
       "      <th>1</th>\n",
       "      <td>0.004393</td>\n",
       "      <td>0.006609</td>\n",
       "      <td>0.005131</td>\n",
       "      <td>0.002860</td>\n",
       "      <td>0.008439</td>\n",
       "      <td>0.004499</td>\n",
       "      <td>0.685793</td>\n",
       "      <td>1.107025</td>\n",
       "      <td>0.770389</td>\n",
       "      <td>57.0</td>\n",
       "      <td>...</td>\n",
       "      <td>2.012878</td>\n",
       "      <td>0.132095</td>\n",
       "      <td>0.185825</td>\n",
       "      <td>0.183533</td>\n",
       "      <td>0.087604</td>\n",
       "      <td>0.381551</td>\n",
       "      <td>0.191702</td>\n",
       "      <td>0.932213</td>\n",
       "      <td>0.839456</td>\n",
       "      <td>0.638743</td>\n",
       "    </tr>\n",
       "    <tr>\n",
       "      <th>2</th>\n",
       "      <td>0.004991</td>\n",
       "      <td>0.012247</td>\n",
       "      <td>0.004234</td>\n",
       "      <td>0.008351</td>\n",
       "      <td>0.004922</td>\n",
       "      <td>0.004755</td>\n",
       "      <td>0.690579</td>\n",
       "      <td>1.220202</td>\n",
       "      <td>0.928685</td>\n",
       "      <td>32.0</td>\n",
       "      <td>...</td>\n",
       "      <td>2.012878</td>\n",
       "      <td>0.150073</td>\n",
       "      <td>0.344356</td>\n",
       "      <td>0.151444</td>\n",
       "      <td>0.255849</td>\n",
       "      <td>0.222539</td>\n",
       "      <td>0.202619</td>\n",
       "      <td>0.938719</td>\n",
       "      <td>0.925279</td>\n",
       "      <td>0.769988</td>\n",
       "    </tr>\n",
       "    <tr>\n",
       "      <th>3</th>\n",
       "      <td>0.009637</td>\n",
       "      <td>0.010634</td>\n",
       "      <td>0.002398</td>\n",
       "      <td>0.005989</td>\n",
       "      <td>0.006487</td>\n",
       "      <td>0.008972</td>\n",
       "      <td>0.691175</td>\n",
       "      <td>1.161459</td>\n",
       "      <td>0.868296</td>\n",
       "      <td>21.0</td>\n",
       "      <td>...</td>\n",
       "      <td>2.012878</td>\n",
       "      <td>0.289784</td>\n",
       "      <td>0.299017</td>\n",
       "      <td>0.085762</td>\n",
       "      <td>0.183465</td>\n",
       "      <td>0.293292</td>\n",
       "      <td>0.382314</td>\n",
       "      <td>0.939529</td>\n",
       "      <td>0.880734</td>\n",
       "      <td>0.719919</td>\n",
       "    </tr>\n",
       "    <tr>\n",
       "      <th>4</th>\n",
       "      <td>0.047744</td>\n",
       "      <td>0.044420</td>\n",
       "      <td>0.021100</td>\n",
       "      <td>0.041289</td>\n",
       "      <td>0.033726</td>\n",
       "      <td>0.039503</td>\n",
       "      <td>0.761280</td>\n",
       "      <td>1.304064</td>\n",
       "      <td>1.329737</td>\n",
       "      <td>19.0</td>\n",
       "      <td>...</td>\n",
       "      <td>2.012878</td>\n",
       "      <td>0.807744</td>\n",
       "      <td>0.837941</td>\n",
       "      <td>0.754722</td>\n",
       "      <td>0.841393</td>\n",
       "      <td>0.872932</td>\n",
       "      <td>0.869626</td>\n",
       "      <td>0.505173</td>\n",
       "      <td>0.988871</td>\n",
       "      <td>0.339385</td>\n",
       "    </tr>\n",
       "    <tr>\n",
       "      <th>...</th>\n",
       "      <td>...</td>\n",
       "      <td>...</td>\n",
       "      <td>...</td>\n",
       "      <td>...</td>\n",
       "      <td>...</td>\n",
       "      <td>...</td>\n",
       "      <td>...</td>\n",
       "      <td>...</td>\n",
       "      <td>...</td>\n",
       "      <td>...</td>\n",
       "      <td>...</td>\n",
       "      <td>...</td>\n",
       "      <td>...</td>\n",
       "      <td>...</td>\n",
       "      <td>...</td>\n",
       "      <td>...</td>\n",
       "      <td>...</td>\n",
       "      <td>...</td>\n",
       "      <td>...</td>\n",
       "      <td>...</td>\n",
       "      <td>...</td>\n",
       "    </tr>\n",
       "    <tr>\n",
       "      <th>1443</th>\n",
       "      <td>0.039185</td>\n",
       "      <td>0.057890</td>\n",
       "      <td>0.028184</td>\n",
       "      <td>0.045887</td>\n",
       "      <td>0.023076</td>\n",
       "      <td>0.027280</td>\n",
       "      <td>0.763815</td>\n",
       "      <td>1.323419</td>\n",
       "      <td>1.369073</td>\n",
       "      <td>57.0</td>\n",
       "      <td>...</td>\n",
       "      <td>2.012878</td>\n",
       "      <td>0.842209</td>\n",
       "      <td>0.788797</td>\n",
       "      <td>0.897937</td>\n",
       "      <td>0.823732</td>\n",
       "      <td>0.913060</td>\n",
       "      <td>0.909967</td>\n",
       "      <td>0.503525</td>\n",
       "      <td>0.260651</td>\n",
       "      <td>0.319843</td>\n",
       "    </tr>\n",
       "    <tr>\n",
       "      <th>1444</th>\n",
       "      <td>0.015117</td>\n",
       "      <td>0.029721</td>\n",
       "      <td>0.009227</td>\n",
       "      <td>0.020449</td>\n",
       "      <td>0.005755</td>\n",
       "      <td>0.006213</td>\n",
       "      <td>0.704867</td>\n",
       "      <td>1.209097</td>\n",
       "      <td>1.106284</td>\n",
       "      <td>48.0</td>\n",
       "      <td>...</td>\n",
       "      <td>2.012878</td>\n",
       "      <td>0.454584</td>\n",
       "      <td>0.835698</td>\n",
       "      <td>0.330024</td>\n",
       "      <td>0.626481</td>\n",
       "      <td>0.260202</td>\n",
       "      <td>0.264769</td>\n",
       "      <td>0.958140</td>\n",
       "      <td>0.916858</td>\n",
       "      <td>0.917239</td>\n",
       "    </tr>\n",
       "    <tr>\n",
       "      <th>1445</th>\n",
       "      <td>0.020988</td>\n",
       "      <td>0.022166</td>\n",
       "      <td>0.017896</td>\n",
       "      <td>0.015321</td>\n",
       "      <td>0.017710</td>\n",
       "      <td>0.014295</td>\n",
       "      <td>0.712716</td>\n",
       "      <td>1.211582</td>\n",
       "      <td>1.218559</td>\n",
       "      <td>57.0</td>\n",
       "      <td>...</td>\n",
       "      <td>2.012878</td>\n",
       "      <td>0.631121</td>\n",
       "      <td>0.623260</td>\n",
       "      <td>0.640119</td>\n",
       "      <td>0.469370</td>\n",
       "      <td>0.800715</td>\n",
       "      <td>0.609143</td>\n",
       "      <td>0.968810</td>\n",
       "      <td>0.918742</td>\n",
       "      <td>0.394619</td>\n",
       "    </tr>\n",
       "    <tr>\n",
       "      <th>1446</th>\n",
       "      <td>0.008930</td>\n",
       "      <td>0.008111</td>\n",
       "      <td>0.056805</td>\n",
       "      <td>0.016624</td>\n",
       "      <td>0.108049</td>\n",
       "      <td>0.106354</td>\n",
       "      <td>0.744955</td>\n",
       "      <td>1.506019</td>\n",
       "      <td>1.242872</td>\n",
       "      <td>69.0</td>\n",
       "      <td>...</td>\n",
       "      <td>2.012878</td>\n",
       "      <td>0.268544</td>\n",
       "      <td>0.228080</td>\n",
       "      <td>0.794292</td>\n",
       "      <td>0.509293</td>\n",
       "      <td>0.592913</td>\n",
       "      <td>0.648992</td>\n",
       "      <td>0.515784</td>\n",
       "      <td>0.158638</td>\n",
       "      <td>0.382540</td>\n",
       "    </tr>\n",
       "    <tr>\n",
       "      <th>1447</th>\n",
       "      <td>0.049871</td>\n",
       "      <td>0.047787</td>\n",
       "      <td>0.049337</td>\n",
       "      <td>0.040588</td>\n",
       "      <td>0.028305</td>\n",
       "      <td>0.021798</td>\n",
       "      <td>0.766217</td>\n",
       "      <td>1.315600</td>\n",
       "      <td>1.358934</td>\n",
       "      <td>64.0</td>\n",
       "      <td>...</td>\n",
       "      <td>2.012878</td>\n",
       "      <td>0.799179</td>\n",
       "      <td>0.825657</td>\n",
       "      <td>0.821335</td>\n",
       "      <td>0.844087</td>\n",
       "      <td>0.893357</td>\n",
       "      <td>0.928871</td>\n",
       "      <td>0.501964</td>\n",
       "      <td>0.997619</td>\n",
       "      <td>0.324880</td>\n",
       "    </tr>\n",
       "  </tbody>\n",
       "</table>\n",
       "<p>1383 rows × 42 columns</p>\n",
       "</div>"
      ],
      "text/plain": [
       "      SSV_IFG_L  SSV_IFG_R  SSV_TEMP_left  SSV_TEMP_right  SSV_OCC_left  \\\n",
       "0      0.006332   0.005878       0.002696        0.007597      0.001630   \n",
       "1      0.004393   0.006609       0.005131        0.002860      0.008439   \n",
       "2      0.004991   0.012247       0.004234        0.008351      0.004922   \n",
       "3      0.009637   0.010634       0.002398        0.005989      0.006487   \n",
       "4      0.047744   0.044420       0.021100        0.041289      0.033726   \n",
       "...         ...        ...            ...             ...           ...   \n",
       "1443   0.039185   0.057890       0.028184        0.045887      0.023076   \n",
       "1444   0.015117   0.029721       0.009227        0.020449      0.005755   \n",
       "1445   0.020988   0.022166       0.017896        0.015321      0.017710   \n",
       "1446   0.008930   0.008111       0.056805        0.016624      0.108049   \n",
       "1447   0.049871   0.047787       0.049337        0.040588      0.028305   \n",
       "\n",
       "      SSV_OCC_right  WMEAN_ALL    PE_ALL    FD_ALL   Age  ...  \\\n",
       "0          0.006095   0.686534  1.115442  0.858276  33.0  ...   \n",
       "1          0.004499   0.685793  1.107025  0.770389  57.0  ...   \n",
       "2          0.004755   0.690579  1.220202  0.928685  32.0  ...   \n",
       "3          0.008972   0.691175  1.161459  0.868296  21.0  ...   \n",
       "4          0.039503   0.761280  1.304064  1.329737  19.0  ...   \n",
       "...             ...        ...       ...       ...   ...  ...   \n",
       "1443       0.027280   0.763815  1.323419  1.369073  57.0  ...   \n",
       "1444       0.006213   0.704867  1.209097  1.106284  48.0  ...   \n",
       "1445       0.014295   0.712716  1.211582  1.218559  57.0  ...   \n",
       "1446       0.106354   0.744955  1.506019  1.242872  69.0  ...   \n",
       "1447       0.021798   0.766217  1.315600  1.358934  64.0  ...   \n",
       "\n",
       "      max_value_gt_threshold_FD_ALL  SSV_IFG_L_normalized  \\\n",
       "0                          2.012878              0.190413   \n",
       "1                          2.012878              0.132095   \n",
       "2                          2.012878              0.150073   \n",
       "3                          2.012878              0.289784   \n",
       "4                          2.012878              0.807744   \n",
       "...                             ...                   ...   \n",
       "1443                       2.012878              0.842209   \n",
       "1444                       2.012878              0.454584   \n",
       "1445                       2.012878              0.631121   \n",
       "1446                       2.012878              0.268544   \n",
       "1447                       2.012878              0.799179   \n",
       "\n",
       "      SSV_IFG_R_normalized  SSV_TEMP_left_normalized  \\\n",
       "0                 0.165287                  0.096433   \n",
       "1                 0.185825                  0.183533   \n",
       "2                 0.344356                  0.151444   \n",
       "3                 0.299017                  0.085762   \n",
       "4                 0.837941                  0.754722   \n",
       "...                    ...                       ...   \n",
       "1443              0.788797                  0.897937   \n",
       "1444              0.835698                  0.330024   \n",
       "1445              0.623260                  0.640119   \n",
       "1446              0.228080                  0.794292   \n",
       "1447              0.825657                  0.821335   \n",
       "\n",
       "      SSV_TEMP_right_normalized  SSV_OCC_left_normalized  \\\n",
       "0                      0.232730                 0.073717   \n",
       "1                      0.087604                 0.381551   \n",
       "2                      0.255849                 0.222539   \n",
       "3                      0.183465                 0.293292   \n",
       "4                      0.841393                 0.872932   \n",
       "...                         ...                      ...   \n",
       "1443                   0.823732                 0.913060   \n",
       "1444                   0.626481                 0.260202   \n",
       "1445                   0.469370                 0.800715   \n",
       "1446                   0.509293                 0.592913   \n",
       "1447                   0.844087                 0.893357   \n",
       "\n",
       "      SSV_OCC_right_normalized  WMEAN_ALL_normalized  PE_ALL_normalized  \\\n",
       "0                     0.259730              0.933220           0.845839   \n",
       "1                     0.191702              0.932213           0.839456   \n",
       "2                     0.202619              0.938719           0.925279   \n",
       "3                     0.382314              0.939529           0.880734   \n",
       "4                     0.869626              0.505173           0.988871   \n",
       "...                        ...                   ...                ...   \n",
       "1443                  0.909967              0.503525           0.260651   \n",
       "1444                  0.264769              0.958140           0.916858   \n",
       "1445                  0.609143              0.968810           0.918742   \n",
       "1446                  0.648992              0.515784           0.158638   \n",
       "1447                  0.928871              0.501964           0.997619   \n",
       "\n",
       "      FD_ALL_normalized  \n",
       "0              0.711611  \n",
       "1              0.638743  \n",
       "2              0.769988  \n",
       "3              0.719919  \n",
       "4              0.339385  \n",
       "...                 ...  \n",
       "1443           0.319843  \n",
       "1444           0.917239  \n",
       "1445           0.394619  \n",
       "1446           0.382540  \n",
       "1447           0.324880  \n",
       "\n",
       "[1383 rows x 42 columns]"
      ]
     },
     "execution_count": 7,
     "metadata": {},
     "output_type": "execute_result"
    }
   ],
   "source": [
    "compl_df"
   ]
  },
  {
   "cell_type": "code",
   "execution_count": null,
   "id": "23f3f5d3",
   "metadata": {},
   "outputs": [],
   "source": []
  },
  {
   "cell_type": "code",
   "execution_count": 8,
   "id": "a60031bb",
   "metadata": {},
   "outputs": [],
   "source": [
    "def classifier_ROC(X_, y, fig_show = True, params_ = None):\n",
    "    \n",
    "    X_train, X_test, y_train, y_test = train_test_split(X_, y, test_size=0.2, random_state=10000, stratify=y)\n",
    "\n",
    "    #lista = list(sfs_.k_feature_names_)\n",
    "\n",
    "    #X_train = X_train[lista]\n",
    "    #X_test = X_test[lista]\n",
    "\n",
    "    cv    = RepeatedKFold(n_splits=10, n_repeats=2, random_state=101)\n",
    "    folds = [(train,test) for train, test in cv.split(X_train, y_train)]\n",
    "    metrics = ['auc', 'fpr', 'tpr', 'thresholds', 'f1_score', 'accuracy_score', 'recall_score', 'precision_score', 'confusion_matrix', 'model']\n",
    "    results = {\n",
    "        'train': {m:[] for m in metrics},\n",
    "        'val'  : {m:[] for m in metrics},\n",
    "        'test' : {m:[] for m in metrics}\n",
    "    }\n",
    "    X_train = pd.DataFrame(X_train)\n",
    "    y_train = pd.DataFrame(y_train)\n",
    "\n",
    "\n",
    "    if(params_!=None):\n",
    "        params = params_\n",
    "    else:\n",
    "        params = {\n",
    "            'objective'   : 'binary:logistic',\n",
    "            'eval_metric' : 'logloss'\n",
    "        }\n",
    "\n",
    "\n",
    "    plt.rcParams[\"figure.figsize\"] = (10,10)\n",
    "    dtest = xgb.DMatrix(X_test, label=y_test)\n",
    "    for train, test in tqdm(folds, total=len(folds)):\n",
    "        dtrain = xgb.DMatrix(X_train.iloc[train,:], label=y_train.iloc[train])\n",
    "        dval   = xgb.DMatrix(X_train.iloc[test,:], label=y_train.iloc[test])\n",
    "        model  = xgb.train(\n",
    "            dtrain                = dtrain,\n",
    "            params                = params, \n",
    "            evals                 = [(dtrain, 'train'), (dval, 'val')],\n",
    "            num_boost_round       = 1000,\n",
    "            verbose_eval          = False,\n",
    "            early_stopping_rounds = 10,\n",
    "        )\n",
    "        sets = [dtrain, dval, dtest]\n",
    "\n",
    "        for i,ds in enumerate(results.keys()):\n",
    "            y_preds              = model.predict(sets[i])\n",
    "            labels               = sets[i].get_label()\n",
    "            fpr, tpr, thresholds = roc_curve(labels, y_preds)\n",
    "            results[ds]['fpr'].append(fpr)\n",
    "            results[ds]['tpr'].append(tpr)\n",
    "            results[ds]['thresholds'].append(thresholds)\n",
    "            results[ds]['auc'].append(roc_auc_score(labels, y_preds))\n",
    "\n",
    "            results[ds]['f1_score'].append(f1_score(labels, np.round(y_preds)))\n",
    "            results[ds]['accuracy_score'].append(accuracy_score(labels, np.round(y_preds)))\n",
    "            results[ds]['recall_score'].append(recall_score(labels, np.round(y_preds)))\n",
    "            results[ds]['precision_score'].append(precision_score(labels, np.round(y_preds)))\n",
    "            results[ds]['confusion_matrix'].append(confusion_matrix(labels, np.round(y_preds)))\n",
    "            results[ds]['model'].append(model)\n",
    "\n",
    "\n",
    "    kind = 'test'\n",
    "    c_fill      = 'rgba(52, 152, 219, 0.2)'\n",
    "    c_line      = 'rgba(52, 152, 219, 0.5)'\n",
    "    c_line_main = 'rgba(41, 128, 185, 1.0)'\n",
    "    c_grid      = 'rgba(189, 195, 199, 0.5)'\n",
    "    c_annot     = 'rgba(149, 165, 166, 0.5)'\n",
    "    c_highlight = 'rgba(192, 57, 43, 1.0)'\n",
    "\n",
    "    fpr_mean    = np.linspace(0, 1, 100)\n",
    "    interp_tprs = []\n",
    "\n",
    "    for i in range(10*2):\n",
    "        fpr           = results[kind]['fpr'][i]\n",
    "        tpr           = results[kind]['tpr'][i]\n",
    "        interp_tpr    = np.interp(fpr_mean, fpr, tpr)\n",
    "        interp_tpr[0] = 0.0\n",
    "        interp_tprs.append(interp_tpr)\n",
    "\n",
    "    tpr_mean     = np.mean(interp_tprs, axis=0)\n",
    "    tpr_mean[-1] = 1.0\n",
    "    tpr_std      = 2*np.std(interp_tprs, axis=0)\n",
    "    tpr_upper    = np.clip(tpr_mean+tpr_std, 0, 1)\n",
    "    tpr_lower    = tpr_mean-tpr_std\n",
    "    auc          = np.mean(results[kind]['auc'])\n",
    "    \n",
    "    roc_dict = {}\n",
    "    roc_dict['tpr_mean'] = tpr_mean\n",
    "    roc_dict['tpr_std'] = tpr_std\n",
    "    roc_dict['tpr_upper'] = tpr_upper\n",
    "    roc_dict['tpr_lower'] = tpr_lower\n",
    "    roc_dict['auc'] = auc\n",
    "\n",
    "    if(fig_show):\n",
    "        fig = go.Figure([\n",
    "            go.Scatter(\n",
    "                x          = fpr_mean,\n",
    "                y          = tpr_upper,\n",
    "                line       = dict(color=c_line, width=1),\n",
    "                hoverinfo  = \"skip\",\n",
    "                showlegend = False,\n",
    "                name       = 'upper'),\n",
    "            go.Scatter(\n",
    "                x          = fpr_mean,\n",
    "                y          = tpr_lower,\n",
    "                fill       = 'tonexty',\n",
    "                fillcolor  = c_fill,\n",
    "                line       = dict(color=c_line, width=1),\n",
    "                hoverinfo  = \"skip\",\n",
    "                showlegend = False,\n",
    "                name       = 'lower'),\n",
    "            go.Scatter(\n",
    "                x          = fpr_mean,\n",
    "                y          = tpr_mean,\n",
    "                line       = dict(color=c_line_main, width=2),\n",
    "                hoverinfo  = \"skip\",\n",
    "                showlegend = True,\n",
    "                name       = f'AUC: {auc:.3f}')\n",
    "        ])\n",
    "\n",
    "        fig.add_shape(\n",
    "            type ='line', \n",
    "            line =dict(dash='dash'),\n",
    "            x0=0, x1=1, y0=0, y1=1\n",
    "        )\n",
    "\n",
    "        fig.update_layout(\n",
    "            template    = 'plotly_white', \n",
    "            title_x     = 0.5,\n",
    "            xaxis_title = \"1 - Specificity\",\n",
    "            yaxis_title = \"Sensitivity\",\n",
    "            width       = 800,\n",
    "            height      = 800,\n",
    "            legend      = dict(\n",
    "                yanchor=\"bottom\", \n",
    "                xanchor=\"right\", \n",
    "                x=0.95,\n",
    "                y=0.01,\n",
    "            )\n",
    "        )\n",
    "\n",
    "        fig.update_yaxes(\n",
    "            range       = [0, 1],\n",
    "            gridcolor   = c_grid,\n",
    "            scaleanchor = \"x\", \n",
    "            scaleratio  = 1,\n",
    "            linecolor   = 'black')\n",
    "\n",
    "        fig.update_xaxes(\n",
    "            range       = [0, 1],\n",
    "            gridcolor   = c_grid,\n",
    "            constrain   = 'domain',\n",
    "            linecolor   = 'black')\n",
    "\n",
    "\n",
    "\n",
    "        fig.show()\n",
    "        \n",
    "    else:\n",
    "        print(y.name, 'AUC: ', np.round(auc,2), '+-( ', np.round(np.std(results[kind]['auc']),2), ')', X_.shape)\n",
    "\n",
    "    return (model, results, np.round(auc,2), roc_dict)"
   ]
  },
  {
   "cell_type": "code",
   "execution_count": 9,
   "id": "5ddca0ba",
   "metadata": {
    "scrolled": true
   },
   "outputs": [],
   "source": [
    "from skopt import BayesSearchCV\n",
    "def SearchBestModel(case_x, case_y):\n",
    "\n",
    "    X_train, X_test, y_train, y_test = train_test_split(case_x, case_y, test_size=.2, random_state=1)\n",
    "\n",
    "    opt_XGB = BayesSearchCV(\n",
    "            XGBClassifier(),\n",
    "            {\n",
    "                'objective'   : ['binary:logistic'],\n",
    "                'eval_metric' : ['logloss', 'error', 'auc', 'aucpr'],\n",
    "                'learning_rate': (0.01, 0.1, 0.2),\n",
    "                'max_depth': (3, 4, 5),\n",
    "                'subsample': (0.8, 0.9, 1.0),\n",
    "                'colsample_bytree': (0.8, 0.9, 1.0),\n",
    "                'reg_alpha': (0, 0.1, 1.0),\n",
    "                'reg_lambda': (0, 0.1, 1.0),\n",
    "                #'gamma': (0.001, 0.01, 0.1, 1, 10),\n",
    "            },\n",
    "                          \n",
    "            #n_iter=10,\n",
    "            #cv=3,\n",
    "            random_state=1\n",
    "        )\n",
    "\n",
    "    opt_XGB.fit(X_train, y_train)\n",
    "\n",
    "\n",
    "    print('XGB')\n",
    "    print(\"val. score: %s\" % opt_XGB.best_score_)\n",
    "    print(\"test score: %s\" % opt_XGB.score(X_test, y_test))\n",
    "    print(\"best parameters: %s\" % str(opt_XGB.best_params_))\n",
    "    print('---------------------------------------------\\n')\n",
    "    \n",
    "    return opt_XGB"
   ]
  },
  {
   "cell_type": "markdown",
   "id": "cdfd2904",
   "metadata": {},
   "source": [
    "## Statistical significance check"
   ]
  },
  {
   "cell_type": "code",
   "execution_count": 10,
   "id": "d9bc4f88",
   "metadata": {},
   "outputs": [
    {
     "data": {
      "text/plain": [
       "Index(['SSV_IFG_L', 'SSV_IFG_R', 'SSV_TEMP_left', 'SSV_TEMP_right',\n",
       "       'SSV_OCC_left', 'SSV_OCC_right', 'WMEAN_ALL', 'PE_ALL', 'FD_ALL', 'Age',\n",
       "       'Sex', 'Educ', 'MMSE', 'GINI', 'ODQ',\n",
       "       'max_value_lt_threshold_SSV_IFG_L', 'max_value_gt_threshold_SSV_IFG_L',\n",
       "       'max_value_lt_threshold_SSV_IFG_R', 'max_value_gt_threshold_SSV_IFG_R',\n",
       "       'max_value_lt_threshold_SSV_TEMP_left',\n",
       "       'max_value_gt_threshold_SSV_TEMP_left',\n",
       "       'max_value_lt_threshold_SSV_TEMP_right',\n",
       "       'max_value_gt_threshold_SSV_TEMP_right',\n",
       "       'max_value_lt_threshold_SSV_OCC_left',\n",
       "       'max_value_gt_threshold_SSV_OCC_left',\n",
       "       'max_value_lt_threshold_SSV_OCC_right',\n",
       "       'max_value_gt_threshold_SSV_OCC_right',\n",
       "       'max_value_lt_threshold_WMEAN_ALL', 'max_value_gt_threshold_WMEAN_ALL',\n",
       "       'max_value_lt_threshold_PE_ALL', 'max_value_gt_threshold_PE_ALL',\n",
       "       'max_value_lt_threshold_FD_ALL', 'max_value_gt_threshold_FD_ALL',\n",
       "       'SSV_IFG_L_normalized', 'SSV_IFG_R_normalized',\n",
       "       'SSV_TEMP_left_normalized', 'SSV_TEMP_right_normalized',\n",
       "       'SSV_OCC_left_normalized', 'SSV_OCC_right_normalized',\n",
       "       'WMEAN_ALL_normalized', 'PE_ALL_normalized', 'FD_ALL_normalized'],\n",
       "      dtype='object')"
      ]
     },
     "execution_count": 10,
     "metadata": {},
     "output_type": "execute_result"
    }
   ],
   "source": [
    "compl_df.columns"
   ]
  },
  {
   "cell_type": "code",
   "execution_count": 11,
   "id": "4d95c27b",
   "metadata": {},
   "outputs": [],
   "source": [
    "outcomes_list = list(compl_df.iloc[:,-9::])\n",
    "df_metrics_slopes = pd.DataFrame(columns=outcomes_list)\n",
    "df_metrics_pval = pd.DataFrame(columns=outcomes_list)\n",
    "df_metrics_dir = pd.DataFrame(columns=outcomes_list)\n"
   ]
  },
  {
   "cell_type": "code",
   "execution_count": 12,
   "id": "a26738f5",
   "metadata": {},
   "outputs": [
    {
     "data": {
      "text/plain": [
       "['SSV_IFG_L_normalized',\n",
       " 'SSV_IFG_R_normalized',\n",
       " 'SSV_TEMP_left_normalized',\n",
       " 'SSV_TEMP_right_normalized',\n",
       " 'SSV_OCC_left_normalized',\n",
       " 'SSV_OCC_right_normalized',\n",
       " 'WMEAN_ALL_normalized',\n",
       " 'PE_ALL_normalized',\n",
       " 'FD_ALL_normalized']"
      ]
     },
     "execution_count": 12,
     "metadata": {},
     "output_type": "execute_result"
    }
   ],
   "source": [
    "outcomes_list"
   ]
  },
  {
   "cell_type": "code",
   "execution_count": 13,
   "id": "c2b27878",
   "metadata": {},
   "outputs": [],
   "source": [
    "from scipy.stats import linregress\n",
    "\n",
    "df_metrics_slopes = pd.DataFrame(columns=outcomes_list)\n",
    "\n",
    "for variable_y in outcomes_list:\n",
    "    \n",
    "    c_compl_df_mmse = compl_df[['GINI', variable_y]]\n",
    "    \n",
    "    c_compl_df_mmse = c_compl_df_mmse.dropna()\n",
    "    c_compl_df_mmse.reset_index(drop=True)\n",
    "    \n",
    "    y_compl_1A = c_compl_df_mmse[variable_y]\n",
    "    X_compl_1A = c_compl_df_mmse[['GINI']]\n",
    "    \n",
    "    scaler = MinMaxScaler([0.05, 0.95])\n",
    "    scaling_data = scaler.fit_transform(X_compl_1A)\n",
    "    X_compl_1A = pd.DataFrame(scaling_data, columns= X_compl_1A.columns, index = X_compl_1A.index)\n",
    "\n",
    "    X_compl_1A =  X_compl_1A.copy()\n",
    "\n",
    "    slope, intercept, r_value, p_value, std_err = linregress(X_compl_1A['GINI'], y_compl_1A)\n",
    "    \n",
    "    p_value*=df_metrics_slopes.shape[1]\n",
    "    if(p_value<=0.05):\n",
    "        df_metrics_slopes.loc['GINI', variable_y] =  str(np.round(slope,3)) + ' (' + str(np.round(p_value,3))+')' \n",
    "    \n",
    "    df_metrics_pval.loc['GINI', variable_y] =  p_value\n",
    "    df_metrics_dir.loc['GINI', variable_y] =  slope\n",
    "    \n",
    "for variable_y in outcomes_list:\n",
    "    for variable_x in ['Age', 'Educ', 'Sex', 'MMSE']:\n",
    "    \n",
    "        c_compl_df_mmse = compl_df[['GINI', variable_x, variable_y]] \n",
    "        c_compl_df_mmse = c_compl_df_mmse.dropna()\n",
    "        c_compl_df_mmse.reset_index(drop=True)\n",
    "        \n",
    "        y_compl_1A = c_compl_df_mmse[variable_y]\n",
    "        X_compl_1A = c_compl_df_mmse[['GINI', variable_x]]\n",
    "        \n",
    "        scaler = MinMaxScaler([0.05, 0.95])\n",
    "        scaling_data = scaler.fit_transform(X_compl_1A)\n",
    "        X_compl_1A = pd.DataFrame(scaling_data, columns= X_compl_1A.columns, index = X_compl_1A.index)\n",
    "\n",
    "        X_compl_1A =  X_compl_1A.copy()\n",
    "\n",
    "        slope, intercept, r_value, p_value, std_err = linregress(X_compl_1A[variable_x],y_compl_1A)\n",
    "    \n",
    "        p_value*=df_metrics_slopes.shape[1]\n",
    "        if(p_value<=0.05):\n",
    "            df_metrics_slopes.loc[variable_x, variable_y] =  str(np.round(slope,3)) + ' (' + str(np.round(p_value,3))+')' #slope\n",
    "     \n",
    "        df_metrics_pval.loc[variable_x, variable_y] =  p_value\n",
    "        df_metrics_dir.loc[variable_x, variable_y] =  slope"
   ]
  },
  {
   "cell_type": "code",
   "execution_count": 14,
   "id": "b6cae47b",
   "metadata": {},
   "outputs": [],
   "source": [
    "df_metrics_slopes = df_metrics_slopes.T\n",
    "df_metrics_pval = df_metrics_pval.T\n",
    "df_metrics_dir = df_metrics_dir.T"
   ]
  },
  {
   "cell_type": "code",
   "execution_count": 15,
   "id": "68d8ef65",
   "metadata": {},
   "outputs": [
    {
     "data": {
      "text/html": [
       "<div>\n",
       "<style scoped>\n",
       "    .dataframe tbody tr th:only-of-type {\n",
       "        vertical-align: middle;\n",
       "    }\n",
       "\n",
       "    .dataframe tbody tr th {\n",
       "        vertical-align: top;\n",
       "    }\n",
       "\n",
       "    .dataframe thead th {\n",
       "        text-align: right;\n",
       "    }\n",
       "</style>\n",
       "<table border=\"1\" class=\"dataframe\">\n",
       "  <thead>\n",
       "    <tr style=\"text-align: right;\">\n",
       "      <th></th>\n",
       "      <th>GINI</th>\n",
       "      <th>Age</th>\n",
       "      <th>Sex</th>\n",
       "      <th>MMSE</th>\n",
       "    </tr>\n",
       "  </thead>\n",
       "  <tbody>\n",
       "    <tr>\n",
       "      <th>SSV_IFG_L_normalized</th>\n",
       "      <td>-0.277 (0.0)</td>\n",
       "      <td>0.387 (0.0)</td>\n",
       "      <td>NaN</td>\n",
       "      <td>NaN</td>\n",
       "    </tr>\n",
       "    <tr>\n",
       "      <th>SSV_IFG_R_normalized</th>\n",
       "      <td>-0.244 (0.0)</td>\n",
       "      <td>0.331 (0.0)</td>\n",
       "      <td>NaN</td>\n",
       "      <td>NaN</td>\n",
       "    </tr>\n",
       "    <tr>\n",
       "      <th>SSV_TEMP_left_normalized</th>\n",
       "      <td>-0.22 (0.0)</td>\n",
       "      <td>0.399 (0.0)</td>\n",
       "      <td>NaN</td>\n",
       "      <td>NaN</td>\n",
       "    </tr>\n",
       "    <tr>\n",
       "      <th>SSV_TEMP_right_normalized</th>\n",
       "      <td>-0.274 (0.0)</td>\n",
       "      <td>0.372 (0.0)</td>\n",
       "      <td>NaN</td>\n",
       "      <td>NaN</td>\n",
       "    </tr>\n",
       "    <tr>\n",
       "      <th>SSV_OCC_left_normalized</th>\n",
       "      <td>-0.283 (0.0)</td>\n",
       "      <td>0.412 (0.0)</td>\n",
       "      <td>NaN</td>\n",
       "      <td>NaN</td>\n",
       "    </tr>\n",
       "    <tr>\n",
       "      <th>SSV_OCC_right_normalized</th>\n",
       "      <td>-0.229 (0.0)</td>\n",
       "      <td>0.355 (0.0)</td>\n",
       "      <td>NaN</td>\n",
       "      <td>NaN</td>\n",
       "    </tr>\n",
       "    <tr>\n",
       "      <th>WMEAN_ALL_normalized</th>\n",
       "      <td>-0.381 (0.0)</td>\n",
       "      <td>0.156 (0.0)</td>\n",
       "      <td>-0.059 (0.001)</td>\n",
       "      <td>0.182 (0.001)</td>\n",
       "    </tr>\n",
       "    <tr>\n",
       "      <th>PE_ALL_normalized</th>\n",
       "      <td>-0.487 (0.0)</td>\n",
       "      <td>0.226 (0.0)</td>\n",
       "      <td>NaN</td>\n",
       "      <td>0.204 (0.025)</td>\n",
       "    </tr>\n",
       "    <tr>\n",
       "      <th>FD_ALL_normalized</th>\n",
       "      <td>-0.249 (0.0)</td>\n",
       "      <td>NaN</td>\n",
       "      <td>-0.065 (0.0)</td>\n",
       "      <td>0.164 (0.0)</td>\n",
       "    </tr>\n",
       "  </tbody>\n",
       "</table>\n",
       "</div>"
      ],
      "text/plain": [
       "                                   GINI          Age             Sex  \\\n",
       "SSV_IFG_L_normalized       -0.277 (0.0)  0.387 (0.0)             NaN   \n",
       "SSV_IFG_R_normalized       -0.244 (0.0)  0.331 (0.0)             NaN   \n",
       "SSV_TEMP_left_normalized    -0.22 (0.0)  0.399 (0.0)             NaN   \n",
       "SSV_TEMP_right_normalized  -0.274 (0.0)  0.372 (0.0)             NaN   \n",
       "SSV_OCC_left_normalized    -0.283 (0.0)  0.412 (0.0)             NaN   \n",
       "SSV_OCC_right_normalized   -0.229 (0.0)  0.355 (0.0)             NaN   \n",
       "WMEAN_ALL_normalized       -0.381 (0.0)  0.156 (0.0)  -0.059 (0.001)   \n",
       "PE_ALL_normalized          -0.487 (0.0)  0.226 (0.0)             NaN   \n",
       "FD_ALL_normalized          -0.249 (0.0)          NaN    -0.065 (0.0)   \n",
       "\n",
       "                                    MMSE  \n",
       "SSV_IFG_L_normalized                 NaN  \n",
       "SSV_IFG_R_normalized                 NaN  \n",
       "SSV_TEMP_left_normalized             NaN  \n",
       "SSV_TEMP_right_normalized            NaN  \n",
       "SSV_OCC_left_normalized              NaN  \n",
       "SSV_OCC_right_normalized             NaN  \n",
       "WMEAN_ALL_normalized       0.182 (0.001)  \n",
       "PE_ALL_normalized          0.204 (0.025)  \n",
       "FD_ALL_normalized            0.164 (0.0)  "
      ]
     },
     "execution_count": 15,
     "metadata": {},
     "output_type": "execute_result"
    }
   ],
   "source": [
    "df_metrics_slopes"
   ]
  },
  {
   "cell_type": "code",
   "execution_count": 16,
   "id": "e03e7fdd",
   "metadata": {},
   "outputs": [],
   "source": [
    "df_metrics_GINI = df_metrics_slopes[['GINI']]\n",
    "df_metrics_GINI = df_metrics_GINI.copy()\n",
    "df_metrics_GINI.dropna(inplace=True)"
   ]
  },
  {
   "cell_type": "code",
   "execution_count": 17,
   "id": "e0687072",
   "metadata": {},
   "outputs": [],
   "source": [
    "outcomes_list = list(df_metrics_GINI.index)\n"
   ]
  },
  {
   "cell_type": "markdown",
   "id": "0d3a07c1",
   "metadata": {},
   "source": [
    "## Classification"
   ]
  },
  {
   "cell_type": "code",
   "execution_count": 18,
   "id": "a8ed6756",
   "metadata": {
    "scrolled": true
   },
   "outputs": [
    {
     "data": {
      "application/vnd.jupyter.widget-view+json": {
       "model_id": "07cf6801e89641cfaa46b447cf6b4d81",
       "version_major": 2,
       "version_minor": 0
      },
      "text/plain": [
       "  0%|          | 0/20 [00:00<?, ?it/s]"
      ]
     },
     "metadata": {},
     "output_type": "display_data"
    },
    {
     "name": "stdout",
     "output_type": "stream",
     "text": [
      "SSV_IFG_L_normalized_b AUC:  0.93 +-(  0.0 ) (1376, 1)\n"
     ]
    },
    {
     "data": {
      "application/vnd.jupyter.widget-view+json": {
       "model_id": "ba11d768d4924498bca6df56bbf69ba7",
       "version_major": 2,
       "version_minor": 0
      },
      "text/plain": [
       "  0%|          | 0/20 [00:00<?, ?it/s]"
      ]
     },
     "metadata": {},
     "output_type": "display_data"
    },
    {
     "name": "stdout",
     "output_type": "stream",
     "text": [
      "SSV_IFG_R_normalized_b AUC:  0.92 +-(  0.0 ) (1376, 1)\n"
     ]
    },
    {
     "data": {
      "application/vnd.jupyter.widget-view+json": {
       "model_id": "b8579e48eac14b618507f4dcc724b261",
       "version_major": 2,
       "version_minor": 0
      },
      "text/plain": [
       "  0%|          | 0/20 [00:00<?, ?it/s]"
      ]
     },
     "metadata": {},
     "output_type": "display_data"
    },
    {
     "name": "stdout",
     "output_type": "stream",
     "text": [
      "SSV_TEMP_left_normalized_b AUC:  0.92 +-(  0.0 ) (1376, 1)\n"
     ]
    },
    {
     "data": {
      "application/vnd.jupyter.widget-view+json": {
       "model_id": "854c2fc4068d440e9418792428067a88",
       "version_major": 2,
       "version_minor": 0
      },
      "text/plain": [
       "  0%|          | 0/20 [00:00<?, ?it/s]"
      ]
     },
     "metadata": {},
     "output_type": "display_data"
    },
    {
     "name": "stdout",
     "output_type": "stream",
     "text": [
      "SSV_TEMP_right_normalized_b AUC:  0.92 +-(  0.0 ) (1376, 1)\n"
     ]
    },
    {
     "data": {
      "application/vnd.jupyter.widget-view+json": {
       "model_id": "138f390920974c1083eef4ebc3e3497b",
       "version_major": 2,
       "version_minor": 0
      },
      "text/plain": [
       "  0%|          | 0/20 [00:00<?, ?it/s]"
      ]
     },
     "metadata": {},
     "output_type": "display_data"
    },
    {
     "name": "stdout",
     "output_type": "stream",
     "text": [
      "SSV_OCC_left_normalized_b AUC:  0.93 +-(  0.0 ) (1376, 1)\n"
     ]
    },
    {
     "data": {
      "application/vnd.jupyter.widget-view+json": {
       "model_id": "149083b1f24746aab18a30992bc9aa71",
       "version_major": 2,
       "version_minor": 0
      },
      "text/plain": [
       "  0%|          | 0/20 [00:00<?, ?it/s]"
      ]
     },
     "metadata": {},
     "output_type": "display_data"
    },
    {
     "name": "stdout",
     "output_type": "stream",
     "text": [
      "SSV_OCC_right_normalized_b AUC:  0.9 +-(  0.0 ) (1376, 1)\n"
     ]
    },
    {
     "data": {
      "application/vnd.jupyter.widget-view+json": {
       "model_id": "98758459f8914771a2e6f041aa73feca",
       "version_major": 2,
       "version_minor": 0
      },
      "text/plain": [
       "  0%|          | 0/20 [00:00<?, ?it/s]"
      ]
     },
     "metadata": {},
     "output_type": "display_data"
    },
    {
     "name": "stdout",
     "output_type": "stream",
     "text": [
      "WMEAN_ALL_normalized_b AUC:  0.99 +-(  0.0 ) (1376, 1)\n"
     ]
    },
    {
     "data": {
      "application/vnd.jupyter.widget-view+json": {
       "model_id": "e10703b85fb0401db8d83cc9c34601e3",
       "version_major": 2,
       "version_minor": 0
      },
      "text/plain": [
       "  0%|          | 0/20 [00:00<?, ?it/s]"
      ]
     },
     "metadata": {},
     "output_type": "display_data"
    },
    {
     "name": "stdout",
     "output_type": "stream",
     "text": [
      "PE_ALL_normalized_b AUC:  0.99 +-(  0.0 ) (1376, 1)\n"
     ]
    },
    {
     "data": {
      "application/vnd.jupyter.widget-view+json": {
       "model_id": "0e5656130002438ab52f40cb329d875d",
       "version_major": 2,
       "version_minor": 0
      },
      "text/plain": [
       "  0%|          | 0/20 [00:00<?, ?it/s]"
      ]
     },
     "metadata": {},
     "output_type": "display_data"
    },
    {
     "name": "stdout",
     "output_type": "stream",
     "text": [
      "FD_ALL_normalized_b AUC:  0.94 +-(  0.0 ) (1376, 1)\n"
     ]
    }
   ],
   "source": [
    "gini_results_preliminar = {}\n",
    "gini_results_auc_preliminar = {}\n",
    "for outcome in outcomes_list:\n",
    "\n",
    "    compl_df_mmse = compl_df[[outcome, 'GINI']]\n",
    "    compl_df_mmse = compl_df_mmse.dropna()\n",
    "    compl_df_mmse.reset_index(drop=True)\n",
    "\n",
    "    mediana = compl_df[outcome].median()\n",
    "    compl_df_mmse[outcome + '_b'] = (compl_df[outcome] > mediana).astype(int)\n",
    "\n",
    "    \n",
    "    y_compl_1A = compl_df_mmse[outcome + '_b']\n",
    "    X_compl_1A = compl_df_mmse[['GINI']]\n",
    "\n",
    "    scaler = MinMaxScaler((0.05, 0.95))\n",
    "    scaling_data = scaler.fit_transform(X_compl_1A)\n",
    "    X_compl_1A_s = pd.DataFrame(scaling_data, columns= X_compl_1A.columns, index = X_compl_1A.index)\n",
    "    \n",
    "    X_compl_1A =  X_compl_1A_s.copy()\n",
    "    \n",
    "    try:\n",
    "        r = classifier_ROC(X_compl_1A, y_compl_1A, False)\n",
    "        gini_results_preliminar['_'.join(outcome.split('_')[0:-1])] = r\n",
    "        gini_results_auc_preliminar['_'.join(outcome.split('_')[0:-1])] = r[2]\n",
    "    except:\n",
    "        print('Bad: ',outcome + '_b')\n",
    "        "
   ]
  },
  {
   "cell_type": "code",
   "execution_count": 19,
   "id": "06f9e0bc",
   "metadata": {},
   "outputs": [
    {
     "data": {
      "text/plain": [
       "['WMEAN_ALL',\n",
       " 'PE_ALL',\n",
       " 'FD_ALL',\n",
       " 'SSV_IFG_L',\n",
       " 'SSV_OCC_left',\n",
       " 'SSV_IFG_R',\n",
       " 'SSV_TEMP_left',\n",
       " 'SSV_TEMP_right',\n",
       " 'SSV_OCC_right']"
      ]
     },
     "execution_count": 19,
     "metadata": {},
     "output_type": "execute_result"
    }
   ],
   "source": [
    "top_10_keys_GINI_preliminar = heapq.nlargest(10, gini_results_auc_preliminar, key=gini_results_auc_preliminar.get)\n",
    "top_10_keys_GINI_preliminar"
   ]
  },
  {
   "cell_type": "code",
   "execution_count": 20,
   "id": "b33887ba",
   "metadata": {
    "scrolled": true
   },
   "outputs": [
    {
     "name": "stdout",
     "output_type": "stream",
     "text": [
      "XGB\n",
      "val. score: 0.9281818181818181\n",
      "test score: 0.9420289855072463\n",
      "best parameters: OrderedDict([('colsample_bytree', 1.0), ('eval_metric', 'auc'), ('learning_rate', 0.2), ('max_depth', 4), ('objective', 'binary:logistic'), ('reg_alpha', 0.1), ('reg_lambda', 0.1), ('subsample', 0.9)])\n",
      "---------------------------------------------\n",
      "\n"
     ]
    },
    {
     "data": {
      "application/vnd.jupyter.widget-view+json": {
       "model_id": "7d3381438cfa48e68d7ed5fc7722b39f",
       "version_major": 2,
       "version_minor": 0
      },
      "text/plain": [
       "  0%|          | 0/20 [00:00<?, ?it/s]"
      ]
     },
     "metadata": {},
     "output_type": "display_data"
    },
    {
     "name": "stdout",
     "output_type": "stream",
     "text": [
      "WMEAN_ALL_b AUC:  0.98 +-(  0.0 ) (1376, 1)\n",
      "XGB\n",
      "val. score: 0.9509090909090909\n",
      "test score: 0.9492753623188406\n",
      "best parameters: OrderedDict([('colsample_bytree', 0.9), ('eval_metric', 'aucpr'), ('learning_rate', 0.01), ('max_depth', 5), ('objective', 'binary:logistic'), ('reg_alpha', 0.0), ('reg_lambda', 0.1), ('subsample', 1.0)])\n",
      "---------------------------------------------\n",
      "\n"
     ]
    },
    {
     "data": {
      "application/vnd.jupyter.widget-view+json": {
       "model_id": "3809d8766d474c9986c639995b43eec1",
       "version_major": 2,
       "version_minor": 0
      },
      "text/plain": [
       "  0%|          | 0/20 [00:00<?, ?it/s]"
      ]
     },
     "metadata": {},
     "output_type": "display_data"
    },
    {
     "name": "stdout",
     "output_type": "stream",
     "text": [
      "PE_ALL_b AUC:  0.99 +-(  0.0 ) (1376, 1)\n",
      "XGB\n",
      "val. score: 0.8927272727272726\n",
      "test score: 0.9021739130434783\n",
      "best parameters: OrderedDict([('colsample_bytree', 1.0), ('eval_metric', 'auc'), ('learning_rate', 0.01), ('max_depth', 5), ('objective', 'binary:logistic'), ('reg_alpha', 0.1), ('reg_lambda', 0.0), ('subsample', 1.0)])\n",
      "---------------------------------------------\n",
      "\n"
     ]
    },
    {
     "data": {
      "application/vnd.jupyter.widget-view+json": {
       "model_id": "1222b2d991fd4509ae39ae95d09fb4dd",
       "version_major": 2,
       "version_minor": 0
      },
      "text/plain": [
       "  0%|          | 0/20 [00:00<?, ?it/s]"
      ]
     },
     "metadata": {},
     "output_type": "display_data"
    },
    {
     "name": "stdout",
     "output_type": "stream",
     "text": [
      "FD_ALL_b AUC:  0.94 +-(  0.0 ) (1376, 1)\n",
      "XGB\n",
      "val. score: 0.8781818181818182\n",
      "test score: 0.8152173913043478\n",
      "best parameters: OrderedDict([('colsample_bytree', 0.9), ('eval_metric', 'aucpr'), ('learning_rate', 0.01), ('max_depth', 4), ('objective', 'binary:logistic'), ('reg_alpha', 0.1), ('reg_lambda', 0.0), ('subsample', 0.9)])\n",
      "---------------------------------------------\n",
      "\n"
     ]
    },
    {
     "data": {
      "application/vnd.jupyter.widget-view+json": {
       "model_id": "b5dddf5196554b488ce0e0458d65e498",
       "version_major": 2,
       "version_minor": 0
      },
      "text/plain": [
       "  0%|          | 0/20 [00:00<?, ?it/s]"
      ]
     },
     "metadata": {},
     "output_type": "display_data"
    },
    {
     "name": "stdout",
     "output_type": "stream",
     "text": [
      "SSV_IFG_L_b AUC:  0.93 +-(  0.0 ) (1376, 1)\n",
      "XGB\n",
      "val. score: 0.8745454545454546\n",
      "test score: 0.8840579710144928\n",
      "best parameters: OrderedDict([('colsample_bytree', 0.9), ('eval_metric', 'auc'), ('learning_rate', 0.1), ('max_depth', 3), ('objective', 'binary:logistic'), ('reg_alpha', 1.0), ('reg_lambda', 0.0), ('subsample', 0.9)])\n",
      "---------------------------------------------\n",
      "\n"
     ]
    },
    {
     "data": {
      "application/vnd.jupyter.widget-view+json": {
       "model_id": "0b3a4ec92a2d4fe49ef3439a9cbb765c",
       "version_major": 2,
       "version_minor": 0
      },
      "text/plain": [
       "  0%|          | 0/20 [00:00<?, ?it/s]"
      ]
     },
     "metadata": {},
     "output_type": "display_data"
    },
    {
     "name": "stdout",
     "output_type": "stream",
     "text": [
      "SSV_OCC_left_b AUC:  0.94 +-(  0.01 ) (1376, 1)\n",
      "XGB\n",
      "val. score: 0.8581818181818182\n",
      "test score: 0.8297101449275363\n",
      "best parameters: OrderedDict([('colsample_bytree', 0.9), ('eval_metric', 'auc'), ('learning_rate', 0.1), ('max_depth', 3), ('objective', 'binary:logistic'), ('reg_alpha', 1.0), ('reg_lambda', 0.0), ('subsample', 0.9)])\n",
      "---------------------------------------------\n",
      "\n"
     ]
    },
    {
     "data": {
      "application/vnd.jupyter.widget-view+json": {
       "model_id": "84b34527d7de408dacbda7c25cc3b67f",
       "version_major": 2,
       "version_minor": 0
      },
      "text/plain": [
       "  0%|          | 0/20 [00:00<?, ?it/s]"
      ]
     },
     "metadata": {},
     "output_type": "display_data"
    },
    {
     "name": "stdout",
     "output_type": "stream",
     "text": [
      "SSV_IFG_R_b AUC:  0.91 +-(  0.01 ) (1376, 1)\n",
      "XGB\n",
      "val. score: 0.8690909090909091\n",
      "test score: 0.8623188405797102\n",
      "best parameters: OrderedDict([('colsample_bytree', 1.0), ('eval_metric', 'auc'), ('learning_rate', 0.2), ('max_depth', 4), ('objective', 'binary:logistic'), ('reg_alpha', 0.1), ('reg_lambda', 0.1), ('subsample', 0.9)])\n",
      "---------------------------------------------\n",
      "\n"
     ]
    },
    {
     "data": {
      "application/vnd.jupyter.widget-view+json": {
       "model_id": "92f8b0409b6a4b4d8ae80f935320fcd2",
       "version_major": 2,
       "version_minor": 0
      },
      "text/plain": [
       "  0%|          | 0/20 [00:00<?, ?it/s]"
      ]
     },
     "metadata": {},
     "output_type": "display_data"
    },
    {
     "name": "stdout",
     "output_type": "stream",
     "text": [
      "SSV_TEMP_left_b AUC:  0.92 +-(  0.0 ) (1376, 1)\n",
      "XGB\n",
      "val. score: 0.8727272727272727\n",
      "test score: 0.8514492753623188\n",
      "best parameters: OrderedDict([('colsample_bytree', 0.9), ('eval_metric', 'aucpr'), ('learning_rate', 0.01), ('max_depth', 4), ('objective', 'binary:logistic'), ('reg_alpha', 0.1), ('reg_lambda', 0.0), ('subsample', 0.9)])\n",
      "---------------------------------------------\n",
      "\n"
     ]
    },
    {
     "data": {
      "application/vnd.jupyter.widget-view+json": {
       "model_id": "93c976022cdc4150b25ef2f81d0754af",
       "version_major": 2,
       "version_minor": 0
      },
      "text/plain": [
       "  0%|          | 0/20 [00:00<?, ?it/s]"
      ]
     },
     "metadata": {},
     "output_type": "display_data"
    },
    {
     "name": "stdout",
     "output_type": "stream",
     "text": [
      "SSV_TEMP_right_b AUC:  0.89 +-(  0.0 ) (1376, 1)\n",
      "XGB\n",
      "val. score: 0.86\n",
      "test score: 0.8659420289855072\n",
      "best parameters: OrderedDict([('colsample_bytree', 0.9), ('eval_metric', 'auc'), ('learning_rate', 0.1), ('max_depth', 3), ('objective', 'binary:logistic'), ('reg_alpha', 1.0), ('reg_lambda', 0.0), ('subsample', 0.9)])\n",
      "---------------------------------------------\n",
      "\n"
     ]
    },
    {
     "data": {
      "application/vnd.jupyter.widget-view+json": {
       "model_id": "6ee4c5d447254cf09f02b20d77375698",
       "version_major": 2,
       "version_minor": 0
      },
      "text/plain": [
       "  0%|          | 0/20 [00:00<?, ?it/s]"
      ]
     },
     "metadata": {},
     "output_type": "display_data"
    },
    {
     "name": "stdout",
     "output_type": "stream",
     "text": [
      "SSV_OCC_right_b AUC:  0.9 +-(  0.0 ) (1376, 1)\n"
     ]
    }
   ],
   "source": [
    "gini_results = {}\n",
    "gini_results_auc = {}\n",
    "gini_paragram = {}\n",
    "for outcome in top_10_keys_GINI_preliminar:\n",
    "\n",
    "    compl_df_mmse = compl_df[[outcome + '_normalized', 'GINI']]\n",
    "    compl_df_mmse = compl_df_mmse.dropna()\n",
    "    compl_df_mmse.reset_index(drop=True)\n",
    "\n",
    "    mediana = compl_df[outcome + '_normalized'].median()\n",
    "    compl_df_mmse[outcome + '_b'] = (compl_df[outcome + '_normalized'] > mediana).astype(int)\n",
    "    \n",
    "    y_compl_1A = compl_df_mmse[outcome + '_b']\n",
    "    X_compl_1A = compl_df_mmse[['GINI']]\n",
    "\n",
    "    scaler = MinMaxScaler((0.05, 0.95))\n",
    "    scaling_data = scaler.fit_transform(X_compl_1A)\n",
    "    X_compl_1A_s = pd.DataFrame(scaling_data, columns= X_compl_1A.columns, index = X_compl_1A.index)\n",
    "    \n",
    "    X_compl_1A =  X_compl_1A_s.copy()\n",
    "\n",
    "    \n",
    "    opt_XGB = SearchBestModel(X_compl_1A, y_compl_1A)\n",
    "    params_ = dict(opt_XGB.best_params_)\n",
    "\n",
    "\n",
    "    r = classifier_ROC(X_compl_1A, y_compl_1A, False, params_)\n",
    "    gini_results[outcome] = r\n",
    "    gini_results_auc[outcome] = r[2]\n",
    "    gini_paragram[outcome] = params_\n"
   ]
  },
  {
   "cell_type": "code",
   "execution_count": 21,
   "id": "7707c023",
   "metadata": {},
   "outputs": [
    {
     "data": {
      "text/plain": [
       "{'WMEAN_ALL': 0.98,\n",
       " 'PE_ALL': 0.99,\n",
       " 'FD_ALL': 0.94,\n",
       " 'SSV_IFG_L': 0.93,\n",
       " 'SSV_OCC_left': 0.94,\n",
       " 'SSV_IFG_R': 0.91,\n",
       " 'SSV_TEMP_left': 0.92,\n",
       " 'SSV_TEMP_right': 0.89,\n",
       " 'SSV_OCC_right': 0.9}"
      ]
     },
     "execution_count": 21,
     "metadata": {},
     "output_type": "execute_result"
    }
   ],
   "source": [
    "top_10_keys_GINI = heapq.nlargest(10, gini_results_auc, key=gini_results_auc.get)\n",
    "top_10_keys_GINI\n",
    "gini_results_auc"
   ]
  },
  {
   "cell_type": "markdown",
   "id": "fd2a8f7d",
   "metadata": {},
   "source": [
    "## Classification: Gini + Age"
   ]
  },
  {
   "cell_type": "code",
   "execution_count": 22,
   "id": "9f7e1235",
   "metadata": {
    "scrolled": true
   },
   "outputs": [
    {
     "data": {
      "application/vnd.jupyter.widget-view+json": {
       "model_id": "1dbe10d2ef7e4336bec57b9f7a8cb69a",
       "version_major": 2,
       "version_minor": 0
      },
      "text/plain": [
       "  0%|          | 0/20 [00:00<?, ?it/s]"
      ]
     },
     "metadata": {},
     "output_type": "display_data"
    },
    {
     "name": "stdout",
     "output_type": "stream",
     "text": [
      "SSV_IFG_L_normalized_b AUC:  0.92 +-(  0.0 ) (1376, 2)\n"
     ]
    },
    {
     "data": {
      "application/vnd.jupyter.widget-view+json": {
       "model_id": "07f9a45eecc64d5b94db96f37de55383",
       "version_major": 2,
       "version_minor": 0
      },
      "text/plain": [
       "  0%|          | 0/20 [00:00<?, ?it/s]"
      ]
     },
     "metadata": {},
     "output_type": "display_data"
    },
    {
     "name": "stdout",
     "output_type": "stream",
     "text": [
      "SSV_IFG_R_normalized_b AUC:  0.91 +-(  0.0 ) (1376, 2)\n"
     ]
    },
    {
     "data": {
      "application/vnd.jupyter.widget-view+json": {
       "model_id": "f811c438d7e74f22b687a89ab3192ae4",
       "version_major": 2,
       "version_minor": 0
      },
      "text/plain": [
       "  0%|          | 0/20 [00:00<?, ?it/s]"
      ]
     },
     "metadata": {},
     "output_type": "display_data"
    },
    {
     "name": "stdout",
     "output_type": "stream",
     "text": [
      "SSV_TEMP_left_normalized_b AUC:  0.91 +-(  0.0 ) (1376, 2)\n"
     ]
    },
    {
     "data": {
      "application/vnd.jupyter.widget-view+json": {
       "model_id": "a35ea95fa701461391d7cc7bae2de337",
       "version_major": 2,
       "version_minor": 0
      },
      "text/plain": [
       "  0%|          | 0/20 [00:00<?, ?it/s]"
      ]
     },
     "metadata": {},
     "output_type": "display_data"
    },
    {
     "name": "stdout",
     "output_type": "stream",
     "text": [
      "SSV_TEMP_right_normalized_b AUC:  0.91 +-(  0.0 ) (1376, 2)\n"
     ]
    },
    {
     "data": {
      "application/vnd.jupyter.widget-view+json": {
       "model_id": "2b976ffbecf34194887ea3fa16b4a2b8",
       "version_major": 2,
       "version_minor": 0
      },
      "text/plain": [
       "  0%|          | 0/20 [00:00<?, ?it/s]"
      ]
     },
     "metadata": {},
     "output_type": "display_data"
    },
    {
     "name": "stdout",
     "output_type": "stream",
     "text": [
      "SSV_OCC_left_normalized_b AUC:  0.92 +-(  0.0 ) (1376, 2)\n"
     ]
    },
    {
     "data": {
      "application/vnd.jupyter.widget-view+json": {
       "model_id": "25b4bc1855f443c5866e02e65a0ce722",
       "version_major": 2,
       "version_minor": 0
      },
      "text/plain": [
       "  0%|          | 0/20 [00:00<?, ?it/s]"
      ]
     },
     "metadata": {},
     "output_type": "display_data"
    },
    {
     "name": "stdout",
     "output_type": "stream",
     "text": [
      "SSV_OCC_right_normalized_b AUC:  0.89 +-(  0.0 ) (1376, 2)\n"
     ]
    },
    {
     "data": {
      "application/vnd.jupyter.widget-view+json": {
       "model_id": "30d60fd4de91472689e1ad40a01d4615",
       "version_major": 2,
       "version_minor": 0
      },
      "text/plain": [
       "  0%|          | 0/20 [00:00<?, ?it/s]"
      ]
     },
     "metadata": {},
     "output_type": "display_data"
    },
    {
     "name": "stdout",
     "output_type": "stream",
     "text": [
      "WMEAN_ALL_normalized_b AUC:  0.98 +-(  0.0 ) (1376, 2)\n"
     ]
    },
    {
     "data": {
      "application/vnd.jupyter.widget-view+json": {
       "model_id": "5a1c77b69d4046b1aaaaaa5b47adfa4e",
       "version_major": 2,
       "version_minor": 0
      },
      "text/plain": [
       "  0%|          | 0/20 [00:00<?, ?it/s]"
      ]
     },
     "metadata": {},
     "output_type": "display_data"
    },
    {
     "name": "stdout",
     "output_type": "stream",
     "text": [
      "PE_ALL_normalized_b AUC:  0.99 +-(  0.0 ) (1376, 2)\n"
     ]
    },
    {
     "data": {
      "application/vnd.jupyter.widget-view+json": {
       "model_id": "d91393e2680f42f3b19920146fb94b67",
       "version_major": 2,
       "version_minor": 0
      },
      "text/plain": [
       "  0%|          | 0/20 [00:00<?, ?it/s]"
      ]
     },
     "metadata": {},
     "output_type": "display_data"
    },
    {
     "name": "stdout",
     "output_type": "stream",
     "text": [
      "FD_ALL_normalized_b AUC:  0.93 +-(  0.0 ) (1376, 2)\n"
     ]
    }
   ],
   "source": [
    "gini_age_results_preliminar = {}\n",
    "gini_age_results_auc_preliminar = {}\n",
    "for outcome in outcomes_list:\n",
    "\n",
    "    compl_df_mmse = compl_df[[outcome, 'GINI', 'Age']]\n",
    "    compl_df_mmse = compl_df_mmse.dropna()\n",
    "    compl_df_mmse.reset_index(drop=True)\n",
    "\n",
    "   \n",
    "    mediana = compl_df_mmse[outcome].median()\n",
    "    compl_df_mmse[outcome + '_b'] = (compl_df_mmse[outcome] > mediana).astype(int)\n",
    "    \n",
    "    y_compl_1A = compl_df_mmse[outcome + '_b']\n",
    "    X_compl_1A = compl_df_mmse[['GINI', 'Age']]\n",
    "\n",
    "    scaler = MinMaxScaler([0.05, 0.95])\n",
    "    scaling_data = scaler.fit_transform(X_compl_1A)\n",
    "    X_compl_1A_s = pd.DataFrame(scaling_data, columns= X_compl_1A.columns, index = X_compl_1A.index)\n",
    "    \n",
    "    X_compl_1A =  X_compl_1A_s.copy()\n",
    "    \n",
    "    try:\n",
    "        r = classifier_ROC(X_compl_1A, y_compl_1A, False)\n",
    "        gini_age_results_preliminar['_'.join(outcome.split('_')[0:-1])] = r\n",
    "        gini_age_results_auc_preliminar['_'.join(outcome.split('_')[0:-1])] = r[2]\n",
    "    except:\n",
    "        print('Bad: ',outcome + '_b')\n",
    "        "
   ]
  },
  {
   "cell_type": "code",
   "execution_count": 23,
   "id": "25dbae92",
   "metadata": {},
   "outputs": [],
   "source": [
    "top_10_keys_GINI_AGE_preliminar = heapq.nlargest(10, gini_age_results_auc_preliminar, key=gini_age_results_auc_preliminar.get)"
   ]
  },
  {
   "cell_type": "code",
   "execution_count": null,
   "id": "f372eacc",
   "metadata": {
    "scrolled": true
   },
   "outputs": [
    {
     "name": "stdout",
     "output_type": "stream",
     "text": [
      "XGB\n",
      "val. score: 0.9445454545454546\n",
      "test score: 0.9492753623188406\n",
      "best parameters: OrderedDict([('colsample_bytree', 1.0), ('eval_metric', 'error'), ('learning_rate', 0.1), ('max_depth', 4), ('objective', 'binary:logistic'), ('reg_alpha', 0.1), ('reg_lambda', 1.0), ('subsample', 1.0)])\n",
      "---------------------------------------------\n",
      "\n"
     ]
    },
    {
     "data": {
      "application/vnd.jupyter.widget-view+json": {
       "model_id": "a91c648acbad4036950d764b70c71b52",
       "version_major": 2,
       "version_minor": 0
      },
      "text/plain": [
       "  0%|          | 0/20 [00:00<?, ?it/s]"
      ]
     },
     "metadata": {},
     "output_type": "display_data"
    },
    {
     "name": "stdout",
     "output_type": "stream",
     "text": [
      "PE_ALL_b AUC:  0.99 +-(  0.0 ) (1376, 2)\n",
      "XGB\n",
      "val. score: 0.9290909090909093\n",
      "test score: 0.9456521739130435\n",
      "best parameters: OrderedDict([('colsample_bytree', 1.0), ('eval_metric', 'error'), ('learning_rate', 0.01), ('max_depth', 5), ('objective', 'binary:logistic'), ('reg_alpha', 0.0), ('reg_lambda', 1.0), ('subsample', 0.8)])\n",
      "---------------------------------------------\n",
      "\n"
     ]
    },
    {
     "data": {
      "application/vnd.jupyter.widget-view+json": {
       "model_id": "621f663f588f4c7aacbde2e101003248",
       "version_major": 2,
       "version_minor": 0
      },
      "text/plain": [
       "  0%|          | 0/20 [00:00<?, ?it/s]"
      ]
     },
     "metadata": {},
     "output_type": "display_data"
    },
    {
     "name": "stdout",
     "output_type": "stream",
     "text": [
      "WMEAN_ALL_b AUC:  0.98 +-(  0.0 ) (1376, 2)\n",
      "XGB\n",
      "val. score: 0.8918181818181818\n",
      "test score: 0.894927536231884\n",
      "best parameters: OrderedDict([('colsample_bytree', 1.0), ('eval_metric', 'error'), ('learning_rate', 0.1), ('max_depth', 5), ('objective', 'binary:logistic'), ('reg_alpha', 0.0), ('reg_lambda', 0.0), ('subsample', 0.8)])\n",
      "---------------------------------------------\n",
      "\n"
     ]
    },
    {
     "data": {
      "application/vnd.jupyter.widget-view+json": {
       "model_id": "2effe00d881240629bdb54f488c7238d",
       "version_major": 2,
       "version_minor": 0
      },
      "text/plain": [
       "  0%|          | 0/20 [00:00<?, ?it/s]"
      ]
     },
     "metadata": {},
     "output_type": "display_data"
    },
    {
     "name": "stdout",
     "output_type": "stream",
     "text": [
      "FD_ALL_b AUC:  0.94 +-(  0.0 ) (1376, 2)\n",
      "XGB\n",
      "val. score: 0.8818181818181818\n",
      "test score: 0.8188405797101449\n",
      "best parameters: OrderedDict([('colsample_bytree', 1.0), ('eval_metric', 'logloss'), ('learning_rate', 0.01), ('max_depth', 5), ('objective', 'binary:logistic'), ('reg_alpha', 1.0), ('reg_lambda', 1.0), ('subsample', 0.9)])\n",
      "---------------------------------------------\n",
      "\n"
     ]
    },
    {
     "data": {
      "application/vnd.jupyter.widget-view+json": {
       "model_id": "beeb5f686313498d9ce04fa750f63ac3",
       "version_major": 2,
       "version_minor": 0
      },
      "text/plain": [
       "  0%|          | 0/20 [00:00<?, ?it/s]"
      ]
     },
     "metadata": {},
     "output_type": "display_data"
    },
    {
     "name": "stdout",
     "output_type": "stream",
     "text": [
      "SSV_IFG_L_b AUC:  0.92 +-(  0.0 ) (1376, 2)\n",
      "XGB\n",
      "val. score: 0.8790909090909091\n",
      "test score: 0.894927536231884\n",
      "best parameters: OrderedDict([('colsample_bytree', 1.0), ('eval_metric', 'auc'), ('learning_rate', 0.1), ('max_depth', 3), ('objective', 'binary:logistic'), ('reg_alpha', 1.0), ('reg_lambda', 1.0), ('subsample', 1.0)])\n",
      "---------------------------------------------\n",
      "\n"
     ]
    },
    {
     "data": {
      "application/vnd.jupyter.widget-view+json": {
       "model_id": "61dfa2252367441899ac0f5426657242",
       "version_major": 2,
       "version_minor": 0
      },
      "text/plain": [
       "  0%|          | 0/20 [00:00<?, ?it/s]"
      ]
     },
     "metadata": {},
     "output_type": "display_data"
    },
    {
     "name": "stdout",
     "output_type": "stream",
     "text": [
      "SSV_OCC_left_b AUC:  0.91 +-(  0.01 ) (1376, 2)\n",
      "XGB\n",
      "val. score: 0.8663636363636364\n",
      "test score: 0.8586956521739131\n",
      "best parameters: OrderedDict([('colsample_bytree', 1.0), ('eval_metric', 'error'), ('learning_rate', 0.2), ('max_depth', 5), ('objective', 'binary:logistic'), ('reg_alpha', 1.0), ('reg_lambda', 0.0), ('subsample', 1.0)])\n",
      "---------------------------------------------\n",
      "\n"
     ]
    },
    {
     "data": {
      "application/vnd.jupyter.widget-view+json": {
       "model_id": "25dddbed517d46edbef6b66e1e74d11d",
       "version_major": 2,
       "version_minor": 0
      },
      "text/plain": [
       "  0%|          | 0/20 [00:00<?, ?it/s]"
      ]
     },
     "metadata": {},
     "output_type": "display_data"
    },
    {
     "name": "stdout",
     "output_type": "stream",
     "text": [
      "SSV_IFG_R_b AUC:  0.9 +-(  0.01 ) (1376, 2)\n",
      "XGB\n",
      "val. score: 0.8699999999999999\n",
      "test score: 0.8586956521739131\n",
      "best parameters: OrderedDict([('colsample_bytree', 1.0), ('eval_metric', 'error'), ('learning_rate', 0.01), ('max_depth', 5), ('objective', 'binary:logistic'), ('reg_alpha', 0.0), ('reg_lambda', 0.0), ('subsample', 0.8)])\n",
      "---------------------------------------------\n",
      "\n"
     ]
    },
    {
     "data": {
      "application/vnd.jupyter.widget-view+json": {
       "model_id": "ed55ce43d4844c76942578b4d26aaf98",
       "version_major": 2,
       "version_minor": 0
      },
      "text/plain": [
       "  0%|          | 0/20 [00:00<?, ?it/s]"
      ]
     },
     "metadata": {},
     "output_type": "display_data"
    },
    {
     "name": "stdout",
     "output_type": "stream",
     "text": [
      "SSV_TEMP_left_b AUC:  0.91 +-(  0.0 ) (1376, 2)\n",
      "XGB\n",
      "val. score: 0.8736363636363637\n",
      "test score: 0.8586956521739131\n",
      "best parameters: OrderedDict([('colsample_bytree', 0.9), ('eval_metric', 'auc'), ('learning_rate', 0.1), ('max_depth', 3), ('objective', 'binary:logistic'), ('reg_alpha', 1.0), ('reg_lambda', 1.0), ('subsample', 0.9)])\n",
      "---------------------------------------------\n",
      "\n"
     ]
    },
    {
     "data": {
      "application/vnd.jupyter.widget-view+json": {
       "model_id": "7122623da8e74ecc9de1d9740c9a5eaf",
       "version_major": 2,
       "version_minor": 0
      },
      "text/plain": [
       "  0%|          | 0/20 [00:00<?, ?it/s]"
      ]
     },
     "metadata": {},
     "output_type": "display_data"
    },
    {
     "name": "stdout",
     "output_type": "stream",
     "text": [
      "SSV_TEMP_right_b AUC:  0.88 +-(  0.01 ) (1376, 2)\n"
     ]
    }
   ],
   "source": [
    "gini_age_results = {}\n",
    "gini_age_results_auc = {}\n",
    "gini_age_paragram = {}\n",
    "for outcome in top_10_keys_GINI_AGE_preliminar:\n",
    "\n",
    "    compl_df_mmse = compl_df[[outcome + '_normalized', 'GINI', 'Age']]\n",
    "    compl_df_mmse = compl_df_mmse.dropna()\n",
    "    compl_df_mmse.reset_index(drop=True)\n",
    "\n",
    "   \n",
    "    mediana = compl_df_mmse[outcome + '_normalized'].median()\n",
    "    compl_df_mmse[outcome + '_b'] = (compl_df_mmse[outcome + '_normalized'] > mediana).astype(int)\n",
    "    \n",
    "    y_compl_1A = compl_df_mmse[outcome + '_b']\n",
    "    X_compl_1A = compl_df_mmse[['GINI', 'Age']]\n",
    "\n",
    "    scaler = MinMaxScaler([0.05, 0.95])\n",
    "    scaling_data = scaler.fit_transform(X_compl_1A)\n",
    "    X_compl_1A_s = pd.DataFrame(scaling_data, columns= X_compl_1A.columns, index = X_compl_1A.index)\n",
    "    \n",
    "    X_compl_1A =  X_compl_1A_s.copy()\n",
    "\n",
    "    \n",
    "    opt_XGB = SearchBestModel(X_compl_1A, y_compl_1A)\n",
    "    params_ = dict(opt_XGB.best_params_)\n",
    "\n",
    "\n",
    "    r = classifier_ROC(X_compl_1A, y_compl_1A, False, params_)\n",
    "    gini_age_results[outcome] = r\n",
    "    gini_age_results_auc[outcome] = r[2]\n",
    "    gini_age_paragram[outcome] = params_\n"
   ]
  },
  {
   "cell_type": "code",
   "execution_count": null,
   "id": "dba94bf5",
   "metadata": {},
   "outputs": [],
   "source": [
    "top_10_keys_GINI_age = heapq.nlargest(10, gini_age_results_auc, key=gini_age_results_auc.get)\n",
    "top_10_keys_GINI_age\n",
    "gini_results_auc\n",
    "gini_age_results_auc"
   ]
  },
  {
   "cell_type": "markdown",
   "id": "0a874967",
   "metadata": {},
   "source": [
    "## Classification: Gini + Educ"
   ]
  },
  {
   "cell_type": "code",
   "execution_count": null,
   "id": "b2933bd2",
   "metadata": {
    "scrolled": true
   },
   "outputs": [],
   "source": [
    "gini_educ_results_preliminar = {}\n",
    "gini_educ_results_auc_preliminar = {}\n",
    "for outcome in outcomes_list:\n",
    "\n",
    "    compl_df_mmse = compl_df[[outcome, 'GINI', 'Educ']]\n",
    "    compl_df_mmse = compl_df_mmse.dropna()\n",
    "    compl_df_mmse.reset_index(drop=True)\n",
    "\n",
    "   \n",
    "    mediana = compl_df_mmse[outcome].median()\n",
    "    compl_df_mmse[outcome + '_b'] = (compl_df_mmse[outcome] > mediana).astype(int)\n",
    "    \n",
    "    y_compl_1A = compl_df_mmse[outcome + '_b']\n",
    "    X_compl_1A = compl_df_mmse[['GINI', 'Educ']]\n",
    "\n",
    "    scaler = MinMaxScaler([0.05, 0.95])\n",
    "    scaling_data = scaler.fit_transform(X_compl_1A)\n",
    "    X_compl_1A_s = pd.DataFrame(scaling_data, columns= X_compl_1A.columns, index = X_compl_1A.index)\n",
    "    \n",
    "    X_compl_1A =  X_compl_1A_s.copy()\n",
    "    \n",
    "    try:\n",
    "        r = classifier_ROC(X_compl_1A, y_compl_1A, False)\n",
    "        gini_educ_results_preliminar['_'.join(outcome.split('_')[0:-1])] = r\n",
    "        gini_educ_results_auc_preliminar['_'.join(outcome.split('_')[0:-1])] = r[2]\n",
    "    except:\n",
    "        print('Bad: ',outcome + '_b')\n",
    "        "
   ]
  },
  {
   "cell_type": "code",
   "execution_count": null,
   "id": "20fdd6a4",
   "metadata": {},
   "outputs": [],
   "source": [
    "top_10_keys_GINI_educ_preliminar = heapq.nlargest(10, gini_educ_results_auc_preliminar, key=gini_educ_results_auc_preliminar.get)"
   ]
  },
  {
   "cell_type": "code",
   "execution_count": null,
   "id": "26a020bd",
   "metadata": {
    "scrolled": true
   },
   "outputs": [],
   "source": [
    "gini_educ_results = {}\n",
    "gini_educ_results_auc = {}\n",
    "gini_educ_paragram = {}\n",
    "for outcome in top_10_keys_GINI_educ_preliminar:\n",
    "\n",
    "    compl_df_mmse = compl_df[[outcome + '_normalized', 'GINI', 'Educ']]\n",
    "    compl_df_mmse = compl_df_mmse.dropna()\n",
    "    compl_df_mmse.reset_index(drop=True)\n",
    "\n",
    "   \n",
    "    mediana = compl_df_mmse[outcome + '_normalized'].median()\n",
    "    compl_df_mmse[outcome + '_b'] = (compl_df_mmse[outcome + '_normalized'] > mediana).astype(int)\n",
    "    \n",
    "    y_compl_1A = compl_df_mmse[outcome + '_b']\n",
    "    X_compl_1A = compl_df_mmse[['GINI', 'Educ']]\n",
    "\n",
    "    scaler = MinMaxScaler([0.05, 0.95])\n",
    "    scaling_data = scaler.fit_transform(X_compl_1A)\n",
    "    X_compl_1A_s = pd.DataFrame(scaling_data, columns= X_compl_1A.columns, index = X_compl_1A.index)\n",
    "    \n",
    "    X_compl_1A =  X_compl_1A_s.copy()\n",
    "\n",
    "    \n",
    "    opt_XGB = SearchBestModel(X_compl_1A, y_compl_1A)\n",
    "    params_ = dict(opt_XGB.best_params_)\n",
    "\n",
    "\n",
    "    r = classifier_ROC(X_compl_1A, y_compl_1A, False, params_)\n",
    "    gini_educ_results[outcome] = r\n",
    "    gini_educ_results_auc[outcome] = r[2]\n",
    "    gini_educ_paragram[outcome] = params_"
   ]
  },
  {
   "cell_type": "code",
   "execution_count": null,
   "id": "2797a126",
   "metadata": {},
   "outputs": [],
   "source": [
    "top_10_keys_gini_educ = heapq.nlargest(10, gini_educ_results_auc, key=gini_educ_results_auc.get)\n",
    "top_10_keys_gini_educ\n",
    "top_10_keys_gini_educ\n",
    "gini_educ_results_auc\n",
    "\n"
   ]
  },
  {
   "cell_type": "markdown",
   "id": "c81ca76c",
   "metadata": {},
   "source": [
    "## Classification: Gini + Sex"
   ]
  },
  {
   "cell_type": "code",
   "execution_count": null,
   "id": "f0662f3a",
   "metadata": {
    "scrolled": true
   },
   "outputs": [],
   "source": [
    "gini_sex_results_preliminar = {}\n",
    "gini_sex_results_auc_preliminar = {}\n",
    "for outcome in outcomes_list:\n",
    "\n",
    "    compl_df_mmse = compl_df[[outcome, 'GINI', 'Sex']]\n",
    "    compl_df_mmse = compl_df_mmse.dropna()\n",
    "    compl_df_mmse.reset_index(drop=True)\n",
    "\n",
    "   \n",
    "    mediana = compl_df_mmse[outcome].median()\n",
    "    compl_df_mmse[outcome + '_b'] = (compl_df_mmse[outcome] > mediana).astype(int)\n",
    "    \n",
    "    y_compl_1A = compl_df_mmse[outcome + '_b']\n",
    "    X_compl_1A = compl_df_mmse[['GINI', 'Sex']]\n",
    "\n",
    "    scaler = MinMaxScaler([0.05, 0.95])\n",
    "    scaling_data = scaler.fit_transform(X_compl_1A)\n",
    "    X_compl_1A_s = pd.DataFrame(scaling_data, columns= X_compl_1A.columns, index = X_compl_1A.index)\n",
    "    \n",
    "    X_compl_1A =  X_compl_1A_s.copy()\n",
    "    \n",
    "    try:\n",
    "        r = classifier_ROC(X_compl_1A, y_compl_1A, False)\n",
    "        gini_sex_results_preliminar['_'.join(outcome.split('_')[0:-1])] = r\n",
    "        gini_sex_results_auc_preliminar['_'.join(outcome.split('_')[0:-1])] = r[2]\n",
    "    except:\n",
    "        print('Bad: ',outcome + '_b')\n",
    "        "
   ]
  },
  {
   "cell_type": "code",
   "execution_count": null,
   "id": "0531380c",
   "metadata": {},
   "outputs": [],
   "source": [
    "top_10_keys_GINI_sex_preliminar = heapq.nlargest(10, gini_sex_results_auc_preliminar, key=gini_sex_results_auc_preliminar.get)\n",
    "   "
   ]
  },
  {
   "cell_type": "code",
   "execution_count": null,
   "id": "d297c375",
   "metadata": {
    "scrolled": true
   },
   "outputs": [],
   "source": [
    "     \n",
    "gini_sex_results = {}\n",
    "gini_sex_results_auc = {}\n",
    "gini_sex_paragram = {}\n",
    "for outcome in top_10_keys_GINI_sex_preliminar:\n",
    "\n",
    "    compl_df_mmse = compl_df[[outcome + '_normalized', 'GINI', 'Sex']]\n",
    "    compl_df_mmse = compl_df_mmse.dropna()\n",
    "    compl_df_mmse.reset_index(drop=True)\n",
    "\n",
    "   \n",
    "    mediana = compl_df_mmse[outcome + '_normalized'].median()\n",
    "    compl_df_mmse[outcome + '_b'] = (compl_df_mmse[outcome + '_normalized'] > mediana).astype(int)\n",
    "    \n",
    "    y_compl_1A = compl_df_mmse[outcome + '_b']\n",
    "    X_compl_1A = compl_df_mmse[['GINI', 'Sex']]\n",
    "\n",
    "    scaler = MinMaxScaler([0.05, 0.95])\n",
    "    scaling_data = scaler.fit_transform(X_compl_1A)\n",
    "    X_compl_1A_s = pd.DataFrame(scaling_data, columns= X_compl_1A.columns, index = X_compl_1A.index)\n",
    "    \n",
    "    X_compl_1A =  X_compl_1A_s.copy()\n",
    "\n",
    "    \n",
    "    opt_XGB = SearchBestModel(X_compl_1A, y_compl_1A)\n",
    "    params_ = dict(opt_XGB.best_params_)\n",
    "    \n",
    "\n",
    "    r = classifier_ROC(X_compl_1A, y_compl_1A, False, params_)\n",
    "    gini_sex_results[outcome] = r\n",
    "    gini_sex_results_auc[outcome] = r[2]\n",
    "    gini_sex_paragram[outcome] = params_"
   ]
  },
  {
   "cell_type": "code",
   "execution_count": null,
   "id": "5f1d1d46",
   "metadata": {},
   "outputs": [],
   "source": [
    "\n",
    "top_10_keys_gini_sex = heapq.nlargest(10, gini_sex_results_auc, key=gini_sex_results_auc.get)\n",
    "top_10_keys_gini_sex\n",
    "top_10_keys_gini_educ\n",
    "gini_sex_results_auc\n",
    "\n"
   ]
  },
  {
   "cell_type": "markdown",
   "id": "9967dc9d",
   "metadata": {},
   "source": [
    "## Classification: Gini + Cognition"
   ]
  },
  {
   "cell_type": "code",
   "execution_count": null,
   "id": "76edfc4b",
   "metadata": {
    "scrolled": true
   },
   "outputs": [],
   "source": [
    "gini_mmse_results_preliminar = {}\n",
    "gini_mmse_results_auc_preliminar = {}\n",
    "for outcome in outcomes_list:\n",
    "\n",
    "    compl_df_mmse = compl_df[[outcome, 'GINI', 'MMSE']]\n",
    "    compl_df_mmse = compl_df_mmse[compl_df_mmse['MMSE'] >= 21]\n",
    "    compl_df_mmse = compl_df_mmse.dropna()\n",
    "    compl_df_mmse.reset_index(drop=True)\n",
    "\n",
    "   \n",
    "    mediana = compl_df_mmse[outcome].median()\n",
    "    compl_df_mmse[outcome + '_b'] = (compl_df_mmse[outcome] > mediana).astype(int)\n",
    "    \n",
    "    y_compl_1A = compl_df_mmse[outcome + '_b']\n",
    "    X_compl_1A = compl_df_mmse[['GINI', 'MMSE']]\n",
    "\n",
    "    scaler = MinMaxScaler([0.05, 0.95])\n",
    "    scaling_data = scaler.fit_transform(X_compl_1A)\n",
    "    X_compl_1A_s = pd.DataFrame(scaling_data, columns= X_compl_1A.columns, index = X_compl_1A.index)\n",
    "    \n",
    "    X_compl_1A =  X_compl_1A_s.copy()\n",
    "    \n",
    "    try:\n",
    "        r = classifier_ROC(X_compl_1A, y_compl_1A, False)\n",
    "        gini_mmse_results_preliminar['_'.join(outcome.split('_')[0:-1])] = r\n",
    "        gini_mmse_results_auc_preliminar['_'.join(outcome.split('_')[0:-1])] = r[2]\n",
    "    except:\n",
    "        print('Bad: ',outcome + '_b')\n",
    "        \n",
    "        "
   ]
  },
  {
   "cell_type": "code",
   "execution_count": null,
   "id": "287cd105",
   "metadata": {},
   "outputs": [],
   "source": [
    "top_10_keys_GINI_mmse_preliminar = heapq.nlargest(10, gini_mmse_results_auc_preliminar, key=gini_mmse_results_auc_preliminar.get)"
   ]
  },
  {
   "cell_type": "code",
   "execution_count": null,
   "id": "0ebbc181",
   "metadata": {
    "scrolled": true
   },
   "outputs": [],
   "source": [
    "gini_mmse_results = {}\n",
    "gini_mmse_results_auc = {}\n",
    "gini_mmse_paragram = {}\n",
    "for outcome in top_10_keys_GINI_mmse_preliminar:\n",
    "\n",
    "    compl_df_mmse = compl_df[[outcome + '_normalized', 'GINI', 'MMSE']]\n",
    "    compl_df_mmse = compl_df_mmse[compl_df_mmse['MMSE'] >= 21]\n",
    "    compl_df_mmse = compl_df_mmse.dropna()\n",
    "    compl_df_mmse.reset_index(drop=True)\n",
    "\n",
    "   \n",
    "    mediana = compl_df_mmse[outcome + '_normalized'].median()\n",
    "    compl_df_mmse[outcome + '_b'] = (compl_df_mmse[outcome + '_normalized'] > mediana).astype(int)\n",
    "    \n",
    "    y_compl_1A = compl_df_mmse[outcome + '_b']\n",
    "    X_compl_1A = compl_df_mmse[['GINI', 'MMSE']]\n",
    "\n",
    "    scaler = MinMaxScaler([0.05, 0.95])\n",
    "    scaling_data = scaler.fit_transform(X_compl_1A)\n",
    "    X_compl_1A_s = pd.DataFrame(scaling_data, columns= X_compl_1A.columns, index = X_compl_1A.index)\n",
    "    \n",
    "    X_compl_1A =  X_compl_1A_s.copy()\n",
    "\n",
    "    \n",
    "    opt_XGB = SearchBestModel(X_compl_1A, y_compl_1A)\n",
    "    params_ = dict(opt_XGB.best_params_)\n",
    "    \n",
    "\n",
    "    r = classifier_ROC(X_compl_1A, y_compl_1A, False, params_)\n",
    "    gini_mmse_results[outcome] = r\n",
    "    gini_mmse_results_auc[outcome] = r[2]\n",
    "    gini_mmse_paragram[outcome] = params_\n"
   ]
  },
  {
   "cell_type": "code",
   "execution_count": null,
   "id": "a14d3d44",
   "metadata": {},
   "outputs": [],
   "source": []
  },
  {
   "cell_type": "code",
   "execution_count": null,
   "id": "6e6e93c9",
   "metadata": {},
   "outputs": [],
   "source": [
    "top_10_keys_gini_mmse = heapq.nlargest(10, gini_mmse_results_auc, key=gini_mmse_results_auc.get)\n",
    "top_10_keys_gini_mmse\n",
    "gini_sex_results_auc\n",
    "gini_mmse_results_auc"
   ]
  },
  {
   "cell_type": "code",
   "execution_count": null,
   "id": "dd78b8ee",
   "metadata": {},
   "outputs": [],
   "source": []
  },
  {
   "cell_type": "code",
   "execution_count": null,
   "id": "f1492a15",
   "metadata": {},
   "outputs": [],
   "source": []
  }
 ],
 "metadata": {
  "kernelspec": {
   "display_name": "Python 3 (ipykernel)",
   "language": "python",
   "name": "python3"
  },
  "language_info": {
   "codemirror_mode": {
    "name": "ipython",
    "version": 3
   },
   "file_extension": ".py",
   "mimetype": "text/x-python",
   "name": "python",
   "nbconvert_exporter": "python",
   "pygments_lexer": "ipython3",
   "version": "3.9.13"
  }
 },
 "nbformat": 4,
 "nbformat_minor": 5
}
