{
 "cells": [
  {
   "cell_type": "code",
   "execution_count": 1,
   "id": "085c8d5e",
   "metadata": {},
   "outputs": [],
   "source": [
    "from __future__ import division\n",
    "from mlxtend.feature_selection import SequentialFeatureSelector as SFS\n",
    "from mlxtend.plotting import plot_sequential_feature_selection as plot_sfs\n",
    "from sklearn.linear_model import LinearRegression\n",
    "from sklearn.model_selection import train_test_split\n",
    "from sklearn.metrics import mean_squared_error, r2_score\n",
    "from xgboost import XGBClassifier\n",
    "import pandas as pd\n",
    "import numpy as np\n",
    "import re\n",
    "import pickle\n",
    "import matplotlib.pyplot as plt\n",
    "from xgboost import plot_importance\n",
    "import plotly.graph_objects as go\n",
    "from tqdm.notebook import tqdm\n",
    "from sklearn.model_selection import RepeatedKFold\n",
    "import xgboost as xgb\n",
    "from sklearn.metrics import roc_auc_score, roc_curve, f1_score, accuracy_score, recall_score, precision_score, confusion_matrix, mean_squared_error\n",
    "import seaborn as sns\n",
    "from statannot import add_stat_annotation\n",
    "from sklearn.linear_model import Lasso, MultiTaskLasso, Ridge, ElasticNet\n",
    "\n",
    "from sklearn.preprocessing import MinMaxScaler\n",
    "\n",
    "from sklearn.model_selection import train_test_split\n",
    "from sklearn.linear_model import LinearRegression\n",
    "from sklearn.metrics import mean_squared_error, r2_score\n",
    "from sklearn.feature_selection import SelectKBest\n",
    "from sklearn.feature_selection import f_regression\n",
    "from sklearn.feature_selection import mutual_info_regression, f_regression\n",
    "\n",
    "from sklearn.pipeline import Pipeline\n",
    "from sklearn.model_selection import GridSearchCV\n",
    "from sklearn.model_selection import RepeatedKFold\n",
    "from sklearn.decomposition import PCA\n",
    "\n",
    "from sklearn.utils import shuffle\n",
    "from sklearn.preprocessing import StandardScaler\n",
    "\n",
    "from sklearn import metrics\n",
    "\n",
    "\n",
    "from skopt import BayesSearchCV\n",
    "from sklearn.model_selection import train_test_split\n",
    "from sklearn.linear_model import ElasticNet\n",
    "\n",
    "import statsmodels.api as sm\n",
    "\n",
    "import time\n",
    "\n",
    "import scipy\n",
    "\n",
    "from sklearn.svm import SVR\n",
    "\n",
    "from skopt import BayesSearchCV\n",
    "from sklearn.ensemble import RandomForestRegressor\n",
    "\n",
    "from statsmodels.stats.multitest import fdrcorrection\n",
    "\n",
    "from statsmodels.stats import multitest\n",
    "\n",
    "from sklearn.linear_model import RidgeCV, LassoCV, Ridge, Lasso\n",
    "from sklearn.ensemble import ExtraTreesClassifier\n",
    "\n",
    "from collections import Counter\n",
    "import heapq\n",
    "\n",
    "import statsmodels.api as sm\n",
    "\n",
    "from sklearn.ensemble import RandomForestRegressor\n",
    "\n",
    "import re\n",
    "\n",
    "from sklearn.preprocessing import MinMaxScaler\n",
    "\n",
    "import os"
   ]
  },
  {
   "cell_type": "code",
   "execution_count": 2,
   "id": "c23e44db",
   "metadata": {},
   "outputs": [
    {
     "data": {
      "text/html": [
       "<div>\n",
       "<style scoped>\n",
       "    .dataframe tbody tr th:only-of-type {\n",
       "        vertical-align: middle;\n",
       "    }\n",
       "\n",
       "    .dataframe tbody tr th {\n",
       "        vertical-align: top;\n",
       "    }\n",
       "\n",
       "    .dataframe thead th {\n",
       "        text-align: right;\n",
       "    }\n",
       "</style>\n",
       "<table border=\"1\" class=\"dataframe\">\n",
       "  <thead>\n",
       "    <tr style=\"text-align: right;\">\n",
       "      <th></th>\n",
       "      <th>Slope_HPC_left</th>\n",
       "      <th>Slope_HPC_right</th>\n",
       "      <th>Slope_CING_left</th>\n",
       "      <th>Slope_CING_right</th>\n",
       "      <th>Slope_TEMP_left</th>\n",
       "      <th>Slope_TEMP_right</th>\n",
       "      <th>Slope_PARIET_left</th>\n",
       "      <th>Slope_PARIET_right</th>\n",
       "      <th>Slope_OCC_left</th>\n",
       "      <th>Slope_OCC_right</th>\n",
       "      <th>...</th>\n",
       "      <th>Offset_PARIET_left</th>\n",
       "      <th>Offset_PARIET_right</th>\n",
       "      <th>Offset_OCC_left</th>\n",
       "      <th>Offset_OCC_right</th>\n",
       "      <th>Age</th>\n",
       "      <th>Sex</th>\n",
       "      <th>Educ</th>\n",
       "      <th>MMSE</th>\n",
       "      <th>ODQ</th>\n",
       "      <th>GINI</th>\n",
       "    </tr>\n",
       "  </thead>\n",
       "  <tbody>\n",
       "    <tr>\n",
       "      <th>0</th>\n",
       "      <td>2.859768</td>\n",
       "      <td>1.767303</td>\n",
       "      <td>2.415282</td>\n",
       "      <td>2.727924</td>\n",
       "      <td>3.081733</td>\n",
       "      <td>2.077333</td>\n",
       "      <td>2.413411</td>\n",
       "      <td>1.768170</td>\n",
       "      <td>3.129080</td>\n",
       "      <td>2.081708</td>\n",
       "      <td>...</td>\n",
       "      <td>4.966953</td>\n",
       "      <td>4.076689</td>\n",
       "      <td>5.791904</td>\n",
       "      <td>4.230146</td>\n",
       "      <td>33.0</td>\n",
       "      <td>1.0</td>\n",
       "      <td>19.0</td>\n",
       "      <td>30.0</td>\n",
       "      <td>99.282421</td>\n",
       "      <td>40.70</td>\n",
       "    </tr>\n",
       "    <tr>\n",
       "      <th>1</th>\n",
       "      <td>1.309688</td>\n",
       "      <td>1.667206</td>\n",
       "      <td>1.528242</td>\n",
       "      <td>1.537064</td>\n",
       "      <td>1.376505</td>\n",
       "      <td>2.009045</td>\n",
       "      <td>1.636336</td>\n",
       "      <td>1.460334</td>\n",
       "      <td>1.433874</td>\n",
       "      <td>1.607140</td>\n",
       "      <td>...</td>\n",
       "      <td>3.199684</td>\n",
       "      <td>2.893094</td>\n",
       "      <td>2.758251</td>\n",
       "      <td>2.797152</td>\n",
       "      <td>57.0</td>\n",
       "      <td>2.0</td>\n",
       "      <td>13.0</td>\n",
       "      <td>NaN</td>\n",
       "      <td>99.739738</td>\n",
       "      <td>40.70</td>\n",
       "    </tr>\n",
       "    <tr>\n",
       "      <th>2</th>\n",
       "      <td>1.257444</td>\n",
       "      <td>0.840704</td>\n",
       "      <td>1.330353</td>\n",
       "      <td>1.294367</td>\n",
       "      <td>1.342255</td>\n",
       "      <td>0.898285</td>\n",
       "      <td>1.438093</td>\n",
       "      <td>1.368015</td>\n",
       "      <td>1.307053</td>\n",
       "      <td>1.185280</td>\n",
       "      <td>...</td>\n",
       "      <td>3.189643</td>\n",
       "      <td>3.151721</td>\n",
       "      <td>2.838725</td>\n",
       "      <td>2.506678</td>\n",
       "      <td>32.0</td>\n",
       "      <td>1.0</td>\n",
       "      <td>10.0</td>\n",
       "      <td>NaN</td>\n",
       "      <td>99.361739</td>\n",
       "      <td>40.70</td>\n",
       "    </tr>\n",
       "    <tr>\n",
       "      <th>3</th>\n",
       "      <td>1.682139</td>\n",
       "      <td>1.355977</td>\n",
       "      <td>1.080644</td>\n",
       "      <td>0.955786</td>\n",
       "      <td>1.684404</td>\n",
       "      <td>1.144267</td>\n",
       "      <td>1.448098</td>\n",
       "      <td>1.381354</td>\n",
       "      <td>1.495415</td>\n",
       "      <td>1.232343</td>\n",
       "      <td>...</td>\n",
       "      <td>3.314643</td>\n",
       "      <td>3.166422</td>\n",
       "      <td>3.164481</td>\n",
       "      <td>2.732750</td>\n",
       "      <td>21.0</td>\n",
       "      <td>1.0</td>\n",
       "      <td>13.0</td>\n",
       "      <td>NaN</td>\n",
       "      <td>99.561273</td>\n",
       "      <td>40.70</td>\n",
       "    </tr>\n",
       "    <tr>\n",
       "      <th>4</th>\n",
       "      <td>0.866675</td>\n",
       "      <td>0.366260</td>\n",
       "      <td>0.455986</td>\n",
       "      <td>0.425098</td>\n",
       "      <td>0.870994</td>\n",
       "      <td>0.353314</td>\n",
       "      <td>0.830158</td>\n",
       "      <td>0.652646</td>\n",
       "      <td>0.700754</td>\n",
       "      <td>0.562175</td>\n",
       "      <td>...</td>\n",
       "      <td>2.853273</td>\n",
       "      <td>2.634403</td>\n",
       "      <td>2.520505</td>\n",
       "      <td>2.308816</td>\n",
       "      <td>19.0</td>\n",
       "      <td>1.0</td>\n",
       "      <td>13.0</td>\n",
       "      <td>30.0</td>\n",
       "      <td>99.822774</td>\n",
       "      <td>40.70</td>\n",
       "    </tr>\n",
       "    <tr>\n",
       "      <th>...</th>\n",
       "      <td>...</td>\n",
       "      <td>...</td>\n",
       "      <td>...</td>\n",
       "      <td>...</td>\n",
       "      <td>...</td>\n",
       "      <td>...</td>\n",
       "      <td>...</td>\n",
       "      <td>...</td>\n",
       "      <td>...</td>\n",
       "      <td>...</td>\n",
       "      <td>...</td>\n",
       "      <td>...</td>\n",
       "      <td>...</td>\n",
       "      <td>...</td>\n",
       "      <td>...</td>\n",
       "      <td>...</td>\n",
       "      <td>...</td>\n",
       "      <td>...</td>\n",
       "      <td>...</td>\n",
       "      <td>...</td>\n",
       "      <td>...</td>\n",
       "    </tr>\n",
       "    <tr>\n",
       "      <th>1443</th>\n",
       "      <td>0.860623</td>\n",
       "      <td>0.726887</td>\n",
       "      <td>0.984260</td>\n",
       "      <td>0.996106</td>\n",
       "      <td>0.811934</td>\n",
       "      <td>0.623448</td>\n",
       "      <td>1.105042</td>\n",
       "      <td>1.070750</td>\n",
       "      <td>1.269507</td>\n",
       "      <td>1.034332</td>\n",
       "      <td>...</td>\n",
       "      <td>2.562506</td>\n",
       "      <td>2.534879</td>\n",
       "      <td>2.678311</td>\n",
       "      <td>2.442810</td>\n",
       "      <td>57.0</td>\n",
       "      <td>2.0</td>\n",
       "      <td>17.0</td>\n",
       "      <td>30.0</td>\n",
       "      <td>98.650235</td>\n",
       "      <td>44.92</td>\n",
       "    </tr>\n",
       "    <tr>\n",
       "      <th>1444</th>\n",
       "      <td>3.240214</td>\n",
       "      <td>2.554994</td>\n",
       "      <td>4.075704</td>\n",
       "      <td>4.236230</td>\n",
       "      <td>2.822616</td>\n",
       "      <td>2.044794</td>\n",
       "      <td>3.631432</td>\n",
       "      <td>4.065509</td>\n",
       "      <td>3.820450</td>\n",
       "      <td>3.716575</td>\n",
       "      <td>...</td>\n",
       "      <td>6.439969</td>\n",
       "      <td>7.285327</td>\n",
       "      <td>6.601294</td>\n",
       "      <td>6.505917</td>\n",
       "      <td>48.0</td>\n",
       "      <td>2.0</td>\n",
       "      <td>17.0</td>\n",
       "      <td>28.0</td>\n",
       "      <td>99.599221</td>\n",
       "      <td>44.92</td>\n",
       "    </tr>\n",
       "    <tr>\n",
       "      <th>1445</th>\n",
       "      <td>2.732930</td>\n",
       "      <td>2.810929</td>\n",
       "      <td>2.014831</td>\n",
       "      <td>2.376631</td>\n",
       "      <td>2.349316</td>\n",
       "      <td>2.389446</td>\n",
       "      <td>1.987368</td>\n",
       "      <td>2.083951</td>\n",
       "      <td>4.578028</td>\n",
       "      <td>3.735156</td>\n",
       "      <td>...</td>\n",
       "      <td>3.964125</td>\n",
       "      <td>4.146706</td>\n",
       "      <td>8.038794</td>\n",
       "      <td>6.603005</td>\n",
       "      <td>57.0</td>\n",
       "      <td>2.0</td>\n",
       "      <td>17.0</td>\n",
       "      <td>29.0</td>\n",
       "      <td>99.675799</td>\n",
       "      <td>44.92</td>\n",
       "    </tr>\n",
       "    <tr>\n",
       "      <th>1446</th>\n",
       "      <td>3.003057</td>\n",
       "      <td>2.705750</td>\n",
       "      <td>3.486568</td>\n",
       "      <td>3.536880</td>\n",
       "      <td>2.642035</td>\n",
       "      <td>2.560009</td>\n",
       "      <td>3.293006</td>\n",
       "      <td>3.629184</td>\n",
       "      <td>3.510047</td>\n",
       "      <td>3.379987</td>\n",
       "      <td>...</td>\n",
       "      <td>6.010047</td>\n",
       "      <td>6.883034</td>\n",
       "      <td>6.353391</td>\n",
       "      <td>6.108625</td>\n",
       "      <td>69.0</td>\n",
       "      <td>2.0</td>\n",
       "      <td>12.0</td>\n",
       "      <td>30.0</td>\n",
       "      <td>99.641446</td>\n",
       "      <td>44.92</td>\n",
       "    </tr>\n",
       "    <tr>\n",
       "      <th>1447</th>\n",
       "      <td>0.801384</td>\n",
       "      <td>1.119070</td>\n",
       "      <td>1.473746</td>\n",
       "      <td>1.680619</td>\n",
       "      <td>0.718336</td>\n",
       "      <td>0.731685</td>\n",
       "      <td>1.398828</td>\n",
       "      <td>1.586837</td>\n",
       "      <td>1.448785</td>\n",
       "      <td>1.551425</td>\n",
       "      <td>...</td>\n",
       "      <td>2.995543</td>\n",
       "      <td>3.221546</td>\n",
       "      <td>3.055521</td>\n",
       "      <td>3.123381</td>\n",
       "      <td>64.0</td>\n",
       "      <td>2.0</td>\n",
       "      <td>22.0</td>\n",
       "      <td>30.0</td>\n",
       "      <td>98.420503</td>\n",
       "      <td>44.92</td>\n",
       "    </tr>\n",
       "  </tbody>\n",
       "</table>\n",
       "<p>1383 rows × 36 columns</p>\n",
       "</div>"
      ],
      "text/plain": [
       "      Slope_HPC_left  Slope_HPC_right  Slope_CING_left  Slope_CING_right  \\\n",
       "0           2.859768         1.767303         2.415282          2.727924   \n",
       "1           1.309688         1.667206         1.528242          1.537064   \n",
       "2           1.257444         0.840704         1.330353          1.294367   \n",
       "3           1.682139         1.355977         1.080644          0.955786   \n",
       "4           0.866675         0.366260         0.455986          0.425098   \n",
       "...              ...              ...              ...               ...   \n",
       "1443        0.860623         0.726887         0.984260          0.996106   \n",
       "1444        3.240214         2.554994         4.075704          4.236230   \n",
       "1445        2.732930         2.810929         2.014831          2.376631   \n",
       "1446        3.003057         2.705750         3.486568          3.536880   \n",
       "1447        0.801384         1.119070         1.473746          1.680619   \n",
       "\n",
       "      Slope_TEMP_left  Slope_TEMP_right  Slope_PARIET_left  \\\n",
       "0            3.081733          2.077333           2.413411   \n",
       "1            1.376505          2.009045           1.636336   \n",
       "2            1.342255          0.898285           1.438093   \n",
       "3            1.684404          1.144267           1.448098   \n",
       "4            0.870994          0.353314           0.830158   \n",
       "...               ...               ...                ...   \n",
       "1443         0.811934          0.623448           1.105042   \n",
       "1444         2.822616          2.044794           3.631432   \n",
       "1445         2.349316          2.389446           1.987368   \n",
       "1446         2.642035          2.560009           3.293006   \n",
       "1447         0.718336          0.731685           1.398828   \n",
       "\n",
       "      Slope_PARIET_right  Slope_OCC_left  Slope_OCC_right  ...  \\\n",
       "0               1.768170        3.129080         2.081708  ...   \n",
       "1               1.460334        1.433874         1.607140  ...   \n",
       "2               1.368015        1.307053         1.185280  ...   \n",
       "3               1.381354        1.495415         1.232343  ...   \n",
       "4               0.652646        0.700754         0.562175  ...   \n",
       "...                  ...             ...              ...  ...   \n",
       "1443            1.070750        1.269507         1.034332  ...   \n",
       "1444            4.065509        3.820450         3.716575  ...   \n",
       "1445            2.083951        4.578028         3.735156  ...   \n",
       "1446            3.629184        3.510047         3.379987  ...   \n",
       "1447            1.586837        1.448785         1.551425  ...   \n",
       "\n",
       "      Offset_PARIET_left  Offset_PARIET_right  Offset_OCC_left  \\\n",
       "0               4.966953             4.076689         5.791904   \n",
       "1               3.199684             2.893094         2.758251   \n",
       "2               3.189643             3.151721         2.838725   \n",
       "3               3.314643             3.166422         3.164481   \n",
       "4               2.853273             2.634403         2.520505   \n",
       "...                  ...                  ...              ...   \n",
       "1443            2.562506             2.534879         2.678311   \n",
       "1444            6.439969             7.285327         6.601294   \n",
       "1445            3.964125             4.146706         8.038794   \n",
       "1446            6.010047             6.883034         6.353391   \n",
       "1447            2.995543             3.221546         3.055521   \n",
       "\n",
       "      Offset_OCC_right   Age  Sex  Educ  MMSE        ODQ   GINI  \n",
       "0             4.230146  33.0  1.0  19.0  30.0  99.282421  40.70  \n",
       "1             2.797152  57.0  2.0  13.0   NaN  99.739738  40.70  \n",
       "2             2.506678  32.0  1.0  10.0   NaN  99.361739  40.70  \n",
       "3             2.732750  21.0  1.0  13.0   NaN  99.561273  40.70  \n",
       "4             2.308816  19.0  1.0  13.0  30.0  99.822774  40.70  \n",
       "...                ...   ...  ...   ...   ...        ...    ...  \n",
       "1443          2.442810  57.0  2.0  17.0  30.0  98.650235  44.92  \n",
       "1444          6.505917  48.0  2.0  17.0  28.0  99.599221  44.92  \n",
       "1445          6.603005  57.0  2.0  17.0  29.0  99.675799  44.92  \n",
       "1446          6.108625  69.0  2.0  12.0  30.0  99.641446  44.92  \n",
       "1447          3.123381  64.0  2.0  22.0  30.0  98.420503  44.92  \n",
       "\n",
       "[1383 rows x 36 columns]"
      ]
     },
     "execution_count": 2,
     "metadata": {},
     "output_type": "execute_result"
    }
   ],
   "source": [
    "aper_df =  pd.read_excel('Data/aperiodic.xlsx', index_col=0)\n",
    "aper_df\n",
    "\n"
   ]
  },
  {
   "cell_type": "markdown",
   "id": "76951a14",
   "metadata": {},
   "source": [
    "## Statistical significance check"
   ]
  },
  {
   "cell_type": "code",
   "execution_count": 3,
   "id": "60920aed",
   "metadata": {},
   "outputs": [
    {
     "data": {
      "text/html": [
       "<div>\n",
       "<style scoped>\n",
       "    .dataframe tbody tr th:only-of-type {\n",
       "        vertical-align: middle;\n",
       "    }\n",
       "\n",
       "    .dataframe tbody tr th {\n",
       "        vertical-align: top;\n",
       "    }\n",
       "\n",
       "    .dataframe thead th {\n",
       "        text-align: right;\n",
       "    }\n",
       "</style>\n",
       "<table border=\"1\" class=\"dataframe\">\n",
       "  <thead>\n",
       "    <tr style=\"text-align: right;\">\n",
       "      <th></th>\n",
       "      <th>Slope_HPC_left</th>\n",
       "      <th>Slope_HPC_right</th>\n",
       "      <th>Slope_CING_left</th>\n",
       "      <th>Slope_CING_right</th>\n",
       "      <th>Slope_TEMP_left</th>\n",
       "      <th>Slope_TEMP_right</th>\n",
       "      <th>Slope_PARIET_left</th>\n",
       "      <th>Slope_PARIET_right</th>\n",
       "      <th>Slope_OCC_left</th>\n",
       "      <th>Slope_OCC_right</th>\n",
       "      <th>...</th>\n",
       "      <th>Offset_HPC_left</th>\n",
       "      <th>Offset_HPC_right</th>\n",
       "      <th>Offset_CING_left</th>\n",
       "      <th>Offset_CING_right</th>\n",
       "      <th>Offset_TEMP_left</th>\n",
       "      <th>Offset_TEMP_right</th>\n",
       "      <th>Offset_PARIET_left</th>\n",
       "      <th>Offset_PARIET_right</th>\n",
       "      <th>Offset_OCC_left</th>\n",
       "      <th>Offset_OCC_right</th>\n",
       "    </tr>\n",
       "  </thead>\n",
       "  <tbody>\n",
       "  </tbody>\n",
       "</table>\n",
       "<p>0 rows × 30 columns</p>\n",
       "</div>"
      ],
      "text/plain": [
       "Empty DataFrame\n",
       "Columns: [Slope_HPC_left, Slope_HPC_right, Slope_CING_left, Slope_CING_right, Slope_TEMP_left, Slope_TEMP_right, Slope_PARIET_left, Slope_PARIET_right, Slope_OCC_left, Slope_OCC_right, Knee_HPC_left, Knee_HPC_right, Knee_CING_left, Knee_CING_right, Knee_TEMP_left, Knee_TEMP_right, Knee_PARIET_left, Knee_PARIET_right, Knee_OCC_left, Knee_OCC_right, Offset_HPC_left, Offset_HPC_right, Offset_CING_left, Offset_CING_right, Offset_TEMP_left, Offset_TEMP_right, Offset_PARIET_left, Offset_PARIET_right, Offset_OCC_left, Offset_OCC_right]\n",
       "Index: []\n",
       "\n",
       "[0 rows x 30 columns]"
      ]
     },
     "execution_count": 3,
     "metadata": {},
     "output_type": "execute_result"
    }
   ],
   "source": [
    "outcomes_list = list(aper_df.iloc[:,0:-6])\n",
    "df_metrics_slopes = pd.DataFrame(columns=outcomes_list)\n",
    "df_metrics_pval = pd.DataFrame(columns=outcomes_list)\n",
    "df_metrics_dir = pd.DataFrame(columns=outcomes_list)\n",
    "df_metrics_slopes"
   ]
  },
  {
   "cell_type": "code",
   "execution_count": 4,
   "id": "6f1cd9a6",
   "metadata": {},
   "outputs": [],
   "source": [
    "from scipy.stats import linregress\n",
    "\n",
    "df_metrics_slopes = pd.DataFrame(columns=outcomes_list)\n",
    "\n",
    "for variable_y in outcomes_list:\n",
    "    \n",
    "    c_aper_df_mmse = aper_df[['GINI', variable_y]]\n",
    "    \n",
    "    c_aper_df_mmse = c_aper_df_mmse.dropna()\n",
    "    c_aper_df_mmse.reset_index(drop=True)\n",
    "    \n",
    "    y_conn_1A = c_aper_df_mmse[variable_y]\n",
    "    X_conn_1A = c_aper_df_mmse[['GINI']]\n",
    "    \n",
    "    scaler = MinMaxScaler([0.05, 0.95])\n",
    "    scaling_data = scaler.fit_transform(X_conn_1A)\n",
    "    X_conn_1A = pd.DataFrame(scaling_data, columns= X_conn_1A.columns, index = X_conn_1A.index)\n",
    "\n",
    "    X_conn_1A =  X_conn_1A.copy()\n",
    "\n",
    "    slope, intercept, r_value, p_value, std_err = linregress(X_conn_1A['GINI'], y_conn_1A)\n",
    "    \n",
    "    p_value*=210\n",
    "    if(p_value<=0.05):\n",
    "        df_metrics_slopes.loc['GINI', variable_y] =  str(np.round(slope,3)) + ' (' + str(np.round(p_value,3))+')' \n",
    "    \n",
    "    df_metrics_pval.loc['GINI', variable_y] =  p_value\n",
    "    df_metrics_dir.loc['GINI', variable_y] =  slope\n",
    "    \n",
    "for variable_y in outcomes_list:\n",
    "    for variable_x in ['Age', 'Educ', 'Sex', 'MMSE']:\n",
    "    \n",
    "        c_aper_df_mmse = aper_df[['GINI', variable_x, variable_y]]\n",
    "\n",
    "        c_aper_df_mmse = c_aper_df_mmse.dropna()\n",
    "        c_aper_df_mmse.reset_index(drop=True)\n",
    "        \n",
    "        y_conn_1A = c_aper_df_mmse[variable_y]\n",
    "        X_conn_1A = c_aper_df_mmse[['GINI', variable_x]]\n",
    "        \n",
    "        scaler = MinMaxScaler([0.05, 0.95])\n",
    "        scaling_data = scaler.fit_transform(X_conn_1A)\n",
    "        X_conn_1A = pd.DataFrame(scaling_data, columns= X_conn_1A.columns, index = X_conn_1A.index)\n",
    "\n",
    "        X_conn_1A =  X_conn_1A.copy()\n",
    "\n",
    "        slope, intercept, r_value, p_value, std_err = linregress(X_conn_1A[variable_x],y_conn_1A)\n",
    "    \n",
    "        p_value*=210\n",
    "        if(p_value<=0.05):\n",
    "            df_metrics_slopes.loc[variable_x, variable_y] =  str(np.round(slope,3)) + ' (' + str(np.round(p_value,3))+')' \n",
    "     \n",
    "        df_metrics_pval.loc[variable_x, variable_y] =  p_value\n",
    "        df_metrics_dir.loc[variable_x, variable_y] =  slope"
   ]
  },
  {
   "cell_type": "code",
   "execution_count": 5,
   "id": "73a0a4ae",
   "metadata": {},
   "outputs": [
    {
     "data": {
      "text/html": [
       "<div>\n",
       "<style scoped>\n",
       "    .dataframe tbody tr th:only-of-type {\n",
       "        vertical-align: middle;\n",
       "    }\n",
       "\n",
       "    .dataframe tbody tr th {\n",
       "        vertical-align: top;\n",
       "    }\n",
       "\n",
       "    .dataframe thead th {\n",
       "        text-align: right;\n",
       "    }\n",
       "</style>\n",
       "<table border=\"1\" class=\"dataframe\">\n",
       "  <thead>\n",
       "    <tr style=\"text-align: right;\">\n",
       "      <th></th>\n",
       "      <th>GINI</th>\n",
       "      <th>Age</th>\n",
       "      <th>Educ</th>\n",
       "      <th>Sex</th>\n",
       "      <th>MMSE</th>\n",
       "    </tr>\n",
       "  </thead>\n",
       "  <tbody>\n",
       "    <tr>\n",
       "      <th>Slope_HPC_left</th>\n",
       "      <td>-0.905006</td>\n",
       "      <td>-0.253507</td>\n",
       "      <td>0.031171</td>\n",
       "      <td>-0.179794</td>\n",
       "      <td>1.025307</td>\n",
       "    </tr>\n",
       "    <tr>\n",
       "      <th>Slope_HPC_right</th>\n",
       "      <td>-0.752266</td>\n",
       "      <td>-0.329491</td>\n",
       "      <td>0.17723</td>\n",
       "      <td>-0.163585</td>\n",
       "      <td>0.942284</td>\n",
       "    </tr>\n",
       "    <tr>\n",
       "      <th>Slope_CING_left</th>\n",
       "      <td>-0.965606</td>\n",
       "      <td>-0.722428</td>\n",
       "      <td>0.668924</td>\n",
       "      <td>-0.180915</td>\n",
       "      <td>1.140162</td>\n",
       "    </tr>\n",
       "    <tr>\n",
       "      <th>Slope_CING_right</th>\n",
       "      <td>-1.05444</td>\n",
       "      <td>-0.764066</td>\n",
       "      <td>0.831233</td>\n",
       "      <td>-0.225226</td>\n",
       "      <td>1.12009</td>\n",
       "    </tr>\n",
       "    <tr>\n",
       "      <th>Slope_TEMP_left</th>\n",
       "      <td>-0.940845</td>\n",
       "      <td>-0.304356</td>\n",
       "      <td>-0.435535</td>\n",
       "      <td>-0.24448</td>\n",
       "      <td>0.923727</td>\n",
       "    </tr>\n",
       "    <tr>\n",
       "      <th>Slope_TEMP_right</th>\n",
       "      <td>-0.756375</td>\n",
       "      <td>-0.352368</td>\n",
       "      <td>-0.392504</td>\n",
       "      <td>-0.247511</td>\n",
       "      <td>0.988496</td>\n",
       "    </tr>\n",
       "    <tr>\n",
       "      <th>Slope_PARIET_left</th>\n",
       "      <td>-0.925928</td>\n",
       "      <td>-0.913985</td>\n",
       "      <td>0.456058</td>\n",
       "      <td>-0.205978</td>\n",
       "      <td>1.021998</td>\n",
       "    </tr>\n",
       "    <tr>\n",
       "      <th>Slope_PARIET_right</th>\n",
       "      <td>-0.892486</td>\n",
       "      <td>-0.900559</td>\n",
       "      <td>0.626909</td>\n",
       "      <td>-0.146254</td>\n",
       "      <td>1.081639</td>\n",
       "    </tr>\n",
       "    <tr>\n",
       "      <th>Slope_OCC_left</th>\n",
       "      <td>-0.926153</td>\n",
       "      <td>-0.35525</td>\n",
       "      <td>-0.382908</td>\n",
       "      <td>-0.128652</td>\n",
       "      <td>0.913233</td>\n",
       "    </tr>\n",
       "    <tr>\n",
       "      <th>Slope_OCC_right</th>\n",
       "      <td>-0.816708</td>\n",
       "      <td>-0.558228</td>\n",
       "      <td>-0.323291</td>\n",
       "      <td>-0.161429</td>\n",
       "      <td>0.992483</td>\n",
       "    </tr>\n",
       "    <tr>\n",
       "      <th>Knee_HPC_left</th>\n",
       "      <td>-3160966429.426146</td>\n",
       "      <td>2149765783.283321</td>\n",
       "      <td>-6702242943.405698</td>\n",
       "      <td>-263495970.361514</td>\n",
       "      <td>2577435227.14075</td>\n",
       "    </tr>\n",
       "    <tr>\n",
       "      <th>Knee_HPC_right</th>\n",
       "      <td>-28330194.860112</td>\n",
       "      <td>835503407.111133</td>\n",
       "      <td>3123066521.660429</td>\n",
       "      <td>11494981.349915</td>\n",
       "      <td>153192632.656559</td>\n",
       "    </tr>\n",
       "    <tr>\n",
       "      <th>Knee_CING_left</th>\n",
       "      <td>2803537829831919437611008.0</td>\n",
       "      <td>-393791797798495898828800.0</td>\n",
       "      <td>-6940324440241241715638272.0</td>\n",
       "      <td>23081426788878.34375</td>\n",
       "      <td>2542218098517485176225792.0</td>\n",
       "    </tr>\n",
       "    <tr>\n",
       "      <th>Knee_CING_right</th>\n",
       "      <td>26041915042136698880.0</td>\n",
       "      <td>-3657933112916929024.0</td>\n",
       "      <td>-64468250415457165312.0</td>\n",
       "      <td>-10811197314467.201172</td>\n",
       "      <td>23614569063467634688.0</td>\n",
       "    </tr>\n",
       "    <tr>\n",
       "      <th>Knee_TEMP_left</th>\n",
       "      <td>25646232842516036.0</td>\n",
       "      <td>-3602289308271710.0</td>\n",
       "      <td>-63488987780866736.0</td>\n",
       "      <td>8993648609.585445</td>\n",
       "      <td>23255691194348288.0</td>\n",
       "    </tr>\n",
       "    <tr>\n",
       "      <th>Knee_TEMP_right</th>\n",
       "      <td>-367083990945254146048.0</td>\n",
       "      <td>-1253151986540045664256.0</td>\n",
       "      <td>-793044674586886144000.0</td>\n",
       "      <td>-766364502071164665856.0</td>\n",
       "      <td>2397039519709636591616.0</td>\n",
       "    </tr>\n",
       "    <tr>\n",
       "      <th>Knee_PARIET_left</th>\n",
       "      <td>16896422995887936.0</td>\n",
       "      <td>-2373270071965281.5</td>\n",
       "      <td>-41828238748935688.0</td>\n",
       "      <td>31967993265.421295</td>\n",
       "      <td>15321508620687942.0</td>\n",
       "    </tr>\n",
       "    <tr>\n",
       "      <th>Knee_PARIET_right</th>\n",
       "      <td>75107136.139512</td>\n",
       "      <td>161347417.711612</td>\n",
       "      <td>-278061046.161816</td>\n",
       "      <td>133758957.198374</td>\n",
       "      <td>-199250761.439616</td>\n",
       "    </tr>\n",
       "    <tr>\n",
       "      <th>Knee_OCC_left</th>\n",
       "      <td>-2551707444.864097</td>\n",
       "      <td>107955759931.67807</td>\n",
       "      <td>192503037212.611298</td>\n",
       "      <td>40509523050.462616</td>\n",
       "      <td>110256785691.240128</td>\n",
       "    </tr>\n",
       "    <tr>\n",
       "      <th>Knee_OCC_right</th>\n",
       "      <td>5663964952285.298828</td>\n",
       "      <td>-4171015236806.402832</td>\n",
       "      <td>-8569343676310.5625</td>\n",
       "      <td>412898562049.292053</td>\n",
       "      <td>7987112623322.067383</td>\n",
       "    </tr>\n",
       "    <tr>\n",
       "      <th>Offset_HPC_left</th>\n",
       "      <td>-1.337677</td>\n",
       "      <td>0.184005</td>\n",
       "      <td>0.038529</td>\n",
       "      <td>-0.071886</td>\n",
       "      <td>2.11307</td>\n",
       "    </tr>\n",
       "    <tr>\n",
       "      <th>Offset_HPC_right</th>\n",
       "      <td>-0.971178</td>\n",
       "      <td>0.159553</td>\n",
       "      <td>0.298143</td>\n",
       "      <td>-0.059321</td>\n",
       "      <td>1.732349</td>\n",
       "    </tr>\n",
       "    <tr>\n",
       "      <th>Offset_CING_left</th>\n",
       "      <td>-1.219799</td>\n",
       "      <td>-0.662215</td>\n",
       "      <td>0.879529</td>\n",
       "      <td>-0.029467</td>\n",
       "      <td>1.792896</td>\n",
       "    </tr>\n",
       "    <tr>\n",
       "      <th>Offset_CING_right</th>\n",
       "      <td>-1.35134</td>\n",
       "      <td>-0.777952</td>\n",
       "      <td>1.091582</td>\n",
       "      <td>-0.161589</td>\n",
       "      <td>1.752966</td>\n",
       "    </tr>\n",
       "    <tr>\n",
       "      <th>Offset_TEMP_left</th>\n",
       "      <td>-1.386809</td>\n",
       "      <td>0.185948</td>\n",
       "      <td>-0.746443</td>\n",
       "      <td>-0.196059</td>\n",
       "      <td>1.611719</td>\n",
       "    </tr>\n",
       "    <tr>\n",
       "      <th>Offset_TEMP_right</th>\n",
       "      <td>-1.061257</td>\n",
       "      <td>0.174329</td>\n",
       "      <td>-0.743453</td>\n",
       "      <td>-0.272764</td>\n",
       "      <td>1.787376</td>\n",
       "    </tr>\n",
       "    <tr>\n",
       "      <th>Offset_PARIET_left</th>\n",
       "      <td>-1.016624</td>\n",
       "      <td>-1.168137</td>\n",
       "      <td>0.467091</td>\n",
       "      <td>-0.168847</td>\n",
       "      <td>1.539575</td>\n",
       "    </tr>\n",
       "    <tr>\n",
       "      <th>Offset_PARIET_right</th>\n",
       "      <td>-0.964225</td>\n",
       "      <td>-1.271366</td>\n",
       "      <td>0.655586</td>\n",
       "      <td>-0.079783</td>\n",
       "      <td>1.699689</td>\n",
       "    </tr>\n",
       "    <tr>\n",
       "      <th>Offset_OCC_left</th>\n",
       "      <td>-1.069798</td>\n",
       "      <td>-0.171494</td>\n",
       "      <td>-1.029871</td>\n",
       "      <td>-0.080003</td>\n",
       "      <td>1.380654</td>\n",
       "    </tr>\n",
       "    <tr>\n",
       "      <th>Offset_OCC_right</th>\n",
       "      <td>-0.800043</td>\n",
       "      <td>-0.60996</td>\n",
       "      <td>-1.035212</td>\n",
       "      <td>-0.144622</td>\n",
       "      <td>1.530167</td>\n",
       "    </tr>\n",
       "  </tbody>\n",
       "</table>\n",
       "</div>"
      ],
      "text/plain": [
       "                                            GINI                         Age  \\\n",
       "Slope_HPC_left                         -0.905006                   -0.253507   \n",
       "Slope_HPC_right                        -0.752266                   -0.329491   \n",
       "Slope_CING_left                        -0.965606                   -0.722428   \n",
       "Slope_CING_right                        -1.05444                   -0.764066   \n",
       "Slope_TEMP_left                        -0.940845                   -0.304356   \n",
       "Slope_TEMP_right                       -0.756375                   -0.352368   \n",
       "Slope_PARIET_left                      -0.925928                   -0.913985   \n",
       "Slope_PARIET_right                     -0.892486                   -0.900559   \n",
       "Slope_OCC_left                         -0.926153                    -0.35525   \n",
       "Slope_OCC_right                        -0.816708                   -0.558228   \n",
       "Knee_HPC_left                 -3160966429.426146           2149765783.283321   \n",
       "Knee_HPC_right                  -28330194.860112            835503407.111133   \n",
       "Knee_CING_left       2803537829831919437611008.0 -393791797798495898828800.0   \n",
       "Knee_CING_right           26041915042136698880.0      -3657933112916929024.0   \n",
       "Knee_TEMP_left               25646232842516036.0         -3602289308271710.0   \n",
       "Knee_TEMP_right         -367083990945254146048.0   -1253151986540045664256.0   \n",
       "Knee_PARIET_left             16896422995887936.0         -2373270071965281.5   \n",
       "Knee_PARIET_right                75107136.139512            161347417.711612   \n",
       "Knee_OCC_left                 -2551707444.864097          107955759931.67807   \n",
       "Knee_OCC_right              5663964952285.298828       -4171015236806.402832   \n",
       "Offset_HPC_left                        -1.337677                    0.184005   \n",
       "Offset_HPC_right                       -0.971178                    0.159553   \n",
       "Offset_CING_left                       -1.219799                   -0.662215   \n",
       "Offset_CING_right                       -1.35134                   -0.777952   \n",
       "Offset_TEMP_left                       -1.386809                    0.185948   \n",
       "Offset_TEMP_right                      -1.061257                    0.174329   \n",
       "Offset_PARIET_left                     -1.016624                   -1.168137   \n",
       "Offset_PARIET_right                    -0.964225                   -1.271366   \n",
       "Offset_OCC_left                        -1.069798                   -0.171494   \n",
       "Offset_OCC_right                       -0.800043                    -0.60996   \n",
       "\n",
       "                                            Educ                      Sex  \\\n",
       "Slope_HPC_left                          0.031171                -0.179794   \n",
       "Slope_HPC_right                          0.17723                -0.163585   \n",
       "Slope_CING_left                         0.668924                -0.180915   \n",
       "Slope_CING_right                        0.831233                -0.225226   \n",
       "Slope_TEMP_left                        -0.435535                 -0.24448   \n",
       "Slope_TEMP_right                       -0.392504                -0.247511   \n",
       "Slope_PARIET_left                       0.456058                -0.205978   \n",
       "Slope_PARIET_right                      0.626909                -0.146254   \n",
       "Slope_OCC_left                         -0.382908                -0.128652   \n",
       "Slope_OCC_right                        -0.323291                -0.161429   \n",
       "Knee_HPC_left                 -6702242943.405698        -263495970.361514   \n",
       "Knee_HPC_right                 3123066521.660429          11494981.349915   \n",
       "Knee_CING_left      -6940324440241241715638272.0     23081426788878.34375   \n",
       "Knee_CING_right          -64468250415457165312.0   -10811197314467.201172   \n",
       "Knee_TEMP_left              -63488987780866736.0        8993648609.585445   \n",
       "Knee_TEMP_right         -793044674586886144000.0 -766364502071164665856.0   \n",
       "Knee_PARIET_left            -41828238748935688.0       31967993265.421295   \n",
       "Knee_PARIET_right              -278061046.161816         133758957.198374   \n",
       "Knee_OCC_left                192503037212.611298       40509523050.462616   \n",
       "Knee_OCC_right               -8569343676310.5625      412898562049.292053   \n",
       "Offset_HPC_left                         0.038529                -0.071886   \n",
       "Offset_HPC_right                        0.298143                -0.059321   \n",
       "Offset_CING_left                        0.879529                -0.029467   \n",
       "Offset_CING_right                       1.091582                -0.161589   \n",
       "Offset_TEMP_left                       -0.746443                -0.196059   \n",
       "Offset_TEMP_right                      -0.743453                -0.272764   \n",
       "Offset_PARIET_left                      0.467091                -0.168847   \n",
       "Offset_PARIET_right                     0.655586                -0.079783   \n",
       "Offset_OCC_left                        -1.029871                -0.080003   \n",
       "Offset_OCC_right                       -1.035212                -0.144622   \n",
       "\n",
       "                                            MMSE  \n",
       "Slope_HPC_left                          1.025307  \n",
       "Slope_HPC_right                         0.942284  \n",
       "Slope_CING_left                         1.140162  \n",
       "Slope_CING_right                         1.12009  \n",
       "Slope_TEMP_left                         0.923727  \n",
       "Slope_TEMP_right                        0.988496  \n",
       "Slope_PARIET_left                       1.021998  \n",
       "Slope_PARIET_right                      1.081639  \n",
       "Slope_OCC_left                          0.913233  \n",
       "Slope_OCC_right                         0.992483  \n",
       "Knee_HPC_left                   2577435227.14075  \n",
       "Knee_HPC_right                  153192632.656559  \n",
       "Knee_CING_left       2542218098517485176225792.0  \n",
       "Knee_CING_right           23614569063467634688.0  \n",
       "Knee_TEMP_left               23255691194348288.0  \n",
       "Knee_TEMP_right         2397039519709636591616.0  \n",
       "Knee_PARIET_left             15321508620687942.0  \n",
       "Knee_PARIET_right              -199250761.439616  \n",
       "Knee_OCC_left                110256785691.240128  \n",
       "Knee_OCC_right              7987112623322.067383  \n",
       "Offset_HPC_left                          2.11307  \n",
       "Offset_HPC_right                        1.732349  \n",
       "Offset_CING_left                        1.792896  \n",
       "Offset_CING_right                       1.752966  \n",
       "Offset_TEMP_left                        1.611719  \n",
       "Offset_TEMP_right                       1.787376  \n",
       "Offset_PARIET_left                      1.539575  \n",
       "Offset_PARIET_right                     1.699689  \n",
       "Offset_OCC_left                         1.380654  \n",
       "Offset_OCC_right                        1.530167  "
      ]
     },
     "execution_count": 5,
     "metadata": {},
     "output_type": "execute_result"
    }
   ],
   "source": [
    "df_metrics_slopes = df_metrics_slopes.T\n",
    "df_metrics_pval = df_metrics_pval.T\n",
    "df_metrics_dir = df_metrics_dir.T\n",
    "df_metrics_dir"
   ]
  },
  {
   "cell_type": "code",
   "execution_count": 6,
   "id": "53705348",
   "metadata": {},
   "outputs": [],
   "source": [
    "df_metrics_GINI = df_metrics_slopes[['GINI']]\n",
    "df_metrics_GINI = df_metrics_GINI.copy()\n",
    "df_metrics_GINI.dropna(inplace=True)"
   ]
  },
  {
   "cell_type": "code",
   "execution_count": 7,
   "id": "47c512f6",
   "metadata": {},
   "outputs": [
    {
     "data": {
      "text/plain": [
       "['Slope_HPC_left',\n",
       " 'Slope_HPC_right',\n",
       " 'Slope_CING_left',\n",
       " 'Slope_CING_right',\n",
       " 'Slope_TEMP_left',\n",
       " 'Slope_TEMP_right',\n",
       " 'Slope_PARIET_left',\n",
       " 'Slope_PARIET_right',\n",
       " 'Slope_OCC_left',\n",
       " 'Slope_OCC_right',\n",
       " 'Offset_HPC_left',\n",
       " 'Offset_HPC_right',\n",
       " 'Offset_CING_left',\n",
       " 'Offset_CING_right',\n",
       " 'Offset_TEMP_left',\n",
       " 'Offset_TEMP_right',\n",
       " 'Offset_PARIET_left',\n",
       " 'Offset_PARIET_right',\n",
       " 'Offset_OCC_left']"
      ]
     },
     "execution_count": 7,
     "metadata": {},
     "output_type": "execute_result"
    }
   ],
   "source": [
    "outcomes_list = list(df_metrics_GINI.index)\n",
    "outcomes_list"
   ]
  },
  {
   "cell_type": "code",
   "execution_count": null,
   "id": "6478c935",
   "metadata": {},
   "outputs": [],
   "source": []
  },
  {
   "cell_type": "code",
   "execution_count": 8,
   "id": "7574a860",
   "metadata": {},
   "outputs": [],
   "source": [
    "def classifier_ROC(X_, y, fig_show = True, params_ = None):\n",
    "    \n",
    "    X_train, X_test, y_train, y_test = train_test_split(X_, y, test_size=0.2, random_state=10000, stratify=y)\n",
    "\n",
    "    #lista = list(sfs_.k_feature_names_)\n",
    "\n",
    "    #X_train = X_train[lista]\n",
    "    #X_test = X_test[lista]\n",
    "\n",
    "    cv    = RepeatedKFold(n_splits=10, n_repeats=2, random_state=101)\n",
    "    folds = [(train,test) for train, test in cv.split(X_train, y_train)]\n",
    "    metrics = ['auc', 'fpr', 'tpr', 'thresholds', 'f1_score', 'accuracy_score', 'recall_score', 'precision_score', 'confusion_matrix', 'model']\n",
    "    results = {\n",
    "        'train': {m:[] for m in metrics},\n",
    "        'val'  : {m:[] for m in metrics},\n",
    "        'test' : {m:[] for m in metrics}\n",
    "    }\n",
    "    X_train = pd.DataFrame(X_train)\n",
    "    y_train = pd.DataFrame(y_train)\n",
    "\n",
    "\n",
    "    if(params_!=None):\n",
    "        params = params_\n",
    "    else:\n",
    "        params = {\n",
    "            'objective'   : 'binary:logistic',\n",
    "            'eval_metric' : 'logloss'\n",
    "        }\n",
    "\n",
    "\n",
    "    plt.rcParams[\"figure.figsize\"] = (10,10)\n",
    "    dtest = xgb.DMatrix(X_test, label=y_test)\n",
    "    for train, test in tqdm(folds, total=len(folds)):\n",
    "        dtrain = xgb.DMatrix(X_train.iloc[train,:], label=y_train.iloc[train])\n",
    "        dval   = xgb.DMatrix(X_train.iloc[test,:], label=y_train.iloc[test])\n",
    "        model  = xgb.train(\n",
    "            dtrain                = dtrain,\n",
    "            params                = params, \n",
    "            evals                 = [(dtrain, 'train'), (dval, 'val')],\n",
    "            num_boost_round       = 1000,\n",
    "            verbose_eval          = False,\n",
    "            early_stopping_rounds = 10,\n",
    "        )\n",
    "        sets = [dtrain, dval, dtest]\n",
    "\n",
    "        for i,ds in enumerate(results.keys()):\n",
    "            y_preds              = model.predict(sets[i])\n",
    "            labels               = sets[i].get_label()\n",
    "            fpr, tpr, thresholds = roc_curve(labels, y_preds)\n",
    "            results[ds]['fpr'].append(fpr)\n",
    "            results[ds]['tpr'].append(tpr)\n",
    "            results[ds]['thresholds'].append(thresholds)\n",
    "            results[ds]['auc'].append(roc_auc_score(labels, y_preds))\n",
    "\n",
    "            results[ds]['f1_score'].append(f1_score(labels, np.round(y_preds)))\n",
    "            results[ds]['accuracy_score'].append(accuracy_score(labels, np.round(y_preds)))\n",
    "            results[ds]['recall_score'].append(recall_score(labels, np.round(y_preds)))\n",
    "            results[ds]['precision_score'].append(precision_score(labels, np.round(y_preds)))\n",
    "            results[ds]['confusion_matrix'].append(confusion_matrix(labels, np.round(y_preds)))\n",
    "            results[ds]['model'].append(model)\n",
    "\n",
    "\n",
    "    kind = 'test'\n",
    "    c_fill      = 'rgba(52, 152, 219, 0.2)'\n",
    "    c_line      = 'rgba(52, 152, 219, 0.5)'\n",
    "    c_line_main = 'rgba(41, 128, 185, 1.0)'\n",
    "    c_grid      = 'rgba(189, 195, 199, 0.5)'\n",
    "    c_annot     = 'rgba(149, 165, 166, 0.5)'\n",
    "    c_highlight = 'rgba(192, 57, 43, 1.0)'\n",
    "\n",
    "    fpr_mean    = np.linspace(0, 1, 100)\n",
    "    interp_tprs = []\n",
    "\n",
    "    for i in range(10*2):\n",
    "        fpr           = results[kind]['fpr'][i]\n",
    "        tpr           = results[kind]['tpr'][i]\n",
    "        interp_tpr    = np.interp(fpr_mean, fpr, tpr)\n",
    "        interp_tpr[0] = 0.0\n",
    "        interp_tprs.append(interp_tpr)\n",
    "\n",
    "    tpr_mean     = np.mean(interp_tprs, axis=0)\n",
    "    tpr_mean[-1] = 1.0\n",
    "    tpr_std      = 2*np.std(interp_tprs, axis=0)\n",
    "    tpr_upper    = np.clip(tpr_mean+tpr_std, 0, 1)\n",
    "    tpr_lower    = tpr_mean-tpr_std\n",
    "    auc          = np.mean(results[kind]['auc'])\n",
    "    \n",
    "    roc_dict = {}\n",
    "    roc_dict['tpr_mean'] = tpr_mean\n",
    "    roc_dict['tpr_std'] = tpr_std\n",
    "    roc_dict['tpr_upper'] = tpr_upper\n",
    "    roc_dict['tpr_lower'] = tpr_lower\n",
    "    roc_dict['auc'] = auc\n",
    "\n",
    "    if(fig_show):\n",
    "        fig = go.Figure([\n",
    "            go.Scatter(\n",
    "                x          = fpr_mean,\n",
    "                y          = tpr_upper,\n",
    "                line       = dict(color=c_line, width=1),\n",
    "                hoverinfo  = \"skip\",\n",
    "                showlegend = False,\n",
    "                name       = 'upper'),\n",
    "            go.Scatter(\n",
    "                x          = fpr_mean,\n",
    "                y          = tpr_lower,\n",
    "                fill       = 'tonexty',\n",
    "                fillcolor  = c_fill,\n",
    "                line       = dict(color=c_line, width=1),\n",
    "                hoverinfo  = \"skip\",\n",
    "                showlegend = False,\n",
    "                name       = 'lower'),\n",
    "            go.Scatter(\n",
    "                x          = fpr_mean,\n",
    "                y          = tpr_mean,\n",
    "                line       = dict(color=c_line_main, width=2),\n",
    "                hoverinfo  = \"skip\",\n",
    "                showlegend = True,\n",
    "                name       = f'AUC: {auc:.3f}')\n",
    "        ])\n",
    "\n",
    "        fig.add_shape(\n",
    "            type ='line', \n",
    "            line =dict(dash='dash'),\n",
    "            x0=0, x1=1, y0=0, y1=1\n",
    "        )\n",
    "\n",
    "        fig.update_layout(\n",
    "            template    = 'plotly_white', \n",
    "            title_x     = 0.5,\n",
    "            xaxis_title = \"1 - Specificity\",\n",
    "            yaxis_title = \"Sensitivity\",\n",
    "            width       = 800,\n",
    "            height      = 800,\n",
    "            legend      = dict(\n",
    "                yanchor=\"bottom\", \n",
    "                xanchor=\"right\", \n",
    "                x=0.95,\n",
    "                y=0.01,\n",
    "            )\n",
    "        )\n",
    "\n",
    "        fig.update_yaxes(\n",
    "            range       = [0, 1],\n",
    "            gridcolor   = c_grid,\n",
    "            scaleanchor = \"x\", \n",
    "            scaleratio  = 1,\n",
    "            linecolor   = 'black')\n",
    "\n",
    "        fig.update_xaxes(\n",
    "            range       = [0, 1],\n",
    "            gridcolor   = c_grid,\n",
    "            constrain   = 'domain',\n",
    "            linecolor   = 'black')\n",
    "\n",
    "\n",
    "\n",
    "        fig.show()\n",
    "        \n",
    "    else:\n",
    "        print(y.name, 'AUC: ', np.round(auc,2), '+-( ', np.round(np.std(results[kind]['auc']),2), ')', X_.shape)\n",
    "\n",
    "    return (model, results, np.round(auc,2), roc_dict)"
   ]
  },
  {
   "cell_type": "code",
   "execution_count": 9,
   "id": "f9cd3717",
   "metadata": {},
   "outputs": [],
   "source": [
    "from skopt import BayesSearchCV\n",
    "def SearchBestModel(case_x, case_y):\n",
    "\n",
    "    X_train, X_test, y_train, y_test = train_test_split(case_x, case_y, test_size=.2, random_state=1)\n",
    "\n",
    "    opt_XGB = BayesSearchCV(\n",
    "            XGBClassifier(),\n",
    "            {\n",
    "                'objective'   : ['binary:logistic'],\n",
    "                'eval_metric' : ['logloss', 'error', 'auc', 'aucpr'],\n",
    "                'learning_rate': (0.01, 0.1, 0.2),\n",
    "                'max_depth': (3, 4, 5),\n",
    "                'subsample': (0.8, 0.9, 1.0),\n",
    "                'colsample_bytree': (0.8, 0.9, 1.0),\n",
    "                'reg_alpha': (0, 0.1, 1.0),\n",
    "                'reg_lambda': (0, 0.1, 1.0),\n",
    "                #'gamma': (0.001, 0.01, 0.1, 1, 10),\n",
    "            },\n",
    "                          \n",
    "            #n_iter=10,\n",
    "            #cv=3,\n",
    "            random_state=1\n",
    "        )\n",
    "\n",
    "    opt_XGB.fit(X_train, y_train)\n",
    "\n",
    "\n",
    "    print('XGB')\n",
    "    print(\"val. score: %s\" % opt_XGB.best_score_)\n",
    "    print(\"test score: %s\" % opt_XGB.score(X_test, y_test))\n",
    "    print(\"best parameters: %s\" % str(opt_XGB.best_params_))\n",
    "    print('---------------------------------------------\\n')\n",
    "    \n",
    "    return opt_XGB"
   ]
  },
  {
   "cell_type": "markdown",
   "id": "9e1835ea",
   "metadata": {},
   "source": [
    "## Classification:  Gini"
   ]
  },
  {
   "cell_type": "code",
   "execution_count": 10,
   "id": "8edc7e7f",
   "metadata": {},
   "outputs": [
    {
     "data": {
      "application/vnd.jupyter.widget-view+json": {
       "model_id": "54db92e427aa461b892647b1b11f105e",
       "version_major": 2,
       "version_minor": 0
      },
      "text/plain": [
       "  0%|          | 0/20 [00:00<?, ?it/s]"
      ]
     },
     "metadata": {},
     "output_type": "display_data"
    },
    {
     "name": "stdout",
     "output_type": "stream",
     "text": [
      "Slope_HPC_left_b AUC:  0.73 +-(  0.0 ) (1374, 1)\n"
     ]
    },
    {
     "data": {
      "application/vnd.jupyter.widget-view+json": {
       "model_id": "b454bbfb027b4cdaad2a79574f8de259",
       "version_major": 2,
       "version_minor": 0
      },
      "text/plain": [
       "  0%|          | 0/20 [00:00<?, ?it/s]"
      ]
     },
     "metadata": {},
     "output_type": "display_data"
    },
    {
     "name": "stdout",
     "output_type": "stream",
     "text": [
      "Slope_HPC_right_b AUC:  0.68 +-(  0.0 ) (1373, 1)\n"
     ]
    },
    {
     "data": {
      "application/vnd.jupyter.widget-view+json": {
       "model_id": "15b7e33d213849cba69f178523fce9bd",
       "version_major": 2,
       "version_minor": 0
      },
      "text/plain": [
       "  0%|          | 0/20 [00:00<?, ?it/s]"
      ]
     },
     "metadata": {},
     "output_type": "display_data"
    },
    {
     "name": "stdout",
     "output_type": "stream",
     "text": [
      "Slope_CING_left_b AUC:  0.69 +-(  0.0 ) (1376, 1)\n"
     ]
    },
    {
     "data": {
      "application/vnd.jupyter.widget-view+json": {
       "model_id": "6ed87e34b9c8402e94c104ba8f7f7a34",
       "version_major": 2,
       "version_minor": 0
      },
      "text/plain": [
       "  0%|          | 0/20 [00:00<?, ?it/s]"
      ]
     },
     "metadata": {},
     "output_type": "display_data"
    },
    {
     "name": "stdout",
     "output_type": "stream",
     "text": [
      "Slope_CING_right_b AUC:  0.72 +-(  0.0 ) (1376, 1)\n"
     ]
    },
    {
     "data": {
      "application/vnd.jupyter.widget-view+json": {
       "model_id": "4b3c35a110644c7285ed5987b8d35918",
       "version_major": 2,
       "version_minor": 0
      },
      "text/plain": [
       "  0%|          | 0/20 [00:00<?, ?it/s]"
      ]
     },
     "metadata": {},
     "output_type": "display_data"
    },
    {
     "name": "stdout",
     "output_type": "stream",
     "text": [
      "Slope_TEMP_left_b AUC:  0.77 +-(  0.0 ) (1376, 1)\n"
     ]
    },
    {
     "data": {
      "application/vnd.jupyter.widget-view+json": {
       "model_id": "ef54d03a68c44e00b6cf3e4219474f19",
       "version_major": 2,
       "version_minor": 0
      },
      "text/plain": [
       "  0%|          | 0/20 [00:00<?, ?it/s]"
      ]
     },
     "metadata": {},
     "output_type": "display_data"
    },
    {
     "name": "stdout",
     "output_type": "stream",
     "text": [
      "Slope_TEMP_right_b AUC:  0.74 +-(  0.01 ) (1376, 1)\n"
     ]
    },
    {
     "data": {
      "application/vnd.jupyter.widget-view+json": {
       "model_id": "1ad5099aaa774584b1aba88c6e1c264d",
       "version_major": 2,
       "version_minor": 0
      },
      "text/plain": [
       "  0%|          | 0/20 [00:00<?, ?it/s]"
      ]
     },
     "metadata": {},
     "output_type": "display_data"
    },
    {
     "name": "stdout",
     "output_type": "stream",
     "text": [
      "Slope_PARIET_left_b AUC:  0.77 +-(  0.0 ) (1376, 1)\n"
     ]
    },
    {
     "data": {
      "application/vnd.jupyter.widget-view+json": {
       "model_id": "4aae6fef8dcb49faa0fbb836be53471a",
       "version_major": 2,
       "version_minor": 0
      },
      "text/plain": [
       "  0%|          | 0/20 [00:00<?, ?it/s]"
      ]
     },
     "metadata": {},
     "output_type": "display_data"
    },
    {
     "name": "stdout",
     "output_type": "stream",
     "text": [
      "Slope_PARIET_right_b AUC:  0.71 +-(  0.01 ) (1376, 1)\n"
     ]
    },
    {
     "data": {
      "application/vnd.jupyter.widget-view+json": {
       "model_id": "7439a1c77bec4ae8a6d8511fe8e644a1",
       "version_major": 2,
       "version_minor": 0
      },
      "text/plain": [
       "  0%|          | 0/20 [00:00<?, ?it/s]"
      ]
     },
     "metadata": {},
     "output_type": "display_data"
    },
    {
     "name": "stdout",
     "output_type": "stream",
     "text": [
      "Slope_OCC_left_b AUC:  0.73 +-(  0.0 ) (1376, 1)\n"
     ]
    },
    {
     "data": {
      "application/vnd.jupyter.widget-view+json": {
       "model_id": "46f87c3d974a415f96c0c005a2fd8ead",
       "version_major": 2,
       "version_minor": 0
      },
      "text/plain": [
       "  0%|          | 0/20 [00:00<?, ?it/s]"
      ]
     },
     "metadata": {},
     "output_type": "display_data"
    },
    {
     "name": "stdout",
     "output_type": "stream",
     "text": [
      "Slope_OCC_right_b AUC:  0.72 +-(  0.01 ) (1376, 1)\n"
     ]
    },
    {
     "data": {
      "application/vnd.jupyter.widget-view+json": {
       "model_id": "94522b4cc5d74716b8250a44b974811c",
       "version_major": 2,
       "version_minor": 0
      },
      "text/plain": [
       "  0%|          | 0/20 [00:00<?, ?it/s]"
      ]
     },
     "metadata": {},
     "output_type": "display_data"
    },
    {
     "name": "stdout",
     "output_type": "stream",
     "text": [
      "Knee_HPC_left_b AUC:  0.74 +-(  0.0 ) (1374, 1)\n"
     ]
    },
    {
     "data": {
      "application/vnd.jupyter.widget-view+json": {
       "model_id": "dfa7d7fabb8d42889b1a4ba9a54822b1",
       "version_major": 2,
       "version_minor": 0
      },
      "text/plain": [
       "  0%|          | 0/20 [00:00<?, ?it/s]"
      ]
     },
     "metadata": {},
     "output_type": "display_data"
    },
    {
     "name": "stdout",
     "output_type": "stream",
     "text": [
      "Knee_HPC_right_b AUC:  0.7 +-(  0.0 ) (1373, 1)\n"
     ]
    },
    {
     "data": {
      "application/vnd.jupyter.widget-view+json": {
       "model_id": "407df23f4e5244708f7773078d0646fe",
       "version_major": 2,
       "version_minor": 0
      },
      "text/plain": [
       "  0%|          | 0/20 [00:00<?, ?it/s]"
      ]
     },
     "metadata": {},
     "output_type": "display_data"
    },
    {
     "name": "stdout",
     "output_type": "stream",
     "text": [
      "Knee_CING_left_b AUC:  0.69 +-(  0.0 ) (1376, 1)\n"
     ]
    },
    {
     "data": {
      "application/vnd.jupyter.widget-view+json": {
       "model_id": "c3da8cebba7d4871bbc0c8899581a665",
       "version_major": 2,
       "version_minor": 0
      },
      "text/plain": [
       "  0%|          | 0/20 [00:00<?, ?it/s]"
      ]
     },
     "metadata": {},
     "output_type": "display_data"
    },
    {
     "name": "stdout",
     "output_type": "stream",
     "text": [
      "Knee_CING_right_b AUC:  0.7 +-(  0.0 ) (1376, 1)\n"
     ]
    },
    {
     "data": {
      "application/vnd.jupyter.widget-view+json": {
       "model_id": "6dfb4694014c4c9791d0e379ec8f4856",
       "version_major": 2,
       "version_minor": 0
      },
      "text/plain": [
       "  0%|          | 0/20 [00:00<?, ?it/s]"
      ]
     },
     "metadata": {},
     "output_type": "display_data"
    },
    {
     "name": "stdout",
     "output_type": "stream",
     "text": [
      "Knee_TEMP_left_b AUC:  0.69 +-(  0.0 ) (1376, 1)\n"
     ]
    },
    {
     "data": {
      "application/vnd.jupyter.widget-view+json": {
       "model_id": "52599d19d7784919b7bf2087842ea6e8",
       "version_major": 2,
       "version_minor": 0
      },
      "text/plain": [
       "  0%|          | 0/20 [00:00<?, ?it/s]"
      ]
     },
     "metadata": {},
     "output_type": "display_data"
    },
    {
     "name": "stdout",
     "output_type": "stream",
     "text": [
      "Knee_TEMP_right_b AUC:  0.75 +-(  0.0 ) (1376, 1)\n"
     ]
    },
    {
     "data": {
      "application/vnd.jupyter.widget-view+json": {
       "model_id": "a4fc522ea8d04e57bda53c51259305b3",
       "version_major": 2,
       "version_minor": 0
      },
      "text/plain": [
       "  0%|          | 0/20 [00:00<?, ?it/s]"
      ]
     },
     "metadata": {},
     "output_type": "display_data"
    },
    {
     "name": "stdout",
     "output_type": "stream",
     "text": [
      "Knee_PARIET_left_b AUC:  0.73 +-(  0.01 ) (1376, 1)\n"
     ]
    },
    {
     "data": {
      "application/vnd.jupyter.widget-view+json": {
       "model_id": "b1ed7f9d29ae4f0a897fd456114b93ca",
       "version_major": 2,
       "version_minor": 0
      },
      "text/plain": [
       "  0%|          | 0/20 [00:00<?, ?it/s]"
      ]
     },
     "metadata": {},
     "output_type": "display_data"
    },
    {
     "name": "stdout",
     "output_type": "stream",
     "text": [
      "Knee_PARIET_right_b AUC:  0.67 +-(  0.0 ) (1376, 1)\n"
     ]
    },
    {
     "data": {
      "application/vnd.jupyter.widget-view+json": {
       "model_id": "c873065ead8e435a8ac7ddc34849cf2b",
       "version_major": 2,
       "version_minor": 0
      },
      "text/plain": [
       "  0%|          | 0/20 [00:00<?, ?it/s]"
      ]
     },
     "metadata": {},
     "output_type": "display_data"
    },
    {
     "name": "stdout",
     "output_type": "stream",
     "text": [
      "Knee_OCC_left_b AUC:  0.7 +-(  0.01 ) (1376, 1)\n"
     ]
    },
    {
     "data": {
      "application/vnd.jupyter.widget-view+json": {
       "model_id": "13c8c2cfe97f40f4a53d891e323888e7",
       "version_major": 2,
       "version_minor": 0
      },
      "text/plain": [
       "  0%|          | 0/20 [00:00<?, ?it/s]"
      ]
     },
     "metadata": {},
     "output_type": "display_data"
    },
    {
     "name": "stdout",
     "output_type": "stream",
     "text": [
      "Knee_OCC_right_b AUC:  0.67 +-(  0.01 ) (1376, 1)\n"
     ]
    },
    {
     "data": {
      "application/vnd.jupyter.widget-view+json": {
       "model_id": "6830079d2e9946ce807fc87bb7694140",
       "version_major": 2,
       "version_minor": 0
      },
      "text/plain": [
       "  0%|          | 0/20 [00:00<?, ?it/s]"
      ]
     },
     "metadata": {},
     "output_type": "display_data"
    },
    {
     "name": "stdout",
     "output_type": "stream",
     "text": [
      "Offset_HPC_left_b AUC:  0.81 +-(  0.0 ) (1374, 1)\n"
     ]
    },
    {
     "data": {
      "application/vnd.jupyter.widget-view+json": {
       "model_id": "5a0fa2d1c58e4b0a903fa31cc157fdc9",
       "version_major": 2,
       "version_minor": 0
      },
      "text/plain": [
       "  0%|          | 0/20 [00:00<?, ?it/s]"
      ]
     },
     "metadata": {},
     "output_type": "display_data"
    },
    {
     "name": "stdout",
     "output_type": "stream",
     "text": [
      "Offset_HPC_right_b AUC:  0.78 +-(  0.0 ) (1373, 1)\n"
     ]
    },
    {
     "data": {
      "application/vnd.jupyter.widget-view+json": {
       "model_id": "38a484bd803747509a5c15b64184ddf9",
       "version_major": 2,
       "version_minor": 0
      },
      "text/plain": [
       "  0%|          | 0/20 [00:00<?, ?it/s]"
      ]
     },
     "metadata": {},
     "output_type": "display_data"
    },
    {
     "name": "stdout",
     "output_type": "stream",
     "text": [
      "Offset_CING_left_b AUC:  0.69 +-(  0.0 ) (1376, 1)\n"
     ]
    },
    {
     "data": {
      "application/vnd.jupyter.widget-view+json": {
       "model_id": "1d0439e7755644fa9ef5118700905313",
       "version_major": 2,
       "version_minor": 0
      },
      "text/plain": [
       "  0%|          | 0/20 [00:00<?, ?it/s]"
      ]
     },
     "metadata": {},
     "output_type": "display_data"
    },
    {
     "name": "stdout",
     "output_type": "stream",
     "text": [
      "Offset_CING_right_b AUC:  0.68 +-(  0.0 ) (1376, 1)\n"
     ]
    },
    {
     "data": {
      "application/vnd.jupyter.widget-view+json": {
       "model_id": "716e23b9e0144c7c92e92340e5aad66f",
       "version_major": 2,
       "version_minor": 0
      },
      "text/plain": [
       "  0%|          | 0/20 [00:00<?, ?it/s]"
      ]
     },
     "metadata": {},
     "output_type": "display_data"
    },
    {
     "name": "stdout",
     "output_type": "stream",
     "text": [
      "Offset_TEMP_left_b AUC:  0.78 +-(  0.0 ) (1376, 1)\n"
     ]
    },
    {
     "data": {
      "application/vnd.jupyter.widget-view+json": {
       "model_id": "fe8b3509e62449ecb01bd7141ce51f9d",
       "version_major": 2,
       "version_minor": 0
      },
      "text/plain": [
       "  0%|          | 0/20 [00:00<?, ?it/s]"
      ]
     },
     "metadata": {},
     "output_type": "display_data"
    },
    {
     "name": "stdout",
     "output_type": "stream",
     "text": [
      "Offset_TEMP_right_b AUC:  0.77 +-(  0.0 ) (1376, 1)\n"
     ]
    },
    {
     "data": {
      "application/vnd.jupyter.widget-view+json": {
       "model_id": "93add46ad06843c8a22fc1b5b3f8d500",
       "version_major": 2,
       "version_minor": 0
      },
      "text/plain": [
       "  0%|          | 0/20 [00:00<?, ?it/s]"
      ]
     },
     "metadata": {},
     "output_type": "display_data"
    },
    {
     "name": "stdout",
     "output_type": "stream",
     "text": [
      "Offset_PARIET_left_b AUC:  0.79 +-(  0.0 ) (1376, 1)\n"
     ]
    },
    {
     "data": {
      "application/vnd.jupyter.widget-view+json": {
       "model_id": "a2485d4caae44370867ec06ef1197529",
       "version_major": 2,
       "version_minor": 0
      },
      "text/plain": [
       "  0%|          | 0/20 [00:00<?, ?it/s]"
      ]
     },
     "metadata": {},
     "output_type": "display_data"
    },
    {
     "name": "stdout",
     "output_type": "stream",
     "text": [
      "Offset_PARIET_right_b AUC:  0.79 +-(  0.0 ) (1376, 1)\n"
     ]
    },
    {
     "data": {
      "application/vnd.jupyter.widget-view+json": {
       "model_id": "cb0de35c111d47b18cbd10737854b8b9",
       "version_major": 2,
       "version_minor": 0
      },
      "text/plain": [
       "  0%|          | 0/20 [00:00<?, ?it/s]"
      ]
     },
     "metadata": {},
     "output_type": "display_data"
    },
    {
     "name": "stdout",
     "output_type": "stream",
     "text": [
      "Offset_OCC_left_b AUC:  0.75 +-(  0.0 ) (1376, 1)\n"
     ]
    }
   ],
   "source": [
    "outcomes_list = list(aper_df.iloc[:,0:-7].columns)\n",
    "gini_results_preliminar = {}\n",
    "gini_results_auc_preliminar = {}\n",
    "for outcome in outcomes_list:\n",
    "\n",
    "    aper_df_mmse = aper_df[[outcome, 'GINI']]\n",
    "    aper_df_mmse = aper_df_mmse.dropna()\n",
    "    aper_df_mmse.reset_index(drop=True)\n",
    "\n",
    "   \n",
    "    mediana = aper_df_mmse[outcome].median()\n",
    "    aper_df_mmse[outcome + '_b'] = (aper_df_mmse[outcome] > mediana).astype(int)\n",
    "    \n",
    "    y_aper_1A = aper_df_mmse[outcome + '_b']\n",
    "    X_aper_1A = aper_df_mmse[['GINI']]\n",
    "\n",
    "    scaler = MinMaxScaler([0.05, 0.95])\n",
    "    scaling_data = scaler.fit_transform(X_aper_1A)\n",
    "    X_aper_1A_s = pd.DataFrame(scaling_data, columns= X_aper_1A.columns, index = X_aper_1A.index)\n",
    "    \n",
    "    X_aper_1A =  X_aper_1A_s.copy()\n",
    "    \n",
    "    try:\n",
    "        r = classifier_ROC(X_aper_1A, y_aper_1A, False)\n",
    "        gini_results_preliminar[outcome] = r\n",
    "        gini_results_auc_preliminar[outcome] = r[2]\n",
    "    except:\n",
    "        print('Bad: ',outcome + '_b')"
   ]
  },
  {
   "cell_type": "code",
   "execution_count": 11,
   "id": "d71ce48f",
   "metadata": {},
   "outputs": [
    {
     "data": {
      "text/plain": [
       "['Offset_HPC_left',\n",
       " 'Offset_PARIET_left',\n",
       " 'Offset_PARIET_right',\n",
       " 'Offset_HPC_right',\n",
       " 'Offset_TEMP_left',\n",
       " 'Slope_TEMP_left',\n",
       " 'Slope_PARIET_left',\n",
       " 'Offset_TEMP_right',\n",
       " 'Knee_TEMP_right',\n",
       " 'Offset_OCC_left']"
      ]
     },
     "execution_count": 11,
     "metadata": {},
     "output_type": "execute_result"
    }
   ],
   "source": [
    "top_10_keys_GINI_preliminar = heapq.nlargest(10, gini_results_auc_preliminar, key=gini_results_auc_preliminar.get)\n",
    "top_10_keys_GINI_preliminar"
   ]
  },
  {
   "cell_type": "code",
   "execution_count": 12,
   "id": "a8ed0ed2",
   "metadata": {},
   "outputs": [
    {
     "name": "stdout",
     "output_type": "stream",
     "text": [
      "XGB\n",
      "val. score: 0.7834786218347862\n",
      "test score: 0.7927272727272727\n",
      "best parameters: OrderedDict([('colsample_bytree', 1.0), ('eval_metric', 'auc'), ('learning_rate', 0.2), ('max_depth', 4), ('objective', 'binary:logistic'), ('reg_alpha', 0.1), ('reg_lambda', 0.1), ('subsample', 0.9)])\n",
      "---------------------------------------------\n",
      "\n"
     ]
    },
    {
     "data": {
      "application/vnd.jupyter.widget-view+json": {
       "model_id": "fb9e80ec1cae4d2dbffa0aae12d6ab08",
       "version_major": 2,
       "version_minor": 0
      },
      "text/plain": [
       "  0%|          | 0/20 [00:00<?, ?it/s]"
      ]
     },
     "metadata": {},
     "output_type": "display_data"
    },
    {
     "name": "stdout",
     "output_type": "stream",
     "text": [
      "Offset_HPC_left_b AUC:  0.81 +-(  0.0 ) (1374, 1)\n",
      "XGB\n",
      "val. score: 0.6654545454545455\n",
      "test score: 0.677536231884058\n",
      "best parameters: OrderedDict([('colsample_bytree', 1.0), ('eval_metric', 'aucpr'), ('learning_rate', 0.2), ('max_depth', 5), ('objective', 'binary:logistic'), ('reg_alpha', 1.0), ('reg_lambda', 1.0), ('subsample', 0.8)])\n",
      "---------------------------------------------\n",
      "\n"
     ]
    },
    {
     "data": {
      "application/vnd.jupyter.widget-view+json": {
       "model_id": "82c9a0cbce7143d0a0d05e8751f74c2e",
       "version_major": 2,
       "version_minor": 0
      },
      "text/plain": [
       "  0%|          | 0/20 [00:00<?, ?it/s]"
      ]
     },
     "metadata": {},
     "output_type": "display_data"
    },
    {
     "name": "stdout",
     "output_type": "stream",
     "text": [
      "Offset_PARIET_left_b AUC:  0.78 +-(  0.0 ) (1376, 1)\n",
      "XGB\n",
      "val. score: 0.6590909090909092\n",
      "test score: 0.6956521739130435\n",
      "best parameters: OrderedDict([('colsample_bytree', 0.9), ('eval_metric', 'error'), ('learning_rate', 0.01), ('max_depth', 5), ('objective', 'binary:logistic'), ('reg_alpha', 1.0), ('reg_lambda', 0.1), ('subsample', 1.0)])\n",
      "---------------------------------------------\n",
      "\n"
     ]
    },
    {
     "data": {
      "application/vnd.jupyter.widget-view+json": {
       "model_id": "d0d757f92e33473ead6baa48c40f27f2",
       "version_major": 2,
       "version_minor": 0
      },
      "text/plain": [
       "  0%|          | 0/20 [00:00<?, ?it/s]"
      ]
     },
     "metadata": {},
     "output_type": "display_data"
    },
    {
     "name": "stdout",
     "output_type": "stream",
     "text": [
      "Offset_PARIET_right_b AUC:  0.79 +-(  0.01 ) (1376, 1)\n",
      "XGB\n",
      "val. score: 0.7540888335408883\n",
      "test score: 0.7818181818181819\n",
      "best parameters: OrderedDict([('colsample_bytree', 1.0), ('eval_metric', 'auc'), ('learning_rate', 0.2), ('max_depth', 4), ('objective', 'binary:logistic'), ('reg_alpha', 0.1), ('reg_lambda', 0.1), ('subsample', 0.9)])\n",
      "---------------------------------------------\n",
      "\n"
     ]
    },
    {
     "data": {
      "application/vnd.jupyter.widget-view+json": {
       "model_id": "40846699c060426f8a3ddb7396c87960",
       "version_major": 2,
       "version_minor": 0
      },
      "text/plain": [
       "  0%|          | 0/20 [00:00<?, ?it/s]"
      ]
     },
     "metadata": {},
     "output_type": "display_data"
    },
    {
     "name": "stdout",
     "output_type": "stream",
     "text": [
      "Offset_HPC_right_b AUC:  0.78 +-(  0.0 ) (1373, 1)\n",
      "XGB\n",
      "val. score: 0.7863636363636364\n",
      "test score: 0.822463768115942\n",
      "best parameters: OrderedDict([('colsample_bytree', 0.9), ('eval_metric', 'logloss'), ('learning_rate', 0.01), ('max_depth', 5), ('objective', 'binary:logistic'), ('reg_alpha', 1.0), ('reg_lambda', 0.1), ('subsample', 0.8)])\n",
      "---------------------------------------------\n",
      "\n"
     ]
    },
    {
     "data": {
      "application/vnd.jupyter.widget-view+json": {
       "model_id": "7e5e879a97eb4c44b5871f275b83caf2",
       "version_major": 2,
       "version_minor": 0
      },
      "text/plain": [
       "  0%|          | 0/20 [00:00<?, ?it/s]"
      ]
     },
     "metadata": {},
     "output_type": "display_data"
    },
    {
     "name": "stdout",
     "output_type": "stream",
     "text": [
      "Offset_TEMP_left_b AUC:  0.78 +-(  0.01 ) (1376, 1)\n",
      "XGB\n",
      "val. score: 0.759090909090909\n",
      "test score: 0.7536231884057971\n",
      "best parameters: OrderedDict([('colsample_bytree', 1.0), ('eval_metric', 'auc'), ('learning_rate', 0.2), ('max_depth', 4), ('objective', 'binary:logistic'), ('reg_alpha', 0.1), ('reg_lambda', 0.1), ('subsample', 0.9)])\n",
      "---------------------------------------------\n",
      "\n"
     ]
    },
    {
     "data": {
      "application/vnd.jupyter.widget-view+json": {
       "model_id": "823caf5439fc45c0acab361be4959ac1",
       "version_major": 2,
       "version_minor": 0
      },
      "text/plain": [
       "  0%|          | 0/20 [00:00<?, ?it/s]"
      ]
     },
     "metadata": {},
     "output_type": "display_data"
    },
    {
     "name": "stdout",
     "output_type": "stream",
     "text": [
      "Slope_TEMP_left_b AUC:  0.77 +-(  0.0 ) (1376, 1)\n",
      "XGB\n",
      "val. score: 0.6754545454545454\n",
      "test score: 0.6521739130434783\n",
      "best parameters: OrderedDict([('colsample_bytree', 1.0), ('eval_metric', 'aucpr'), ('learning_rate', 0.1), ('max_depth', 3), ('objective', 'binary:logistic'), ('reg_alpha', 0.0), ('reg_lambda', 0.1), ('subsample', 0.9)])\n",
      "---------------------------------------------\n",
      "\n"
     ]
    },
    {
     "data": {
      "application/vnd.jupyter.widget-view+json": {
       "model_id": "dde5ad01fa0b4a64a38e98b1977013c5",
       "version_major": 2,
       "version_minor": 0
      },
      "text/plain": [
       "  0%|          | 0/20 [00:00<?, ?it/s]"
      ]
     },
     "metadata": {},
     "output_type": "display_data"
    },
    {
     "name": "stdout",
     "output_type": "stream",
     "text": [
      "Slope_PARIET_left_b AUC:  0.77 +-(  0.01 ) (1376, 1)\n",
      "XGB\n",
      "val. score: 0.7809090909090909\n",
      "test score: 0.8079710144927537\n",
      "best parameters: OrderedDict([('colsample_bytree', 0.9), ('eval_metric', 'auc'), ('learning_rate', 0.1), ('max_depth', 3), ('objective', 'binary:logistic'), ('reg_alpha', 1.0), ('reg_lambda', 0.0), ('subsample', 0.9)])\n",
      "---------------------------------------------\n",
      "\n"
     ]
    },
    {
     "data": {
      "application/vnd.jupyter.widget-view+json": {
       "model_id": "edcce27397d0448082c60932ca5bf8f1",
       "version_major": 2,
       "version_minor": 0
      },
      "text/plain": [
       "  0%|          | 0/20 [00:00<?, ?it/s]"
      ]
     },
     "metadata": {},
     "output_type": "display_data"
    },
    {
     "name": "stdout",
     "output_type": "stream",
     "text": [
      "Offset_TEMP_right_b AUC:  0.77 +-(  0.01 ) (1376, 1)\n",
      "XGB\n",
      "val. score: 0.730909090909091\n",
      "test score: 0.7971014492753623\n",
      "best parameters: OrderedDict([('colsample_bytree', 0.9), ('eval_metric', 'auc'), ('learning_rate', 0.1), ('max_depth', 3), ('objective', 'binary:logistic'), ('reg_alpha', 1.0), ('reg_lambda', 0.0), ('subsample', 0.9)])\n",
      "---------------------------------------------\n",
      "\n"
     ]
    },
    {
     "data": {
      "application/vnd.jupyter.widget-view+json": {
       "model_id": "4e8e73d85a304ecbbd35cbd4d7d10d9f",
       "version_major": 2,
       "version_minor": 0
      },
      "text/plain": [
       "  0%|          | 0/20 [00:00<?, ?it/s]"
      ]
     },
     "metadata": {},
     "output_type": "display_data"
    },
    {
     "name": "stdout",
     "output_type": "stream",
     "text": [
      "Knee_TEMP_right_b AUC:  0.74 +-(  0.01 ) (1376, 1)\n",
      "XGB\n",
      "val. score: 0.7318181818181818\n",
      "test score: 0.7391304347826086\n",
      "best parameters: OrderedDict([('colsample_bytree', 1.0), ('eval_metric', 'auc'), ('learning_rate', 0.2), ('max_depth', 4), ('objective', 'binary:logistic'), ('reg_alpha', 0.1), ('reg_lambda', 0.1), ('subsample', 0.9)])\n",
      "---------------------------------------------\n",
      "\n"
     ]
    },
    {
     "data": {
      "application/vnd.jupyter.widget-view+json": {
       "model_id": "2d7cf28748234704bc752cfd4fb644e7",
       "version_major": 2,
       "version_minor": 0
      },
      "text/plain": [
       "  0%|          | 0/20 [00:00<?, ?it/s]"
      ]
     },
     "metadata": {},
     "output_type": "display_data"
    },
    {
     "name": "stdout",
     "output_type": "stream",
     "text": [
      "Offset_OCC_left_b AUC:  0.75 +-(  0.0 ) (1376, 1)\n"
     ]
    }
   ],
   "source": [
    "gini_results = {}\n",
    "gini_results_auc = {}\n",
    "gini_paragram = {}\n",
    "for outcome in top_10_keys_GINI_preliminar:\n",
    "\n",
    "    aper_df_mmse = aper_df[[outcome, 'GINI']]\n",
    "    aper_df_mmse = aper_df_mmse.dropna()\n",
    "    aper_df_mmse.reset_index(drop=True)\n",
    "\n",
    "   \n",
    "    mediana = aper_df_mmse[outcome].median()\n",
    "    aper_df_mmse[outcome + '_b'] = (aper_df_mmse[outcome] > mediana).astype(int)\n",
    "    \n",
    "    y_aper_1A = aper_df_mmse[outcome + '_b']\n",
    "    X_aper_1A = aper_df_mmse[['GINI']]\n",
    "\n",
    "    scaler = MinMaxScaler([0.05, 0.95])\n",
    "    scaling_data = scaler.fit_transform(X_aper_1A)\n",
    "    X_aper_1A_s = pd.DataFrame(scaling_data, columns= X_aper_1A.columns, index = X_aper_1A.index)\n",
    "    \n",
    "    X_aper_1A =  X_aper_1A_s.copy()\n",
    "\n",
    "    \n",
    "    opt_XGB = SearchBestModel(X_aper_1A, y_aper_1A)\n",
    "    params_ = dict(opt_XGB.best_params_)\n",
    "\n",
    "\n",
    "    r = classifier_ROC(X_aper_1A, y_aper_1A, False, params_)\n",
    "    gini_results[outcome] = r\n",
    "    gini_results_auc[outcome] = r[2]\n",
    "    gini_paragram[outcome] = params_"
   ]
  },
  {
   "cell_type": "code",
   "execution_count": 13,
   "id": "f32d06c1",
   "metadata": {},
   "outputs": [
    {
     "data": {
      "text/plain": [
       "['Offset_HPC_left',\n",
       " 'Offset_PARIET_right',\n",
       " 'Offset_PARIET_left',\n",
       " 'Offset_HPC_right',\n",
       " 'Offset_TEMP_left',\n",
       " 'Slope_TEMP_left',\n",
       " 'Slope_PARIET_left',\n",
       " 'Offset_TEMP_right',\n",
       " 'Offset_OCC_left',\n",
       " 'Knee_TEMP_right']"
      ]
     },
     "execution_count": 13,
     "metadata": {},
     "output_type": "execute_result"
    }
   ],
   "source": [
    "top_10_keys_GINI = heapq.nlargest(10, gini_results_auc, key=gini_results_auc.get)\n",
    "top_10_keys_GINI"
   ]
  },
  {
   "cell_type": "markdown",
   "id": "ee0f19a8",
   "metadata": {},
   "source": [
    "## Classification:  Gini + Age"
   ]
  },
  {
   "cell_type": "code",
   "execution_count": null,
   "id": "bb2253b9",
   "metadata": {},
   "outputs": [
    {
     "data": {
      "application/vnd.jupyter.widget-view+json": {
       "model_id": "ea0af5e6679f42af9e7778df3f8537b3",
       "version_major": 2,
       "version_minor": 0
      },
      "text/plain": [
       "  0%|          | 0/20 [00:00<?, ?it/s]"
      ]
     },
     "metadata": {},
     "output_type": "display_data"
    },
    {
     "name": "stdout",
     "output_type": "stream",
     "text": [
      "Slope_HPC_left_b AUC:  0.73 +-(  0.01 ) (1374, 2)\n"
     ]
    },
    {
     "data": {
      "application/vnd.jupyter.widget-view+json": {
       "model_id": "4fad0cfee22a4455b9c929dc01589295",
       "version_major": 2,
       "version_minor": 0
      },
      "text/plain": [
       "  0%|          | 0/20 [00:00<?, ?it/s]"
      ]
     },
     "metadata": {},
     "output_type": "display_data"
    },
    {
     "name": "stdout",
     "output_type": "stream",
     "text": [
      "Slope_HPC_right_b AUC:  0.69 +-(  0.01 ) (1373, 2)\n"
     ]
    },
    {
     "data": {
      "application/vnd.jupyter.widget-view+json": {
       "model_id": "5645fecb1c474538a116073725955da1",
       "version_major": 2,
       "version_minor": 0
      },
      "text/plain": [
       "  0%|          | 0/20 [00:00<?, ?it/s]"
      ]
     },
     "metadata": {},
     "output_type": "display_data"
    },
    {
     "name": "stdout",
     "output_type": "stream",
     "text": [
      "Slope_CING_left_b AUC:  0.71 +-(  0.01 ) (1376, 2)\n"
     ]
    },
    {
     "data": {
      "application/vnd.jupyter.widget-view+json": {
       "model_id": "00eed0da4c274ba1ad2830b1397390e0",
       "version_major": 2,
       "version_minor": 0
      },
      "text/plain": [
       "  0%|          | 0/20 [00:00<?, ?it/s]"
      ]
     },
     "metadata": {},
     "output_type": "display_data"
    },
    {
     "name": "stdout",
     "output_type": "stream",
     "text": [
      "Slope_CING_right_b AUC:  0.71 +-(  0.01 ) (1376, 2)\n"
     ]
    },
    {
     "data": {
      "application/vnd.jupyter.widget-view+json": {
       "model_id": "a88d9435b757445c8848c060ae56e839",
       "version_major": 2,
       "version_minor": 0
      },
      "text/plain": [
       "  0%|          | 0/20 [00:00<?, ?it/s]"
      ]
     },
     "metadata": {},
     "output_type": "display_data"
    },
    {
     "name": "stdout",
     "output_type": "stream",
     "text": [
      "Slope_TEMP_left_b AUC:  0.78 +-(  0.01 ) (1376, 2)\n"
     ]
    },
    {
     "data": {
      "application/vnd.jupyter.widget-view+json": {
       "model_id": "8e44885d912a44b4a4b84c8c3a911170",
       "version_major": 2,
       "version_minor": 0
      },
      "text/plain": [
       "  0%|          | 0/20 [00:00<?, ?it/s]"
      ]
     },
     "metadata": {},
     "output_type": "display_data"
    },
    {
     "name": "stdout",
     "output_type": "stream",
     "text": [
      "Slope_TEMP_right_b AUC:  0.74 +-(  0.01 ) (1376, 2)\n"
     ]
    },
    {
     "data": {
      "application/vnd.jupyter.widget-view+json": {
       "model_id": "90bd5ff3d38f411083f11f0b699d5d69",
       "version_major": 2,
       "version_minor": 0
      },
      "text/plain": [
       "  0%|          | 0/20 [00:00<?, ?it/s]"
      ]
     },
     "metadata": {},
     "output_type": "display_data"
    },
    {
     "name": "stdout",
     "output_type": "stream",
     "text": [
      "Slope_PARIET_left_b AUC:  0.78 +-(  0.01 ) (1376, 2)\n"
     ]
    },
    {
     "data": {
      "application/vnd.jupyter.widget-view+json": {
       "model_id": "0ec09b5d01954789a4b9765a90bb907c",
       "version_major": 2,
       "version_minor": 0
      },
      "text/plain": [
       "  0%|          | 0/20 [00:00<?, ?it/s]"
      ]
     },
     "metadata": {},
     "output_type": "display_data"
    },
    {
     "name": "stdout",
     "output_type": "stream",
     "text": [
      "Slope_PARIET_right_b AUC:  0.7 +-(  0.01 ) (1376, 2)\n"
     ]
    },
    {
     "data": {
      "application/vnd.jupyter.widget-view+json": {
       "model_id": "0095cf3f707e4bd596e33cccdab3cce0",
       "version_major": 2,
       "version_minor": 0
      },
      "text/plain": [
       "  0%|          | 0/20 [00:00<?, ?it/s]"
      ]
     },
     "metadata": {},
     "output_type": "display_data"
    },
    {
     "name": "stdout",
     "output_type": "stream",
     "text": [
      "Slope_OCC_left_b AUC:  0.7 +-(  0.01 ) (1376, 2)\n"
     ]
    },
    {
     "data": {
      "application/vnd.jupyter.widget-view+json": {
       "model_id": "2e3ca3e9c5224cf4b2b9a4c48e25df8e",
       "version_major": 2,
       "version_minor": 0
      },
      "text/plain": [
       "  0%|          | 0/20 [00:00<?, ?it/s]"
      ]
     },
     "metadata": {},
     "output_type": "display_data"
    },
    {
     "name": "stdout",
     "output_type": "stream",
     "text": [
      "Slope_OCC_right_b AUC:  0.71 +-(  0.01 ) (1376, 2)\n"
     ]
    },
    {
     "data": {
      "application/vnd.jupyter.widget-view+json": {
       "model_id": "cbf6667bd5694e8cbb2bc30d7f58a30a",
       "version_major": 2,
       "version_minor": 0
      },
      "text/plain": [
       "  0%|          | 0/20 [00:00<?, ?it/s]"
      ]
     },
     "metadata": {},
     "output_type": "display_data"
    },
    {
     "name": "stdout",
     "output_type": "stream",
     "text": [
      "Knee_HPC_left_b AUC:  0.71 +-(  0.01 ) (1374, 2)\n"
     ]
    },
    {
     "data": {
      "application/vnd.jupyter.widget-view+json": {
       "model_id": "5e9ecf58570f4dc489094a7f6c045d1e",
       "version_major": 2,
       "version_minor": 0
      },
      "text/plain": [
       "  0%|          | 0/20 [00:00<?, ?it/s]"
      ]
     },
     "metadata": {},
     "output_type": "display_data"
    },
    {
     "name": "stdout",
     "output_type": "stream",
     "text": [
      "Knee_HPC_right_b AUC:  0.69 +-(  0.01 ) (1373, 2)\n"
     ]
    },
    {
     "data": {
      "application/vnd.jupyter.widget-view+json": {
       "model_id": "7809d9c4706e45b7accf4ca6cd209fc7",
       "version_major": 2,
       "version_minor": 0
      },
      "text/plain": [
       "  0%|          | 0/20 [00:00<?, ?it/s]"
      ]
     },
     "metadata": {},
     "output_type": "display_data"
    },
    {
     "name": "stdout",
     "output_type": "stream",
     "text": [
      "Knee_CING_left_b AUC:  0.7 +-(  0.01 ) (1376, 2)\n"
     ]
    },
    {
     "data": {
      "application/vnd.jupyter.widget-view+json": {
       "model_id": "3d7b2474fe6d4082a0e5341fa42aee8d",
       "version_major": 2,
       "version_minor": 0
      },
      "text/plain": [
       "  0%|          | 0/20 [00:00<?, ?it/s]"
      ]
     },
     "metadata": {},
     "output_type": "display_data"
    },
    {
     "name": "stdout",
     "output_type": "stream",
     "text": [
      "Knee_CING_right_b AUC:  0.71 +-(  0.01 ) (1376, 2)\n"
     ]
    },
    {
     "data": {
      "application/vnd.jupyter.widget-view+json": {
       "model_id": "90be6a58c58f44449f77d536e0bf8537",
       "version_major": 2,
       "version_minor": 0
      },
      "text/plain": [
       "  0%|          | 0/20 [00:00<?, ?it/s]"
      ]
     },
     "metadata": {},
     "output_type": "display_data"
    },
    {
     "name": "stdout",
     "output_type": "stream",
     "text": [
      "Knee_TEMP_left_b AUC:  0.68 +-(  0.01 ) (1376, 2)\n"
     ]
    },
    {
     "data": {
      "application/vnd.jupyter.widget-view+json": {
       "model_id": "dd5e6dd78a81468493553d474046b40b",
       "version_major": 2,
       "version_minor": 0
      },
      "text/plain": [
       "  0%|          | 0/20 [00:00<?, ?it/s]"
      ]
     },
     "metadata": {},
     "output_type": "display_data"
    },
    {
     "name": "stdout",
     "output_type": "stream",
     "text": [
      "Knee_TEMP_right_b AUC:  0.75 +-(  0.01 ) (1376, 2)\n"
     ]
    },
    {
     "data": {
      "application/vnd.jupyter.widget-view+json": {
       "model_id": "6af00a829df64df791a6b17c30af7fc5",
       "version_major": 2,
       "version_minor": 0
      },
      "text/plain": [
       "  0%|          | 0/20 [00:00<?, ?it/s]"
      ]
     },
     "metadata": {},
     "output_type": "display_data"
    },
    {
     "name": "stdout",
     "output_type": "stream",
     "text": [
      "Knee_PARIET_left_b AUC:  0.71 +-(  0.01 ) (1376, 2)\n"
     ]
    },
    {
     "data": {
      "application/vnd.jupyter.widget-view+json": {
       "model_id": "7a837a216d6b421cba4de032491eb00e",
       "version_major": 2,
       "version_minor": 0
      },
      "text/plain": [
       "  0%|          | 0/20 [00:00<?, ?it/s]"
      ]
     },
     "metadata": {},
     "output_type": "display_data"
    },
    {
     "name": "stdout",
     "output_type": "stream",
     "text": [
      "Knee_PARIET_right_b AUC:  0.7 +-(  0.01 ) (1376, 2)\n"
     ]
    },
    {
     "data": {
      "application/vnd.jupyter.widget-view+json": {
       "model_id": "ea7ea63716524bd8a7aeebe3a5d835eb",
       "version_major": 2,
       "version_minor": 0
      },
      "text/plain": [
       "  0%|          | 0/20 [00:00<?, ?it/s]"
      ]
     },
     "metadata": {},
     "output_type": "display_data"
    },
    {
     "name": "stdout",
     "output_type": "stream",
     "text": [
      "Knee_OCC_left_b AUC:  0.68 +-(  0.01 ) (1376, 2)\n"
     ]
    },
    {
     "data": {
      "application/vnd.jupyter.widget-view+json": {
       "model_id": "1893b26faa864746a3bcdb11687cb62d",
       "version_major": 2,
       "version_minor": 0
      },
      "text/plain": [
       "  0%|          | 0/20 [00:00<?, ?it/s]"
      ]
     },
     "metadata": {},
     "output_type": "display_data"
    }
   ],
   "source": [
    "outcomes_list = list(aper_df.iloc[:,0:-7].columns)\n",
    "gini_age_results_preliminar = {}\n",
    "gini_age_results_auc_preliminar = {}\n",
    "for outcome in outcomes_list:\n",
    "\n",
    "    aper_df_mmse = aper_df[[outcome, 'GINI', 'Age']]\n",
    "    aper_df_mmse = aper_df_mmse.dropna()\n",
    "    aper_df_mmse.reset_index(drop=True)\n",
    "\n",
    "   \n",
    "    mediana = aper_df_mmse[outcome].median()\n",
    "    aper_df_mmse[outcome + '_b'] = (aper_df_mmse[outcome] > mediana).astype(int)\n",
    "    \n",
    "    y_aper_1A = aper_df_mmse[outcome + '_b']\n",
    "    X_aper_1A = aper_df_mmse[['GINI', 'Age']]\n",
    "\n",
    "    scaler = MinMaxScaler([0.05, 0.95])\n",
    "    scaling_data = scaler.fit_transform(X_aper_1A)\n",
    "    X_aper_1A_s = pd.DataFrame(scaling_data, columns= X_aper_1A.columns, index = X_aper_1A.index)\n",
    "    \n",
    "    X_aper_1A =  X_aper_1A_s.copy()\n",
    "    \n",
    "    try:\n",
    "        r = classifier_ROC(X_aper_1A, y_aper_1A, False)\n",
    "        gini_age_results_preliminar[outcome] = r\n",
    "        gini_age_results_auc_preliminar[outcome] = r[2]\n",
    "    except:\n",
    "        print('Bad: ',outcome + '_b')"
   ]
  },
  {
   "cell_type": "code",
   "execution_count": null,
   "id": "78714ac9",
   "metadata": {},
   "outputs": [],
   "source": [
    "top_10_keys_GINI_AGE_preliminar = heapq.nlargest(10, gini_age_results_auc_preliminar, key=gini_age_results_auc_preliminar.get)"
   ]
  },
  {
   "cell_type": "code",
   "execution_count": null,
   "id": "85420551",
   "metadata": {},
   "outputs": [],
   "source": [
    "gini_age_results = {}\n",
    "gini_age_results_auc = {}\n",
    "gini_age_paragram = {}\n",
    "for outcome in top_10_keys_GINI_AGE_preliminar:\n",
    "\n",
    "    aper_df_mmse = aper_df[[outcome, 'GINI', 'Age']]\n",
    "    aper_df_mmse = aper_df_mmse.dropna()\n",
    "    aper_df_mmse.reset_index(drop=True)\n",
    "\n",
    "   \n",
    "    mediana = aper_df_mmse[outcome].median()\n",
    "    aper_df_mmse[outcome + '_b'] = (aper_df_mmse[outcome] > mediana).astype(int)\n",
    "    \n",
    "    y_aper_1A = aper_df_mmse[outcome + '_b']\n",
    "    X_aper_1A = aper_df_mmse[['GINI', 'Age']]\n",
    "\n",
    "    scaler = MinMaxScaler([0.05, 0.95])\n",
    "    scaling_data = scaler.fit_transform(X_aper_1A)\n",
    "    X_aper_1A_s = pd.DataFrame(scaling_data, columns= X_aper_1A.columns, index = X_aper_1A.index)\n",
    "    \n",
    "    X_aper_1A =  X_aper_1A_s.copy()\n",
    "\n",
    "    \n",
    "    opt_XGB = SearchBestModel(X_aper_1A, y_aper_1A)\n",
    "    params_ = dict(opt_XGB.best_params_)\n",
    "\n",
    "\n",
    "    r = classifier_ROC(X_aper_1A, y_aper_1A, False, params_)\n",
    "    gini_age_results[outcome] = r\n",
    "    gini_age_results_auc[outcome] = r[2]\n",
    "    gini_age_paragram[outcome] = params_"
   ]
  },
  {
   "cell_type": "code",
   "execution_count": null,
   "id": "79998e66",
   "metadata": {},
   "outputs": [],
   "source": [
    "top_10_keys_GINI_age = heapq.nlargest(10, gini_age_results_auc, key=gini_age_results_auc.get)\n",
    "top_10_keys_GINI_age"
   ]
  },
  {
   "cell_type": "code",
   "execution_count": null,
   "id": "603dfea8",
   "metadata": {},
   "outputs": [],
   "source": []
  },
  {
   "cell_type": "markdown",
   "id": "1f458bf6",
   "metadata": {},
   "source": [
    "## Classification:  Gini + Educ"
   ]
  },
  {
   "cell_type": "code",
   "execution_count": null,
   "id": "ec8c823a",
   "metadata": {},
   "outputs": [],
   "source": []
  },
  {
   "cell_type": "code",
   "execution_count": null,
   "id": "08f92b5f",
   "metadata": {},
   "outputs": [],
   "source": [
    "## Classification:  Gini + Educ\n",
    "\n",
    "outcomes_list = list(aper_df.iloc[:,0:-7].columns)\n",
    "gini_educ_results_preliminar = {}\n",
    "gini_educ_results_auc_preliminar = {}\n",
    "for outcome in outcomes_list:\n",
    "\n",
    "    aper_df_mmse = aper_df[[outcome, 'GINI', 'Educ']]\n",
    "    aper_df_mmse = aper_df_mmse.dropna()\n",
    "    aper_df_mmse.reset_index(drop=True)\n",
    "\n",
    "   \n",
    "    mediana = aper_df_mmse[outcome].median()\n",
    "    aper_df_mmse[outcome + '_b'] = (aper_df_mmse[outcome] > mediana).astype(int)\n",
    "    \n",
    "    y_aper_1A = aper_df_mmse[outcome + '_b']\n",
    "    X_aper_1A = aper_df_mmse[['GINI', 'Educ']]\n",
    "\n",
    "    scaler = MinMaxScaler([0.05, 0.95])\n",
    "    scaling_data = scaler.fit_transform(X_aper_1A)\n",
    "    X_aper_1A_s = pd.DataFrame(scaling_data, columns= X_aper_1A.columns, index = X_aper_1A.index)\n",
    "    \n",
    "    X_aper_1A =  X_aper_1A_s.copy()\n",
    "    \n",
    "    try:\n",
    "        r = classifier_ROC(X_aper_1A, y_aper_1A, False)\n",
    "        gini_educ_results_preliminar[outcome] = r\n",
    "        gini_educ_results_auc_preliminar[outcome] = r[2]\n",
    "    except:\n",
    "        print('Bad: ',outcome + '_b')"
   ]
  },
  {
   "cell_type": "code",
   "execution_count": null,
   "id": "e09f49cc",
   "metadata": {},
   "outputs": [],
   "source": [
    "top_10_keys_GINI_educ_preliminar = heapq.nlargest(10, gini_educ_results_auc_preliminar, key=gini_educ_results_auc_preliminar.get)"
   ]
  },
  {
   "cell_type": "code",
   "execution_count": null,
   "id": "77e90fbe",
   "metadata": {},
   "outputs": [],
   "source": [
    "gini_educ_results = {}\n",
    "gini_educ_results_auc = {}\n",
    "gini_educ_paragram = {}\n",
    "for outcome in top_10_keys_GINI_educ_preliminar:\n",
    "\n",
    "    aper_df_mmse = aper_df[[outcome, 'GINI', 'Educ']]\n",
    "    aper_df_mmse = aper_df_mmse.dropna()\n",
    "    aper_df_mmse.reset_index(drop=True)\n",
    "\n",
    "   \n",
    "    mediana = aper_df_mmse[outcome].median()\n",
    "    aper_df_mmse[outcome + '_b'] = (aper_df_mmse[outcome] > mediana).astype(int)\n",
    "    \n",
    "    y_aper_1A = aper_df_mmse[outcome + '_b']\n",
    "    X_aper_1A = aper_df_mmse[['GINI', 'Educ']]\n",
    "\n",
    "    scaler = MinMaxScaler([0.05, 0.95])\n",
    "    scaling_data = scaler.fit_transform(X_aper_1A)\n",
    "    X_aper_1A_s = pd.DataFrame(scaling_data, columns= X_aper_1A.columns, index = X_aper_1A.index)\n",
    "    \n",
    "    X_aper_1A =  X_aper_1A_s.copy()\n",
    "\n",
    "    \n",
    "    opt_XGB = SearchBestModel(X_aper_1A, y_aper_1A)\n",
    "    params_ = dict(opt_XGB.best_params_)\n",
    "\n",
    "\n",
    "    r = classifier_ROC(X_aper_1A, y_aper_1A, False, params_)\n",
    "    gini_educ_results[outcome] = r\n",
    "    gini_educ_results_auc[outcome] = r[2]\n",
    "    gini_educ_paragram[outcome] = params_"
   ]
  },
  {
   "cell_type": "code",
   "execution_count": null,
   "id": "2e3a3580",
   "metadata": {},
   "outputs": [],
   "source": [
    "top_10_keys_gini_educ = heapq.nlargest(10, gini_educ_results_auc, key=gini_educ_results_auc.get)\n",
    "top_10_keys_gini_educ"
   ]
  },
  {
   "cell_type": "markdown",
   "id": "e018fc99",
   "metadata": {},
   "source": [
    "## Classification:  Gini + Sex"
   ]
  },
  {
   "cell_type": "code",
   "execution_count": null,
   "id": "0a430950",
   "metadata": {},
   "outputs": [],
   "source": [
    "outcomes_list = list(aper_df.iloc[:,0:-7].columns)\n",
    "gini_sex_results_preliminar = {}\n",
    "gini_sex_results_auc_preliminar = {}\n",
    "for outcome in outcomes_list:\n",
    "\n",
    "    aper_df_mmse = aper_df[[outcome, 'GINI', 'Sex']]\n",
    "    aper_df_mmse = aper_df_mmse.dropna()\n",
    "    aper_df_mmse.reset_index(drop=True)\n",
    "\n",
    "   \n",
    "    mediana = aper_df_mmse[outcome].median()\n",
    "    aper_df_mmse[outcome + '_b'] = (aper_df_mmse[outcome] > mediana).astype(int)\n",
    "    \n",
    "    y_aper_1A = aper_df_mmse[outcome + '_b']\n",
    "    X_aper_1A = aper_df_mmse[['GINI', 'Sex']]\n",
    "\n",
    "    scaler = MinMaxScaler([0.05, 0.95])\n",
    "    scaling_data = scaler.fit_transform(X_aper_1A)\n",
    "    X_aper_1A_s = pd.DataFrame(scaling_data, columns= X_aper_1A.columns, index = X_aper_1A.index)\n",
    "    \n",
    "    X_aper_1A =  X_aper_1A_s.copy()\n",
    "    \n",
    "    try:\n",
    "        r = classifier_ROC(X_aper_1A, y_aper_1A, False)\n",
    "        gini_sex_results_preliminar[outcome] = r\n",
    "        gini_sex_results_auc_preliminar[outcome] = r[2]\n",
    "    except:\n",
    "        print('Bad: ',outcome + '_b')"
   ]
  },
  {
   "cell_type": "code",
   "execution_count": null,
   "id": "7379255a",
   "metadata": {},
   "outputs": [],
   "source": [
    "top_10_keys_GINI_sex_preliminar = heapq.nlargest(10, gini_sex_results_auc_preliminar, key=gini_sex_results_auc_preliminar.get)"
   ]
  },
  {
   "cell_type": "code",
   "execution_count": null,
   "id": "4a274f4b",
   "metadata": {},
   "outputs": [],
   "source": [
    "gini_sex_results = {}\n",
    "gini_sex_results_auc = {}\n",
    "gini_sex_paragram = {}\n",
    "for outcome in top_10_keys_GINI_sex_preliminar:\n",
    "\n",
    "    aper_df_mmse = aper_df[[outcome, 'GINI', 'Sex']]\n",
    "    aper_df_mmse = aper_df_mmse.dropna()\n",
    "    aper_df_mmse.reset_index(drop=True)\n",
    "\n",
    "   \n",
    "    mediana = aper_df_mmse[outcome].median()\n",
    "    aper_df_mmse[outcome + '_b'] = (aper_df_mmse[outcome] > mediana).astype(int)\n",
    "    \n",
    "    y_aper_1A = aper_df_mmse[outcome + '_b']\n",
    "    X_aper_1A = aper_df_mmse[['GINI', 'Sex']]\n",
    "\n",
    "    scaler = MinMaxScaler([0.05, 0.95])\n",
    "    scaling_data = scaler.fit_transform(X_aper_1A)\n",
    "    X_aper_1A_s = pd.DataFrame(scaling_data, columns= X_aper_1A.columns, index = X_aper_1A.index)\n",
    "    \n",
    "    X_aper_1A =  X_aper_1A_s.copy()\n",
    "\n",
    "    \n",
    "    opt_XGB = SearchBestModel(X_aper_1A, y_aper_1A)\n",
    "    params_ = dict(opt_XGB.best_params_)\n",
    "    \n",
    "\n",
    "    r = classifier_ROC(X_aper_1A, y_aper_1A, False, params_)\n",
    "    gini_sex_results[outcome] = r\n",
    "    gini_sex_results_auc[outcome] = r[2]\n",
    "    gini_sex_paragram[outcome] = params_"
   ]
  },
  {
   "cell_type": "code",
   "execution_count": null,
   "id": "8fea9b55",
   "metadata": {},
   "outputs": [],
   "source": [
    "top_10_keys_gini_sex = heapq.nlargest(10, gini_sex_results_auc, key=gini_sex_results_auc.get)\n",
    "top_10_keys_gini_sex"
   ]
  },
  {
   "cell_type": "markdown",
   "id": "8f378e02",
   "metadata": {},
   "source": [
    "## Classification:  Gini + Cognition"
   ]
  },
  {
   "cell_type": "code",
   "execution_count": null,
   "id": "ccc45027",
   "metadata": {},
   "outputs": [],
   "source": []
  },
  {
   "cell_type": "code",
   "execution_count": null,
   "id": "e5676ffe",
   "metadata": {},
   "outputs": [],
   "source": [
    "## Classification:  Gini + Cognition\n",
    "\n",
    "outcomes_list = list(aper_df.iloc[:,0:-7].columns)\n",
    "gini_mmse_results_preliminar = {}\n",
    "gini_mmse_results_auc_preliminar = {}\n",
    "for outcome in outcomes_list:\n",
    "\n",
    "    aper_df_mmse = aper_df[[outcome, 'GINI', 'MMSE']]\n",
    "    aper_df_mmse = aper_df_mmse[aper_df_mmse['MMSE'] >= 21]\n",
    "    aper_df_mmse = aper_df_mmse.dropna()\n",
    "    aper_df_mmse.reset_index(drop=True)\n",
    "\n",
    "   \n",
    "    mediana = aper_df_mmse[outcome].median()\n",
    "    aper_df_mmse[outcome + '_b'] = (aper_df_mmse[outcome] > mediana).astype(int)\n",
    "    \n",
    "    y_aper_1A = aper_df_mmse[outcome + '_b']\n",
    "    X_aper_1A = aper_df_mmse[['GINI', 'MMSE']]\n",
    "\n",
    "    scaler = MinMaxScaler([0.05, 0.95])\n",
    "    scaling_data = scaler.fit_transform(X_aper_1A)\n",
    "    X_aper_1A_s = pd.DataFrame(scaling_data, columns= X_aper_1A.columns, index = X_aper_1A.index)\n",
    "    \n",
    "    X_aper_1A =  X_aper_1A_s.copy()\n",
    "    \n",
    "    try:\n",
    "        r = classifier_ROC(X_aper_1A, y_aper_1A, False)\n",
    "        gini_mmse_results_preliminar[outcome] = r\n",
    "        gini_mmse_results_auc_preliminar[outcome] = r[2]\n",
    "    except:\n",
    "        print('Bad: ',outcome + '_b')"
   ]
  },
  {
   "cell_type": "code",
   "execution_count": null,
   "id": "a7739af0",
   "metadata": {},
   "outputs": [],
   "source": [
    "top_10_keys_GINI_mmse_preliminar = heapq.nlargest(10, gini_mmse_results_auc_preliminar, key=gini_mmse_results_auc_preliminar.get)"
   ]
  },
  {
   "cell_type": "code",
   "execution_count": null,
   "id": "cd35f175",
   "metadata": {},
   "outputs": [],
   "source": [
    "gini_mmse_results = {}\n",
    "gini_mmse_results_auc = {}\n",
    "gini_mmse_paragram = {}\n",
    "for outcome in top_10_keys_GINI_mmse_preliminar:\n",
    "\n",
    "    aper_df_mmse = aper_df[[outcome, 'GINI', 'MMSE']]\n",
    "    aper_df_mmse = aper_df_mmse[aper_df_mmse['MMSE'] >= 21]\n",
    "    aper_df_mmse = aper_df_mmse.dropna()\n",
    "    aper_df_mmse.reset_index(drop=True)\n",
    "\n",
    "   \n",
    "    mediana = aper_df_mmse[outcome].median()\n",
    "    aper_df_mmse[outcome + '_b'] = (aper_df_mmse[outcome] > mediana).astype(int)\n",
    "    \n",
    "    y_aper_1A = aper_df_mmse[outcome + '_b']\n",
    "    X_aper_1A = aper_df_mmse[['GINI', 'MMSE']]\n",
    "\n",
    "    scaler = MinMaxScaler([0.05, 0.95])\n",
    "    scaling_data = scaler.fit_transform(X_aper_1A)\n",
    "    X_aper_1A_s = pd.DataFrame(scaling_data, columns= X_aper_1A.columns, index = X_aper_1A.index)\n",
    "    \n",
    "    X_aper_1A =  X_aper_1A_s.copy()\n",
    "\n",
    "    \n",
    "    opt_XGB = SearchBestModel(X_aper_1A, y_aper_1A)\n",
    "    params_ = dict(opt_XGB.best_params_)\n",
    "    \n",
    "\n",
    "    r = classifier_ROC(X_aper_1A, y_aper_1A, False, params_)\n",
    "    gini_mmse_results[outcome] = r\n",
    "    gini_mmse_results_auc[outcome] = r[2]\n",
    "    gini_mmse_paragram[outcome] = params_"
   ]
  },
  {
   "cell_type": "code",
   "execution_count": null,
   "id": "21c1b9e0",
   "metadata": {},
   "outputs": [],
   "source": [
    "top_10_keys_gini_mmse = heapq.nlargest(10, gini_mmse_results_auc, key=gini_mmse_results_auc.get)\n",
    "top_10_keys_gini_mmse"
   ]
  },
  {
   "cell_type": "code",
   "execution_count": null,
   "id": "6ae65b59",
   "metadata": {},
   "outputs": [],
   "source": []
  },
  {
   "cell_type": "code",
   "execution_count": null,
   "id": "bc3e1930",
   "metadata": {},
   "outputs": [],
   "source": []
  }
 ],
 "metadata": {
  "kernelspec": {
   "display_name": "Python 3 (ipykernel)",
   "language": "python",
   "name": "python3"
  },
  "language_info": {
   "codemirror_mode": {
    "name": "ipython",
    "version": 3
   },
   "file_extension": ".py",
   "mimetype": "text/x-python",
   "name": "python",
   "nbconvert_exporter": "python",
   "pygments_lexer": "ipython3",
   "version": "3.9.13"
  }
 },
 "nbformat": 4,
 "nbformat_minor": 5
}
