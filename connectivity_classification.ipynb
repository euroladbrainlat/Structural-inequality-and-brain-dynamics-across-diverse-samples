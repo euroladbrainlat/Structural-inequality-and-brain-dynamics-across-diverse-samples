{
 "cells": [
  {
   "cell_type": "code",
   "execution_count": 1,
   "id": "085c8d5e",
   "metadata": {},
   "outputs": [],
   "source": [
    "from __future__ import division\n",
    "from mlxtend.feature_selection import SequentialFeatureSelector as SFS\n",
    "from mlxtend.plotting import plot_sequential_feature_selection as plot_sfs\n",
    "from sklearn.linear_model import LinearRegression\n",
    "from sklearn.model_selection import train_test_split\n",
    "from sklearn.metrics import mean_squared_error, r2_score\n",
    "from xgboost import XGBClassifier\n",
    "import pandas as pd\n",
    "import numpy as np\n",
    "import re\n",
    "import pickle\n",
    "import matplotlib.pyplot as plt\n",
    "from xgboost import plot_importance\n",
    "import plotly.graph_objects as go\n",
    "from tqdm.notebook import tqdm\n",
    "from sklearn.model_selection import RepeatedKFold\n",
    "import xgboost as xgb\n",
    "from sklearn.metrics import roc_auc_score, roc_curve, f1_score, accuracy_score, recall_score, precision_score, confusion_matrix, mean_squared_error\n",
    "import seaborn as sns\n",
    "from statannot import add_stat_annotation\n",
    "from sklearn.linear_model import Lasso, MultiTaskLasso, Ridge, ElasticNet\n",
    "\n",
    "from sklearn.preprocessing import MinMaxScaler\n",
    "\n",
    "from sklearn.model_selection import train_test_split\n",
    "from sklearn.linear_model import LinearRegression\n",
    "from sklearn.metrics import mean_squared_error, r2_score\n",
    "from sklearn.feature_selection import SelectKBest\n",
    "from sklearn.feature_selection import f_regression\n",
    "from sklearn.feature_selection import mutual_info_regression, f_regression\n",
    "\n",
    "from sklearn.pipeline import Pipeline\n",
    "from sklearn.model_selection import GridSearchCV\n",
    "from sklearn.model_selection import RepeatedKFold\n",
    "from sklearn.decomposition import PCA\n",
    "\n",
    "from sklearn.utils import shuffle\n",
    "from sklearn.preprocessing import StandardScaler\n",
    "\n",
    "from sklearn import metrics\n",
    "\n",
    "\n",
    "from skopt import BayesSearchCV\n",
    "from sklearn.model_selection import train_test_split\n",
    "from sklearn.linear_model import ElasticNet\n",
    "\n",
    "import statsmodels.api as sm\n",
    "\n",
    "import time\n",
    "\n",
    "import scipy\n",
    "\n",
    "from sklearn.svm import SVR\n",
    "\n",
    "from skopt import BayesSearchCV\n",
    "from sklearn.ensemble import RandomForestRegressor\n",
    "\n",
    "from statsmodels.stats.multitest import fdrcorrection\n",
    "\n",
    "from statsmodels.stats import multitest\n",
    "\n",
    "from sklearn.linear_model import RidgeCV, LassoCV, Ridge, Lasso\n",
    "from sklearn.ensemble import ExtraTreesClassifier\n",
    "\n",
    "from collections import Counter\n",
    "import heapq\n",
    "\n",
    "import statsmodels.api as sm\n",
    "\n",
    "from sklearn.ensemble import RandomForestRegressor\n",
    "\n",
    "import re\n",
    "\n",
    "from sklearn.preprocessing import MinMaxScaler\n",
    "\n",
    "import os"
   ]
  },
  {
   "cell_type": "code",
   "execution_count": null,
   "id": "5b182faf",
   "metadata": {},
   "outputs": [],
   "source": []
  },
  {
   "cell_type": "code",
   "execution_count": 2,
   "id": "0dce98e0",
   "metadata": {},
   "outputs": [
    {
     "data": {
      "text/html": [
       "<div>\n",
       "<style scoped>\n",
       "    .dataframe tbody tr th:only-of-type {\n",
       "        vertical-align: middle;\n",
       "    }\n",
       "\n",
       "    .dataframe tbody tr th {\n",
       "        vertical-align: top;\n",
       "    }\n",
       "\n",
       "    .dataframe thead th {\n",
       "        text-align: right;\n",
       "    }\n",
       "</style>\n",
       "<table border=\"1\" class=\"dataframe\">\n",
       "  <thead>\n",
       "    <tr style=\"text-align: right;\">\n",
       "      <th></th>\n",
       "      <th>transitivity_mimat</th>\n",
       "      <th>transitivity_cmimat</th>\n",
       "      <th>transitivity_omat</th>\n",
       "      <th>global_efficiency_mimat</th>\n",
       "      <th>global_efficiency_cmimat</th>\n",
       "      <th>global_efficiency_omat</th>\n",
       "      <th>density_mimat</th>\n",
       "      <th>density_cmimat</th>\n",
       "      <th>density_omat</th>\n",
       "      <th>small_worldness_mimat</th>\n",
       "      <th>small_worldness_cmimat</th>\n",
       "      <th>small_worldness_omat</th>\n",
       "      <th>Age</th>\n",
       "      <th>Sex</th>\n",
       "      <th>Educ</th>\n",
       "      <th>MMSE</th>\n",
       "      <th>GINI</th>\n",
       "      <th>ODQ</th>\n",
       "    </tr>\n",
       "  </thead>\n",
       "  <tbody>\n",
       "    <tr>\n",
       "      <th>0</th>\n",
       "      <td>0.583842</td>\n",
       "      <td>0.104833</td>\n",
       "      <td>0.001365</td>\n",
       "      <td>0.574837</td>\n",
       "      <td>0.188519</td>\n",
       "      <td>-3.741949e-08</td>\n",
       "      <td>1.02439</td>\n",
       "      <td>1.02439</td>\n",
       "      <td>1.02439</td>\n",
       "      <td>0.750617</td>\n",
       "      <td>0.074869</td>\n",
       "      <td>0.000074</td>\n",
       "      <td>33.0</td>\n",
       "      <td>1.0</td>\n",
       "      <td>19.0</td>\n",
       "      <td>30.0</td>\n",
       "      <td>40.70</td>\n",
       "      <td>99.282421</td>\n",
       "    </tr>\n",
       "    <tr>\n",
       "      <th>1</th>\n",
       "      <td>0.664119</td>\n",
       "      <td>0.394995</td>\n",
       "      <td>0.001960</td>\n",
       "      <td>0.655410</td>\n",
       "      <td>0.468515</td>\n",
       "      <td>4.039244e-04</td>\n",
       "      <td>1.02439</td>\n",
       "      <td>1.02439</td>\n",
       "      <td>1.02439</td>\n",
       "      <td>0.811830</td>\n",
       "      <td>0.368709</td>\n",
       "      <td>0.000119</td>\n",
       "      <td>57.0</td>\n",
       "      <td>2.0</td>\n",
       "      <td>13.0</td>\n",
       "      <td>NaN</td>\n",
       "      <td>40.70</td>\n",
       "      <td>99.739738</td>\n",
       "    </tr>\n",
       "    <tr>\n",
       "      <th>2</th>\n",
       "      <td>0.557863</td>\n",
       "      <td>0.132563</td>\n",
       "      <td>0.001388</td>\n",
       "      <td>0.549592</td>\n",
       "      <td>0.206538</td>\n",
       "      <td>-6.169134e-08</td>\n",
       "      <td>1.02439</td>\n",
       "      <td>1.02439</td>\n",
       "      <td>1.02439</td>\n",
       "      <td>0.727810</td>\n",
       "      <td>0.121368</td>\n",
       "      <td>0.000075</td>\n",
       "      <td>32.0</td>\n",
       "      <td>1.0</td>\n",
       "      <td>10.0</td>\n",
       "      <td>NaN</td>\n",
       "      <td>40.70</td>\n",
       "      <td>99.361739</td>\n",
       "    </tr>\n",
       "    <tr>\n",
       "      <th>3</th>\n",
       "      <td>0.663217</td>\n",
       "      <td>0.315265</td>\n",
       "      <td>0.001743</td>\n",
       "      <td>0.653910</td>\n",
       "      <td>0.373556</td>\n",
       "      <td>1.801059e-04</td>\n",
       "      <td>1.02439</td>\n",
       "      <td>1.02439</td>\n",
       "      <td>1.02439</td>\n",
       "      <td>0.811901</td>\n",
       "      <td>0.290259</td>\n",
       "      <td>0.000114</td>\n",
       "      <td>21.0</td>\n",
       "      <td>1.0</td>\n",
       "      <td>13.0</td>\n",
       "      <td>NaN</td>\n",
       "      <td>40.70</td>\n",
       "      <td>99.561273</td>\n",
       "    </tr>\n",
       "    <tr>\n",
       "      <th>4</th>\n",
       "      <td>0.657107</td>\n",
       "      <td>0.249122</td>\n",
       "      <td>0.001494</td>\n",
       "      <td>0.648036</td>\n",
       "      <td>0.307371</td>\n",
       "      <td>3.757728e-05</td>\n",
       "      <td>1.02439</td>\n",
       "      <td>1.02439</td>\n",
       "      <td>1.02439</td>\n",
       "      <td>0.806713</td>\n",
       "      <td>0.222110</td>\n",
       "      <td>0.000079</td>\n",
       "      <td>19.0</td>\n",
       "      <td>1.0</td>\n",
       "      <td>13.0</td>\n",
       "      <td>30.0</td>\n",
       "      <td>40.70</td>\n",
       "      <td>99.822774</td>\n",
       "    </tr>\n",
       "    <tr>\n",
       "      <th>...</th>\n",
       "      <td>...</td>\n",
       "      <td>...</td>\n",
       "      <td>...</td>\n",
       "      <td>...</td>\n",
       "      <td>...</td>\n",
       "      <td>...</td>\n",
       "      <td>...</td>\n",
       "      <td>...</td>\n",
       "      <td>...</td>\n",
       "      <td>...</td>\n",
       "      <td>...</td>\n",
       "      <td>...</td>\n",
       "      <td>...</td>\n",
       "      <td>...</td>\n",
       "      <td>...</td>\n",
       "      <td>...</td>\n",
       "      <td>...</td>\n",
       "      <td>...</td>\n",
       "    </tr>\n",
       "    <tr>\n",
       "      <th>1428</th>\n",
       "      <td>0.446310</td>\n",
       "      <td>0.040522</td>\n",
       "      <td>0.001126</td>\n",
       "      <td>0.439565</td>\n",
       "      <td>0.138220</td>\n",
       "      <td>-2.311560e-08</td>\n",
       "      <td>1.02439</td>\n",
       "      <td>1.02439</td>\n",
       "      <td>1.02439</td>\n",
       "      <td>0.624086</td>\n",
       "      <td>0.035083</td>\n",
       "      <td>0.000059</td>\n",
       "      <td>57.0</td>\n",
       "      <td>2.0</td>\n",
       "      <td>17.0</td>\n",
       "      <td>30.0</td>\n",
       "      <td>44.92</td>\n",
       "      <td>98.650235</td>\n",
       "    </tr>\n",
       "    <tr>\n",
       "      <th>1429</th>\n",
       "      <td>0.497250</td>\n",
       "      <td>0.095217</td>\n",
       "      <td>0.001228</td>\n",
       "      <td>0.489429</td>\n",
       "      <td>0.182804</td>\n",
       "      <td>2.682689e-05</td>\n",
       "      <td>1.02439</td>\n",
       "      <td>1.02439</td>\n",
       "      <td>1.02439</td>\n",
       "      <td>0.675007</td>\n",
       "      <td>0.092575</td>\n",
       "      <td>0.000065</td>\n",
       "      <td>48.0</td>\n",
       "      <td>2.0</td>\n",
       "      <td>17.0</td>\n",
       "      <td>28.0</td>\n",
       "      <td>44.92</td>\n",
       "      <td>99.599221</td>\n",
       "    </tr>\n",
       "    <tr>\n",
       "      <th>1430</th>\n",
       "      <td>0.475298</td>\n",
       "      <td>0.049578</td>\n",
       "      <td>0.001177</td>\n",
       "      <td>0.467717</td>\n",
       "      <td>0.144292</td>\n",
       "      <td>-1.349355e-08</td>\n",
       "      <td>1.02439</td>\n",
       "      <td>1.02439</td>\n",
       "      <td>1.02439</td>\n",
       "      <td>0.654477</td>\n",
       "      <td>0.040671</td>\n",
       "      <td>0.000060</td>\n",
       "      <td>57.0</td>\n",
       "      <td>2.0</td>\n",
       "      <td>17.0</td>\n",
       "      <td>29.0</td>\n",
       "      <td>44.92</td>\n",
       "      <td>99.675799</td>\n",
       "    </tr>\n",
       "    <tr>\n",
       "      <th>1431</th>\n",
       "      <td>0.433723</td>\n",
       "      <td>0.029930</td>\n",
       "      <td>0.001184</td>\n",
       "      <td>0.427825</td>\n",
       "      <td>0.129571</td>\n",
       "      <td>4.167022e-05</td>\n",
       "      <td>1.02439</td>\n",
       "      <td>1.02439</td>\n",
       "      <td>1.02439</td>\n",
       "      <td>0.606633</td>\n",
       "      <td>0.026680</td>\n",
       "      <td>0.000061</td>\n",
       "      <td>69.0</td>\n",
       "      <td>2.0</td>\n",
       "      <td>12.0</td>\n",
       "      <td>30.0</td>\n",
       "      <td>44.92</td>\n",
       "      <td>99.641446</td>\n",
       "    </tr>\n",
       "    <tr>\n",
       "      <th>1432</th>\n",
       "      <td>0.453757</td>\n",
       "      <td>0.052045</td>\n",
       "      <td>0.001242</td>\n",
       "      <td>0.447374</td>\n",
       "      <td>0.153591</td>\n",
       "      <td>-2.401017e-08</td>\n",
       "      <td>1.02439</td>\n",
       "      <td>1.02439</td>\n",
       "      <td>1.02439</td>\n",
       "      <td>0.630938</td>\n",
       "      <td>0.048853</td>\n",
       "      <td>0.000066</td>\n",
       "      <td>64.0</td>\n",
       "      <td>2.0</td>\n",
       "      <td>22.0</td>\n",
       "      <td>30.0</td>\n",
       "      <td>44.92</td>\n",
       "      <td>98.420503</td>\n",
       "    </tr>\n",
       "  </tbody>\n",
       "</table>\n",
       "<p>1368 rows × 18 columns</p>\n",
       "</div>"
      ],
      "text/plain": [
       "      transitivity_mimat  transitivity_cmimat  transitivity_omat  \\\n",
       "0               0.583842             0.104833           0.001365   \n",
       "1               0.664119             0.394995           0.001960   \n",
       "2               0.557863             0.132563           0.001388   \n",
       "3               0.663217             0.315265           0.001743   \n",
       "4               0.657107             0.249122           0.001494   \n",
       "...                  ...                  ...                ...   \n",
       "1428            0.446310             0.040522           0.001126   \n",
       "1429            0.497250             0.095217           0.001228   \n",
       "1430            0.475298             0.049578           0.001177   \n",
       "1431            0.433723             0.029930           0.001184   \n",
       "1432            0.453757             0.052045           0.001242   \n",
       "\n",
       "      global_efficiency_mimat  global_efficiency_cmimat  \\\n",
       "0                    0.574837                  0.188519   \n",
       "1                    0.655410                  0.468515   \n",
       "2                    0.549592                  0.206538   \n",
       "3                    0.653910                  0.373556   \n",
       "4                    0.648036                  0.307371   \n",
       "...                       ...                       ...   \n",
       "1428                 0.439565                  0.138220   \n",
       "1429                 0.489429                  0.182804   \n",
       "1430                 0.467717                  0.144292   \n",
       "1431                 0.427825                  0.129571   \n",
       "1432                 0.447374                  0.153591   \n",
       "\n",
       "      global_efficiency_omat  density_mimat  density_cmimat  density_omat  \\\n",
       "0              -3.741949e-08        1.02439         1.02439       1.02439   \n",
       "1               4.039244e-04        1.02439         1.02439       1.02439   \n",
       "2              -6.169134e-08        1.02439         1.02439       1.02439   \n",
       "3               1.801059e-04        1.02439         1.02439       1.02439   \n",
       "4               3.757728e-05        1.02439         1.02439       1.02439   \n",
       "...                      ...            ...             ...           ...   \n",
       "1428           -2.311560e-08        1.02439         1.02439       1.02439   \n",
       "1429            2.682689e-05        1.02439         1.02439       1.02439   \n",
       "1430           -1.349355e-08        1.02439         1.02439       1.02439   \n",
       "1431            4.167022e-05        1.02439         1.02439       1.02439   \n",
       "1432           -2.401017e-08        1.02439         1.02439       1.02439   \n",
       "\n",
       "      small_worldness_mimat  small_worldness_cmimat  small_worldness_omat  \\\n",
       "0                  0.750617                0.074869              0.000074   \n",
       "1                  0.811830                0.368709              0.000119   \n",
       "2                  0.727810                0.121368              0.000075   \n",
       "3                  0.811901                0.290259              0.000114   \n",
       "4                  0.806713                0.222110              0.000079   \n",
       "...                     ...                     ...                   ...   \n",
       "1428               0.624086                0.035083              0.000059   \n",
       "1429               0.675007                0.092575              0.000065   \n",
       "1430               0.654477                0.040671              0.000060   \n",
       "1431               0.606633                0.026680              0.000061   \n",
       "1432               0.630938                0.048853              0.000066   \n",
       "\n",
       "       Age  Sex  Educ  MMSE   GINI        ODQ  \n",
       "0     33.0  1.0  19.0  30.0  40.70  99.282421  \n",
       "1     57.0  2.0  13.0   NaN  40.70  99.739738  \n",
       "2     32.0  1.0  10.0   NaN  40.70  99.361739  \n",
       "3     21.0  1.0  13.0   NaN  40.70  99.561273  \n",
       "4     19.0  1.0  13.0  30.0  40.70  99.822774  \n",
       "...    ...  ...   ...   ...    ...        ...  \n",
       "1428  57.0  2.0  17.0  30.0  44.92  98.650235  \n",
       "1429  48.0  2.0  17.0  28.0  44.92  99.599221  \n",
       "1430  57.0  2.0  17.0  29.0  44.92  99.675799  \n",
       "1431  69.0  2.0  12.0  30.0  44.92  99.641446  \n",
       "1432  64.0  2.0  22.0  30.0  44.92  98.420503  \n",
       "\n",
       "[1368 rows x 18 columns]"
      ]
     },
     "execution_count": 2,
     "metadata": {},
     "output_type": "execute_result"
    }
   ],
   "source": [
    "conn_df =  pd.read_excel('Data/connectivity.xlsx', index_col=0)\n",
    "conn_df"
   ]
  },
  {
   "cell_type": "markdown",
   "id": "fa4d0dbf",
   "metadata": {},
   "source": [
    "## Statistical significance check"
   ]
  },
  {
   "cell_type": "code",
   "execution_count": 3,
   "id": "598720f6",
   "metadata": {},
   "outputs": [
    {
     "data": {
      "text/html": [
       "<div>\n",
       "<style scoped>\n",
       "    .dataframe tbody tr th:only-of-type {\n",
       "        vertical-align: middle;\n",
       "    }\n",
       "\n",
       "    .dataframe tbody tr th {\n",
       "        vertical-align: top;\n",
       "    }\n",
       "\n",
       "    .dataframe thead th {\n",
       "        text-align: right;\n",
       "    }\n",
       "</style>\n",
       "<table border=\"1\" class=\"dataframe\">\n",
       "  <thead>\n",
       "    <tr style=\"text-align: right;\">\n",
       "      <th></th>\n",
       "      <th>transitivity_mimat</th>\n",
       "      <th>transitivity_cmimat</th>\n",
       "      <th>transitivity_omat</th>\n",
       "      <th>global_efficiency_mimat</th>\n",
       "      <th>global_efficiency_cmimat</th>\n",
       "      <th>global_efficiency_omat</th>\n",
       "      <th>density_mimat</th>\n",
       "      <th>density_cmimat</th>\n",
       "      <th>density_omat</th>\n",
       "    </tr>\n",
       "  </thead>\n",
       "  <tbody>\n",
       "  </tbody>\n",
       "</table>\n",
       "</div>"
      ],
      "text/plain": [
       "Empty DataFrame\n",
       "Columns: [transitivity_mimat, transitivity_cmimat, transitivity_omat, global_efficiency_mimat, global_efficiency_cmimat, global_efficiency_omat, density_mimat, density_cmimat, density_omat]\n",
       "Index: []"
      ]
     },
     "execution_count": 3,
     "metadata": {},
     "output_type": "execute_result"
    }
   ],
   "source": [
    "outcomes_list = list(conn_df.iloc[:,0:-9])\n",
    "df_metrics_slopes = pd.DataFrame(columns=outcomes_list)\n",
    "df_metrics_pval = pd.DataFrame(columns=outcomes_list)\n",
    "df_metrics_dir = pd.DataFrame(columns=outcomes_list)\n",
    "df_metrics_slopes"
   ]
  },
  {
   "cell_type": "code",
   "execution_count": 4,
   "id": "ff9a8655",
   "metadata": {},
   "outputs": [],
   "source": [
    "from scipy.stats import linregress\n",
    "\n",
    "df_metrics_slopes = pd.DataFrame(columns=outcomes_list)\n",
    "\n",
    "for variable_y in outcomes_list:\n",
    "    \n",
    "    c_conn_df_mmse = conn_df[['GINI', variable_y]]\n",
    "    \n",
    "    c_conn_df_mmse = c_conn_df_mmse.dropna()\n",
    "    c_conn_df_mmse.reset_index(drop=True)\n",
    "    \n",
    "    y_conn_1A = c_conn_df_mmse[variable_y]\n",
    "    X_conn_1A = c_conn_df_mmse[['GINI']]\n",
    "    \n",
    "    scaler = MinMaxScaler([0.05, 0.95])\n",
    "    scaling_data = scaler.fit_transform(X_conn_1A)\n",
    "    X_conn_1A = pd.DataFrame(scaling_data, columns= X_conn_1A.columns, index = X_conn_1A.index)\n",
    "\n",
    "    X_conn_1A =  X_conn_1A.copy()\n",
    "\n",
    "    slope, intercept, r_value, p_value, std_err = linregress(X_conn_1A['GINI'], y_conn_1A)\n",
    "    \n",
    "    p_value*=210\n",
    "    if(p_value<=0.05):\n",
    "        df_metrics_slopes.loc['GINI', variable_y] =  str(np.round(slope,3)) + ' (' + str(np.round(p_value,3))+')' #slope\n",
    "    \n",
    "    df_metrics_pval.loc['GINI', variable_y] =  p_value\n",
    "    df_metrics_dir.loc['GINI', variable_y] =  slope\n",
    "    \n",
    "for variable_y in outcomes_list:\n",
    "    for variable_x in ['Age', 'Educ', 'Sex', 'MMSE']:\n",
    "    \n",
    "        c_conn_df_mmse = conn_df[['GINI', variable_x, variable_y]] # Esto lo hago para que sean los mismo datos que en la regresión\n",
    "\n",
    "        c_conn_df_mmse = c_conn_df_mmse.dropna()\n",
    "        c_conn_df_mmse.reset_index(drop=True)\n",
    "        \n",
    "        y_conn_1A = c_conn_df_mmse[variable_y]\n",
    "        X_conn_1A = c_conn_df_mmse[['GINI', variable_x]]\n",
    "        \n",
    "        scaler = MinMaxScaler([0.05, 0.95])\n",
    "        scaling_data = scaler.fit_transform(X_conn_1A)\n",
    "        X_conn_1A = pd.DataFrame(scaling_data, columns= X_conn_1A.columns, index = X_conn_1A.index)\n",
    "\n",
    "        X_conn_1A =  X_conn_1A.copy()\n",
    "\n",
    "        slope, intercept, r_value, p_value, std_err = linregress(X_conn_1A[variable_x],y_conn_1A)\n",
    "    \n",
    "        p_value*=210\n",
    "        if(p_value<=0.05):\n",
    "            df_metrics_slopes.loc[variable_x, variable_y] =  str(np.round(slope,3)) + ' (' + str(np.round(p_value,3))+')' #slope\n",
    "     \n",
    "        df_metrics_pval.loc[variable_x, variable_y] =  p_value\n",
    "        df_metrics_dir.loc[variable_x, variable_y] =  slope"
   ]
  },
  {
   "cell_type": "code",
   "execution_count": 5,
   "id": "1ae6ac26",
   "metadata": {},
   "outputs": [
    {
     "data": {
      "text/html": [
       "<div>\n",
       "<style scoped>\n",
       "    .dataframe tbody tr th:only-of-type {\n",
       "        vertical-align: middle;\n",
       "    }\n",
       "\n",
       "    .dataframe tbody tr th {\n",
       "        vertical-align: top;\n",
       "    }\n",
       "\n",
       "    .dataframe thead th {\n",
       "        text-align: right;\n",
       "    }\n",
       "</style>\n",
       "<table border=\"1\" class=\"dataframe\">\n",
       "  <thead>\n",
       "    <tr style=\"text-align: right;\">\n",
       "      <th></th>\n",
       "      <th>GINI</th>\n",
       "      <th>Age</th>\n",
       "      <th>Educ</th>\n",
       "      <th>Sex</th>\n",
       "      <th>MMSE</th>\n",
       "    </tr>\n",
       "  </thead>\n",
       "  <tbody>\n",
       "    <tr>\n",
       "      <th>transitivity_mimat</th>\n",
       "      <td>0.007025</td>\n",
       "      <td>-0.136356</td>\n",
       "      <td>-0.110063</td>\n",
       "      <td>-0.022081</td>\n",
       "      <td>0.055234</td>\n",
       "    </tr>\n",
       "    <tr>\n",
       "      <th>transitivity_cmimat</th>\n",
       "      <td>0.001101</td>\n",
       "      <td>-0.091881</td>\n",
       "      <td>-0.068669</td>\n",
       "      <td>-0.020166</td>\n",
       "      <td>0.050544</td>\n",
       "    </tr>\n",
       "    <tr>\n",
       "      <th>transitivity_omat</th>\n",
       "      <td>0.000664</td>\n",
       "      <td>0.002487</td>\n",
       "      <td>0.002195</td>\n",
       "      <td>0.000456</td>\n",
       "      <td>-0.000935</td>\n",
       "    </tr>\n",
       "    <tr>\n",
       "      <th>global_efficiency_mimat</th>\n",
       "      <td>0.008068</td>\n",
       "      <td>-0.127716</td>\n",
       "      <td>-0.101644</td>\n",
       "      <td>-0.020533</td>\n",
       "      <td>0.052666</td>\n",
       "    </tr>\n",
       "    <tr>\n",
       "      <th>global_efficiency_cmimat</th>\n",
       "      <td>0.046546</td>\n",
       "      <td>-0.127632</td>\n",
       "      <td>-0.104343</td>\n",
       "      <td>-0.016811</td>\n",
       "      <td>0.035658</td>\n",
       "    </tr>\n",
       "    <tr>\n",
       "      <th>global_efficiency_omat</th>\n",
       "      <td>0.000133</td>\n",
       "      <td>0.000991</td>\n",
       "      <td>0.000964</td>\n",
       "      <td>0.0002</td>\n",
       "      <td>-0.000277</td>\n",
       "    </tr>\n",
       "    <tr>\n",
       "      <th>density_mimat</th>\n",
       "      <td>-0.0</td>\n",
       "      <td>-0.0</td>\n",
       "      <td>-0.0</td>\n",
       "      <td>-0.0</td>\n",
       "      <td>-0.0</td>\n",
       "    </tr>\n",
       "    <tr>\n",
       "      <th>density_cmimat</th>\n",
       "      <td>-0.0</td>\n",
       "      <td>-0.0</td>\n",
       "      <td>-0.0</td>\n",
       "      <td>-0.0</td>\n",
       "      <td>-0.0</td>\n",
       "    </tr>\n",
       "    <tr>\n",
       "      <th>density_omat</th>\n",
       "      <td>-0.0</td>\n",
       "      <td>-0.0</td>\n",
       "      <td>-0.0</td>\n",
       "      <td>-0.0</td>\n",
       "      <td>-0.0</td>\n",
       "    </tr>\n",
       "  </tbody>\n",
       "</table>\n",
       "</div>"
      ],
      "text/plain": [
       "                              GINI       Age      Educ       Sex      MMSE\n",
       "transitivity_mimat        0.007025 -0.136356 -0.110063 -0.022081  0.055234\n",
       "transitivity_cmimat       0.001101 -0.091881 -0.068669 -0.020166  0.050544\n",
       "transitivity_omat         0.000664  0.002487  0.002195  0.000456 -0.000935\n",
       "global_efficiency_mimat   0.008068 -0.127716 -0.101644 -0.020533  0.052666\n",
       "global_efficiency_cmimat  0.046546 -0.127632 -0.104343 -0.016811  0.035658\n",
       "global_efficiency_omat    0.000133  0.000991  0.000964    0.0002 -0.000277\n",
       "density_mimat                 -0.0      -0.0      -0.0      -0.0      -0.0\n",
       "density_cmimat                -0.0      -0.0      -0.0      -0.0      -0.0\n",
       "density_omat                  -0.0      -0.0      -0.0      -0.0      -0.0"
      ]
     },
     "execution_count": 5,
     "metadata": {},
     "output_type": "execute_result"
    }
   ],
   "source": [
    "df_metrics_slopes = df_metrics_slopes.T\n",
    "df_metrics_pval = df_metrics_pval.T\n",
    "df_metrics_dir = df_metrics_dir.T\n",
    "df_metrics_dir"
   ]
  },
  {
   "cell_type": "code",
   "execution_count": 6,
   "id": "e17d7be7",
   "metadata": {},
   "outputs": [
    {
     "data": {
      "text/html": [
       "<div>\n",
       "<style scoped>\n",
       "    .dataframe tbody tr th:only-of-type {\n",
       "        vertical-align: middle;\n",
       "    }\n",
       "\n",
       "    .dataframe tbody tr th {\n",
       "        vertical-align: top;\n",
       "    }\n",
       "\n",
       "    .dataframe thead th {\n",
       "        text-align: right;\n",
       "    }\n",
       "</style>\n",
       "<table border=\"1\" class=\"dataframe\">\n",
       "  <thead>\n",
       "    <tr style=\"text-align: right;\">\n",
       "      <th></th>\n",
       "      <th>GINI</th>\n",
       "      <th>Age</th>\n",
       "      <th>Educ</th>\n",
       "      <th>Sex</th>\n",
       "      <th>MMSE</th>\n",
       "    </tr>\n",
       "  </thead>\n",
       "  <tbody>\n",
       "    <tr>\n",
       "      <th>transitivity_mimat</th>\n",
       "      <td>113.824758</td>\n",
       "      <td>0.0</td>\n",
       "      <td>0.262454</td>\n",
       "      <td>0.038057</td>\n",
       "      <td>1.193062</td>\n",
       "    </tr>\n",
       "    <tr>\n",
       "      <th>transitivity_cmimat</th>\n",
       "      <td>188.783687</td>\n",
       "      <td>0.0</td>\n",
       "      <td>1.532548</td>\n",
       "      <td>0.00112</td>\n",
       "      <td>0.136292</td>\n",
       "    </tr>\n",
       "    <tr>\n",
       "      <th>transitivity_omat</th>\n",
       "      <td>26.37683</td>\n",
       "      <td>0.0</td>\n",
       "      <td>18.7004</td>\n",
       "      <td>8.602928</td>\n",
       "      <td>42.529795</td>\n",
       "    </tr>\n",
       "    <tr>\n",
       "      <th>global_efficiency_mimat</th>\n",
       "      <td>93.806499</td>\n",
       "      <td>0.0</td>\n",
       "      <td>0.25095</td>\n",
       "      <td>0.032338</td>\n",
       "      <td>0.758004</td>\n",
       "    </tr>\n",
       "    <tr>\n",
       "      <th>global_efficiency_cmimat</th>\n",
       "      <td>0.002705</td>\n",
       "      <td>0.0</td>\n",
       "      <td>0.197813</td>\n",
       "      <td>0.438429</td>\n",
       "      <td>10.269686</td>\n",
       "    </tr>\n",
       "    <tr>\n",
       "      <th>global_efficiency_omat</th>\n",
       "      <td>103.242671</td>\n",
       "      <td>0.000001</td>\n",
       "      <td>19.505862</td>\n",
       "      <td>9.217895</td>\n",
       "      <td>70.058758</td>\n",
       "    </tr>\n",
       "    <tr>\n",
       "      <th>density_mimat</th>\n",
       "      <td>210.0</td>\n",
       "      <td>210.0</td>\n",
       "      <td>210.0</td>\n",
       "      <td>210.0</td>\n",
       "      <td>210.0</td>\n",
       "    </tr>\n",
       "    <tr>\n",
       "      <th>density_cmimat</th>\n",
       "      <td>210.0</td>\n",
       "      <td>210.0</td>\n",
       "      <td>210.0</td>\n",
       "      <td>210.0</td>\n",
       "      <td>210.0</td>\n",
       "    </tr>\n",
       "    <tr>\n",
       "      <th>density_omat</th>\n",
       "      <td>210.0</td>\n",
       "      <td>210.0</td>\n",
       "      <td>210.0</td>\n",
       "      <td>210.0</td>\n",
       "      <td>210.0</td>\n",
       "    </tr>\n",
       "  </tbody>\n",
       "</table>\n",
       "</div>"
      ],
      "text/plain": [
       "                                GINI       Age       Educ       Sex       MMSE\n",
       "transitivity_mimat        113.824758       0.0   0.262454  0.038057   1.193062\n",
       "transitivity_cmimat       188.783687       0.0   1.532548   0.00112   0.136292\n",
       "transitivity_omat           26.37683       0.0    18.7004  8.602928  42.529795\n",
       "global_efficiency_mimat    93.806499       0.0    0.25095  0.032338   0.758004\n",
       "global_efficiency_cmimat    0.002705       0.0   0.197813  0.438429  10.269686\n",
       "global_efficiency_omat    103.242671  0.000001  19.505862  9.217895  70.058758\n",
       "density_mimat                  210.0     210.0      210.0     210.0      210.0\n",
       "density_cmimat                 210.0     210.0      210.0     210.0      210.0\n",
       "density_omat                   210.0     210.0      210.0     210.0      210.0"
      ]
     },
     "execution_count": 6,
     "metadata": {},
     "output_type": "execute_result"
    }
   ],
   "source": [
    "df_metrics_pval"
   ]
  },
  {
   "cell_type": "code",
   "execution_count": 7,
   "id": "40b6f3a9",
   "metadata": {},
   "outputs": [],
   "source": [
    "df_metrics_GINI = df_metrics_slopes[['GINI']]\n",
    "df_metrics_GINI = df_metrics_GINI.copy()\n",
    "df_metrics_GINI.dropna(inplace=True)"
   ]
  },
  {
   "cell_type": "code",
   "execution_count": 8,
   "id": "c7a149a8",
   "metadata": {},
   "outputs": [],
   "source": [
    "outcomes_list = list(df_metrics_GINI.index)"
   ]
  },
  {
   "cell_type": "code",
   "execution_count": 9,
   "id": "4b8b7939",
   "metadata": {},
   "outputs": [],
   "source": [
    "def classifier_ROC(X_, y, fig_show = True, params_ = None):\n",
    "    \n",
    "    X_train, X_test, y_train, y_test = train_test_split(X_, y, test_size=0.2, random_state=10000, stratify=y)\n",
    "\n",
    "    #lista = list(sfs_.k_feature_names_)\n",
    "\n",
    "    #X_train = X_train[lista]\n",
    "    #X_test = X_test[lista]\n",
    "\n",
    "    cv    = RepeatedKFold(n_splits=10, n_repeats=2, random_state=101)\n",
    "    folds = [(train,test) for train, test in cv.split(X_train, y_train)]\n",
    "    metrics = ['auc', 'fpr', 'tpr', 'thresholds', 'f1_score', 'accuracy_score', 'recall_score', 'precision_score', 'confusion_matrix', 'model']\n",
    "    results = {\n",
    "        'train': {m:[] for m in metrics},\n",
    "        'val'  : {m:[] for m in metrics},\n",
    "        'test' : {m:[] for m in metrics}\n",
    "    }\n",
    "    X_train = pd.DataFrame(X_train)\n",
    "    y_train = pd.DataFrame(y_train)\n",
    "\n",
    "\n",
    "    if(params_!=None):\n",
    "        params = params_\n",
    "    else:\n",
    "        params = {\n",
    "            'objective'   : 'binary:logistic',\n",
    "            'eval_metric' : 'logloss'\n",
    "        }\n",
    "\n",
    "\n",
    "    plt.rcParams[\"figure.figsize\"] = (10,10)\n",
    "    dtest = xgb.DMatrix(X_test, label=y_test)\n",
    "    for train, test in tqdm(folds, total=len(folds)):\n",
    "        dtrain = xgb.DMatrix(X_train.iloc[train,:], label=y_train.iloc[train])\n",
    "        dval   = xgb.DMatrix(X_train.iloc[test,:], label=y_train.iloc[test])\n",
    "        model  = xgb.train(\n",
    "            dtrain                = dtrain,\n",
    "            params                = params, \n",
    "            evals                 = [(dtrain, 'train'), (dval, 'val')],\n",
    "            num_boost_round       = 1000,\n",
    "            verbose_eval          = False,\n",
    "            early_stopping_rounds = 10,\n",
    "        )\n",
    "        sets = [dtrain, dval, dtest]\n",
    "\n",
    "        for i,ds in enumerate(results.keys()):\n",
    "            y_preds              = model.predict(sets[i])\n",
    "            labels               = sets[i].get_label()\n",
    "            fpr, tpr, thresholds = roc_curve(labels, y_preds)\n",
    "            results[ds]['fpr'].append(fpr)\n",
    "            results[ds]['tpr'].append(tpr)\n",
    "            results[ds]['thresholds'].append(thresholds)\n",
    "            results[ds]['auc'].append(roc_auc_score(labels, y_preds))\n",
    "\n",
    "            results[ds]['f1_score'].append(f1_score(labels, np.round(y_preds)))\n",
    "            results[ds]['accuracy_score'].append(accuracy_score(labels, np.round(y_preds)))\n",
    "            results[ds]['recall_score'].append(recall_score(labels, np.round(y_preds)))\n",
    "            results[ds]['precision_score'].append(precision_score(labels, np.round(y_preds)))\n",
    "            results[ds]['confusion_matrix'].append(confusion_matrix(labels, np.round(y_preds)))\n",
    "            results[ds]['model'].append(model)\n",
    "\n",
    "\n",
    "    kind = 'test'\n",
    "    c_fill      = 'rgba(52, 152, 219, 0.2)'\n",
    "    c_line      = 'rgba(52, 152, 219, 0.5)'\n",
    "    c_line_main = 'rgba(41, 128, 185, 1.0)'\n",
    "    c_grid      = 'rgba(189, 195, 199, 0.5)'\n",
    "    c_annot     = 'rgba(149, 165, 166, 0.5)'\n",
    "    c_highlight = 'rgba(192, 57, 43, 1.0)'\n",
    "\n",
    "    fpr_mean    = np.linspace(0, 1, 100)\n",
    "    interp_tprs = []\n",
    "\n",
    "    for i in range(10*2):\n",
    "        fpr           = results[kind]['fpr'][i]\n",
    "        tpr           = results[kind]['tpr'][i]\n",
    "        interp_tpr    = np.interp(fpr_mean, fpr, tpr)\n",
    "        interp_tpr[0] = 0.0\n",
    "        interp_tprs.append(interp_tpr)\n",
    "\n",
    "    tpr_mean     = np.mean(interp_tprs, axis=0)\n",
    "    tpr_mean[-1] = 1.0\n",
    "    tpr_std      = 2*np.std(interp_tprs, axis=0)\n",
    "    tpr_upper    = np.clip(tpr_mean+tpr_std, 0, 1)\n",
    "    tpr_lower    = tpr_mean-tpr_std\n",
    "    auc          = np.mean(results[kind]['auc'])\n",
    "    \n",
    "    roc_dict = {}\n",
    "    roc_dict['tpr_mean'] = tpr_mean\n",
    "    roc_dict['tpr_std'] = tpr_std\n",
    "    roc_dict['tpr_upper'] = tpr_upper\n",
    "    roc_dict['tpr_lower'] = tpr_lower\n",
    "    roc_dict['auc'] = auc\n",
    "\n",
    "    if(fig_show):\n",
    "        fig = go.Figure([\n",
    "            go.Scatter(\n",
    "                x          = fpr_mean,\n",
    "                y          = tpr_upper,\n",
    "                line       = dict(color=c_line, width=1),\n",
    "                hoverinfo  = \"skip\",\n",
    "                showlegend = False,\n",
    "                name       = 'upper'),\n",
    "            go.Scatter(\n",
    "                x          = fpr_mean,\n",
    "                y          = tpr_lower,\n",
    "                fill       = 'tonexty',\n",
    "                fillcolor  = c_fill,\n",
    "                line       = dict(color=c_line, width=1),\n",
    "                hoverinfo  = \"skip\",\n",
    "                showlegend = False,\n",
    "                name       = 'lower'),\n",
    "            go.Scatter(\n",
    "                x          = fpr_mean,\n",
    "                y          = tpr_mean,\n",
    "                line       = dict(color=c_line_main, width=2),\n",
    "                hoverinfo  = \"skip\",\n",
    "                showlegend = True,\n",
    "                name       = f'AUC: {auc:.3f}')\n",
    "        ])\n",
    "\n",
    "        fig.add_shape(\n",
    "            type ='line', \n",
    "            line =dict(dash='dash'),\n",
    "            x0=0, x1=1, y0=0, y1=1\n",
    "        )\n",
    "\n",
    "        fig.update_layout(\n",
    "            template    = 'plotly_white', \n",
    "            title_x     = 0.5,\n",
    "            xaxis_title = \"1 - Specificity\",\n",
    "            yaxis_title = \"Sensitivity\",\n",
    "            width       = 800,\n",
    "            height      = 800,\n",
    "            legend      = dict(\n",
    "                yanchor=\"bottom\", \n",
    "                xanchor=\"right\", \n",
    "                x=0.95,\n",
    "                y=0.01,\n",
    "            )\n",
    "        )\n",
    "\n",
    "        fig.update_yaxes(\n",
    "            range       = [0, 1],\n",
    "            gridcolor   = c_grid,\n",
    "            scaleanchor = \"x\", \n",
    "            scaleratio  = 1,\n",
    "            linecolor   = 'black')\n",
    "\n",
    "        fig.update_xaxes(\n",
    "            range       = [0, 1],\n",
    "            gridcolor   = c_grid,\n",
    "            constrain   = 'domain',\n",
    "            linecolor   = 'black')\n",
    "\n",
    "\n",
    "\n",
    "        fig.show()\n",
    "        \n",
    "    else:\n",
    "        print(y.name, 'AUC: ', np.round(auc,2), '+-( ', np.round(np.std(results[kind]['auc']),2), ')', X_.shape)\n",
    "\n",
    "    return (model, results, np.round(auc,2), roc_dict)"
   ]
  },
  {
   "cell_type": "code",
   "execution_count": 10,
   "id": "9d512f09",
   "metadata": {},
   "outputs": [],
   "source": [
    "from skopt import BayesSearchCV\n",
    "def SearchBestModel(case_x, case_y):\n",
    "\n",
    "    X_train, X_test, y_train, y_test = train_test_split(case_x, case_y, test_size=.2, random_state=1)\n",
    "\n",
    "    opt_XGB = BayesSearchCV(\n",
    "            XGBClassifier(),\n",
    "            {\n",
    "                'objective'   : ['binary:logistic'],\n",
    "                'eval_metric' : ['logloss', 'error', 'auc', 'aucpr'],\n",
    "                'learning_rate': (0.01, 0.1, 0.2),\n",
    "                'max_depth': (3, 4, 5),\n",
    "                'subsample': (0.8, 0.9, 1.0),\n",
    "                'colsample_bytree': (0.8, 0.9, 1.0),\n",
    "                'reg_alpha': (0, 0.1, 1.0),\n",
    "                'reg_lambda': (0, 0.1, 1.0),\n",
    "                #'gamma': (0.001, 0.01, 0.1, 1, 10),\n",
    "            },\n",
    "                          \n",
    "            #n_iter=10,\n",
    "            #cv=3,\n",
    "            random_state=1\n",
    "        )\n",
    "\n",
    "    opt_XGB.fit(X_train, y_train)\n",
    "\n",
    "\n",
    "    print('XGB')\n",
    "    print(\"val. score: %s\" % opt_XGB.best_score_)\n",
    "    print(\"test score: %s\" % opt_XGB.score(X_test, y_test))\n",
    "    print(\"best parameters: %s\" % str(opt_XGB.best_params_))\n",
    "    print('---------------------------------------------\\n')\n",
    "    \n",
    "    return opt_XGB"
   ]
  },
  {
   "cell_type": "code",
   "execution_count": null,
   "id": "f46632db",
   "metadata": {},
   "outputs": [],
   "source": []
  },
  {
   "cell_type": "markdown",
   "id": "a4392bf9",
   "metadata": {},
   "source": [
    "### Classification"
   ]
  },
  {
   "cell_type": "code",
   "execution_count": 11,
   "id": "15170a69",
   "metadata": {
    "scrolled": true
   },
   "outputs": [
    {
     "data": {
      "application/vnd.jupyter.widget-view+json": {
       "model_id": "baba04806ccb4e92a2b5614ea27d583f",
       "version_major": 2,
       "version_minor": 0
      },
      "text/plain": [
       "  0%|          | 0/20 [00:00<?, ?it/s]"
      ]
     },
     "metadata": {},
     "output_type": "display_data"
    },
    {
     "name": "stdout",
     "output_type": "stream",
     "text": [
      "global_efficiency_cmimat_b AUC:  0.79 +-(  0.0 ) (1361, 1)\n"
     ]
    }
   ],
   "source": [
    "\n",
    "gini_results_preliminar = {}\n",
    "gini_results_auc_preliminar = {}\n",
    "for outcome in outcomes_list:\n",
    "\n",
    "    conn_df_mmse = conn_df[[outcome, 'GINI']]\n",
    "    conn_df_mmse = conn_df_mmse.dropna()\n",
    "    conn_df_mmse.reset_index(drop=True)\n",
    "\n",
    "   \n",
    "    mediana = conn_df_mmse[outcome].median()\n",
    "    conn_df_mmse[outcome + '_b'] = (conn_df_mmse[outcome] > mediana).astype(int)\n",
    "    \n",
    "    y_conn_1A = conn_df_mmse[outcome + '_b']\n",
    "    X_conn_1A = conn_df_mmse[['GINI']]\n",
    "\n",
    "    scaler = MinMaxScaler([0.05, 0.95])\n",
    "    scaling_data = scaler.fit_transform(X_conn_1A)\n",
    "    X_conn_1A_s = pd.DataFrame(scaling_data, columns= X_conn_1A.columns, index = X_conn_1A.index)\n",
    "    \n",
    "    X_conn_1A =  X_conn_1A_s.copy()\n",
    "    \n",
    "    try:\n",
    "        r = classifier_ROC(X_conn_1A, y_conn_1A, False)\n",
    "        gini_results_preliminar[outcome] = r\n",
    "        gini_results_auc_preliminar[outcome] = r[2]\n",
    "    except:\n",
    "        print('Bad: ',outcome + '_b')"
   ]
  },
  {
   "cell_type": "code",
   "execution_count": 12,
   "id": "a7f85441",
   "metadata": {},
   "outputs": [
    {
     "data": {
      "application/vnd.jupyter.widget-view+json": {
       "model_id": "3772a0507bfc439fab1da75adece62cd",
       "version_major": 2,
       "version_minor": 0
      },
      "text/plain": [
       "  0%|          | 0/20 [00:00<?, ?it/s]"
      ]
     },
     "metadata": {},
     "output_type": "display_data"
    },
    {
     "name": "stdout",
     "output_type": "stream",
     "text": [
      "global_efficiency_cmimat_b AUC:  0.79 +-(  0.0 ) (1361, 1)\n"
     ]
    }
   ],
   "source": [
    "r = classifier_ROC(X_conn_1A, y_conn_1A, False)"
   ]
  },
  {
   "cell_type": "code",
   "execution_count": 13,
   "id": "f0815b3e",
   "metadata": {},
   "outputs": [
    {
     "data": {
      "text/plain": [
       "['global_efficiency_cmimat']"
      ]
     },
     "execution_count": 13,
     "metadata": {},
     "output_type": "execute_result"
    }
   ],
   "source": [
    "top_10_keys_GINI_preliminar = heapq.nlargest(10, gini_results_auc_preliminar, key=gini_results_auc_preliminar.get)\n",
    "top_10_keys_GINI_preliminar"
   ]
  },
  {
   "cell_type": "code",
   "execution_count": 14,
   "id": "261012c4",
   "metadata": {
    "scrolled": true
   },
   "outputs": [
    {
     "name": "stdout",
     "output_type": "stream",
     "text": [
      "XGB\n",
      "val. score: 0.7453980467593962\n",
      "test score: 0.7728937728937729\n",
      "best parameters: OrderedDict([('colsample_bytree', 0.9), ('eval_metric', 'auc'), ('learning_rate', 0.1), ('max_depth', 3), ('objective', 'binary:logistic'), ('reg_alpha', 1.0), ('reg_lambda', 1.0), ('subsample', 1.0)])\n",
      "---------------------------------------------\n",
      "\n"
     ]
    },
    {
     "data": {
      "application/vnd.jupyter.widget-view+json": {
       "model_id": "2089296f10e943adb6eb1f6d7a7d21aa",
       "version_major": 2,
       "version_minor": 0
      },
      "text/plain": [
       "  0%|          | 0/20 [00:00<?, ?it/s]"
      ]
     },
     "metadata": {},
     "output_type": "display_data"
    },
    {
     "name": "stdout",
     "output_type": "stream",
     "text": [
      "global_efficiency_cmimat_b AUC:  0.78 +-(  0.01 ) (1361, 1)\n"
     ]
    }
   ],
   "source": [
    "gini_results = {}\n",
    "gini_results_auc = {}\n",
    "gini_paragram = {}\n",
    "for outcome in top_10_keys_GINI_preliminar:\n",
    "\n",
    "    conn_df_mmse = conn_df[[outcome, 'GINI']]\n",
    "    conn_df_mmse = conn_df_mmse.dropna()\n",
    "    conn_df_mmse.reset_index(drop=True)\n",
    "\n",
    "   \n",
    "    mediana = conn_df_mmse[outcome].median()\n",
    "    conn_df_mmse[outcome + '_b'] = (conn_df_mmse[outcome] > mediana).astype(int)\n",
    "    \n",
    "    y_conn_1A = conn_df_mmse[outcome + '_b']\n",
    "    X_conn_1A = conn_df_mmse[['GINI']]\n",
    "\n",
    "    scaler = MinMaxScaler([0.05, 0.95])\n",
    "    scaling_data = scaler.fit_transform(X_conn_1A)\n",
    "    X_conn_1A_s = pd.DataFrame(scaling_data, columns= X_conn_1A.columns, index = X_conn_1A.index)\n",
    "    \n",
    "    X_conn_1A =  X_conn_1A_s.copy()\n",
    "\n",
    "    \n",
    "    opt_XGB = SearchBestModel(X_conn_1A, y_conn_1A)\n",
    "    params_ = dict(opt_XGB.best_params_)\n",
    "\n",
    "\n",
    "    r = classifier_ROC(X_conn_1A, y_conn_1A, False, params_)\n",
    "    gini_results[outcome] = r\n",
    "    gini_results_auc[outcome] = r[2]\n",
    "    gini_paragram[outcome] = params_\n"
   ]
  },
  {
   "cell_type": "code",
   "execution_count": 15,
   "id": "92d0a9d3",
   "metadata": {},
   "outputs": [
    {
     "data": {
      "text/plain": [
       "{'colsample_bytree': 0.9,\n",
       " 'eval_metric': 'auc',\n",
       " 'learning_rate': 0.1,\n",
       " 'max_depth': 3,\n",
       " 'objective': 'binary:logistic',\n",
       " 'reg_alpha': 1.0,\n",
       " 'reg_lambda': 1.0,\n",
       " 'subsample': 1.0}"
      ]
     },
     "execution_count": 15,
     "metadata": {},
     "output_type": "execute_result"
    }
   ],
   "source": [
    "params_"
   ]
  },
  {
   "cell_type": "code",
   "execution_count": 16,
   "id": "a93cac6c",
   "metadata": {},
   "outputs": [
    {
     "data": {
      "text/plain": [
       "0    681\n",
       "1    680\n",
       "Name: global_efficiency_cmimat_b, dtype: int64"
      ]
     },
     "execution_count": 16,
     "metadata": {},
     "output_type": "execute_result"
    }
   ],
   "source": [
    "y_conn_1A.value_counts()"
   ]
  },
  {
   "cell_type": "code",
   "execution_count": 17,
   "id": "ddd4dfe5",
   "metadata": {},
   "outputs": [
    {
     "data": {
      "text/plain": [
       "['global_efficiency_cmimat']"
      ]
     },
     "execution_count": 17,
     "metadata": {},
     "output_type": "execute_result"
    }
   ],
   "source": [
    "top_10_keys_GINI = heapq.nlargest(10, gini_results_auc, key=gini_results_auc.get)\n",
    "top_10_keys_GINI"
   ]
  },
  {
   "cell_type": "code",
   "execution_count": null,
   "id": "0e22598d",
   "metadata": {},
   "outputs": [],
   "source": []
  },
  {
   "cell_type": "code",
   "execution_count": null,
   "id": "8b081bfe",
   "metadata": {},
   "outputs": [],
   "source": []
  },
  {
   "cell_type": "markdown",
   "id": "cc634e56",
   "metadata": {},
   "source": [
    "## Classification:  Gini + Age"
   ]
  },
  {
   "cell_type": "code",
   "execution_count": 18,
   "id": "41fbc1a4",
   "metadata": {
    "scrolled": true
   },
   "outputs": [
    {
     "data": {
      "application/vnd.jupyter.widget-view+json": {
       "model_id": "ad72e60595c545d8b0080970857ebc34",
       "version_major": 2,
       "version_minor": 0
      },
      "text/plain": [
       "  0%|          | 0/20 [00:00<?, ?it/s]"
      ]
     },
     "metadata": {},
     "output_type": "display_data"
    },
    {
     "name": "stdout",
     "output_type": "stream",
     "text": [
      "global_efficiency_cmimat_b AUC:  0.78 +-(  0.0 ) (1361, 2)\n"
     ]
    }
   ],
   "source": [
    "\n",
    "gini_age_results_preliminar = {}\n",
    "gini_age_results_auc_preliminar = {}\n",
    "for outcome in outcomes_list:\n",
    "\n",
    "    conn_df_mmse = conn_df[[outcome, 'GINI', 'Age']]\n",
    "    conn_df_mmse = conn_df_mmse.dropna()\n",
    "    conn_df_mmse.reset_index(drop=True)\n",
    "\n",
    "   \n",
    "    mediana = conn_df_mmse[outcome].median()\n",
    "    conn_df_mmse[outcome + '_b'] = (conn_df_mmse[outcome] > mediana).astype(int)\n",
    "    \n",
    "    y_conn_1A = conn_df_mmse[outcome + '_b']\n",
    "    X_conn_1A = conn_df_mmse[['GINI', 'Age']]\n",
    "\n",
    "    scaler = MinMaxScaler([0.05, 0.95])\n",
    "    scaling_data = scaler.fit_transform(X_conn_1A)\n",
    "    X_conn_1A_s = pd.DataFrame(scaling_data, columns= X_conn_1A.columns, index = X_conn_1A.index)\n",
    "    \n",
    "    X_conn_1A =  X_conn_1A_s.copy()\n",
    "    \n",
    "    try:\n",
    "        r = classifier_ROC(X_conn_1A, y_conn_1A, False)\n",
    "        gini_age_results_preliminar[outcome] = r\n",
    "        gini_age_results_auc_preliminar[outcome] = r[2]\n",
    "    except:\n",
    "        print('Bad: ',outcome + '_b')"
   ]
  },
  {
   "cell_type": "code",
   "execution_count": 19,
   "id": "e6c0f5df",
   "metadata": {},
   "outputs": [],
   "source": [
    "top_10_keys_GINI_AGE_preliminar = heapq.nlargest(10, gini_age_results_auc_preliminar, key=gini_age_results_auc_preliminar.get)"
   ]
  },
  {
   "cell_type": "code",
   "execution_count": 20,
   "id": "7d187797",
   "metadata": {
    "scrolled": true
   },
   "outputs": [
    {
     "name": "stdout",
     "output_type": "stream",
     "text": [
      "XGB\n",
      "val. score: 0.7518496596626221\n",
      "test score: 0.7692307692307693\n",
      "best parameters: OrderedDict([('colsample_bytree', 1.0), ('eval_metric', 'logloss'), ('learning_rate', 0.2), ('max_depth', 3), ('objective', 'binary:logistic'), ('reg_alpha', 1.0), ('reg_lambda', 0.0), ('subsample', 1.0)])\n",
      "---------------------------------------------\n",
      "\n"
     ]
    },
    {
     "data": {
      "application/vnd.jupyter.widget-view+json": {
       "model_id": "7e23816afc3348be9945e0ce80010739",
       "version_major": 2,
       "version_minor": 0
      },
      "text/plain": [
       "  0%|          | 0/20 [00:00<?, ?it/s]"
      ]
     },
     "metadata": {},
     "output_type": "display_data"
    },
    {
     "name": "stdout",
     "output_type": "stream",
     "text": [
      "global_efficiency_cmimat_b AUC:  0.78 +-(  0.0 ) (1361, 2)\n"
     ]
    }
   ],
   "source": [
    "gini_age_results = {}\n",
    "gini_age_results_auc = {}\n",
    "gini_age_paragram = {}\n",
    "for outcome in top_10_keys_GINI_AGE_preliminar:\n",
    "\n",
    "    conn_df_mmse = conn_df[[outcome, 'GINI', 'Age']]\n",
    "    conn_df_mmse = conn_df_mmse.dropna()\n",
    "    conn_df_mmse.reset_index(drop=True)\n",
    "\n",
    "   \n",
    "    mediana = conn_df_mmse[outcome].median()\n",
    "    conn_df_mmse[outcome + '_b'] = (conn_df_mmse[outcome] > mediana).astype(int)\n",
    "    \n",
    "    y_conn_1A = conn_df_mmse[outcome + '_b']\n",
    "    X_conn_1A = conn_df_mmse[['GINI', 'Age']]\n",
    "\n",
    "    scaler = MinMaxScaler([0.05, 0.95])\n",
    "    scaling_data = scaler.fit_transform(X_conn_1A)\n",
    "    X_conn_1A_s = pd.DataFrame(scaling_data, columns= X_conn_1A.columns, index = X_conn_1A.index)\n",
    "    \n",
    "    X_conn_1A =  X_conn_1A_s.copy()\n",
    "\n",
    "    \n",
    "    opt_XGB = SearchBestModel(X_conn_1A, y_conn_1A)\n",
    "    params_ = dict(opt_XGB.best_params_)\n",
    "\n",
    "\n",
    "    r = classifier_ROC(X_conn_1A, y_conn_1A, False, params_)\n",
    "    gini_age_results[outcome] = r\n",
    "    gini_age_results_auc[outcome] = r[2]\n",
    "    gini_age_paragram[outcome] = params_\n"
   ]
  },
  {
   "cell_type": "code",
   "execution_count": 21,
   "id": "171e13ad",
   "metadata": {},
   "outputs": [
    {
     "data": {
      "text/plain": [
       "['global_efficiency_cmimat']"
      ]
     },
     "execution_count": 21,
     "metadata": {},
     "output_type": "execute_result"
    }
   ],
   "source": [
    "top_10_keys_GINI_age = heapq.nlargest(10, gini_age_results_auc, key=gini_age_results_auc.get)\n",
    "top_10_keys_GINI_age"
   ]
  },
  {
   "cell_type": "code",
   "execution_count": null,
   "id": "d36147f1",
   "metadata": {},
   "outputs": [],
   "source": []
  },
  {
   "cell_type": "code",
   "execution_count": null,
   "id": "10ce9d6d",
   "metadata": {},
   "outputs": [],
   "source": []
  },
  {
   "cell_type": "markdown",
   "id": "ef917b38",
   "metadata": {},
   "source": [
    "## Classification:  Gini + Educ"
   ]
  },
  {
   "cell_type": "code",
   "execution_count": 22,
   "id": "a006ce7e",
   "metadata": {
    "scrolled": true
   },
   "outputs": [
    {
     "data": {
      "application/vnd.jupyter.widget-view+json": {
       "model_id": "ff5d93817c144b4ca8f62d943fd595a8",
       "version_major": 2,
       "version_minor": 0
      },
      "text/plain": [
       "  0%|          | 0/20 [00:00<?, ?it/s]"
      ]
     },
     "metadata": {},
     "output_type": "display_data"
    },
    {
     "name": "stdout",
     "output_type": "stream",
     "text": [
      "global_efficiency_cmimat_b AUC:  0.8 +-(  0.0 ) (1303, 2)\n"
     ]
    }
   ],
   "source": [
    "\n",
    "gini_educ_results_preliminar = {}\n",
    "gini_educ_results_auc_preliminar = {}\n",
    "for outcome in outcomes_list:\n",
    "\n",
    "    conn_df_mmse = conn_df[[outcome, 'GINI', 'Educ']]\n",
    "    conn_df_mmse = conn_df_mmse.dropna()\n",
    "    conn_df_mmse.reset_index(drop=True)\n",
    "\n",
    "   \n",
    "    mediana = conn_df_mmse[outcome].median()\n",
    "    conn_df_mmse[outcome + '_b'] = (conn_df_mmse[outcome] > mediana).astype(int)\n",
    "    \n",
    "    y_conn_1A = conn_df_mmse[outcome + '_b']\n",
    "    X_conn_1A = conn_df_mmse[['GINI', 'Educ']]\n",
    "\n",
    "    scaler = MinMaxScaler([0.05, 0.95])\n",
    "    scaling_data = scaler.fit_transform(X_conn_1A)\n",
    "    X_conn_1A_s = pd.DataFrame(scaling_data, columns= X_conn_1A.columns, index = X_conn_1A.index)\n",
    "    \n",
    "    X_conn_1A =  X_conn_1A_s.copy()\n",
    "    \n",
    "    try:\n",
    "        r = classifier_ROC(X_conn_1A, y_conn_1A, False)\n",
    "        gini_educ_results_preliminar[outcome] = r\n",
    "        gini_educ_results_auc_preliminar[outcome] = r[2]\n",
    "    except:\n",
    "        print('Bad: ',outcome + '_b')"
   ]
  },
  {
   "cell_type": "code",
   "execution_count": 23,
   "id": "87a2733a",
   "metadata": {},
   "outputs": [],
   "source": [
    "top_10_keys_GINI_educ_preliminar = heapq.nlargest(10, gini_educ_results_auc_preliminar, key=gini_educ_results_auc_preliminar.get)"
   ]
  },
  {
   "cell_type": "code",
   "execution_count": 24,
   "id": "c0f18652",
   "metadata": {
    "scrolled": true
   },
   "outputs": [
    {
     "name": "stdout",
     "output_type": "stream",
     "text": [
      "XGB\n",
      "val. score: 0.7582121825542878\n",
      "test score: 0.7471264367816092\n",
      "best parameters: OrderedDict([('colsample_bytree', 0.8), ('eval_metric', 'error'), ('learning_rate', 0.1), ('max_depth', 5), ('objective', 'binary:logistic'), ('reg_alpha', 0.1), ('reg_lambda', 1.0), ('subsample', 0.9)])\n",
      "---------------------------------------------\n",
      "\n"
     ]
    },
    {
     "data": {
      "application/vnd.jupyter.widget-view+json": {
       "model_id": "acb91ae8c37d4f75a17ca72a685b73a4",
       "version_major": 2,
       "version_minor": 0
      },
      "text/plain": [
       "  0%|          | 0/20 [00:00<?, ?it/s]"
      ]
     },
     "metadata": {},
     "output_type": "display_data"
    },
    {
     "name": "stdout",
     "output_type": "stream",
     "text": [
      "global_efficiency_cmimat_b AUC:  0.81 +-(  0.0 ) (1303, 2)\n"
     ]
    }
   ],
   "source": [
    "gini_educ_results = {}\n",
    "gini_educ_results_auc = {}\n",
    "gini_educ_paragram = {}\n",
    "for outcome in top_10_keys_GINI_educ_preliminar:\n",
    "\n",
    "    conn_df_mmse = conn_df[[outcome, 'GINI', 'Educ']]\n",
    "    conn_df_mmse = conn_df_mmse.dropna()\n",
    "    conn_df_mmse.reset_index(drop=True)\n",
    "\n",
    "   \n",
    "    mediana = conn_df_mmse[outcome].median()\n",
    "    conn_df_mmse[outcome + '_b'] = (conn_df_mmse[outcome] > mediana).astype(int)\n",
    "    \n",
    "    y_conn_1A = conn_df_mmse[outcome + '_b']\n",
    "    X_conn_1A = conn_df_mmse[['GINI', 'Educ']]\n",
    "\n",
    "    scaler = MinMaxScaler([0.05, 0.95])\n",
    "    scaling_data = scaler.fit_transform(X_conn_1A)\n",
    "    X_conn_1A_s = pd.DataFrame(scaling_data, columns= X_conn_1A.columns, index = X_conn_1A.index)\n",
    "    \n",
    "    X_conn_1A =  X_conn_1A_s.copy()\n",
    "\n",
    "    \n",
    "    opt_XGB = SearchBestModel(X_conn_1A, y_conn_1A)\n",
    "    params_ = dict(opt_XGB.best_params_)\n",
    "\n",
    "\n",
    "    r = classifier_ROC(X_conn_1A, y_conn_1A, False, params_)\n",
    "    gini_educ_results[outcome] = r\n",
    "    gini_educ_results_auc[outcome] = r[2]\n",
    "    gini_educ_paragram[outcome] = params_\n"
   ]
  },
  {
   "cell_type": "code",
   "execution_count": 25,
   "id": "dbdde3e1",
   "metadata": {},
   "outputs": [
    {
     "data": {
      "text/plain": [
       "['global_efficiency_cmimat']"
      ]
     },
     "execution_count": 25,
     "metadata": {},
     "output_type": "execute_result"
    }
   ],
   "source": [
    "top_10_keys_gini_educ = heapq.nlargest(10, gini_educ_results_auc, key=gini_educ_results_auc.get)\n",
    "top_10_keys_gini_educ"
   ]
  },
  {
   "cell_type": "code",
   "execution_count": null,
   "id": "b8cf25d2",
   "metadata": {},
   "outputs": [],
   "source": []
  },
  {
   "cell_type": "code",
   "execution_count": null,
   "id": "33d838be",
   "metadata": {},
   "outputs": [],
   "source": []
  },
  {
   "cell_type": "markdown",
   "id": "40838350",
   "metadata": {},
   "source": [
    "## Classification:  Gini + Sex"
   ]
  },
  {
   "cell_type": "code",
   "execution_count": 26,
   "id": "2d794041",
   "metadata": {
    "scrolled": true
   },
   "outputs": [
    {
     "data": {
      "application/vnd.jupyter.widget-view+json": {
       "model_id": "5b2984d5770e4a91a472efcb70b4769a",
       "version_major": 2,
       "version_minor": 0
      },
      "text/plain": [
       "  0%|          | 0/20 [00:00<?, ?it/s]"
      ]
     },
     "metadata": {},
     "output_type": "display_data"
    },
    {
     "name": "stdout",
     "output_type": "stream",
     "text": [
      "global_efficiency_cmimat_b AUC:  0.82 +-(  0.0 ) (1321, 2)\n"
     ]
    }
   ],
   "source": [
    "\n",
    "gini_sex_results_preliminar = {}\n",
    "gini_sex_results_auc_preliminar = {}\n",
    "for outcome in outcomes_list:\n",
    "\n",
    "    conn_df_mmse = conn_df[[outcome, 'GINI', 'Sex']]\n",
    "    conn_df_mmse = conn_df_mmse.dropna()\n",
    "    conn_df_mmse.reset_index(drop=True)\n",
    "\n",
    "   \n",
    "    mediana = conn_df_mmse[outcome].median()\n",
    "    conn_df_mmse[outcome + '_b'] = (conn_df_mmse[outcome] > mediana).astype(int)\n",
    "    \n",
    "    y_conn_1A = conn_df_mmse[outcome + '_b']\n",
    "    X_conn_1A = conn_df_mmse[['GINI', 'Sex']]\n",
    "\n",
    "    scaler = MinMaxScaler([0.05, 0.95])\n",
    "    scaling_data = scaler.fit_transform(X_conn_1A)\n",
    "    X_conn_1A_s = pd.DataFrame(scaling_data, columns= X_conn_1A.columns, index = X_conn_1A.index)\n",
    "    \n",
    "    X_conn_1A =  X_conn_1A_s.copy()\n",
    "    \n",
    "    try:\n",
    "        r = classifier_ROC(X_conn_1A, y_conn_1A, False)\n",
    "        gini_sex_results_preliminar[outcome] = r\n",
    "        gini_sex_results_auc_preliminar[outcome] = r[2]\n",
    "    except:\n",
    "        print('Bad: ',outcome + '_b')"
   ]
  },
  {
   "cell_type": "code",
   "execution_count": 27,
   "id": "ff9975a4",
   "metadata": {},
   "outputs": [],
   "source": [
    "top_10_keys_GINI_sex_preliminar = heapq.nlargest(10, gini_sex_results_auc_preliminar, key=gini_sex_results_auc_preliminar.get)"
   ]
  },
  {
   "cell_type": "code",
   "execution_count": 28,
   "id": "5c895128",
   "metadata": {
    "scrolled": true
   },
   "outputs": [
    {
     "name": "stdout",
     "output_type": "stream",
     "text": [
      "XGB\n",
      "val. score: 0.75\n",
      "test score: 0.7886792452830189\n",
      "best parameters: OrderedDict([('colsample_bytree', 0.9), ('eval_metric', 'logloss'), ('learning_rate', 0.2), ('max_depth', 3), ('objective', 'binary:logistic'), ('reg_alpha', 0.1), ('reg_lambda', 0.0), ('subsample', 0.9)])\n",
      "---------------------------------------------\n",
      "\n"
     ]
    },
    {
     "data": {
      "application/vnd.jupyter.widget-view+json": {
       "model_id": "1d2b9077a6374b1298d7835e63f8ee9b",
       "version_major": 2,
       "version_minor": 0
      },
      "text/plain": [
       "  0%|          | 0/20 [00:00<?, ?it/s]"
      ]
     },
     "metadata": {},
     "output_type": "display_data"
    },
    {
     "name": "stdout",
     "output_type": "stream",
     "text": [
      "global_efficiency_cmimat_b AUC:  0.82 +-(  0.0 ) (1321, 2)\n"
     ]
    }
   ],
   "source": [
    "gini_sex_results = {}\n",
    "gini_sex_results_auc = {}\n",
    "gini_sex_paragram = {}\n",
    "for outcome in top_10_keys_GINI_sex_preliminar:\n",
    "\n",
    "    conn_df_mmse = conn_df[[outcome, 'GINI', 'Sex']]\n",
    "    conn_df_mmse = conn_df_mmse.dropna()\n",
    "    conn_df_mmse.reset_index(drop=True)\n",
    "\n",
    "   \n",
    "    mediana = conn_df_mmse[outcome].median()\n",
    "    conn_df_mmse[outcome + '_b'] = (conn_df_mmse[outcome] > mediana).astype(int)\n",
    "    \n",
    "    y_conn_1A = conn_df_mmse[outcome + '_b']\n",
    "    X_conn_1A = conn_df_mmse[['GINI', 'Sex']]\n",
    "\n",
    "    scaler = MinMaxScaler([0.05, 0.95])\n",
    "    scaling_data = scaler.fit_transform(X_conn_1A)\n",
    "    X_conn_1A_s = pd.DataFrame(scaling_data, columns= X_conn_1A.columns, index = X_conn_1A.index)\n",
    "    \n",
    "    X_conn_1A =  X_conn_1A_s.copy()\n",
    "\n",
    "    \n",
    "    opt_XGB = SearchBestModel(X_conn_1A, y_conn_1A)\n",
    "    params_ = dict(opt_XGB.best_params_)\n",
    "    \n",
    "\n",
    "    r = classifier_ROC(X_conn_1A, y_conn_1A, False, params_)\n",
    "    gini_sex_results[outcome] = r\n",
    "    gini_sex_results_auc[outcome] = r[2]\n",
    "    gini_sex_paragram[outcome] = params_\n"
   ]
  },
  {
   "cell_type": "code",
   "execution_count": 29,
   "id": "ad8fcf66",
   "metadata": {},
   "outputs": [
    {
     "data": {
      "text/plain": [
       "['global_efficiency_cmimat']"
      ]
     },
     "execution_count": 29,
     "metadata": {},
     "output_type": "execute_result"
    }
   ],
   "source": [
    "top_10_keys_gini_sex = heapq.nlargest(10, gini_sex_results_auc, key=gini_sex_results_auc.get)\n",
    "top_10_keys_gini_sex"
   ]
  },
  {
   "cell_type": "code",
   "execution_count": null,
   "id": "6111d77a",
   "metadata": {},
   "outputs": [],
   "source": []
  },
  {
   "cell_type": "code",
   "execution_count": null,
   "id": "6f4d35f1",
   "metadata": {},
   "outputs": [],
   "source": []
  },
  {
   "cell_type": "markdown",
   "id": "79992886",
   "metadata": {},
   "source": [
    "## Classification:  Gini + Cognition"
   ]
  },
  {
   "cell_type": "code",
   "execution_count": 30,
   "id": "983bde11",
   "metadata": {
    "scrolled": true
   },
   "outputs": [
    {
     "data": {
      "application/vnd.jupyter.widget-view+json": {
       "model_id": "d8b2499f33a14642b168ce40f71ee939",
       "version_major": 2,
       "version_minor": 0
      },
      "text/plain": [
       "  0%|          | 0/20 [00:00<?, ?it/s]"
      ]
     },
     "metadata": {},
     "output_type": "display_data"
    },
    {
     "name": "stdout",
     "output_type": "stream",
     "text": [
      "global_efficiency_cmimat_b AUC:  0.89 +-(  0.0 ) (738, 2)\n"
     ]
    }
   ],
   "source": [
    "\n",
    "gini_mmse_results_preliminar = {}\n",
    "gini_mmse_results_auc_preliminar = {}\n",
    "for outcome in outcomes_list:\n",
    "\n",
    "    conn_df_mmse = conn_df[[outcome, 'GINI', 'MMSE']]\n",
    "    conn_df_mmse = conn_df_mmse[conn_df_mmse['MMSE'] >= 21]\n",
    "    conn_df_mmse = conn_df_mmse.dropna()\n",
    "    conn_df_mmse.reset_index(drop=True)\n",
    "\n",
    "   \n",
    "    mediana = conn_df_mmse[outcome].median()\n",
    "    conn_df_mmse[outcome + '_b'] = (conn_df_mmse[outcome] > mediana).astype(int)\n",
    "    \n",
    "    y_conn_1A = conn_df_mmse[outcome + '_b']\n",
    "    X_conn_1A = conn_df_mmse[['GINI', 'MMSE']]\n",
    "\n",
    "    scaler = MinMaxScaler([0.05, 0.95])\n",
    "    scaling_data = scaler.fit_transform(X_conn_1A)\n",
    "    X_conn_1A_s = pd.DataFrame(scaling_data, columns= X_conn_1A.columns, index = X_conn_1A.index)\n",
    "    \n",
    "    X_conn_1A =  X_conn_1A_s.copy()\n",
    "    \n",
    "    try:\n",
    "        r = classifier_ROC(X_conn_1A, y_conn_1A, False)\n",
    "        gini_mmse_results_preliminar[outcome] = r\n",
    "        gini_mmse_results_auc_preliminar[outcome] = r[2]\n",
    "    except:\n",
    "        print('Bad: ',outcome + '_b')"
   ]
  },
  {
   "cell_type": "code",
   "execution_count": 31,
   "id": "779798e7",
   "metadata": {},
   "outputs": [],
   "source": [
    "top_10_keys_GINI_mmse_preliminar = heapq.nlargest(10, gini_mmse_results_auc_preliminar, key=gini_mmse_results_auc_preliminar.get)"
   ]
  },
  {
   "cell_type": "code",
   "execution_count": 32,
   "id": "415d2083",
   "metadata": {
    "scrolled": true
   },
   "outputs": [
    {
     "name": "stdout",
     "output_type": "stream",
     "text": [
      "XGB\n",
      "val. score: 0.8169491525423729\n",
      "test score: 0.7567567567567568\n",
      "best parameters: OrderedDict([('colsample_bytree', 1.0), ('eval_metric', 'logloss'), ('learning_rate', 0.01), ('max_depth', 4), ('objective', 'binary:logistic'), ('reg_alpha', 1.0), ('reg_lambda', 1.0), ('subsample', 1.0)])\n",
      "---------------------------------------------\n",
      "\n"
     ]
    },
    {
     "data": {
      "application/vnd.jupyter.widget-view+json": {
       "model_id": "b53a8e25943d4a108d2bce0cfa72dd46",
       "version_major": 2,
       "version_minor": 0
      },
      "text/plain": [
       "  0%|          | 0/20 [00:00<?, ?it/s]"
      ]
     },
     "metadata": {},
     "output_type": "display_data"
    },
    {
     "name": "stdout",
     "output_type": "stream",
     "text": [
      "global_efficiency_cmimat_b AUC:  0.9 +-(  0.0 ) (738, 2)\n"
     ]
    }
   ],
   "source": [
    "gini_mmse_results = {}\n",
    "gini_mmse_results_auc = {}\n",
    "gini_mmse_paragram = {}\n",
    "for outcome in top_10_keys_GINI_mmse_preliminar:\n",
    "\n",
    "    conn_df_mmse = conn_df[[outcome, 'GINI', 'MMSE']]\n",
    "    conn_df_mmse = conn_df_mmse[conn_df_mmse['MMSE'] >= 21]\n",
    "    conn_df_mmse = conn_df_mmse.dropna()\n",
    "    conn_df_mmse.reset_index(drop=True)\n",
    "\n",
    "   \n",
    "    mediana = conn_df_mmse[outcome].median()\n",
    "    conn_df_mmse[outcome + '_b'] = (conn_df_mmse[outcome] > mediana).astype(int)\n",
    "    \n",
    "    y_conn_1A = conn_df_mmse[outcome + '_b']\n",
    "    X_conn_1A = conn_df_mmse[['GINI', 'MMSE']]\n",
    "\n",
    "    scaler = MinMaxScaler([0.05, 0.95])\n",
    "    scaling_data = scaler.fit_transform(X_conn_1A)\n",
    "    X_conn_1A_s = pd.DataFrame(scaling_data, columns= X_conn_1A.columns, index = X_conn_1A.index)\n",
    "    \n",
    "    X_conn_1A =  X_conn_1A_s.copy()\n",
    "\n",
    "    \n",
    "    opt_XGB = SearchBestModel(X_conn_1A, y_conn_1A)\n",
    "    params_ = dict(opt_XGB.best_params_)\n",
    "    \n",
    "\n",
    "    r = classifier_ROC(X_conn_1A, y_conn_1A, False, params_)\n",
    "    gini_mmse_results[outcome] = r\n",
    "    gini_mmse_results_auc[outcome] = r[2]\n",
    "    gini_mmse_paragram[outcome] = params_\n"
   ]
  },
  {
   "cell_type": "code",
   "execution_count": 33,
   "id": "58f26cc9",
   "metadata": {},
   "outputs": [
    {
     "data": {
      "text/plain": [
       "['global_efficiency_cmimat']"
      ]
     },
     "execution_count": 33,
     "metadata": {},
     "output_type": "execute_result"
    }
   ],
   "source": [
    "top_10_keys_gini_mmse = heapq.nlargest(10, gini_mmse_results_auc, key=gini_mmse_results_auc.get)\n",
    "top_10_keys_gini_mmse"
   ]
  },
  {
   "cell_type": "code",
   "execution_count": null,
   "id": "034da346",
   "metadata": {},
   "outputs": [],
   "source": []
  },
  {
   "cell_type": "code",
   "execution_count": null,
   "id": "437625af",
   "metadata": {},
   "outputs": [],
   "source": []
  },
  {
   "cell_type": "code",
   "execution_count": null,
   "id": "99807906",
   "metadata": {},
   "outputs": [],
   "source": []
  }
 ],
 "metadata": {
  "kernelspec": {
   "display_name": "Python 3 (ipykernel)",
   "language": "python",
   "name": "python3"
  },
  "language_info": {
   "codemirror_mode": {
    "name": "ipython",
    "version": 3
   },
   "file_extension": ".py",
   "mimetype": "text/x-python",
   "name": "python",
   "nbconvert_exporter": "python",
   "pygments_lexer": "ipython3",
   "version": "3.9.13"
  }
 },
 "nbformat": 4,
 "nbformat_minor": 5
}
